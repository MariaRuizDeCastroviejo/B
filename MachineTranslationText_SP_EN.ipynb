{
 "cells": [
  {
   "cell_type": "markdown",
   "metadata": {
    "id": "97Xb3UU032FM"
   },
   "source": [
    "# Traducción de texto mediante algoritmos de Machine learning"
   ]
  },
  {
   "cell_type": "markdown",
   "metadata": {},
   "source": [
    "María Ruiz de Castroviejo y Sergio Rincón"
   ]
  },
  {
   "cell_type": "markdown",
   "metadata": {},
   "source": [
    "### Importación de las librerías"
   ]
  },
  {
   "cell_type": "code",
   "execution_count": 1,
   "metadata": {
    "id": "x-DEpLhB32FV",
    "outputId": "e9b1a2db-b071-4ba1-a085-2da20ace2571"
   },
   "outputs": [],
   "source": [
    "import string\n",
    "import re\n",
    "from numpy import array, argmax, random, take\n",
    "import pandas as pd\n",
    "from keras.models import Sequential\n",
    "from keras.layers import Dense, LSTM, Embedding, Bidirectional, RepeatVector, GRU, SimpleRNN\n",
    "from keras.layers.embeddings import Embedding\n",
    "from keras.preprocessing.text import Tokenizer\n",
    "from keras.callbacks import ModelCheckpoint\n",
    "from keras.preprocessing.sequence import pad_sequences\n",
    "from keras.models import load_model\n",
    "from keras import optimizers\n",
    "import matplotlib.pyplot as plt\n",
    "%matplotlib inline\n",
    "pd.set_option('display.max_colwidth', 200)"
   ]
  },
  {
   "cell_type": "markdown",
   "metadata": {
    "id": "CFHeQKn332FY"
   },
   "source": [
    "### Lectura de datos"
   ]
  },
  {
   "cell_type": "markdown",
   "metadata": {
    "id": "JJ6QhqI232FZ"
   },
   "source": [
    "Los datos son un archivo de texto de pares de oraciones en inglés-español."
   ]
  },
  {
   "cell_type": "code",
   "execution_count": 2,
   "metadata": {
    "id": "jtvkEi4q32FZ"
   },
   "outputs": [],
   "source": [
    "# Leemos el archivo\n",
    "def read_text(filename):\n",
    "    # open the file\n",
    "    file = open(filename, mode='rt', encoding='utf-8')\n",
    "    # read all text\n",
    "    text = file.read()\n",
    "    file.close()\n",
    "    return text"
   ]
  },
  {
   "cell_type": "markdown",
   "metadata": {
    "id": "Zn-52FKU32FZ"
   },
   "source": [
    "Ahora definamos una función para dividir el texto en pares inglés-español separados por '\\ n'. Luego dividimos estos pares en oraciones de inglés y español."
   ]
  },
  {
   "cell_type": "code",
   "execution_count": 3,
   "metadata": {
    "id": "EnCAiHcw32Fa"
   },
   "outputs": [],
   "source": [
    "# Dividimos en frases\n",
    "def to_lines(text):\n",
    "    sents = text.strip().split('\\n')\n",
    "    sents = [i.split('\\t') for i in sents]\n",
    "    return sents"
   ]
  },
  {
   "cell_type": "markdown",
   "metadata": {
    "id": "ZamPvPL832Fa"
   },
   "source": [
    "Para descargar los datos pulse [aquí.](http://www.manythings.org/anki/deu-eng.zip)__ y extrae \"spa.txt\" en tu directorio de trabajo."
   ]
  },
  {
   "cell_type": "code",
   "execution_count": 4,
   "metadata": {
    "id": "-2T2vh_w32Fb"
   },
   "outputs": [],
   "source": [
    "data = read_text(\"C:/Users/María/MASTER/Datos No Estruct/Texto/Practica/data/spa.txt\")\n",
    "spa_eng = to_lines(data)\n",
    "spa_eng = array(spa_eng)"
   ]
  },
  {
   "cell_type": "markdown",
   "metadata": {
    "id": "l9lIFIU732Fb"
   },
   "source": [
    "Los datos contienen más de 150 mil pares de oraciones. Sin embargo, usaremos los primeros 50 mil pares de oraciones para reducir el tiempo de entrenamiento del modelo."
   ]
  },
  {
   "cell_type": "code",
   "execution_count": 5,
   "metadata": {
    "id": "uWp5k7_Y32Fc"
   },
   "outputs": [],
   "source": [
    "spa_eng = spa_eng[:50000,:]"
   ]
  },
  {
   "cell_type": "code",
   "execution_count": 6,
   "metadata": {},
   "outputs": [
    {
     "data": {
      "text/plain": [
       "(50000, 3)"
      ]
     },
     "execution_count": 6,
     "metadata": {},
     "output_type": "execute_result"
    }
   ],
   "source": [
    "spa_eng.shape"
   ]
  },
  {
   "cell_type": "markdown",
   "metadata": {
    "id": "UToXxb9e32Fc"
   },
   "source": [
    "### Limpieza de texto"
   ]
  },
  {
   "cell_type": "markdown",
   "metadata": {},
   "source": [
    "Echemos un vistazo a nuestros datos:"
   ]
  },
  {
   "cell_type": "code",
   "execution_count": 7,
   "metadata": {
    "id": "LdACA1l_32Fd",
    "outputId": "eb3d17dc-8d1f-491c-b14c-1f212f564dd3",
    "scrolled": true
   },
   "outputs": [
    {
     "data": {
      "text/plain": [
       "array([['Go.', 'Ve.',\n",
       "        'CC-BY 2.0 (France) Attribution: tatoeba.org #2877272 (CM) & #4986655 (cueyayotl)'],\n",
       "       ['Go.', 'Vete.',\n",
       "        'CC-BY 2.0 (France) Attribution: tatoeba.org #2877272 (CM) & #4986656 (cueyayotl)'],\n",
       "       ['Go.', 'Vaya.',\n",
       "        'CC-BY 2.0 (France) Attribution: tatoeba.org #2877272 (CM) & #4986657 (cueyayotl)'],\n",
       "       ...,\n",
       "       ['I am waiting for my driver.', 'Estoy esperando a mi chofer.',\n",
       "        'CC-BY 2.0 (France) Attribution: tatoeba.org #1661151 (Amastan) & #1669102 (marcelostockle)'],\n",
       "       ['I appreciate all your help.', 'Aprecio toda tu ayuda.',\n",
       "        'CC-BY 2.0 (France) Attribution: tatoeba.org #1933632 (CK) & #4788227 (DarkHollow)'],\n",
       "       ['I appreciate your interest.', 'Agradezco tu interés.',\n",
       "        'CC-BY 2.0 (France) Attribution: tatoeba.org #1933576 (CK) & #4394520 (teskmon)']],\n",
       "      dtype='<U332')"
      ]
     },
     "execution_count": 7,
     "metadata": {},
     "output_type": "execute_result"
    }
   ],
   "source": [
    "spa_eng"
   ]
  },
  {
   "cell_type": "markdown",
   "metadata": {
    "id": "1F_M0kcy32Fe"
   },
   "source": [
    "Eliminaremos los signos de puntuación y luego convertiremos el texto a minúsculas."
   ]
  },
  {
   "cell_type": "code",
   "execution_count": 8,
   "metadata": {
    "id": "fAaBknl632Ff"
   },
   "outputs": [],
   "source": [
    "# Eliminamos los signos de puntuación \n",
    "spa_eng[:,0] = [s.translate(str.maketrans('', '', string.punctuation)) for s in spa_eng[:,0]]\n",
    "spa_eng[:,1] = [s.translate(str.maketrans('', '', string.punctuation)) for s in spa_eng[:,1]]"
   ]
  },
  {
   "cell_type": "code",
   "execution_count": 9,
   "metadata": {
    "id": "qH5TSuVd32Ff",
    "outputId": "b7b9852f-5d55-4abd-d39d-70db5ff2d402"
   },
   "outputs": [
    {
     "data": {
      "text/plain": [
       "array([['Go', 'Ve',\n",
       "        'CC-BY 2.0 (France) Attribution: tatoeba.org #2877272 (CM) & #4986655 (cueyayotl)'],\n",
       "       ['Go', 'Vete',\n",
       "        'CC-BY 2.0 (France) Attribution: tatoeba.org #2877272 (CM) & #4986656 (cueyayotl)'],\n",
       "       ['Go', 'Vaya',\n",
       "        'CC-BY 2.0 (France) Attribution: tatoeba.org #2877272 (CM) & #4986657 (cueyayotl)'],\n",
       "       ...,\n",
       "       ['I am waiting for my driver', 'Estoy esperando a mi chofer',\n",
       "        'CC-BY 2.0 (France) Attribution: tatoeba.org #1661151 (Amastan) & #1669102 (marcelostockle)'],\n",
       "       ['I appreciate all your help', 'Aprecio toda tu ayuda',\n",
       "        'CC-BY 2.0 (France) Attribution: tatoeba.org #1933632 (CK) & #4788227 (DarkHollow)'],\n",
       "       ['I appreciate your interest', 'Agradezco tu interés',\n",
       "        'CC-BY 2.0 (France) Attribution: tatoeba.org #1933576 (CK) & #4394520 (teskmon)']],\n",
       "      dtype='<U332')"
      ]
     },
     "execution_count": 9,
     "metadata": {},
     "output_type": "execute_result"
    }
   ],
   "source": [
    "spa_eng"
   ]
  },
  {
   "cell_type": "code",
   "execution_count": 10,
   "metadata": {
    "id": "f5AN5j1b32Fg",
    "scrolled": true
   },
   "outputs": [],
   "source": [
    "# Convertimos el texto a minúsculas\n",
    "for i in range(len(spa_eng)):\n",
    "    spa_eng[i,0] = spa_eng[i,0].lower()\n",
    "    \n",
    "    spa_eng[i,1] = spa_eng[i,1].lower()"
   ]
  },
  {
   "cell_type": "code",
   "execution_count": 11,
   "metadata": {
    "id": "Tl73AXw-32Fg",
    "outputId": "a87b824a-a960-472e-d226-9dc57d01cdd3"
   },
   "outputs": [
    {
     "data": {
      "text/plain": [
       "array([['go', 've',\n",
       "        'CC-BY 2.0 (France) Attribution: tatoeba.org #2877272 (CM) & #4986655 (cueyayotl)'],\n",
       "       ['go', 'vete',\n",
       "        'CC-BY 2.0 (France) Attribution: tatoeba.org #2877272 (CM) & #4986656 (cueyayotl)'],\n",
       "       ['go', 'vaya',\n",
       "        'CC-BY 2.0 (France) Attribution: tatoeba.org #2877272 (CM) & #4986657 (cueyayotl)'],\n",
       "       ...,\n",
       "       ['i am waiting for my driver', 'estoy esperando a mi chofer',\n",
       "        'CC-BY 2.0 (France) Attribution: tatoeba.org #1661151 (Amastan) & #1669102 (marcelostockle)'],\n",
       "       ['i appreciate all your help', 'aprecio toda tu ayuda',\n",
       "        'CC-BY 2.0 (France) Attribution: tatoeba.org #1933632 (CK) & #4788227 (DarkHollow)'],\n",
       "       ['i appreciate your interest', 'agradezco tu interés',\n",
       "        'CC-BY 2.0 (France) Attribution: tatoeba.org #1933576 (CK) & #4394520 (teskmon)']],\n",
       "      dtype='<U332')"
      ]
     },
     "execution_count": 11,
     "metadata": {},
     "output_type": "execute_result"
    }
   ],
   "source": [
    "spa_eng"
   ]
  },
  {
   "cell_type": "markdown",
   "metadata": {},
   "source": [
    "### Preprocesamiento de texto"
   ]
  },
  {
   "cell_type": "markdown",
   "metadata": {
    "id": "CExKY92Y32Fh"
   },
   "source": [
    "- #### Conversión de texto a secuencia"
   ]
  },
  {
   "cell_type": "markdown",
   "metadata": {},
   "source": [
    "Para alimentar nuestros datos en un modelo *Seq2Seq*, tendremos que convertir las oraciones de entrada y de salida en secuencias enteras de longitud fija. Antes de eso, visualizamos la longitud de las oraciones en dos listas separadas para inglés y para español, respectivamente."
   ]
  },
  {
   "cell_type": "code",
   "execution_count": 12,
   "metadata": {
    "id": "xRVEIM_p32Fh"
   },
   "outputs": [],
   "source": [
    "# Listas vacias\n",
    "eng_l = []\n",
    "spa_l = []\n",
    "\n",
    "# Rellenar las listas con longitudes de oraciones\n",
    "for i in spa_eng[:,0]:\n",
    "    eng_l.append(len(i.split()))\n",
    "\n",
    "for i in spa_eng[:,1]:\n",
    "    spa_l.append(len(i.split()))"
   ]
  },
  {
   "cell_type": "code",
   "execution_count": 13,
   "metadata": {
    "id": "hrIAcU5R32Fh",
    "outputId": "f9026132-6a96-4818-a9d0-958de7eab742"
   },
   "outputs": [
    {
     "name": "stdout",
     "output_type": "stream",
     "text": [
      "       Inglés  Español\n",
      "0           1        1\n",
      "1           1        1\n",
      "2           1        1\n",
      "3           1        1\n",
      "4           1        1\n",
      "...       ...      ...\n",
      "49995       6        5\n",
      "49996       8        6\n",
      "49997       6        5\n",
      "49998       5        4\n",
      "49999       4        3\n",
      "\n",
      "[50000 rows x 2 columns]\n",
      "8\n",
      "12\n"
     ]
    }
   ],
   "source": [
    "length_df = pd.DataFrame({'Inglés':eng_l, 'Español':spa_l})\n",
    "print(length_df)\n",
    "print(max(length_df.Inglés))\n",
    "print(max(length_df.Español))"
   ]
  },
  {
   "cell_type": "code",
   "execution_count": 14,
   "metadata": {
    "id": "JUxMJ9Ox32Fi",
    "outputId": "4c5a163d-ea05-4595-8162-099adf588dbc"
   },
   "outputs": [
    {
     "data": {
      "image/png": "[encoded data removed]",
      "text/plain": [
       "<Figure size 432x288 with 2 Axes>"
      ]
     },
     "metadata": {
      "needs_background": "light"
     },
     "output_type": "display_data"
    }
   ],
   "source": [
    "length_df.hist(bins = 30)\n",
    "plt.show()"
   ]
  },
  {
   "cell_type": "markdown",
   "metadata": {
    "id": "KLoHkmmu32Fi"
   },
   "source": [
    "La longitud máxima de las frases en Español es de 10 y la de las frases en Inglés es de 7."
   ]
  },
  {
   "cell_type": "markdown",
   "metadata": {},
   "source": [
    "- #### Tokenización"
   ]
  },
  {
   "cell_type": "markdown",
   "metadata": {},
   "source": [
    "A continuación, necesitamos tokenizar los datos, es decir, convertir el texto en valores numéricos. Esto permite que la red neuronal realice operaciones sobre los datos de entrada. "
   ]
  },
  {
   "cell_type": "markdown",
   "metadata": {
    "id": "EWIgQ1AN32Fj"
   },
   "source": [
    "Vectoricemos nuestros datos de texto usando la clase *Tokenizer ()* de Keras. Convertirá nuestras oraciones en secuencias de números enteros. Luego rellenaremos esas secuencias con ceros para hacer que todas las secuencias tengan la misma longitud."
   ]
  },
  {
   "cell_type": "code",
   "execution_count": 15,
   "metadata": {
    "id": "2RIJSEH932Fj"
   },
   "outputs": [],
   "source": [
    "# Función para construir un tokenizador\n",
    "def tokenization(lines):\n",
    "    tokenizer = Tokenizer()\n",
    "    tokenizer.fit_on_texts(lines)\n",
    "    return tokenizer"
   ]
  },
  {
   "cell_type": "code",
   "execution_count": 16,
   "metadata": {
    "id": "Lrh0Wkj032Fj",
    "outputId": "e649c0ad-2231-4af3-d88b-a73c3294ffdb"
   },
   "outputs": [
    {
     "name": "stdout",
     "output_type": "stream",
     "text": [
      "Tamaño del vocabulario en inglés: 6942\n"
     ]
    }
   ],
   "source": [
    "# Preparar tokenizador en inglés\n",
    "eng_tokenizer = tokenization(spa_eng[:, 0])\n",
    "eng_vocab_size = len(eng_tokenizer.word_index) + 1\n",
    "\n",
    "eng_length = 8\n",
    "print('Tamaño del vocabulario en inglés: %d' % eng_vocab_size)"
   ]
  },
  {
   "cell_type": "code",
   "execution_count": 17,
   "metadata": {
    "id": "QIEiJhiY32Fk",
    "outputId": "83077744-4972-48b1-f4e4-d87cc78f6ff5"
   },
   "outputs": [
    {
     "name": "stdout",
     "output_type": "stream",
     "text": [
      "Tamaño del vocabulario en español: 14196\n"
     ]
    }
   ],
   "source": [
    "# Preparar tokenizador en español\n",
    "spa_tokenizer = tokenization(spa_eng[:, 1])\n",
    "spa_vocab_size = len(spa_tokenizer.word_index) + 1\n",
    "\n",
    "spa_length = 8\n",
    "print('Tamaño del vocabulario en español: %d' % spa_vocab_size)"
   ]
  },
  {
   "cell_type": "code",
   "execution_count": 18,
   "metadata": {
    "id": "4NsDOupz32Fl",
    "outputId": "ea30ca30-9af4-48c3-ed17-17bbfcfd755d"
   },
   "outputs": [
    {
     "name": "stdout",
     "output_type": "stream",
     "text": [
      "OrderedDict([('ve', 115), ('vete', 30), ('vaya', 41), ('váyase', 7), ('hola', 12), ('¡corre', 1), ('¡corran', 1), ('¡corra', 1), ('¡corred', 1), ('corred', 1), ('¿quién', 380), ('¡órale', 10), ('¡fuego', 4), ('¡incendio', 1), ('¡disparad', 3), ('¡ayuda', 2), ('¡socorro', 1), ('¡auxilio', 2), ('¡salta', 1), ('salte', 2), ('¡parad', 1), ('¡para', 4), ('¡pare', 1), ('¡espera', 4), ('esperen', 10), ('continúa', 14), ('continúe', 6), ('corrí', 13), ('corría', 4), ('lo', 2116), ('intento', 8), ('¡he', 2), ('ganado', 16), ('¡oh', 3), ('no', 5878), ('tomátelo', 2), ('con', 871), ('soda', 3), ('¡disparen', 1), ('¡dispara', 1), ('¡dispará', 1), ('¡dispare', 1), ('sonríe', 5), ('¡al', 2), ('ataque', 5), ('¡atacad', 1), ('¡ataque', 1), ('¡ataquen', 1), ('¡ataca', 1), ('levanta', 23), ('ahora', 489), ('mismo', 129), ('id', 6), ('vayan', 11), ('ya', 339), ('¡lo', 10), ('tengo', 876), ('¿lo', 63), ('pillas', 1), ('¿entendiste', 2), ('él', 2559), ('corrió', 23), ('métete', 3), ('adentro', 26), ('abrázame', 1), ('me', 3024), ('caí', 6), ('yo', 1181), ('sé', 428), ('salí', 11), ('mentí', 7), ('perdí', 61), ('dimito', 2), ('renuncié', 7), ('canté', 3), ('estoy', 1220), ('trabajando', 32), ('diecinueve', 2), ('levantado', 11), ('escucha', 28), ('escuche', 6), ('escuchen', 3), ('¡no', 86), ('puede', 433), ('ser', 321), ('de', 4000), ('ninguna', 42), ('manera', 40), ('¡de', 5), ('¡imposible', 1), ('ningún', 54), ('modo', 9), ('eso', 1130), ('nada', 364), ('¡ni', 2), ('cagando', 3), ('¡mangos', 1), ('¡minga', 1), ('en', 2050), ('pedo', 2), ('¿en', 53), ('serio', 43), ('¿la', 18), ('verdad', 209), ('¡gracias', 3), ('gracias', 104), ('pruébalo', 2), ('procuramos', 1), ('ganamos', 8), ('¿por', 517), ('qué', 839), ('pregúntale', 18), ('a', 5034), ('tom', 6780), ('mantente', 23), ('calma', 18), ('estate', 10), ('tranquilo', 13), ('justo', 50), ('bueno', 138), ('buena', 146), ('sed', 27), ('buenas', 30), ('buenos', 26), ('sea', 72), ('sean', 8), ('gentiles', 1), ('agradable', 31), ('pírate', 1), ('llamame', 2), ('llamadme', 1), ('llámame', 18), ('llámanos', 1), ('entre', 22), ('pase', 5), ('¡entren', 1), ('ándale', 1), ('suéltalo', 2), ('agarra', 6), ('bájate', 2), ('sal', 42), ('salid', 6), ('salgan', 3), ('¡vete', 12), ('aquí', 903), ('¡lárgate', 4), ('¡salga', 2), ('¡largo', 4), ('¡a', 5), ('la', 3728), ('calle', 24), ('lárguese', 1), ('casa', 573), ('despacio', 34), ('¡hasta', 6), ('luego', 26), ('hasta', 97), ('vista', 26), ('¡chau', 1), ('un', 3363), ('momento', 80), ('¡un', 1), ('segundo', 31), ('fuertemente', 5), ('vino', 137), ('renunció', 12), ('ayúdame', 19), ('échame', 1), ('una', 1850), ('mano', 90), ('ayudame', 2), ('ayúdanos', 3), ('¡hola', 9), ('golpea', 2), ('espera', 61), ('sostenlo', 2), ('sostenedlo', 1), ('sosténgalo', 1), ('sosténganlo', 1), ('sosténganla', 1), ('sosténgala', 1), ('sostenla', 1), ('sostenedla', 1), ('resista', 1), ('resiste', 2), ('abraza', 2), ('acuerdo', 111), ('incliné', 2), ('he', 426), ('mudado', 1), ('mudé', 3), ('trasladé', 1), ('trasladado', 1), ('dormí', 19), ('intenté', 16), ('iré', 33), ('soy', 594), ('gordo', 27), ('gorda', 12), ('forma', 20), ('afectado', 1), ('viejo', 65), ('tímido', 22), ('mojada', 4), ('está', 2276), ('bien', 527), ('únete', 1), ('nosotros', 185), ('parte', 54), ('nuestra', 52), ('guárdalo', 1), ('también', 137), ('abre', 25), ('¡perfecto', 1), ('empújala', 1), ('empújalo', 1), ('empújadlo', 1), ('empújadla', 1), ('empújelo', 1), ('empújela', 1), ('empújenlo', 1), ('empújenla', 1), ('nos', 437), ('vemos', 19), ('muéstramelo', 1), ('enséñamelo', 2), ('mostrame', 4), ('¡cierra', 4), ('boca', 47), ('¡cerrá', 1), ('el', 3420), ('pico', 3), ('sáltatelo', 1), ('páralo', 2), ('detenlo', 1), ('cógelo', 3), ('decime', 5), ('comió', 46), ('ganó', 38), ('espérame', 2), ('despierto', 34), ('¡despierta', 2), ('¡despiértate', 1), ('¡despertate', 1), ('despierta', 9), ('lávate', 9), ('las', 955), ('manos', 65), ('preocupamos', 1), ('sabemos', 22), ('perdimos', 11), ('bienvenidos', 3), ('bienvenidas', 2), ('ha', 453), ('corre', 18), ('has', 157), ('¿estoy', 18), ('preguntales', 1), ('pregúntales', 1), ('aparta', 1), ('apártate', 2), ('hombre', 169), ('fuerte', 69), ('breve', 16), ('breves', 2), ('quieto', 16), ('te', 1311), ('muevas', 10), ('¡llamalo', 2), ('tomás', 567), ('¡llámalo', 2), ('¡llámenlo', 2), ('anímate', 1), ('venga', 41), ('¡cálmate', 1), ('espósale', 1), ('vayas', 27), ('encontralo', 1), ('encuéntralo', 1), ('encuéntrelo', 1), ('encuéntrenlo', 1), ('encuentre', 4), ('encuentren', 2), ('arregla', 2), ('esto', 908), ('ponte', 18), ('ello', 49), ('abajo', 29), ('túmbate', 2), ('¡piérdete', 1), ('esfúmate', 1), ('¡piénsalo', 1), ('los', 1103), ('ojos', 83), ('adelante', 23), ('entra', 19), ('entren', 3), ('entrá', 2), ('entrad', 1), ('¿subes', 1), ('¡buen', 7), ('trabajo', 334), ('sujeta', 4), ('agárralo', 1), ('diviértanse', 2), ('pásala', 4), ('pásenla', 4), ('habló', 32), ('intenta', 23), ('prueba', 23), ('ayuda', 182), ('¿qué', 821), ('hay', 258), ('ey', 2), ('chavales', 2), ('pasa', 63), ('troncos', 1), ('tal', 79), ('os', 103), ('va', 246), ('por', 1344), ('¡qué', 180), ('encanto', 1), ('tan', 414), ('profundo', 13), ('¿cómo', 342), ('hazme', 3), ('favor', 622), ('compláceme', 1), ('¡date', 1), ('prisa', 28), ('apresúrate', 3), ('apúrese', 1), ('convine', 1), ('acepté', 3), ('accedí', 2), ('comí', 28), ('puedo', 569), ('ir', 424), ('hice', 148), ('fracasé', 2), ('olvidé', 30), ('arreglo', 2), ('entiendo', 47), ('salté', 2), ('llamé', 19), ('teléfono', 88), ('niego', 7), ('renuncio', 2), ('senté', 12), ('vi', 154), ('suspiré', 1), ('sonreí', 2), ('quedé', 27), ('hablé', 10), ('hablaba', 6), ('charlé', 1), ('charlaba', 1), ('uso', 12), ('esperé', 8), ('pagaré', 14), ('vuelto', 33), ('vuelta', 50), ('calvo', 17), ('calmado', 2), ('terminado', 34), ('bastante', 115), ('facilón', 1), ('perfectamente', 14), ('¡soy', 3), ('libre', 68), ('lleno', 25), ('llena', 18), ('llené', 1), ('herido', 33), ('llego', 11), ('tarde', 200), ('vago', 13), ('perdida', 4), ('malo', 55), ('toca', 28), ('mí', 289), ('pobre', 20), ('rica', 17), ('rico', 59), ('salvo', 15), ('enferma', 27), ('delgado', 10), ('limpio', 14), ('calentito', 1), ('débil', 17), ('listo', 100), ('gané', 11), ('duele', 64), ('funciona', 48), ('es', 5295), ('divertido', 55), ('suyo', 31), ('nuevo', 203), ('extraño', 52), ('rojo', 42), ('triste', 57), ('prohibido', 4), ('pasar', 33), ('entrar', 64), ('besá', 1), ('besa', 2), ('besen', 1), ('déjalo', 19), ('déjame', 88), ('déjanos', 8), ('vamos', 123), ('cuidado', 43), ('cásate', 1), ('conmigo', 150), ('¿puedo', 265), ('salva', 1), ('ella', 1394), ('murió', 90), ('¡sentate', 1), ('siéntate', 17), ('sentate', 9), ('¡hable', 1), ('más', 646), ('habla', 104), ('¡habla', 2), ('alto', 87), ('prepárate', 4), ('¡parate', 1), ('pie', 34), ('detén', 7), ('llévate', 3), ('díselo', 3), ('¡genial', 1), ('ellos', 526), ('ganaron', 5), ('muerto', 63), ('se', 2172), ('cayó', 45), ('sabía', 115), ('tenía', 156), ('constancia', 1), ('fue', 585), ('mintió', 23), ('miente', 9), ('perdió', 66), ('pagó', 19), ('nadó', 3), ('lloró', 24), ('demasiado', 280), ('confía', 11), ('inténtalo', 11), ('veras', 9), ('poco', 269), ('pruebe', 2), ('prueben', 3), ('probá', 4), ('usa', 20), ('avísale', 1), ('avísele', 1), ('avísenle', 1), ('avisale', 1), ('mírame', 3), ('vigílame', 1), ('obsérvame', 1), ('obsérvalos', 1), ('obsérvanos', 2), ('estamos', 303), ('intentamos', 3), ('iremos', 15), ('¿para', 47), ('calló', 1), ('ido', 63), ('dejado', 20), ('escríbeme', 5), ('perdiste', 6), ('perdido', 77), ('perdisteis', 1), ('habéis', 29), ('usted', 281), ('perdieron', 9), ('ustedes', 135), ('han', 75), ('después', 57), ('ti', 208), ('tú', 306), ('primero', 47), ('vosotras', 18), ('apunta', 3), ('respóndeme', 3), ('respondedme', 1), ('respóndanme', 1), ('pájaros', 18), ('vuelan', 3), ('jesús', 3), ('¡llama', 5), ('cálmate', 5), ('tranquilízate', 1), ('paz', 15), ('bajá', 2), ('cambio', 12), ('¿podemos', 54), ('irnos', 18), ('marcharnos', 2), ('¡atrápelo', 1), ('captúralo', 1), ('captúrenlo', 1), ('atrápenlo', 1), ('atrápalo', 1), ('vuelve', 42), ('vení', 5), ('ven', 103), ('venid', 19), ('vente', 5), ('veníos', 3), ('pronto', 111), ('¿yo', 10), ('¿gané', 1), ('hazlo', 39), ('perros', 70), ('ladran', 1), ('preguntes', 7), ('llores', 10), ('llorés', 3), ('lloren', 1), ('lloréis', 1), ('llore', 1), ('mueras', 9), ('mintáis', 1), ('corras', 2), ('¡fantástico', 1), ('¡es', 9), ('estupendo', 18), ('tienta', 1), ('tiente', 1), ('tienten', 1), ('tentad', 1), ('tentá', 1), ('sígueme', 2), ('seguidme', 1), ('síguenos', 2), ('olvídame', 1), ('olvídate', 4), ('olvídenme', 1), ('olvídense', 1), ('preparaos', 1), ('cogerlo', 4), ('cama', 102), ('coge', 23), ('alguno', 11), ('toma', 49), ('algo', 341), ('tome', 17), ('anciano', 5), ('afeitó', 5), ('sonrió', 24), ('dj', 3), ('veloz', 9), ('acá', 64), ('sostén', 3), ('horror', 1), ('raro', 30), ('divierte', 2), ('ocupada', 44), ('ruego', 6), ('suplico', 2), ('eructé', 1), ('volar', 16), ('correr', 37), ('esquiar', 16), ('sentí', 35), ('vergüenza', 12), ('exhalé', 1), ('consciencia', 3), ('inconsciente', 9), ('dejé', 31), ('rendí', 2), ('tiré', 2), ('toalla', 17), ('cedí', 3), ('pillo', 4), ('dieron', 11), ('alcanzaron', 2), ('odio', 106), ('seca', 13), ('baja', 19), ('golpeo', 1), ('espero', 90), ('reí', 4), ('gusta', 734), ('adoro', 19), ('encanta', 112), ('hablo', 42), ('digo', 21), ('echo', 18), ('falta', 44), ('menos', 93), ('añoro', 2), ('necesito', 328), ('le', 1189), ('uno', 94), ('veía', 20), ('visto', 123), ('veo', 97), ('tropecé', 2), ('cocinaré', 2), ('guisaré', 1), ('viviré', 2), ('cantaré', 1), ('pararé', 1), ('dejaré', 15), ('esperaré', 12), ('aguardaré', 1), ('caminaré', 1), ('andaré', 1), ('voy', 326), ('trabajar', 76), ('pro', 1), ('solo', 362), ('sola', 62), ('enojado', 37), ('enojada', 9), ('ciega', 7), ('sin', 95), ('dinero', 270), ('quebrado', 4), ('blanca', 13), ('loco', 70), ('borracho', 46), ('tomada', 1), ('prendida', 2), ('muriendo', 16), ('feliz', 196), ('amado', 4), ('amada', 2), ('obeso', 2), ('¡estoy', 7), ('siento', 155), ('cansado', 85), ('cansada', 25), ('tuyo', 37), ('tuya', 25), ('ólvidalo', 1), ('hagas', 48), ('caso', 28), ('¿está', 117), ('¿es', 188), ('grave', 13), ('lejos', 57), ('¿eres', 67), ('quemó', 9), ('consiguió', 16), ('falló', 3), ('fracasó', 6), ('llovió', 15), ('nevó', 8), ('apesta', 6), ('funcionó', 11), ('son', 598), ('830', 2), ('televisor', 15), ('hace', 218), ('frío', 78), ('fresco', 14), ('oscuro', 19), ('¡está', 3), ('perfecto', 40), ('mío', 81), ('mía', 56), ('buen', 204), ('tiempo', 278), ('vale', 42), ('nuestro', 102), ('terminó', 32), ('acabó', 34), ('llegado', 22), ('hora', 143), ('mi', 1489), ('guárdalos', 1), ('quédatelos', 1), ('guárdenselos', 1), ('guarda', 10), ('guarde', 1), ('guardá', 1), ('guardad', 1), ('guarden', 3), ('caliente', 29), ('manténgase', 7), ('mantenete', 3), ('abrigado', 3), ('manténganse', 3), ('calientes', 2), ('abrigados', 1), ('dejalo', 2), ('déjelo', 5), ('márchate', 2), ('lárgate', 2), ('¡déjame', 8), ('marchar', 4), ('¡suéltame', 2), ('¡déjeme', 2), ('déjeme', 6), ('comamos', 11), ('veamos', 10), ('¡intentémoslo', 1), ('silencio', 24), ('suelo', 21), ('escuchá', 6), ('mirá', 14), ('para', 543), ('otro', 66), ('lado', 60), ('mira', 62), ('mire', 9), ('miren', 7), ('¡mira', 3), ('hacia', 58), ('atrás', 32), ('mirad', 7), ('aflójalo', 1), ('suéltala', 1), ('aflójala', 1), ('hazte', 5), ('deja', 101), ('sitio', 24), ('mueve', 6), ('culo', 1), ('tiro', 5), ('¡por', 6), ('supuesto', 9), ('discreción', 1), ('¿perdona', 1), ('póntelo', 1), ('póngaselo', 1), ('ponéoslo', 1), ('pónganselo', 1), ('lee', 22), ('lea', 5), ('lean', 3), ('leed', 2), ('decí', 6), ('que', 3247), ('registren', 1), ('véase', 2), ('arriba', 21), ('¡cogedlo', 1), ('¡arrestadlo', 1), ('¡prendedlo', 1), ('¡capturadlo', 1), ('intentó', 28), ('probó', 4), ('anda', 19), ('camina', 13), ('candente', 1), ('como', 343), ('tren', 80), ('pan', 36), ('y', 353), ('moja', 1), ('cruje', 1), ('firme', 9), ('firma', 9), ('firmen', 2), ('firmá', 1), ('firmad', 2), ('quédate', 30), ('ahí', 197), ('fuera', 87), ('aléjate', 6), ('mantén', 13), ('mantené', 4), ('quedate', 5), ('da', 54), ('paso', 11), ('párate', 6), ('detente', 4), ('deténgase', 1), ('deténganse', 1), ('paraos', 1), ('parad', 1), ('detenlos', 1), ('párales', 1), ('¡cuidate', 1), ('¡te', 6), ('cuidas', 1), ('cuídate', 2), ('cuidaos', 2), ('asume', 1), ('mando', 19), ('control', 10), ('encárgate', 2), ('tomen', 4), ('tomá', 5), ('ese', 283), ('¿entonces', 8), ('cayeron', 5), ('fueron', 34), ('marcharon', 2), ('iban', 6), ('inclinó', 13), ('preocupó', 1), ('preocupaba', 2), ('importaba', 1), ('preocupa', 6), ('importa', 56), ('dormitó', 1), ('condujo', 10), ('dentro', 45), ('teje', 1), ('sabe', 214), ('mudó', 4), ('movió', 6), ('mece', 1), ('quedó', 47), ('juró', 3), ('votó', 5), ('saludó', 5), ('trabaja', 61), ('irá', 9), ('intentadlo', 1), ('otra', 152), ('vez', 257), ('pruébatelo', 2), ('aguarda', 6), ('esperad', 9), ('vigila', 6), ('¡abusado', 1), ('podemos', 96), ('fallamos', 1), ('hemos', 97), ('fallado', 3), ('olvidamos', 1), ('vimos', 25), ('veíamos', 2), ('conversamos', 2), ('esperamos', 9), ('veremos', 5), ('intentaremos', 2), ('¡hemos', 1), ('hecho', 132), ('¿a', 132), ('quién', 206), ('conducía', 2), ('aabe', 1), ('escribe', 26), ('maneja', 6), ('¡pedazo', 1), ('idiota', 39), ('empieza', 34), ('intentaste', 1), ('estás', 414), ('apuntad', 1), ('¡todos', 1), ('bordo', 5), ('¿tengo', 11), ('razón', 105), ('¿me', 162), ('equivoco', 4), ('equivocada', 9), ('¡respóndale', 1), ('¡respondele', 1), ('¡respóndanle', 1), ('¿tienes', 134), ('dieciocho', 5), ('¿has', 74), ('cumplido', 6), ('¿estás', 145), ('¿te', 277), ('apuntas', 1), ('cualquiera', 24), ('preguntadle', 1), ('pregúntele', 1), ('pregúntenle', 1), ('pregunta', 62), ('alrededores', 2), ('¡ten', 3), ('¡sé', 3), ('cuidadoso', 12), ('contento', 34), ('llega', 28), ('llegue', 3), ('paciente', 35), ('cantan', 3), ('están', 440), ('cantando', 23), ('traed', 3), ('comida', 123), ('trae', 14), ('venir', 73), ('acercarme', 1), ('ayudar', 106), ('quedar', 23), ('lleva', 49), ('comprobad', 1), ('comprueba', 3), ('escoge', 3), ('vénganse', 2), ('temprano', 68), ('vengan', 13), ('¡pásale', 1), ('¡pásele', 1), ('¡pásenle', 1), ('¡ven', 3), ('rápido', 135), ('¡vení', 1), ('¡ya', 1), ('párale', 1), ('¿fue', 8), ('¿los', 9), ('hombres', 37), ('lloran', 2), ('vengas', 11), ('saltéis', 1), ('miréis', 2), ('mováis', 1), ('mueva', 1), ('muevan', 1), ('cantes', 3), ('canten', 1), ('pares', 6), ('hables', 18), ('esperes', 4), ('grites', 7), ('chilles', 3), ('chilléis', 1), ('chille', 1), ('chillen', 1), ('come', 43), ('¡comé', 1), ('¡enfréntate', 1), ('hechos', 14), ('¡enfrentaos', 1), ('¡enfréntese', 1), ('¡enfréntense', 1), ('fuego', 33), ('quema', 8), ('seguilo', 1), ('síguelo', 3), ('sígalo', 1), ('síganlo', 1), ('síguele', 1), ('olvidate', 1), ('olvídese', 1), ('olvídenlo', 1), ('perdónanos', 1), ('perdónenos', 1), ('consíguete', 2), ('vida', 130), ('ver', 167), ('andá', 9), ('dios', 34), ('existe', 9), ('ten', 25), ('fe', 11), ('tened', 1), ('tengan', 9), ('confíen', 1), ('salió', 55), ('comer', 162), ('tosió', 3), ('tosía', 1), ('rindió', 5), ('dejó', 94), ('cedió', 5), ('tiró', 5), ('descolgó', 1), ('cogió', 13), ('¡él', 5), ('gentil', 5), ('amable', 38), ('generoso', 3), ('mezquino', 2), ('reía', 1), ('hizo', 272), ('logró', 7), ('arruinado', 5), ('cruel', 17), ('mintiendo', 44), ('inteligente', 50), ('¡helo', 1), ('¡aquí', 3), ('hey', 8), ('aburrimiento', 3), ('bonito', 17), ('¡encantador', 1), ('preciosidad', 2), ('trágico', 1), ('van', 38), ('cosas', 93), ('admito', 6), ('persona', 81), ('aburrida', 6), ('humano', 4), ('fisurado', 2), ('rompí', 7), ('saltar', 8), ('leer', 77), ('cantar', 68), ('nadar', 109), ('solté', 3), ('risita', 5), ('dudo', 17), ('carne', 43), ('envidio', 7), ('mal', 149), ('sentía', 30), ('encontré', 58), ('puse', 13), ('enfermo', 62), ('imagino', 3), ('sí', 91), ('supongo', 33), ('detesto', 26), ('oigo', 9), ('ayudo', 3), ('conocí', 18), ('conozco', 102), ('les', 126), ('agrada', 19), ('arte', 14), ('té', 62), ('agradas', 3), ('gustó', 34), ('amo', 53), ('quiero', 664), ('encantó', 5), ('hielo', 24), ('objeté', 1), ('prometí', 3), ('fui', 98), ('corriendo', 33), ('apresuré', 2), ('recuerdo', 35), ('dije', 111), ('decía', 3), ('sentaba', 1), ('grité', 4), ('disparé', 4), ('sobreviví', 2), ('creo', 265), ('vomité', 3), ('dicho', 50), ('utilizo', 1), ('¡quiero', 7), ('último', 18), ('era', 403), ('llegué', 18), ('estaba', 619), ('hago', 42), ('ejercicio', 14), ('escribí', 15), ('compraría', 2), ('estaré', 57), ('haré', 57), ('entraré', 1), ('héroe', 17), ('mentiroso', 22), ('gemelo', 7), ('mejor', 202), ('agotado', 18), ('comprando', 6), ('torpe', 5), ('comiendo', 50), ('codicioso', 1), ('escondido', 7), ('hambre', 77), ('pica', 5), ('bagre', 3), ('inmune', 2), ('moviendo', 1), ('mudaré', 1), ('normal', 31), ('asustado', 20), ('soltero', 20), ('soltera', 8), ('flacucho', 1), ('¡tengo', 2), ('sueño', 72), ('intentando', 24), ('esforzando', 1), ('doce', 6), ('años', 104), ('comido', 25), ('ignora', 3), ('grande', 105), ('¿tom', 86), ('¿tiene', 42), ('calor', 69), ('gratis', 18), ('¿aquí', 3), ('¿esto', 31), ('real', 19), ('seguro', 92), ('¿vale', 11), ('¿eso', 31), ('todo', 469), ('¿acaso', 35), ('así', 74), ('este', 598), ('vivo', 65), ('vacío', 10), ('grandioso', 1), ('verde', 24), ('magia', 6), ('cd', 14), ('noche', 157), ('anochecido', 1), ('correcto', 26), ('blanco', 28), ('viento', 19), ('sólo', 103), ('¡continúa', 1), ('¡continúe', 1), ('apuntes', 6), ('tomad', 3), ('notas', 5), ('¡quédate', 3), ('¡guarden', 1), ('quietos', 1), ('abandona', 4), ('ciudad', 60), ('dejar', 69), ('¡déjale', 1), ('irse', 36), ('déjenlo', 2), ('dejadlo', 2), ('salir', 66), ('¡dejadme', 3), ('pague', 3), ('charlemos', 1), ('charlar', 8), ('besémonos', 1), ('juguemos', 10), ('oremos', 1), ('recemos', 2), ('desistamos', 1), ('renunciemos', 1), ('cantemos', 4), ('nademos', 1), ('conversemos', 3), ('votemos', 2), ('caminemos', 2), ('trabajemos', 1), ('levántalo', 1), ('míralo', 4), ('obsérvalo', 1), ('contémplalo', 1), ('míranos', 1), ('búscalo', 2), ('búsquenlo', 1), ('allí', 204), ('amor', 55), ('dura', 14), ('mamá', 33), ('comentarios', 7), ('problema', 127), ('¡sin', 1), ('problemas', 38), ('nadie', 357), ('siéntese', 6), ('sentaos', 4), ('voz', 34), ('reemplazadlo', 1), ('di', 58), ('patata', 2), ('decid', 3), ('güisqui', 2), ('sonría', 1), ('vieja', 16), ('guapa', 28), ('canta', 22), ('huele', 30), ('olé', 1), ('huelan', 1), ('oled', 1), ('huela', 1), ('¡retrocede', 1), ('alerta', 6), ('consciente', 16), ('duermas', 5), ('cerca', 78), ('alejes', 1), ('vera', 1), ('¡más', 1), ('dejá', 10), ('mentir', 15), ('bolacear', 1), ('estudia', 16), ('harto', 9), ('estudiá', 1), ('bus', 32), ('llevate', 1), ('estos', 70), ('¡háblame', 1), ('¡hablad', 1), ('¡ése', 1), ('chico', 50), ('valdrá', 3), ('sirve', 6), ('ése', 27), ('ésa', 23), ('pertenece', 29), ('mojado', 6), ('engañaron', 3), ('hicieron', 30), ('trampas', 11), ('quedaron', 7), ('mantuvieron', 1), ('intentaron', 4), ('votaron', 2), ('ellas', 73), ('apuntan', 2), ('fin', 40), ('éste', 38), ('basta', 6), ('vuela', 3), ('convino', 1), ('aquiescente', 1), ('estuvo', 80), ('mordió', 15), ('eructó', 1), ('llamó', 37), ('trampa', 33), ('bailó', 3), ('baila', 5), ('bebe', 27), ('conduce', 16), ('reprobó', 4), ('olvidó', 16), ('peleó', 1), ('luchó', 1), ('soltó', 8), ('grito', 10), ('ahogado', 3), ('aliento', 11), ('dio', 114), ('metió', 10), ('pata', 2), ('levantó', 30), ('ayudó', 28), ('golpeó', 18), ('salido', 12), ('saltó', 15), ('miró', 33), ('gimió', 2), ('asintió', 6), ('obedeció', 2), ('detuvo', 9), ('telefoneó', 2), ('rezó', 1), ('rezaba', 1), ('vio', 75), ('rasuró', 1), ('suspiró', 2), ('ronca', 2), ('charló', 2), ('esperó', 9), ('caminó', 6), ('guiño', 3), ('lanzó', 3), ('guiñó', 3), ('ojo', 29), ('trabajó', 17), ('bostezó', 1), ('gritó', 20), ('llorará', 1), ('morirá', 1), ('pagará', 4), ('ocupado', 112), ('sordo', 11), ('marchado', 3), ('disparado', 3), ('feo', 11), ('enciéndelo', 3), ('gira', 10), ('derecha', 11), ('¿era', 8), ('somos', 147), ('compramos', 3), ('cedés', 1), ('pagar', 57), ('intentarlo', 19), ('probarlo', 11), ('probar', 8), ('ganar', 43), ('divertimos', 5), ('pasamos', 9), ('reímos', 4), ('hicimos', 24), ('debemos', 31), ('queremos', 66), ('haremos', 8), ('fracasaremos', 1), ('ayudaremos', 4), ('echaremos', 1), ('cantaremos', 1), ('esperaremos', 6), ('nosotras', 26), ('caminar', 39), ('trabajaremos', 3), ('regresado', 3), ('ocupados', 24), ('tenemos', 202), ('terminamos', 4), ('perdidos', 3), ('pobres', 5), ('ricos', 8), ('ricas', 3), ('hartos', 2), ('débiles', 3), ('¡pero', 9), ('día', 172), ('cuentas', 8), ('¿dónde', 362), ('dónde', 153), ('madera', 18), ('arde', 3), ('¿llamaste', 4), ('puedes', 251), ('irte', 31), ('marcharte', 6), ('decides', 3), ('podéis', 36), ('iros', 2), ('pueden', 82), ('marcharos', 1), ('marcharse', 4), ('podés', 24), ('fallaste', 2), ('verás', 5), ('veréis', 1), ('eres', 404), ('mala', 56), ('¡has', 1), ('¿hay', 51), ('alguien', 148), ('¿alguien', 25), ('¿hemos', 1), ('¿tú', 50), ('¿tenéis', 12), ('enfadado', 33), ('loca', 15), ('nueva', 34), ('creativos', 2), ('discreto', 3), ('discretos', 1), ('clemente', 1), ('¡prepárate', 2), ('preparado', 27), ('estad', 1), ('preparados', 3), ('puntual', 14), ('puntuales', 1), ('razonable', 13), ('razonables', 2), ('específico', 2), ('específica', 1), ('especifica', 1), ('exhaustivo', 1), ('tolerante', 2), ('vigilante', 1), ('atento', 7), ('cerveza', 66), ('comenzar', 9), ('¿puede', 46), ('esperar', 66), ('hablar', 212), ('conversar', 5), ('¿puedes', 148), ('¿podéis', 10), ('compruébalo', 1), ('revísalo', 1), ('sube', 8), ('acercate', 1), ('verme', 28), ('consuela', 1), ('contacto', 15), ('cocíname', 1), ('cocina', 32), ('cuenta', 60), ('cuente', 5), ('¿ha', 25), ('¿ganaste', 4), ('haz', 61), ('¡hacedlo', 1), ('ahorita', 5), ('al', 574), ('ratito', 2), ('¿juegas', 5), ('boliche', 3), ('discutáis', 2), ('copiéis', 1), ('hagáis', 6), ('hagan', 10), ('haga', 42), ('peleéis', 1), ('entres', 5), ('rías', 5), ('dispares', 3), ('dispare', 2), ('disparéis', 1), ('sonrías', 1), ('sonrían', 1), ('fumes', 5), ('fuméis', 2), ('preocupes', 14), ('preocupéis', 3), ('preocupen', 2), ('termine', 3), ('termina', 17), ('terminá', 1), ('terminen', 1), ('terminad', 1), ('lanza', 5), ('moneda', 10), ('tira', 4), ('aire', 28), ('vístete', 3), ('vestite', 1), ('¡entra', 1), ('¡ponte', 1), ('encontrar', 46), ('buscar', 12), ('descúbrelo', 2), ('pedir', 18), ('delante', 9), ('recto', 4), ('dormir', 90), ('¡váyanse', 1), ('¡ve', 3), ('asiento', 37), ('vistazo', 11), ('encontró', 24), ('escapó', 9), ('envejeció', 1), ('¡ha', 1), ('venido', 35), ('tiene', 760), ('agallas', 4), ('ocho', 16), ('odiado', 5), ('guarro', 4), ('asqueroso', 8), ('grima', 1), ('joven', 87), ('gusto', 28), ('quiere', 252), ('pajero', 1), ('fingiendo', 3), ('estúpido', 52), ('agua', 112), ('tanque', 5), ('salame', 2), ('écheme', 1), ('vengo', 13), ('curioso', 4), ('cocinero', 14), ('monje', 1), ('encuentro', 14), ('quedando', 13), ('dormido', 39), ('jodiendo', 5), ('leseando', 1), ('pido', 8), ('disculpas', 12), ('pregunté', 10), ('culpo', 6), ('comprado', 23), ('compré', 72), ('lugar', 61), ('última', 17), ('hacerlo', 151), ('compartir', 6), ('decir', 112), ('confesé', 1), ('lloro', 5), ('mucho', 335), ('fruta', 18), ('noto', 2), ('enfadé', 1), ('emborraché', 1), ('tuve', 67), ('gatos', 67), ('leche', 78), ('ratas', 10), ('arena', 13), ('odiaba', 6), ('odié', 1), ('trescientos', 1), ('dólares', 28), ('gota', 2), ('traigo', 6), ('noticias', 37), ('escucho', 8), ('oí', 29), ('oído', 36), ('contraté', 2), ('gustan', 176), ('dos', 271), ('encantan', 39), ('jazz', 9), ('arroz', 17), ('rock', 9), ('nieve', 32), ('amaba', 13), ('pescado', 37), ('golf', 21), ('niños', 73), ('chicos', 27), ('matemáticas', 21), ('música', 61), ('sopa', 42), ('quería', 156), ('quise', 16), ('refiero', 4), ('extrañaba', 1), ('debo', 97), ('esconderme', 5), ('efectivo', 9), ('metálico', 2), ('¡necesito', 1), ('necesité', 6), ('nunca', 318), ('gano', 5), ('frecuencia', 19), ('pago', 9), ('impuestos', 8), ('leo', 15), ('labios', 9), ('pararas', 1), ('detuvieras', 1), ('ovni', 6), ('perro', 251), ('vendo', 4), ('autos', 5), ('debería', 128), ('huelo', 10), ('gas', 11), ('agradezco', 8), ('confío', 22), ('voté', 4), ('aburrido', 39), ('mareado', 7), ('mareada', 2), ('despedido', 12), ('despidieron', 6), ('suerte', 69), ('ingenuo', 30), ('desnudo', 11), ('equivocado', 53), ('preguntaré', 8), ('preguntaría', 2), ('cambiaré', 2), ('probaré', 4), ('17', 1), ('panadero', 1), ('perdedor', 5), ('perdedora', 1), ('mujer', 92), ('desconcertado', 5), ('cocinando', 12), ('curiosidad', 8), ('bailando', 12), ('comprometida', 3), ('emocionado', 15), ('emocionada', 8), ('ayunando', 1), ('quisquilloso', 3), ('fraile', 1), ('saludable', 12), ('cárcel', 12), ('enamorada', 8), ('nervioso', 27), ('inquieto', 5), ('casado', 41), ('casada', 15), ('neutral', 2), ('tímida', 9), ('mentalizado', 3), ('leyendo', 41), ('descansando', 2), ('egoísta', 10), ('¡me', 16), ('muero', 8), ('atrapado', 18), ('esperando', 65), ('preocupada', 6), ('ignoralos', 1), ('acabado', 10), ('¿se', 39), ('encuentra', 10), ('acertado', 1), ('cierto', 63), ('dice', 70), ('limpia', 13), ('llevar', 17), ('ventoso', 4), ('vuestro', 40), ('¿ella', 18), ('simpática', 3), ('costó', 8), ('30', 10), ('pasó', 86), ('sucedió', 10), ('invito', 2), ('llueva', 8), ('podría', 120), ('nevar', 15), ('posible', 38), ('salvó', 9), ('chido', 1), ('chilo', 1), ('padre', 150), ('fácil', 88), ('50', 4), ('yenes', 9), ('lunes', 130), ('muñeca', 21), ('pez', 18), ('arpa', 3), ('harpa', 2), ('broma', 38), ('quilombo', 2), ('normativa', 1), ('canción', 53), ('vicio', 2), ('roto', 26), ('estropeado', 2), ('rota', 16), ('fresquito', 1), ('biruji', 1), ('veas', 4), ('nublado', 9), ('inútil', 9), ('secreto', 58), ('simple', 16), ('sigue', 55), ('moviéndote', 1), ('ayudarte', 41), ('házmelo', 2), ('saber', 49), ('vivir', 48), ('¡empecemos', 3), ('comencemos', 7), ('bailemos', 3), ('¡hagámoslo', 1), ('hagámoslo', 9), ('entremos', 3), ('apurémonos', 3), ('vayámonos', 5), ('¡vamos', 4), ('guateque', 1), ('festejemos', 1), ('relajémonos', 2), ('divertida', 11), ('desde', 24), ('busca', 7), ('lista', 55), ('pide', 5), ('deseo', 28), ('¡muchas', 1), ('memórizalo', 1), ('memórizala', 1), ('mundo', 91), ('poderoso', 5), ('caballero', 11), ('don', 4), ('llegas', 8), ('significa', 20), ('ninguno', 25), ('acudió', 1), ('prosigue', 3), ('callate', 2), ('azul', 25), ('quédense', 7), ('quédese', 7), ('bájalo', 2), ('póngase', 5), ('libérale', 1), ('recuérdalo', 1), ('responded', 1), ('sus', 166), ('disparos', 5), ('adiós', 11), ('digas', 37), ('mándalo', 2), ('mándelo', 2), ('mándenlo', 2), ('mandalo', 2), ('¿nos', 18), ('pegó', 20), ('muerta', 9), ('despertó', 11), ('zorra', 1), ('¿debería', 13), ('muéstrame', 13), ('cómo', 74), ('háblame', 2), ('¡dejad', 2), ('haciéndolo', 4), ('llorar', 61), ('¡quieto', 1), ('moverte', 1), ('¡alto', 1), ('¡ladrón', 1), ('saque', 2), ('carta', 63), ('saca', 7), ('echa', 10), ('ojeada', 2), ('descansad', 2), ('repósate', 1), ('actúa', 2), ('coche', 204), ('tontería', 8), ('enorme', 17), ('esa', 244), ('pasado', 64), ('ésos', 13), ('televisión', 83), ('encendida', 7), ('¡allá', 1), ('quemaron', 3), ('llamaron', 7), ('bailaron', 1), ('lograron', 1), ('abrazaron', 3), ('besaron', 5), ('quizá', 27), ('obedecieron', 1), ('vieron', 14), ('veían', 2), ('sonrieron', 7), ('esperaron', 2), ('caminaron', 2), ('pasearon', 1), ('gritaron', 5), ('malos', 7), ('nuevos', 15), ('nuevas', 5), ('viejos', 12), ('mayores', 12), ('ancianos', 4), ('piensa', 24), ('piénsalo', 5), ('ésta', 25), ('suya', 12), ('ésto', 1), ('mierda', 2), ('llegó', 63), ('sonrojó', 3), ('cambió', 21), ('varió', 1), ('vitoreó', 4), ('aplaudió', 5), ('tuvo', 55), ('accidente', 20), ('estrelló', 2), ('decidió', 22), ('ahogó', 5), ('espiró', 1), ('desmayó', 4), ('regodeó', 1), ('gruñó', 2), ('doc', 1), ('inhaló', 1), ('pelón', 1), ('malvado', 4), ('satisfecho', 15), ('perezoso', 6), ('ordenado', 3), ('arrodilló', 2), ('rio', 7), ('adelantado', 11), ('pagaba', 1), ('negó', 15), ('cerró', 20), ('banda', 11), ('relajó', 1), ('relajaba', 1), ('resbaló', 2), ('estornudó', 1), ('enseña', 14), ('mayor', 37), ('ayudará', 11), ('furioso', 9), ('polvo', 7), ('alegre', 7), ('disgustado', 5), ('pruébate', 5), ('apágalo', 2), ('esperame', 1), ('espéranos', 1), ('despertalo', 1), ('lentamente', 16), ('¿estaba', 7), ('¿hacía', 2), ('¿estuvo', 5), ('todos', 469), ('trabajamos', 10), ('comimos', 9), ('huevos', 26), ('separamos', 2), ('dejamos', 4), ('rompimos', 1), ('encontrarnos', 2), ('vernos', 12), ('ayudamos', 6), ('conocemos', 19), ('porqué', 9), ('gustas', 18), ('amamos', 7), ('extrañamos', 4), ('actuar', 8), ('necesitamos', 81), ('prometimos', 1), ('acordamos', 4), ('recordamos', 1), ('sentamos', 6), ('sentábamos', 2), ('sobrevivimos', 1), ('esos', 42), ('estaremos', 13), ('conduciremos', 1), ('luchar', 6), ('compartiremos', 2), ('despiertos', 3), ('aburridos', 5), ('arruinados', 4), ('duro', 59), ('velas', 4), ('limpios', 5), ('felices', 50), ('listos', 29), ('sentimos', 6), ('cansados', 18), ('gemelos', 6), ('jóvenes', 11), ('burro', 2), ('tipo', 51), ('arrastrado', 2), ('pendejo', 1), ('imbécil', 4), ('pérdida', 6), ('desastre', 6), ('mugre', 1), ('confusión', 1), ('dolor', 47), ('lástima', 5), ('pena', 24), ('equipo', 43), ('ego', 2), ('¿quiénes', 19), ('sois', 34), ('sos', 130), ('dibujó', 1), ('pegado', 4), ('siguiente', 7), ('dijo', 189), ('viene', 79), ('cocinar', 36), ('¿de', 148), ('¿vas', 31), ('¿irás', 3), ('¿va', 11), ('escríbelo', 2), ('ponlo', 8), ('escrito', 15), ('hiciste', 61), ('hicisteis', 4), ('desmayaron', 2), ('desmayaste', 1), ('lastimas', 2), ('quédatelo', 1), ('conoces', 26), ('conseguido', 5), ('logrado', 2), ('necesita', 103), ('necesitáis', 7), ('necesitas', 65), ('¡así', 1), ('exactamente', 18), ('regreso', 5), ('langa', 1), ('hermosa', 29), ('estáis', 45), ('retrasado', 4), ('simpático', 9), ('¡estás', 6), ('chiflado', 2), ('¡estáis', 1), ('enfermos', 4), ('¡abandonen', 1), ('nave', 6), ('acorde', 1), ('tu', 766), ('edad', 57), ('invitado', 11), ('¿nada', 1), ('¿estamos', 5), ('¿estáis', 27), ('herida', 6), ('¿os', 35), ('encuentras', 7), ('¿usted', 27), ('segura', 25), ('seguras', 5), ('seguros', 14), ('¿están', 33), ('invita', 4), ('mary', 843), ('estar', 248), ('confiado', 5), ('confianza', 13), ('seguridad', 16), ('despiadado', 1), ('objetivo', 12), ('objetivos', 5), ('realista', 6), ('paciencia', 20), ('ternera', 2), ('hierve', 3), ('huevo', 12), ('tropas', 1), ('apoyo', 12), ('hazle', 1), ('sombrero', 60), ('llamá', 4), ('fbi', 3), ('intentar', 11), ('¿sabes', 67), ('andar', 24), ('revisa', 4), ('alrededor', 22), ('¡échale', 2), ('¡míralo', 1), ('¡compruébalo', 1), ('cuando', 44), ('quieras', 40), ('alguna', 52), ('enseguida', 15), ('acércate', 4), ('ayudarme', 27), ('echarme', 4), ('regresa', 5), ('baje', 3), ('subid', 2), ('suba', 3), ('suban', 2), ('véngase', 2), ('enfríalo', 1), ('describilo', 1), ('descríbelo', 1), ('descríbalo', 1), ('llamado', 8), ('¿vino', 2), ('¿ayudaste', 2), ('¿ayudasteis', 1), ('¿ustedes', 14), ('ayudaron', 5), ('¿ayudabas', 1), ('¿ayudabais', 1), ('ayudaba', 1), ('ayudaban', 2), ('¿perdiste', 2), ('¿firmaste', 2), ('¿firmaron', 1), ('¿luzco', 2), ('hágalo', 5), ('hacelo', 3), ('saben', 49), ('conocen', 34), ('¿bebes', 6), ('¿bebéis', 2), ('¿bebe', 1), ('fuma', 14), ('¿fumas', 1), ('roncas', 1), ('¿duele', 3), ('nota', 7), ('¿funciona', 3), ('estés', 24), ('seas', 52), ('tengas', 16), ('sueltes', 5), ('divagues', 1), ('tientes', 2), ('conduzca', 2), ('examina', 1), ('examine', 1), ('examiná', 1), ('examinad', 1), ('examinen', 1), ('temas', 3), ('miedo', 113), ('lucha', 3), ('o', 84), ('muere', 6), ('gato', 112), ('libro', 287), ('consigue', 3), ('recoge', 4), ('traiga', 4), ('recoja', 3), ('fantasmas', 13), ('existen', 9), ('dame', 92), ('mitad', 16), ('deme', 16), ('denme', 5), ('dadme', 3), ('devuélvete', 1), ('escuela', 110), ('días', 99), ('pascua', 4), ('¡feliz', 4), ('rosquilla', 3), ('cómete', 4), ('trago', 13), ('tómate', 5), ('botana', 2), ('valiente', 21), ('valientes', 6), ('evita', 3), ('enfadó', 6), ('francés', 285), ('morros', 1), ('motivado', 3), ('pateó', 7), ('fuéramos', 3), ('humillado', 4), ('prestigio', 1), ('esperará', 2), ('fanático', 2), ('ninja', 1), ('dieta', 15), ('sufriendo', 1), ('celoso', 22), ('lindo', 12), ('ayúdale', 3), ('tienes', 285), ('bolígrafo', 35), ('boli', 5), ('¡oye', 1), ('aguante', 2), ('rollo', 7), ('pesado', 6), ('incordio', 1), ('hincha', 1), ('pelotas', 2), ('arrogante', 16), ('¡cómo', 3), ('atreves', 2), ('horrible', 19), ('romántico', 6), ('colegio', 43), ('admiro', 9), ('chino', 17), ('confuso', 10), ('saberlo', 21), ('lesionado', 1), ('rezando', 2), ('disculpé', 3), ('manzanas', 37), ('caviar', 1), ('mordí', 2), ('labio', 5), ('arreglarlo', 11), ('mover', 5), ('parar', 46), ('corto', 18), ('corté', 5), ('cortado', 7), ('pagué', 10), ('chupa', 1), ('desconozco', 3), ('canto', 3), ('tomé', 20), ('bebido', 8), ('queso', 15), ('viva', 5), ('genial', 23), ('atontado', 2), ('aturdido', 2), ('enmarqué', 1), ('pidieron', 5), ('identificación', 4), ('identificarme', 1), ('documentación', 1), ('atracaron', 1), ('dudas', 15), ('habas', 1), ('moscas', 2), ('mentirosos', 3), ('ópera', 3), ('reglas', 34), ('sushi', 12), ('carro', 47), ('llave', 82), ('pluma', 5), ('ayudé', 7), ('abracé', 2), ('acabo', 53), ('mudarme', 5), ('frijoles', 3), ('dulces', 11), ('ajedrez', 10), ('miel', 8), ('pizza', 15), ('mujeres', 28), ('libros', 93), ('juegos', 9), ('viajes', 5), ('gustaba', 22), ('apuesta', 8), ('éstos', 39), ('engañé', 2), ('eché', 2), ('extrañé', 4), ('taxi', 35), ('auto', 143), ('abrazo', 8), ('siesta', 4), ('pintura', 11), ('espacio', 9), ('necesitaba', 27), ('frecuentemente', 7), ('león', 7), ('estrella', 9), ('pistola', 13), ('hoy', 282), ('nadé', 2), ('simpatizo', 1), ('muchas', 45), ('avisado', 2), ('enmarcado', 2), ('encontraba', 3), ('veces', 42), ('perder', 56), ('perderé', 2), ('pregunto', 29), ('volveré', 29), ('seré', 11), ('comprar', 62), ('arriesgaré', 1), ('demandaré', 2), ('ex', 6), ('médico', 40), ('doctor', 40), ('médica', 6), ('granjero', 3), ('sacerdote', 1), ('cura', 6), ('surfista', 1), ('camarero', 4), ('escritor', 14), ('oídos', 5), ('actor', 8), ('adulta', 1), ('adulto', 10), ('agente', 3), ('anoréxico', 2), ('autista', 2), ('descalzo', 2), ('confusa', 2), ('confundido', 15), ('confundida', 8), ('divorciada', 2), ('dubitativo', 1), ('ahogando', 4), ('formación', 1), ('congelado', 4), ('helado', 30), ('helando', 2), ('agradecida', 1), ('luto', 1), ('vacilante', 1), ('gravemente', 4), ('perth', 1), ('inocente', 15), ('culto', 1), ('ángel', 8), ('rebelde', 5), ('indignado', 5), ('pintando', 7), ('embarazada', 13), ('embarazado', 1), ('preparada', 7), ('racional', 2), ('aliviado', 5), ('desasosegado', 1), ('intranquilo', 1), ('durmiendo', 24), ('tanto', 58), ('lamento', 30), ('muy', 913), ('todavía', 201), ('terco', 2), ('estudiando', 37), ('pensando', 30), ('meditando', 6), ('trece', 5), ('concienzudo', 1), ('entusiasmado', 4), ('cachondo', 1), ('exhausto', 11), ('reventado', 3), ('sólido', 2), ('hierro', 8), ('curado', 1), ('lúcido', 1), ('ciervo', 8), ('lobo', 5), ('alce', 1), ('suficiente', 74), ('falso', 8), ('auténtico', 7), ('empezado', 10), ('empezó', 53), ('comenzó', 12), ('romper', 1), ('rompa', 1), ('negro', 30), ('repugnante', 12), ('mágico', 2), ('quemará', 1), ('será', 75), ('maldición', 3), ('¡eso', 16), ('increíble', 13), ('mañana', 180), ('turno', 25), ('llamas', 15), ('nevando', 15), ('funcionando', 3), ('¡tan', 1), ('nomás', 4), ('seguí', 12), ('cavando', 7), ('conduciendo', 6), ('mirando', 32), ('siga', 9), ('sigan', 5), ('seguid', 4), ('continuad', 2), ('continúen', 2), ('sonriendo', 12), ('continuá', 1), ('hablando', 66), ('caminando', 17), ('escribiendo', 22), ('quede', 3), ('irme', 58), ('dejame', 7), ('pensar', 21), ('vámonos', 7), ('salgamos', 4), ('escuchemos', 2), ('vayamos', 32), ('corta', 17), ('¡fíjate', 1), ('fíjate', 4), ('atentamente', 6), ('detenidamente', 1), ('adivina', 6), ('detenga', 2), ('entró', 24), ('mona', 5), ('maría', 94), ('alta', 29), ('cerdos', 1), ('muévete', 1), ('hacer', 330), ('ruido', 46), ('césped', 9), ('cortad', 1), ('corte', 7), ('corten', 1), ('brazo', 44), ('duelen', 7), ('orejas', 10), ('pies', 14), ('cadera', 1), ('mandíbula', 3), ('pierna', 20), ('preguntó', 21), ('cacho', 3), ('ah', 3), ('oh', 5), ('obtuve', 3), ('abrí', 10), ('caja', 51), ('abra', 11), ('apurate', 2), ('márchese', 1), ('sonreíd', 1), ('señalalo', 1), ('ábrela', 2), ('del', 217), ('ponedlo', 2), ('pónganlo', 2), ('descanso', 18), ('recreo', 1), ('escóndete', 2), ('repítelo', 2), ('terminaron', 5), ('clases', 27), ('veré', 35), ('entonces', 20), ('¡avergüénzate', 1), ('tranquila', 10), ('disparó', 20), ('demandó', 2), ('quedaos', 6), ('concéntrate', 2), ('desconcentres', 1), ('permanece', 1), ('céntrate', 1), ('frente', 7), ('discutas', 1), ('discutir', 7), ('mirar', 12), ('empujar', 1), ('deje', 12), ('fumar', 55), ('mirarme', 3), ('cállate', 9), ('pará', 2), ('quejarte', 9), ('gritar', 15), ('¡felices', 1), ('sueños', 17), ('¡dulces', 1), ('descansa', 3), ('descanse', 2), ('¡relajate', 1), ('¡relájate', 1), ('llévatelo', 2), ('tomate', 5), ('bondi', 1), ('llévanos', 2), ('cuéntame', 12), ('dime', 40), ('dígame', 9), ('cuénteme', 2), ('dinos', 3), ('díganos', 2), ('dígannos', 2), ('cuéntanos', 3), ('cuéntenos', 1), ('cuéntennos', 1), ('agradecido', 6), ('nuevamente', 13), ('colmo', 2), ('bastará', 2), ('durará', 3), ('funcionará', 9), ('mentira', 15), ('montón', 35), ('locura', 8), ('ambos', 38), ('sentaron', 4), ('aprueban', 2), ('grandes', 31), ('entraron', 11), ('llegaron', 8), ('entraban', 1), ('vitorearon', 2), ('tuvieron', 14), ('chocaron', 3), ('estrellaron', 1), ('escaparon', 3), ('abandonaron', 5), ('rindieron', 1), ('desistieron', 1), ('tiraron', 1), ('odian', 15), ('ayudan', 3), ('conocían', 4), ('rieron', 15), ('adoran', 4), ('aman', 11), ('necesitan', 23), ('negaron', 2), ('dijeron', 15), ('pararon', 5), ('sudaron', 1), ('quieren', 41), ('llamarán', 2), ('vendrán', 3), ('sabrán', 1), ('esperarán', 1), ('aguardarán', 1), ('muchachos', 8), ('tienen', 106), ('rápidos', 2), ('estupendamente', 5), ('encuentran', 1), ('míos', 28), ('mías', 18), ('simpáticos', 4), ('bonitos', 3), ('feos', 1), ('rompen', 1), ('sencillo', 6), ('oro', 15), ('¡esto', 7), ('respondió', 17), ('aprueba', 2), ('aburre', 5), ('canceló', 4), ('cancelación', 2), ('enroló', 1), ('sintió', 27), ('encogió', 6), ('dispararon', 5), ('enfermó', 2), ('odia', 36), ('insistió', 2), ('poli', 1), ('veterano', 2), ('veterinario', 3), ('fiel', 2), ('canicas', 1), ('bichi', 1), ('jiruta', 1), ('encuerado', 1), ('encueroles', 1), ('mañoso', 2), ('bajo', 35), ('tonto', 26), ('chispa', 1), ('escuchó', 21), ('ama', 41), ('conoció', 9), ('pánico', 10), ('prometió', 10), ('huyó', 11), ('aplacó', 1), ('apiadó', 2), ('hombros', 6), ('tartamudea', 1), ('balbucea', 1), ('sobrevivió', 5), ('desapareció', 6), ('ruin', 1), ('pálido', 12), ('hablará', 5), ('viniendo', 6), ('llorando', 30), ('grogui', 1), ('bromeando', 38), ('drogado', 2), ('confiá', 1), ('tarta', 28), ('centrarte', 1), ('espere', 23), ('despertalos', 1), ('despiértate', 1), ('¿quieres', 84), ('bebida', 8), ('lava', 5), ('pedimos', 2), ('demandar', 5), ('preparamos', 2), ('estábamos', 42), ('almorzamos', 5), ('algunos', 33), ('unos', 44), ('cuantos', 5), ('sabíamos', 8), ('conocíamos', 3), ('vivimos', 13), ('hogar', 13), ('queríamos', 3), ('encontramos', 11), ('echar', 6), ('quedamos', 17), ('dormidos', 6), ('dormimos', 4), ('deberíamos', 47), ('conseguimos', 1), ('logramos', 2), ('rendimos', 4), ('heridos', 3), ('lastimados', 1), ('saldremos', 1), ('adultos', 3), ('asustados', 1), ('mejores', 11), ('cerrados', 5), ('saliendo', 9), ('desahuciados', 1), ('escondidos', 2), ('hambrientos', 8), ('perdiendo', 14), ('mudando', 2), ('mudamos', 2), ('mudar', 2), ('cambiamos', 2), ('reventados', 1), ('consegido', 1), ('bienvenido', 15), ('bienvenida', 4), ('festín', 1), ('farsante', 1), ('susto', 3), ('desperdicio', 2), ('idea', 111), ('picó', 6), ('aquello', 14), ('construyó', 7), ('paga', 24), ('envió', 15), ('contó', 13), ('ambas', 14), ('agradeces', 1), ('das', 12), ('morir', 37), ('vivirá', 2), ('¿no', 206), ('vas', 81), ('tinta', 6), ('escriba', 9), ('escriban', 2), ('escribid', 3), ('pasaron', 3), ('diviertes', 1), ('¡eres', 10), ('maleducado', 4), ('descansar', 18), ('quedarte', 22), ('primera', 10), ('vos', 55), ('vosotros', 47), ('heriste', 1), ('conoce', 44), ('sabés', 4), ('ves', 41), ('acalorado', 2), ('pareces', 71), ('acalorada', 1), ('tenés', 46), ('prometiste', 5), ('prometisteis', 3), ('prometieron', 3), ('asustas', 2), ('sobreviviste', 3), ('sobrevivisteis', 2), ('sobrevivieron', 5), ('estarás', 11), ('cerdo', 16), ('borracha', 1), ('despedida', 3), ('despedidos', 3), ('despedidas', 3), ('gracioso', 20), ('espabilado', 3), ('listas', 3), ('pequeño', 42), ('pequeños', 6), ('pequeñas', 2), ('inteligentes', 12), ('dulce', 22), ('ingenioso', 3), ('ocurrente', 1), ('intentado', 12), ('atropelló', 4), ('aprobé', 2), ('aprobado', 3), ('soñando', 11), ('incluido', 1), ('¿soy', 4), ('talentoso', 7), ('¿son', 29), ('polis', 1), ('altos', 7), ('altas', 4), ('«poli»', 1), ('pasma', 1), ('ciego', 18), ('aburres', 3), ('aburriendo', 6), ('ebrio', 4), ('embriagado', 1), ('¿sos', 5), ('¿contento', 1), ('molesto', 15), ('experto', 10), ('pórtate', 2), ('respetuoso', 4), ('respetuosos', 2), ('apóyame', 1), ('apóyanos', 1), ('bate', 1), ('corren', 2), ('rómpelo', 1), ('estropéalo', 1), ('rompedlo', 1), ('descomponlo', 1), ('desglósalo', 1), ('tíralo', 2), ('derrúmbalo', 1), ('échalo', 1), ('derríbalo', 1), ('tráelo', 1), ('traedlo', 1), ('quemen', 1), ('cuerpo', 17), ('quemá', 1), ('queme', 1), ('quemad', 1), ('caín', 1), ('llame', 14), ('pida', 4), ('pidan', 1), ('pedid', 1), ('¡llámame', 1), ('¡llamen', 2), ('¡llamad', 2), ('llama', 62), ('policía', 49), ('tenerlo', 1), ('abrazarte', 2), ('participar', 1), ('quedármelo', 1), ('visitar', 10), ('tomarlo', 2), ('bailar', 49), ('conducir', 37), ('cierra', 33), ('observad', 1), ('cuece', 1), ('desfalleció', 1), ('¿funcionó', 1), ('¿hablaste', 3), ('¿conozco', 1), ('¿le', 64), ('¿necesito', 4), ('sueñan', 1), ('vuelvas', 13), ('serás', 5), ('peces', 11), ('duermen', 4), ('rápidamente', 16), ('platos', 15), ('sigues', 3), ('¿esta', 12), ('¿este', 15), ('seáis', 3), ('malas', 11), ('llegues', 2), ('tacaño', 8), ('grosero', 7), ('llames', 8), ('llamés', 2), ('llaméis', 1), ('llamen', 5), ('niegues', 1), ('desesperes', 1), ('engordes', 2), ('subas', 4), ('peso', 27), ('engordés', 1), ('rindas', 4), ('tires', 6), ('lastimes', 4), ('mates', 4), ('mires', 10), ('prestes', 2), ('atención', 27), ('burles', 4), ('abras', 3), ('empujes', 2), ('presiones', 2), ('apresures', 1), ('irrespetuoso', 1), ('vacia', 1), ('aceite', 4), ('traza', 2), ('círculo', 6), ('dibuja', 3), ('coman', 3), ('beban', 3), ('coma', 11), ('beba', 2), ('sano', 11), ('comed', 1), ('ganan', 1), ('alimenta', 1), ('pájaro', 24), ('rellena', 3), ('fríeme', 1), ('preparame', 2), ('estrellado', 1), ('pon', 13), ('ponga', 5), ('vuelva', 7), ('consígueme', 6), ('¡que', 7), ('dale', 20), ('dámelo', 4), ('dímelo', 2), ('dádmelo', 1), ('démelo', 1), ('dénmelo', 1), ('traer', 7), ('café', 108), ('bendiga', 2), ('aguanta', 3), ('agárrate', 6), ('aférrate', 3), ('conserva', 2), ('jamón', 3), ('engañó', 12), ('bebió', 14), ('cavó', 1), ('agujero', 11), ('cogieron', 6), ('cultiva', 2), ('blog', 2), ('constipado', 2), ('mucama', 1), ('abrazó', 9), ('inglés', 86), ('ladrón', 10), ('jefe', 28), ('andando', 6), ('patineta', 2), ('besó', 19), ('luce', 18), ('aspecto', 12), ('pellizcó', 3), ('parece', 216), ('vende', 12), ('carros', 2), ('palabra', 52), ('expresa', 2), ('apedreado', 1), ('sabrá', 8), ('abogado', 47), ('machista', 2), ('gran', 88), ('negocios', 15), ('adorable', 8), ('demente', 5), ('santo', 2), ('hijo', 87), ('sírvase', 4), ('sírvete', 2), ('servíos', 1), ('mismos', 5), ('sírvanse', 2), ('¿paquí', 1), ('pa', 1), ('oye', 8), ('vayáis', 2), ('oiga', 3), ('su', 915), ('nariz', 30), ('sangraba', 2), ('abrazame', 1), ('retenga', 1), ('mis', 234), ('llamadas', 3), ('sujétalo', 2), ('¡sujétalo', 1), ('puerta', 147), ('cuerda', 21), ('bocina', 2), ('claxon', 2), ('¿cuántos', 48), ('murieron', 11), ('emocionante', 14), ('date', 4), ('apúrate', 1), ('acepto', 12), ('adquirí', 1), ('añadí', 2), ('admiraba', 3), ('casi', 116), ('morí', 2), ('siempre', 206), ('camino', 69), ('americano', 4), ('estadounidense', 7), ('japonés', 36), ('japonesa', 15), ('dedico', 2), ('trote', 1), ('tosiendo', 2), ('indigna', 2), ('estornudando', 2), ('culpa', 59), ('volví', 11), ('pertenezco', 2), ('prestado', 15), ('soborné', 2), ('quemé', 5), ('vine', 21), ('autobús', 45), ('explicar', 17), ('sentirlo', 4), ('verte', 65), ('manejar', 11), ('soportar', 9), ('resistir', 2), ('cancelé', 1), ('causé', 1), ('contribuí', 1), ('lloré', 4), ('merecía', 4), ('diseñé', 1), ('desprecio', 2), ('menosprecio', 2), ('pude', 29), ('importó', 1), ('supe', 3), ('moví', 2), ('paré', 3), ('detuve', 1), ('caminé', 3), ('claro', 19), ('pienso', 51), ('bebo', 17), ('tomo', 10), ('ronco', 2), ('robo', 9), ('estudio', 20), ('bebí', 9), ('llevo', 21), ('bmw', 2), ('disfruto', 7), ('jugar', 79), ('escuchar', 23), ('póker', 1), ('exageré', 1), ('temo', 18), ('alimenté', 2), ('adormitado', 1), ('causa', 10), ('culpable', 26), ('renacido', 1), ('finalmente', 27), ('terminé', 5), ('perdono', 1), ('defendí', 1), ('bono', 1), ('resulté', 1), ('engañado', 9), ('casé', 5), ('sediento', 5), ('esconder', 13), ('boston', 183), ('fútbol', 31), ('invierno', 13), ('bomba', 5), ('resfriado', 18), ('acatarrado', 2), ('cita', 15), ('plan', 64), ('aro', 1), ('anillo', 5), ('hermana', 62), ('gemela', 4), ('hermano', 80), ('visa', 7), ('visado', 3), ('rodilleras', 1), ('cáncer', 15), ('tenido', 24), ('órdenes', 12), ('derechos', 4), ('pecado', 1), ('tenencia', 1), ('sirenas', 1), ('voces', 1), ('ignoré', 2), ('recién', 6), ('levanto', 15), ('levanté', 10), ('levantar', 9), ('gente', 73), ('personas', 25), ('dejo', 11), ('caer', 9), ('camellos', 3), ('relojes', 2), ('caballos', 17), ('películas', 15), ('coser', 6), ('cucharas', 1), ('deporte', 9), ('prefiero', 41), ('tenis', 55), ('trenes', 6), ('tulipanes', 2), ('miré', 15), ('aparté', 1), ('clave', 6), ('árabe', 5), ('hornear', 2), ('ajo', 1), ('excursionismo', 1), ('papá', 27), ('empleo', 26), ('naturaleza', 9), ('primavera', 24), ('negocio', 10), ('trato', 17), ('cena', 34), ('preparé', 1), ('repararlo', 2), ('objetar', 1), ('rechazar', 1), ('verlo', 41), ('estuve', 44), ('baño', 47), ('tripulación', 3), ('lámpara', 4), ('préstamo', 3), ('lleven', 2), ('cuarto', 57), ('habitación', 130), ('semana', 96), ('consejos', 8), ('bolsa', 33), ('bolso', 18), ('preocupo', 5), ('supero', 1), ('rango', 1), ('dueño', 2), ('yate', 1), ('juego', 65), ('squash', 1), ('toco', 15), ('violín', 8), ('afuera', 32), ('leí', 13), ('cambié', 5), ('fecha', 7), ('rescaté', 4), ('ofendo', 2), ('respeto', 19), ('administro', 1), ('motel', 2), ('manejo', 3), ('¡yo', 2), ('levántate', 5), ('ratón', 12), ('avión', 26), ('corona', 5), ('viendo', 27), ('luz', 44), ('reina', 4), ('barco', 25), ('niño', 90), ('oso', 10), ('renunciar', 9), ('tocino', 1), ('humo', 2), ('olí', 1), ('vendí', 5), ('chiste', 13), ('conté', 9), ('bañé', 1), ('paseo', 14), ('confiaba', 4), ('firefox', 1), ('ofrecí', 1), ('voluntario', 4), ('ganas', 32), ('precavido', 2), ('desarmado', 1), ('observé', 1), ('vigilé', 1), ('observaba', 1), ('subí', 7), ('marcha', 5), ('senderismo', 1), ('excursión', 2), ('despertado', 6), ('cederé', 1), ('saldré', 4), ('escribo', 1), ('versos', 1), ('gustaría', 69), ('permitiré', 3), ('permitirlo', 3), ('compraré', 3), ('llamar', 33), ('llamaré', 19), ('alcanzaré', 1), ('comeré', 2), ('encontraré', 6), ('mataré', 3), ('matar', 31), ('encontrarme', 6), ('echaré', 9), ('extrañar', 7), ('demostraré', 1), ('mostraré', 10), ('detener', 11), ('encargaré', 5), ('llevaré', 11), ('cogeré', 6), ('diré', 12), ('avisar', 3), ('advertiré', 1), ('alertaré', 1), ('miraré', 3), ('estudiante', 41), ('profesor', 58), ('maestro', 11), ('turista', 5), ('testigo', 6), ('adicta', 1), ('artista', 13), ('huérfano', 5), ('desesperado', 5), ('desesperada', 2), ('olvidadizo', 9), ('¡mamá', 1), ('horrorizado', 2), ('horrorizada', 1), ('imparcial', 2), ('impaciente', 8), ('importante', 52), ('impresionada', 2), ('impresionado', 3), ('cargo', 12), ('peligro', 44), ('intrigada', 1), ('escuchando', 29), ('escucharé', 1), ('mudo', 7), ('superaré', 2), ('seguiré', 2), ('espía', 3), ('mandón', 1), ('mandona', 1), ('huelga', 3), ('sensible', 8), ('hambriento', 17), ('tanta', 8), ('estúpida', 14), ('asegurado', 3), ('asegurada', 1), ('jefa', 1), ('encontrado', 23), ('famoso', 18), ('siente', 28), ('doloroso', 6), ('popular', 8), ('privado', 3), ('lloviendo', 28), ('murciélago', 3), ('peluca', 4), ('legal', 7), ('aquél', 5), ('latín', 3), ('quebró', 7), ('pone', 14), ('peor', 26), ('empeora', 1), ('había', 73), ('nevado', 3), ('pinta', 14), ('regalo', 34), ('engaño', 8), ('examen', 21), ('irónico', 3), ('dolerá', 1), ('servirá', 3), ('media', 80), ('sábado', 17), ('enigma', 2), ('secuela', 1), ('arma', 24), ('desierto', 3), ('mejorado', 4), ('caballo', 26), ('obsoleto', 4), ('oficial', 2), ('deber', 10), ('rata', 2), ('depende', 15), ('corresponde', 3), ('seco', 5), ('minuto', 48), ('coja', 4), ('coged', 2), ('cojan', 2), ('remando', 4), ('llaves', 47), ('déjale', 4), ('terminar', 16), ('preguntémosle', 4), ('pidámosle', 1), ('preguntarle', 6), ('hagamos', 18), ('volvamos', 7), ('mantengámoslo', 1), ('prosigamos', 3), ('avancemos', 2), ('abrámoslo', 1), ('sigamos', 6), ('demandemos', 1), ('injusta', 4), ('¡traba', 1), ('¡ponle', 1), ('entrada', 12), ('cancela', 1), ('aquéllos', 2), ('oferta', 22), ('resume', 2), ('mortal', 2), ('chula', 1), ('rara', 16), ('chilló', 4), ('preguntar', 11), ('escasa', 1), ('memoriza', 1), ('memorízate', 1), ('espalda', 19), ('cabeza', 60), ('pulmones', 1), ('nombre', 126), ('llamo', 13), ('cuello', 7), ('sonreía', 2), ('escuchad', 2), ('atended', 2), ('atendedme', 1), ('quítate', 8), ('capucha', 2), ('¡fuera', 3), ('búhos', 5), ('monos', 7), ('cambia', 9), ('tócalo', 2), ('arreglalo', 1), ('súbase', 1), ('bata', 2), ('apostar', 6), ('apuestas', 1), ('léelo', 6), ('rusia', 2), ('¡di', 1), ('¡decid', 1), ('acabaron', 3), ('manda', 3), ('mándamelo', 2), ('¿empiezo', 1), ('¿debo', 4), ('continuar', 7), ('agachó', 2), ('patinar', 7), ('enojó', 6), ('cabreó', 2), ('contrató', 5), ('francesa', 7), ('acaba', 47), ('obedece', 5), ('cumplió', 9), ('dieciséis', 4), ('desea', 6), ('ingenua', 4), ('modelo', 7), ('esposa', 55), ('junto', 14), ('claramente', 15), ('hable', 14), ('hablen', 7), ('hablad', 3), ('quedito', 3), ('calladito', 1), ('párense', 1), ('línea', 17), ('comienza', 16), ('empiece', 3), ('empezad', 1), ('empiecen', 2), ('comience', 3), ('comenzad', 1), ('comiencen', 1), ('escribir', 34), ('positivo', 2), ('positiva', 1), ('manteneos', 1), ('juntos', 53), ('separéis', 1), ('mezclá', 1), ('remueve', 1), ('balbucear', 1), ('chismorrear', 3), ('soñar', 6), ('¡dejá', 1), ('pelear', 15), ('entrometas', 2), ('disparar', 5), ('preocuparte', 4), ('pasan', 6), ('gustes', 4), ('barre', 4), ('respiro', 4), ('número', 37), ('llévame', 3), ('todas', 54), ('formas', 5), ('saturno', 1), ('bote', 9), ('copia', 10), ('aquella', 24), ('mito', 2), ('absurdo', 11), ('chaval', 1), ('irreal', 1), ('vulgar', 1), ('copa', 5), ('chicas', 12), ('sabían', 5), ('supieron', 1), ('partieron', 2), ('levantaron', 2), ('alzaron', 2), ('pusieron', 8), ('gritan', 1), ('construyeron', 4), ('cancelaron', 1), ('mutuamente', 4), ('encontraron', 10), ('encantaba', 2), ('deben', 16), ('pagan', 5), ('sentaban', 1), ('salvaron', 2), ('estarán', 5), ('bailarán', 1), ('harán', 4), ('asiáticos', 3), ('vivos', 10), ('solos', 19), ('enojados', 3), ('armadas', 1), ('arruinadas', 2), ('limpias', 6), ('embriagados', 1), ('ebrios', 1), ('borrachos', 8), ('enormes', 1), ('inmensas', 1), ('verdes', 10), ('espías', 2), ('vuestros', 11), ('suyos', 4), ('cambian', 1), ('japón', 16), ('esta', 493), ('ley', 24), ('palabras', 27), ('incorrecto', 3), ('recibió', 11), ('graduó', 7), ('vaca', 7), ('mapa', 18), ('oyó', 12), ('dudó', 1), ('pelele', 1), ('ausente', 5), ('bravío', 1), ('descansado', 1), ('fuerzas', 1), ('delgaducho', 3), ('estricto', 2), ('injusto', 10), ('malévolo', 1), ('unió', 3), ('pueblo', 6), ('gustaste', 2), ('gustabas', 1), ('recuperó', 1), ('acuerda', 4), ('recuerda', 15), ('asusta', 5), ('vaciló', 2), ('tambaleó', 1), ('13', 4), ('siguió', 32), ('distante', 1), ('banca', 4), ('sucio', 6), ('moría', 2), ('severo', 4), ('contratado', 4), ('leal', 2), ('afortunado', 15), ('mentía', 1), ('palideció', 3), ('cocinará', 1), ('obedecerá', 1), ('adoptado', 2), ('ayudando', 13), ('inservible', 3), ('cero', 8), ('izquierda', 22), ('violento', 6), ('bancame', 1), ('seis', 47), ('roncando', 2), ('cubre', 1), ('encera', 1), ('piso', 22), ('encerá', 1), ('condenados', 1), ('podríamos', 7), ('preguntamos', 2), ('comemos', 7), ('fuimos', 21), ('robados', 2), ('robaron', 12), ('planes', 14), ('disparamos', 1), ('callados', 5), ('teníamos', 17), ('intención', 14), ('hablamos', 11), ('entendemos', 7), ('aburríamos', 1), ('tuvimos', 21), ('preguntaremos', 2), ('esconderemos', 1), ('sobreviviremos', 1), ('desorientados', 1), ('primos', 8), ('intrigados', 2), ('comprometidos', 2), ('prometidos', 2), ('amigos', 107), ('amigas', 16), ('enamorados', 4), ('abogados', 3), ('casados', 9), ('pacientes', 3), ('mentalizados', 1), ('egoístas', 1), ('serios', 1), ('hundiendo', 2), ('especiales', 3), ('concluido', 4), ('¡estamos', 1), ('atrapados', 5), ('inútiles', 3), ('unas', 29), ('ganando', 11), ('¿estabas', 15), ('fiasco', 1), ('jaleo', 3), ('lío', 7), ('¡menudo', 2), ('¡vaya', 5), ('alivio', 2), ('aflige', 1), ('güey', 1), ('¿ellos', 16), ('ocurrió', 18), ('ocurrido', 4), ('sido', 61), ('¿cuándo', 144), ('¿cuál', 156), ('mandó', 9), ('queda', 63), ('gana', 15), ('vendrá', 31), ('¿vendrá', 5), ('llegaste', 13), ('equivocan', 2), ('¡puedes', 1), ('¡tú', 2), ('¡hipócrita', 1), ('sabes', 59), ('sabéis', 4), ('tenéis', 32), ('quedaros', 3), ('debes', 60), ('necesitás', 5), ('preguntas', 13), ('deberías', 102), ('hueles', 2), ('estabas', 44), ('eras', 17), ('fuisteis', 5), ('eran', 30), ('fracasarás', 1), ('trabajas', 11), ('llegaréis', 1), ('llegará', 6), ('llegarás', 3), ('bebé', 57), ('parcial', 7), ('¿bromeas', 1), ('tratando', 6), ('cocacola', 2), ('actuá', 1), ('linda', 21), ('calificado', 1), ('rojas', 9), ('¿somos', 2), ('¿vendréis', 3), ('¿vendrás', 6), ('¿vienes', 8), ('vienes', 8), ('famosa', 8), ('sientes', 33), ('racista', 6), ('¿vosotros', 3), ('otoño', 5), ('chica', 50), ('aves', 3), ('ponen', 2), ('respira', 9), ('hondo', 6), ('traé', 1), ('pala', 5), ('tráemelo', 2), ('tráigamelo', 1), ('¿también', 3), ('comerme', 9), ('ayudarle', 6), ('besarte', 5), ('verlos', 11), ('verles', 2), ('dejas', 7), ('sentarme', 14), ('¿podremos', 1), ('conseguirlo', 3), ('conseguiremos', 2), ('proseguir', 1), ('levantarte', 7), ('atrapa', 1), ('pelota', 18), ('revísalos', 1), ('échale', 1), ('pieza', 26), ('háganlo', 1), ('pacá', 1), ('contacte', 1), ('archivo', 6), ('vacas', 10), ('comen', 15), ('pasto', 9), ('dan', 31), ('pártelo', 1), ('daño', 37), ('lastimé', 6), ('compró', 47), ('olvidaste', 2), ('olvidado', 22), ('¿entendió', 1), ('dijiste', 31), ('treinta', 18), ('viste', 28), ('¡la', 4), ('háztelo', 1), ('odias', 4), ('oyes', 2), ('escuchás', 1), ('conocés', 6), ('quieres', 77), ('amas', 13), ('echas', 5), ('prometes', 1), ('promete', 1), ('reciclas', 1), ('queréis', 10), ('des', 13), ('lata', 6), ('enfades', 2), ('enfade', 2), ('apresurado', 6), ('boludo', 2), ('culpes', 2), ('quejes', 1), ('pierdas', 7), ('ayudes', 9), ('dejes', 30), ('levantes', 3), ('forcejees', 1), ('cuentes', 4), ('toques', 19), ('¡suelta', 1), ('cuchillo', 30), ('agacha', 1), ('cómanse', 1), ('disfrute', 3), ('espectáculo', 12), ('disfruta', 4), ('disfruten', 1), ('disfrutad', 1), ('mienten', 4), ('pagaron', 7), ('llora', 9), ('peleen', 2), ('pelead', 1), ('pescar', 19), ('filas', 1), ('súbete', 6), ('caravana', 2), ('tráeme', 21), ('¡súbase', 1), ('¡súbete', 1), ('subíos', 1), ('duerme', 17), ('dáselo', 5), ('pista', 2), ('beso', 8), ('cartera', 12), ('cambiarte', 2), ('tardes', 2), ('pásaselo', 1), ('taza', 34), ('año', 43), ('vacaciones', 20), ('¿han', 7), ('¿comiste', 2), ('¿ya', 36), ('comiste', 5), ('¿habéis', 16), ('aceleró', 2), ('contar', 17), ('antipatía', 1), ('moreno', 1), ('elevó', 2), ('volantín', 2), ('12', 2), ('hijos', 63), ('barba', 5), ('cambiado', 29), ('regresó', 7), ('golpe', 13), ('devolvió', 6), ('canadiense', 53), ('genio', 13), ('golfista', 3), ('techo', 8), ('tío', 37), ('extrovertido', 2), ('tirado', 3), ('espaldas', 1), ('aprende', 9), ('gelatina', 2), ('vive', 85), ('adora', 18), ('juega', 18), ('respeta', 8), ('retó', 2), ('increpó', 1), ('riñó', 1), ('enfadada', 12), ('frutas', 4), ('abofeteó', 4), ('confió', 2), ('extranjero', 21), ('acostar', 6), ('acostó', 3), ('florista', 1), ('animal', 8), ('deprimido', 12), ('prisión', 13), ('estudiar', 59), ('llegando', 5), ('vienen', 12), ('tarjeta', 15), ('esconde', 2), ('escondé', 1), ('plata', 12), ('dolía', 2), ('¿cuán', 4), ('asco', 7), ('hacen', 25), ('¿cuánto', 88), ('cuesta', 37), ('mide', 6), ('¡apúrensen', 2), ('húngara', 1), ('checo', 1), ('manzana', 48), ('creí', 7), ('apuesto', 9), ('presto', 2), ('uña', 1), ('traje', 26), ('arreglar', 16), ('demostrarlo', 2), ('levantarme', 12), ('cuento', 10), ('merezco', 7), ('avisé', 1), ('conducido', 3), ('doy', 6), ('sigo', 14), ('cojo', 4), ('honrado', 5), ('empeñé', 1), ('arrestaron', 2), ('divorcié', 1), ('nostálgico', 1), ('nostalgia', 1), ('garantizo', 1), ('divertí', 3), ('domingos', 12), ('insectos', 4), ('planchar', 4), ('karaoke', 2), ('fiestas', 7), ('acertijos', 1), ('arañas', 7), ('espinacas', 4), ('tos', 7), ('corazonada', 4), ('rancho', 3), ('camión', 18), ('ni', 80), ('escuincle', 1), ('hermanas', 16), ('hipo', 2), ('ojalá', 41), ('ganes', 1), ('sencillamente', 8), ('venderlo', 4), ('simplemente', 26), ('mantuve', 5), ('castillos', 1), ('pollo', 12), ('galletas', 10), ('pesca', 7), ('historia', 79), ('trotar', 1), ('mahjongg', 2), ('fideos', 2), ('tallarines', 1), ('picnic', 4), ('rompecabezas', 4), ('sashimi', 1), ('mariscos', 6), ('historias', 7), ('tortugas', 3), ('escritura', 1), ('norte', 10), ('harvard', 10), ('flores', 26), ('lasaña', 1), ('puestas', 3), ('sol', 46), ('galletitas', 4), ('equivoque', 1), ('amiga', 34), ('regresar', 16), ('volver', 52), ('gauchada', 3), ('aumento', 6), ('regla', 5), ('cigarrillo', 6), ('bocadillo', 1), ('sello', 4), ('respuestas', 7), ('tener', 40), ('cirugía', 3), ('dejarlo', 5), ('viajo', 2), ('menudo', 54), ('cien', 6), ('declaro', 1), ('castigué', 1), ('crío', 2), ('largues', 1), ('calles', 4), ('¡dije', 1), ('amigo', 100), ('cinco', 45), ('estornudo', 2), ('coreano', 2), ('enseño', 4), ('giré', 2), ('quisiera', 41), ('vaso', 20), ('perrito', 8), ('cachorrito', 7), ('palomitas', 2), ('maíz', 4), ('ventilador', 1), ('secuestraron', 2), ('raptaron', 2), ('arrestado', 5), ('arrestada', 1), ('capturado', 2), ('ofendido', 1), ('riendo', 18), ('dejaron', 7), ('sudando', 8), ('excitado', 1), ('gafas', 27), ('prosperaré', 1), ('desearía', 21), ('poder', 14), ('pudiera', 8), ('sería', 38), ('honor', 4), ('preferiría', 11), ('directo', 8), ('tomar', 45), ('ocuparé', 4), ('extra', 7), ('regañaré', 1), ('reñiré', 1), ('pego', 2), ('quedaré', 16), ('enseñar', 5), ('daré', 15), ('invitaré', 2), ('principiante', 9), ('diabética', 1), ('músico', 9), ('sujeto', 7), ('prisionero', 6), ('ateo', 1), ('asombrada', 1), ('detrás', 26), ('cansancio', 2), ('confiable', 2), ('devastada', 1), ('diplomática', 1), ('fascinada', 1), ('sintiendo', 3), ('divirtiendo', 6), ('apurado', 5), ('interesado', 7), ('interesada', 3), ('contigo', 90), ('preparando', 14), ('escondiendo', 24), ('suficientemente', 16), ('optimista', 7), ('bencina', 2), ('reforma', 2), ('desafortunado', 4), ('desvistiendo', 4), ('desnudando', 2), ('sacando', 4), ('ropa', 41), ('paro', 2), ('desempleado', 4), ('parado', 9), ('desempleada', 1), ('acostumbrado', 10), ('acostumbrada', 3), ('rudo', 6), ('demandaron', 2), ('guiso', 5), ('¡ojalá', 1), ('supiera', 3), ('¿tomás', 9), ('lastimado', 5), ('lastimó', 8), ('¿él', 19), ('timbre', 6), ('probable', 11), ('negra', 8), ('hacerse', 8), ('mejora', 2), ('¡huele', 1), ('ameno', 1), ('venta', 13), ('planeado', 5), ('nevaba', 1), ('difícil', 79), ('cederá', 3), ('estará', 36), ('navidad', 13), ('tarea', 23), ('miércoles', 5), ('clásico', 3), ('reclamo', 1), ('error', 57), ('excusa', 7), ('insulto', 1), ('superior', 1), ('supera', 2), ('delicioso', 14), ('diferente', 13), ('haciendo', 107), ('idéntico', 3), ('barato', 17), ('redundante', 1), ('demasiada', 10), ('arriesgado', 5), ('decisión', 37), ('lento', 3), ('vibrando', 2), ('maravilloso', 18), ('movida', 1), ('olvídalo', 2), ('limítate', 18), ('punto', 26), ('llévalo', 3), ('consérvalo', 1), ('permanezca', 1), ('buscando', 41), ('crueles', 1), ('inclínate', 1), ('déjamelo', 4), ('¡dejame', 1), ('sala', 8), ('idos', 2), ('váyanse', 3), ('solas', 18), ('préstame', 4), ('responda', 5), ('sienta', 5), ('oírlo', 8), ('déjalos', 2), ('seamos', 14), ('continuemos', 2), ('averigüémoslo', 2), ('cada', 35), ('esperemos', 6), ('tiña', 1), ('practiquemos', 1), ('sentémonos', 5), ('levantémonos', 1), ('¡escucha', 2), ('viví', 4), ('aprendé', 2), ('cosa', 54), ('almuerzo', 32), ('suceda', 3), ('simplifica', 1), ('mueves', 1), ('muchos', 67), ('muchacha', 9), ('acompañarle', 1), ('acompañarles', 1), ('unírmeles', 1), ('sentar', 11), ('usar', 54), ('avariciosos', 1), ('caminas', 3), ('muévase', 1), ('escritorio', 32), ('corazón', 36), ('articulaciones', 1), ('comezón', 2), ('estómago', 16), ('rió', 6), ('ábreme', 2), ('trampilla', 1), ('tus', 127), ('maletas', 4), ('caigo', 3), ('ayúdeme', 4), ('ábrelo', 1), ('diga', 19), ('digan', 5), ('díganme', 4), ('despiértese', 1), ('precios', 17), ('subieron', 2), ('demuéstramelo', 1), ('contador', 4), ('resérvame', 1), ('guárdame', 2), ('dilo', 4), ('envíame', 2), ('¿empezamos', 2), ('¿comenzamos', 1), ('¿quiere', 12), ('¿bailamos', 1), ('¿vamos', 3), ('ahorcó', 2), ('estranguló', 1), ('cultivó', 1), ('rosas', 8), ('bicicleta', 61), ('enfermera', 11), ('quieta', 2), ('parecía', 39), ('extraña', 14), ('adinerada', 1), ('provocaba', 2), ('teclea', 1), ('belleza', 6), ('cabezota', 2), ('testaruda', 3), ('cerrar', 9), ('¿paramos', 1), ('siéntense', 4), ('allá', 52), ('apareció', 15), ('dejen', 9), ('copuchar', 1), ('refunfuñar', 1), ('¡deja', 3), ('resistirte', 1), ('chillar', 2), ('azúcar', 23), ('verano', 22), ('llévaselo', 1), ('devuélvelo', 1), ('llevátelo', 1), ('contanos', 1), ('aspero', 1), ('cambiará', 4), ('farsa', 2), ('¡increíble', 2), ('gallina', 8), ('cianuro', 1), ('evidente', 2), ('obvio', 6), ('idiotez', 1), ('ilegal', 6), ('inmoral', 3), ('¡esa', 1), ('frase', 4), ('obsceno', 2), ('salta', 3), ('plástico', 3), ('patético', 8), ('suicidio', 2), ('cantaban', 1), ('ladraba', 2), ('bandera', 5), ('alzada', 1), ('derritió', 2), ('gotea', 2), ('sirena', 1), ('sonó', 6), ('cantaron', 1), ('miradas', 1), ('cruzaron', 1), ('éstas', 20), ('estas', 48), ('nuestras', 10), ('auténticas', 2), ('verdaderas', 1), ('auténticos', 1), ('reales', 1), ('aplaudieron', 4), ('preguntaron', 1), ('compraron', 3), ('volvieron', 1), ('regresaron', 1), ('descubrieron', 1), ('odiaban', 3), ('parecen', 14), ('amaban', 1), ('encantaste', 1), ('encantabas', 1), ('querían', 13), ('quisieron', 1), ('bienintencionados', 1), ('discutieron', 1), ('arruinaron', 2), ('huelen', 3), ('esforzaron', 1), ('confían', 2), ('estaban', 70), ('muertos', 16), ('enfermas', 2), ('ayudarán', 2), ('trabajan', 6), ('atacarán', 2), ('rotos', 3), ('estropeados', 1), ('familia', 70), ('vacíos', 1), ('idiotas', 8), ('fatal', 5), ('olla', 5), ('cacao', 2), ('mental', 2), ('azotea', 2), ('pinza', 2), ('cabras', 7), ('cabra', 9), ('molidos', 1), ('taradura', 1), ('cambiaron', 3), ('piénsatelo', 2), ('respecto', 15), ('piénselo', 1), ('muerde', 7), ('perra', 5), ('mesa', 55), ('embrollo', 1), ('norma', 6), ('estafa', 1), ('descompuesto', 3), ('espeluznante', 1), ('locos', 15), ('gata', 1), ('pagando', 2), ('debe', 81), ('ésas', 8), ('esas', 36), ('bonitas', 5), ('cucos', 1), ('dados', 2), ('arroja', 1), ('dado', 16), ('billete', 8), ('átate', 2), ('cordones', 6), ('disculpó', 2), ('acercó', 15), ('paliza', 7), ('responder', 15), ('paralizado', 2), ('quedarse', 16), ('65', 3), ('despidió', 3), ('donó', 1), ('sangre', 12), ('aproximó', 2), ('robado', 16), ('asma', 3), ('improvisó', 1), ('improvisación', 1), ('intervino', 5), ('rubio', 3), ('lacroso', 1), ('cerdomarrano', 1), ('friki', 1), ('enano', 1), ('piloto', 4), ('avergonzado', 14), ('taimado', 1), ('concentrado', 1), ('temeroso', 1), ('servicial', 1), ('preso', 3), ('enamorado', 16), ('ídolo', 1), ('travieso', 5), ('servicio', 9), ('relajado', 7), ('temblando', 3), ('frívolo', 2), ('fumando', 4), ('malcriado', 3), ('quejando', 7), ('aviso', 1), ('pellizco', 1), ('leyó', 8), ('acordó', 2), ('recordó', 3), ('copado', 1), ('puso', 79), ('entendió', 3), ('retratado', 1), ('humilde', 2), ('aterrado', 2), ('luchará', 1), ('cantará', 1), ('llevaba', 31), ('encantador', 4), ('colgado', 1), ('nadando', 5), ('ilusionado', 1), ('¡tom', 7), ('salsa', 1), ('trata', 34), ('encontrarlo', 6), ('pararme', 10), ('enciende', 13), ('tele', 23), ('volumen', 11), ('si', 112), ('cara', 57), ('lavaos', 2), ('lávese', 1), ('lávense', 1), ('adoptamos', 2), ('médicos', 3), ('pagarte', 2), ('bebimos', 1), ('perdonamos', 1), ('casamos', 3), ('necesitábamos', 3), ('estudiamos', 6), ('normalmente', 10), ('presentamos', 1), ('voluntarios', 2), ('apuntamos', 1), ('voluntariamente', 2), ('enmarcados', 1), ('culpados', 1), ('llamaremos', 1), ('averiguaremos', 1), ('pintaremos', 1), ('salvaremos', 1), ('hermanos', 30), ('ocupadas', 5), ('confiables', 1), ('divorciados', 1), ('famélicos', 1), ('ingenuos', 4), ('esperanza', 22), ('inquietos', 2), ('morimos', 4), ('colgados', 1), ('minuciosos', 1), ('levantamos', 3), ('observando', 8), ('observamos', 1), ('miramos', 3), ('golpeado', 1), ('concepto', 1), ('país', 15), ('caluroso', 11), ('chasco', 1), ('decepción', 2), ('pensamiento', 1), ('tragedia', 2), ('¿y', 29), ('podrá', 1), ('causó', 3), ('dedicas', 1), ('haces', 28), ('ocurrirá', 7), ('fallo', 4), ('¿ahora', 13), ('parís', 16), ('estabais', 7), ('rompió', 33), ('guardia', 8), ('mató', 15), ('pintó', 8), ('hará', 16), ('importaría', 6), ('escribió', 31), ('aquel', 31), ('mientes', 3), ('harás', 7), ('reloj', 77), ('sonate', 1), ('límpiate', 1), ('adoraban', 3), ('adoraron', 1), ('ciertamente', 5), ('cambiaste', 1), ('pagaste', 2), ('ignorabas', 1), ('ignoraste', 1), ('mentiste', 6), ('negarte', 1), ('vuelvan', 3), ('volváis', 2), ('fuiste', 15), ('tuviste', 4), ('sacaste', 1), ('barata', 5), ('tenías', 12), ('fraude', 4), ('caprichoso', 1), ('mojigato', 1), ('chorro', 1), ('increíbles', 2), ('entretenido', 5), ('andas', 3), ('afortunados', 4), ('superficial', 2), ('flaco', 3), ('servís', 1), ('inservibles', 2), ('lograste', 1), ('vuestra', 27), ('zozobró', 2), ('presentes', 6), ('quien', 17), ('¿estos', 2), ('tuyos', 6), ('tuyas', 2), ('¿terminamos', 1), ('fantasma', 5), ('coña', 1), ('pregúntame', 3), ('cualquier', 40), ('bolas', 2), ('redondas', 1), ('preciso', 2), ('abejas', 4), ('tripas', 1), ('estúpidos', 3), ('acércalo', 1), ('traeme', 2), ('esposo', 12), ('¡llame', 2), ('marido', 28), ('¡llamá', 1), ('pedirlo', 1), ('comprarme', 3), ('quedarme', 26), ('apuntarme', 1), ('probármelo', 1), ('ayudarnos', 9), ('arreglarse', 1), ('reparar', 5), ('repararse', 2), ('¿pueden', 11), ('¿podés', 21), ('respirar', 6), ('contribuir', 1), ('gastos', 3), ('oírme', 3), ('oírnos', 2), ('abrirlo', 2), ('mostrarme', 2), ('callar', 4), ('silbar', 5), ('atrapan', 2), ('ratones', 1), ('cajas', 5), ('cerrá', 4), ('escotilla', 1), ('cerrad', 2), ('volvé', 1), ('¡felicidades', 1), ('defiéndete', 1), ('botaste', 1), ('oíste', 4), ('¿les', 17), ('querías', 7), ('amabas', 4), ('echado', 11), ('extrañaste', 2), ('¿dijiste', 2), ('¿viste', 16), ('¿demandaste', 1), ('sabías', 4), ('cava', 1), ('corbata', 24), ('ahoritita', 1), ('¿tenemos', 6), ('hacé', 3), ('puedas', 15), ('¿dudás', 1), ('¿dudas', 1), ('¿comes', 4), ('¿come', 2), ('¿comés', 1), ('¿coméis', 1), ('¿conoces', 16), ('¿vos', 5), ('conocéis', 7), ('¿sabés', 3), ('rap', 1), ('¿echas', 1), ('recuerdas', 4), ('crees', 23), ('cree', 26), ('¿confiás', 1), ('¿confías', 2), ('¿confiáis', 1), ('¿ves', 9), ('¿el', 20), ('absurda', 4), ('canuto', 3), ('molestes', 9), ('moleste', 6), ('jodas', 2), ('rompas', 4), ('engañes', 7), ('enoje', 1), ('enojes', 1), ('emborraches', 1), ('interfieras', 1), ('interrumpas', 2), ('mientas', 10), ('exageres', 1), ('ridículo', 13), ('juegues', 9), ('recuerdes', 2), ('mentiras', 7), ('confíes', 8), ('confíe', 1), ('confiéis', 1), ('fíes', 4), ('bebed', 1), ('provecho', 5), ('aproveche', 1), ('viaje', 25), ('incluso', 10), ('estuvieron', 7), ('sueña', 1), ('miraron', 4), ('oraron', 1), ('produjo', 2), ('sonrisa', 14), ('colectiva', 2), ('búscame', 2), ('píldoras', 1), ('madre', 89), ('localiza', 1), ('recoged', 1), ('vuestras', 5), ('locas', 3), ('ponme', 3), ('sonríeme', 1), ('bastón', 5), ('entrégame', 2), ('dales', 2), ('¡dámelas', 1), ('¡dámelos', 1), ('pochoclo', 3), ('andate', 1), ('tienda', 33), ('señal', 5), ('alcanzame', 2), ('traicionó', 14), ('amanecer', 7), ('pudo', 27), ('volvió', 58), ('esperanzas', 5), ('7', 3), ('balón', 3), ('derrame', 1), ('cerebral', 2), ('vaqueros', 2), ('jeans', 2), ('puestos', 3), ('toyota', 3), ('cámara', 51), ('puesto', 38), ('raqueta', 4), ('boleto', 13), ('diez', 49), ('coches', 9), ('etíope', 2), ('soñador', 3), ('pintor', 7), ('llegar', 35), ('seguía', 6), ('disney', 1), ('tigres', 6), ('robot', 2), ('mencionó', 4), ('ríe', 5), ('jamás', 24), ('presionó', 2), ('cantó', 20), ('desafinado', 1), ('niña', 41), ('honesto', 20), ('whisky', 1), ('tendencia', 2), ('nara', 3), ('sobrevivirá', 4), ('comediante', 2), ('primer', 21), ('universidad', 9), ('jardinero', 2), ('realmente', 151), ('rostro', 5), ('iluminó', 1), ('cabello', 8), ('álbum', 8), ('¡eh', 4), ('falsa', 7), ('1245', 1), ('hacemos', 15), ('sentís', 6), ('sienten', 6), ('fascinante', 7), ('humillante', 3), ('interesante', 21), ('terminará', 1), ('muchachas', 3), ('españa', 5), ('tokio', 26), ('quitando', 2), ('lengua', 11), ('reservé', 1), ('quebré', 3), ('permitir', 17), ('permitírmelo', 1), ('apañármelas', 1), ('aguanto', 10), ('soportarlo', 4), ('sentir', 7), ('rendirme', 3), ('oír', 17), ('evitarlo', 4), ('veros', 5), ('verle', 5), ('deshacerlo', 1), ('resfrié', 2), ('pillé', 1), ('acobardé', 1), ('cociné', 2), ('podía', 32), ('dedo', 18), ('escuché', 13), ('comprendo', 12), ('pillado', 1), ('sequé', 1), ('huí', 1), ('muerte', 37), ('traicionada', 1), ('febril', 1), ('impotente', 2), ('desamparado', 1), ('indefenso', 6), ('excluido', 1), ('rechazado', 5), ('daban', 1), ('tosté', 1), ('adiviné', 1), ('correctamente', 3), ('acerté', 1), ('opción', 24), ('política', 4), ('mapaches', 1), ('reptiles', 2), ('tomates', 4), ('barbita', 1), ('chivo', 2), ('caspa', 1), ('fiebre', 17), ('centimo', 4), ('chavo', 5), ('mango', 5), ('lapiceras', 1), ('bolígrafos', 5), ('apurarme', 1), ('automóviles', 1), ('trabajos', 4), ('tambores', 1), ('sirva', 1), ('tobillo', 5), ('codo', 3), ('imaginé', 2), ('ganaríamos', 1), ('cuál', 9), ('aprendí', 20), ('dibujos', 3), ('animados', 1), ('caricaturas', 1), ('escalada', 2), ('automóvil', 8), ('partida', 5), ('comedias', 1), ('berenjenas', 2), ('aprender', 35), ('festejar', 2), ('casamientos', 1), ('bodas', 2), ('herir', 1), ('conocido', 10), ('ayudarla', 6), ('ayudarlo', 3), ('obedecer', 4), ('decírselo', 7), ('advertirle', 2), ('internet', 4), ('escalera', 10), ('lápiz', 27), ('ducha', 16), ('pañuelo', 6), ('pastillas', 3), ('tijeras', 3), ('afeitarme', 1), ('rindo', 3), ('pedí', 45), ('burlé', 2), ('béisbol', 27), ('jugaba', 5), ('jugué', 4), ('cubierto', 4), ('refugiarme', 1), ('competí', 1), ('alcalde', 11), ('soné', 2), ('campana', 8), ('campanilla', 1), ('leído', 7), ('reconozco', 6), ('corro', 4), ('sacudí', 1), ('arriesgué', 1), ('llevé', 2), ('totalmente', 28), ('traté', 10), ('dólar', 2), ('devolución', 1), ('profesora', 16), ('nací', 16), ('preocupado', 21), ('extenuado', 3), ('petrificado', 2), ('escéptico', 4), ('sorprendió', 11), ('compras', 11), ('10', 6), ('ayudaré', 6), ('detendré', 3), ('negaré', 1), ('negar', 4), ('leerlo', 8), ('estaría', 10), ('volvería', 3), ('haría', 18), ('tenedor', 5), ('arreglaré', 1), ('placer', 7), ('traeré', 4), ('ford', 3), ('vendré', 6), ('buscaré', 1), ('doble', 8), ('premiaré', 1), ('recompensaré', 1), ('entenderé', 1), ('comprenderé', 1), ('cristiano', 4), ('adicto', 7), ('tv', 4), ('carpintero', 1), ('maderero', 1), ('detective', 3), ('salvavidas', 3), ('masoquista', 1), ('ave', 4), ('nocturna', 5), ('atrasado', 11), ('ingeniero', 4), ('banco', 43), ('enterado', 4), ('suplicando', 1), ('implorando', 1), ('llamando', 15), ('comprendiendo', 1), ('daltónico', 1), ('cómodo', 7), ('cómoda', 3), ('vuelvo', 7), ('carcajeo', 1), ('extrovertida', 1), ('friendo', 3), ('apuros', 2), ('aprieto', 1), ('bañadera', 1), ('bromeo', 1), ('zurdo', 2), ('propio', 18), ('miope', 1), ('celosa', 5), ('perfecta', 8), ('especial', 16), ('gritando', 7), ('armado', 2), ('mente', 12), ('abierta', 32), ('dolorido', 1), ('responsable', 5), ('desmañado', 1), ('modesto', 3), ('podrido', 5), ('farfullando', 3), ('¿respira', 1), ('respirando', 4), ('peligroso', 25), ('¿cubre', 1), ('noticia', 18), ('venenoso', 1), ('pequeña', 18), ('doctora', 5), ('radio', 35), ('río', 25), ('viernes', 11), ('¿hoy', 6), ('molesta', 8), ('parecer', 4), ('suceder', 5), ('verdaderamente', 16), ('¡suena', 1), ('siglos', 1), ('fabuloso', 5), ('hecha', 12), ('largo', 36), ('suave', 5), ('importará', 4), ('empeorará', 1), ('lloverá', 9), ('callejón', 5), ('salida', 9), ('seta', 1), ('atajo', 8), ('sorpresa', 15), ('engendro', 1), ('artificial', 1), ('botado', 2), ('imposible', 16), ('inevitable', 2), ('irrelevante', 4), ('engañoso', 2), ('refrescante', 2), ('sofocante', 1), ('agobio', 1), ('solamente', 5), ('pruébatela', 1), ('envuélvalo', 2), ('tenlo', 1), ('tenedlo', 3), ('presente', 6), ('practicando', 5), ('¡guarde', 1), ('koalas', 1), ('plomo', 1), ('metal', 3), ('mensaje', 39), ('dejadle', 1), ('limones', 2), ('ácidos', 1), ('amargos', 1), ('llevarlo', 2), ('averiguarlo', 4), ('arregle', 3), ('celebremos', 1), ('terminemos', 4), ('remontemos', 4), ('barriletes', 1), ('cometas', 4), ('volemos', 4), ('cometa', 6), ('olvidémoslo', 1), ('tomemos', 5), ('llevémonos', 1), ('emborrachémonos', 1), ('embriaguémonos', 1), ('curémonos', 1), ('alistémonos', 1), ('colectivo', 11), ('descansemos', 1), ('quedémonos', 1), ('paremos', 3), ('intentemos', 3), ('visitemos', 1), ('equitativa', 1), ('oficina', 29), ('cielo', 27), ('aflojate', 1), ('servida', 4), ('achícalo', 1), ('¡haz', 1), ('¡haced', 1), ('¡armad', 1), ('¡mete', 1), ('boche', 2), ('viuda', 2), ('resplandeciente', 1), ('radiante', 2), ('sobrina', 2), ('esté', 37), ('veámonos', 3), ('reúnete', 1), ('pelo', 83), ('voló', 7), ('camisa', 53), ('húmeda', 1), ('zapatos', 81), ('chirrían', 2), ('olvides', 22), ('botella', 13), ('abran', 5), ('¡abra', 2), ('¡abre', 2), ('¡abrid', 1), ('¡abran', 1), ('divertidas', 2), ('aburren', 1), ('llámalo', 8), ('prosiga', 1), ('arreglad', 1), ('arreglá', 1), ('arreglen', 1), ('leé', 1), ('recuérdamelo', 1), ('repite', 3), ('repítemelo', 1), ('ensilla', 1), ('cuida', 4), ('dile', 20), ('drogas', 9), ('envíelo', 2), ('correo', 18), ('aéreo', 4), ('envíalo', 1), ('mándemelos', 1), ('durmió', 16), ('perdonó', 4), ('cantante', 16), ('despreocupada', 2), ('grácil', 1), ('casó', 23), ('apuñaló', 3), ('ató', 4), ('quitó', 23), ('jadeando', 4), ('brasileña', 1), ('asertiva', 1), ('preciosa', 8), ('piedad', 3), ('tenga', 20), ('muestra', 3), ('cartas', 21), ('mostraos', 1), ('derecho', 14), ('ayude', 12), ('perdón', 17), ('¡toca', 1), ('alarma', 4), ('piensas', 10), ('ortografía', 1), ('cenar', 15), ('¡quedate', 1), ('roba', 1), ('cotilla', 2), ('marujees', 1), ('párese', 2), ('dejad', 1), ('reñiros', 1), ('disputas', 1), ('señora', 4), ('aspirina', 4), ('durar', 6), ('brincó', 4), ('funcionar', 11), ('iglesia', 17), ('pagoda', 1), ('niñada', 1), ('dudoso', 2), ('vestido', 35), ('personal', 7), ('terrible', 20), ('cordero', 1), ('húmedo', 2), ('echada', 4), ('abrió', 25), ('motor', 9), ('extinguió', 3), ('lago', 16), ('hojas', 5), ('luna', 10), ('red', 2), ('cortó', 17), ('radar', 1), ('calurosa', 1), ('mar', 13), ('color', 18), ('gris', 4), ('soldado', 9), ('fría', 18), ('pozo', 7), ('¡ahí', 2), ('geniales', 4), ('estupendos', 4), ('hablaron', 3), ('charlaron', 1), ('actores', 1), ('melones', 1), ('pilotos', 1), ('lindos', 3), ('lindas', 1), ('amarillos', 2), ('amarillas', 2), ('cenaron', 3), ('cambiar', 21), ('liebre', 1), ('beben', 3), ('temían', 1), ('saludaron', 1), ('tomaron', 6), ('ignoraron', 2), ('viven', 35), ('separados', 3), ('contentos', 5), ('contentas', 1), ('vinieron', 6), ('ataron', 2), ('entendieron', 1), ('equivocados', 8), ('equivocadas', 3), ('quedarán', 2), ('matarán', 1), ('gustará', 6), ('responderán', 1), ('rusos', 2), ('rusas', 2), ('discutiendo', 2), ('correctos', 1), ('becarios', 1), ('prácticas', 1), ('celosos', 1), ('nerviosos', 3), ('charlando', 4), ('aguardando', 1), ('preocupados', 7), ('hotel', 29), ('basura', 10), ('mahjong', 1), ('destino', 17), ('chévere', 3), ('muchacho', 16), ('final', 18), ('aquellos', 8), ('regalos', 5), ('tíraselo', 1), ('tírasela', 1), ('limitado', 2), ('tiempos', 14), ('duros', 3), ('cual', 2), ('merece', 17), ('errar', 1), ('horneó', 4), ('responsabilizó', 1), ('pilló', 1), ('persiguió', 3), ('asfixió', 1), ('contribuyó', 2), ('aprobó', 6), ('abandonó', 17), ('exageró', 1), ('exagera', 1), ('obtuvo', 7), ('emocionó', 1), ('disparo', 4), ('piano', 31), ('musulmán', 1), ('banquero', 5), ('cyborg', 1), ('leyenda', 2), ('maníaco', 1), ('sangrando', 5), ('creativo', 1), ('divorciado', 1), ('desconfiado', 1), ('amistoso', 1), ('guapo', 9), ('entrado', 3), ('shock', 2), ('inseguro', 4), ('insolente', 2), ('inspirado', 1), ('implicado', 1), ('aprendiendo', 17), ('socio', 2), ('enemigo', 21), ('perverso', 2), ('atarantado', 1), ('meticuloso', 1), ('ruidoso', 3), ('entrenando', 2), ('patada', 4), ('defraudó', 2), ('mentido', 4), ('vivía', 8), ('tenso', 2), ('fatigado', 1), ('haber', 69), ('quizás', 17), ('desfallecer', 1), ('desmayarse', 1), ('confundió', 1), ('echó', 16), ('bromea', 1), ('achuchó', 1), ('suavemente', 2), ('sentado', 15), ('abatió', 1), ('robó', 21), ('entiende', 20), ('advirtió', 6), ('enfermero', 3), ('desorientado', 2), ('artero', 1), ('impactado', 2), ('pasmado', 3), ('averiguará', 1), ('recordará', 2), ('primo', 11), ('bostezar', 2), ('apaga', 8), ('apagad', 1), ('encienda', 4), ('destraba', 1), ('lavá', 2), ('cuidadosamente', 6), ('dedos', 18), ('odiamos', 3), ('profesores', 9), ('maestros', 3), ('arrestamos', 1), ('ayudarlos', 5), ('cerramos', 2), ('contamos', 1), ('crudo', 5), ('visita', 5), ('salimos', 6), ('zona', 3), ('picnics', 1), ('waffles', 1), ('gofres', 1), ('conocimos', 9), ('pagamos', 1), ('cantamos', 1), ('compartimos', 4), ('ideas', 13), ('andamos', 2), ('justicia', 2), ('votar', 16), ('éramos', 10), ('seremos', 4), ('asesinados', 2), ('detendremos', 1), ('visitaremos', 4), ('canadienses', 9), ('disponibles', 1), ('cordiales', 1), ('imparciales', 1), ('organizados', 1), ('prisioneros', 2), ('satisfechos', 6), ('bebidos', 1), ('estado', 116), ('bravo', 1), ('¿estabais', 2), ('catástrofe', 2), ('continuación', 4), ('pasando', 27), ('premio', 18), ('correrás', 1), ('¿adónde', 26), ('peine', 4), ('zoológico', 7), ('¿cuáles', 15), ('individuo', 1), ('enfadados', 5), ('enfadadas', 5), ('tristes', 8), ('preguntaste', 5), ('llorabas', 1), ('lloraste', 1), ('corriste', 1), ('soñamos', 1), ('harías', 4), ('respuesta', 61), ('anota', 6), ('anote', 4), ('anoten', 2), ('anotad', 4), ('traicionaste', 5), ('engañaste', 3), ('escondas', 6), ('decírnoslo', 1), ('merecías', 2), ('bobo', 1), ('suertudo', 3), ('alegrado', 1), ('deberían', 15), ('dormías', 1), ('dormían', 1), ('alcanzarás', 1), ('descubrirás', 2), ('perderás', 3), ('agradecerás', 1), ('agradecer', 1), ('donnadie', 1), ('murmurando', 7), ('chismorreando', 3), ('decidido', 11), ('decidida', 1), ('remedio', 3), ('inocentes', 1), ('perteneces', 1), ('enemiga', 6), ('enemigos', 15), ('enemigas', 5), ('fiar', 8), ('estancado', 1), ('atascado', 4), ('alas', 6), ('ladrando', 5), ('zorro', 6), ('accidentes', 6), ('ocurren', 3), ('invisible', 1), ('toda', 85), ('lastimando', 2), ('aplica', 3), ('aplique', 1), ('apliquen', 1), ('japoneses', 5), ('mago', 5), ('sonrojando', 1), ('¿sois', 6), ('bebiendo', 11), ('flexible', 3), ('congelando', 1), ('estudiantes', 17), ('¿estudias', 7), ('estudias', 7), ('pregúntate', 1), ('atlántida', 3), ('¡sea', 1), ('franco', 1), ('osos', 5), ('muerdete', 1), ('cepíllese', 1), ('dientes', 27), ('cepíllense', 1), ('cepíllate', 3), ('lentos', 1), ('permiten', 2), ('tocar', 25), ('conejos', 11), ('quedarnos', 5), ('apuntarnos', 1), ('confiar', 39), ('llamarlo', 2), ('encontrarla', 1), ('descubrirlo', 3), ('levantaros', 1), ('enseñarme', 5), ('verifique', 3), ('datos', 3), ('carpeta', 2), ('buzón', 2), ('orden', 17), ('cerezas', 1), ('elige', 7), ('sabiamente', 4), ('espejo', 5), ('persianas', 1), ('cajón', 7), ('ventana', 49), ('cierre', 9), ('cierren', 2), ('únetenos', 2), ('sentarte', 4), ('consulte', 2), ('¡contrólate', 2), ('¡modérese', 1), ('¡controlate', 1), ('¡pará', 1), ('contrólate', 1), ('cookie', 1), ('cruza', 2), ('puente', 13), ('papas', 11), ('¿pagó', 2), ('tenían', 14), ('¿dijeron', 1), ('¿encontraste', 6), ('divertiste', 3), ('pasaste', 3), ('mataste', 4), ('¿conocías', 1), ('conocíais', 1), ('conocías', 3), ('encontraste', 10), ('votado', 3), ('advertiste', 2), ('dar', 53), ('inyección', 4), ('quiera', 17), ('¿lloras', 1), ('¿seguido', 1), ('lloras', 4), ('¿niegas', 1), ('¿alguna', 14), ('descansas', 1), ('¿tienen', 13), ('bichos', 1), ('lluvia', 21), ('¿vives', 5), ('¿vivís', 2), ('¿viven', 1), ('¿vive', 4), ('¿necesitáis', 1), ('¿juega', 1), ('¿juegan', 1), ('¿querés', 44), ('¿que', 3), ('deberes', 12), ('preguntéis', 1), ('bruto', 1), ('desanimado', 3), ('desanimada', 1), ('bebáis', 2), ('exageréis', 1), ('atrapen', 2), ('ligero', 5), ('comas', 8), ('cable', 2), ('riñas', 1), ('eches', 2), ('reprimenda', 1), ('sermonees', 1), ('desanimes', 2), ('muecas', 2), ('menciones', 2), ('opongas', 1), ('estafes', 1), ('fume', 3), ('habléis', 1), ('acuses', 1), ('delates', 1), ('toquéis', 3), ('uses', 6), ('dragones', 3), ('molan', 1), ('guays', 2), ('guay', 3), ('trace', 1), ('bailaba', 2), ('saltaron', 1), ('ríen', 1), ('alegraron', 1), ('hubo', 16), ('vitoreo', 1), ('general', 2), ('aclamación', 1), ('triunfa', 1), ('explícamelo', 3), ('acláramelo', 1), ('explíquese', 1), ('¡pelea', 2), ('depósito', 2), ('consejo', 40), ('¡seguir', 1), ('¿con', 31), ('propósito', 9), ('súbanse', 1), ('grano', 6), ('chance', 1), ('martillo', 9), ('espada', 5), ('¡entrégame', 1), ('dáselos', 2), ('danos', 5), ('diviértete', 2), ('garaje', 2), ('escaleras', 23), ('paraguas', 21), ('pásame', 11), ('cruasán', 4), ('tengáis', 3), ('ponche', 2), ('decidiste', 6), ('portó', 4), ('arruinó', 5), ('infringió', 1), ('cuernos', 2), ('alegría', 8), ('recientemente', 2), ('repente', 8), ('cumple', 5), ('fascinaba', 1), ('reparó', 3), ('pocos', 11), ('melena', 1), ('picasso', 2), ('piernas', 22), ('largas', 10), ('zanahorias', 8), ('colgó', 5), ('italiano', 3), ('distraído', 3), ('universitario', 7), ('pijamas', 2), ('sobrepeso', 2), ('diario', 13), ('acerca', 44), ('animales', 21), ('cazar', 3), ('naranjas', 15), ('sonreír', 8), ('lentes', 21), ('jugó', 5), ('izó', 1), ('endeudó', 1), ('permaneció', 4), ('fácilmente', 18), ('grita', 3), ('comparte', 2), ('aterroriza', 4), ('volteó', 3), ('giró', 4), ('ipad', 3), ('nació', 22), ('francia', 8), ('persistente', 3), ('pegar', 1), ('bárbaro', 1), ('historiador', 1), ('astuto', 9), ('lisboa', 1), ('envejeciendo', 3), ('senil', 1), ('solitario', 4), ('salud', 11), ('riqueza', 4), ('eche', 1), ('ponerme', 2), ('bici', 7), ('bébete', 2), ('bebeos', 1), ('rojos', 7), ('furiosa', 2), ('aguantá', 1), ('contén', 1), ('respiración', 5), ('momentito', 1), ('hierba', 5), ('declara', 1), ('melodramático', 2), ('mides', 2), ('gafe', 1), ('iba', 34), ('crecido', 1), ('llevas', 7), ('aborrezco', 2), ('violencia', 8), ('ahogué', 1), ('cedo', 1), ('pasteles', 5), ('poquito', 5), ('contra', 22), ('guerra', 48), ('estupefacto', 1), ('brasil', 3), ('noruega', 1), ('bruja', 1), ('relativamente', 1), ('cariño', 3), ('convertido', 3), ('empecé', 6), ('sudar', 3), ('inclinación', 1), ('educadamente', 1), ('golpeé', 1), ('rodilla', 9), ('antes', 65), ('apenas', 30), ('mentes', 1), ('moverlo', 2), ('ápice', 2), ('quejarme', 1), ('quejar', 1), ('odiarte', 4), ('oírte', 8), ('oíros', 2), ('oírles', 1), ('oírle', 1), ('ayudaros', 9), ('alcanzar', 4), ('mostrarte', 2), ('soporto', 10), ('pararla', 3), ('detenerla', 1), ('pararle', 2), ('agarré', 4), ('gripe', 5), ('engripé', 1), ('matarte', 5), ('matarlo', 2), ('matarla', 2), ('mataros', 2), ('matarlos', 2), ('matarlas', 2), ('ligera', 2), ('preguntado', 7), ('aposta', 3), ('adrede', 3), ('simpatiza', 1), ('caes', 3), ('relajarme', 3), ('soledad', 1), ('detalles', 12), ('halagado', 1), ('refrescado', 1), ('comparto', 7), ('gorra', 7), ('700', 3), ('parque', 17), ('química', 6), ('hipocresía', 2), ('sorpresas', 4), ('viajar', 27), ('granada', 1), ('scooter', 1), ('ardor', 1), ('duda', 5), ('futuro', 10), ('vídeo', 3), ('anular', 1), ('suspenderlo', 1), ('cancelar', 1), ('cumplí', 2), ('veinte', 8), ('conseguir', 20), ('pateé', 1), ('normas', 13), ('australia', 28), ('chocolate', 11), ('idiomas', 8), ('pop', 3), ('playa', 21), ('gustás', 1), ('gustaban', 3), ('estima', 1), ('astronomía', 1), ('yemas', 1), ('fortuna', 8), ('cometí', 3), ('desayuno', 15), ('enfadar', 3), ('agradecérselo', 2), ('masaje', 2), ('milagro', 3), ('primeros', 3), ('auxilios', 3), ('jabón', 7), ('deuda', 6), ('computadora', 12), ('plantado', 1), ('árbol', 24), ('violoncelo', 1), ('flauta', 2), ('apunté', 3), ('milla', 3), ('etiqueta', 4), ('rehusé', 1), ('arrepiento', 7), ('aconsejen', 1), ('dirijo', 2), ('contuve', 1), ('burlona', 2), ('aún', 66), ('nado', 3), ('solía', 46), ('visité', 3), ('despidan', 2), ('divorciarme', 1), ('divorcio', 2), ('pancho', 2), ('martini', 1), ('comérmelo', 1), ('jubilarme', 2), ('2003', 1), ('asombrado', 1), ('piedra', 8), ('infeliz', 3), ('intentaré', 6), ('callado', 8), ('quejaría', 1), ('pondría', 3), ('queja', 5), ('ensalada', 11), ('investigaría', 1), ('echaría', 1), ('apoyaré', 1), ('castigarán', 2), ('¡voy', 1), ('batirte', 1), ('agarrar', 1), ('madrazos', 1), ('comprobaré', 1), ('seguir', 20), ('tí', 1), ('recogeré', 3), ('protegeré', 1), ('consultaré', 1), ('almohada', 4), ('pueda', 10), ('lavar', 14), ('prima', 3), ('ciudadano', 9), ('estados', 11), ('unidos', 11), ('ciudadana', 1), ('traductor', 3), ('ando', 9), ('chilla', 1), ('hule', 2), ('humor', 19), ('anciana', 6), ('registrando', 1), ('decepcionado', 10), ('almorzando', 11), ('enloqueciendo', 1), ('disponible', 5), ('dispuesto', 5), ('colaborar', 1), ('educan', 1), ('enseñan', 1), ('guardés', 2), ('cuido', 2), ('invitando', 1), ('clase', 34), ('católica', 1), ('mendigo', 1), ('delator', 1), ('embaucando', 1), ('drogo', 1), ('suicida', 3), ('aliado', 1), ('cegato', 1), ('orgulloso', 30), ('orgullosa', 8), ('retraso', 10), ('hastiada', 1), ('quedo', 6), ('nerviosa', 5), ('relajada', 1), ('mucha', 54), ('ahorrando', 1), ('dibujado', 1), ('sentido', 21), ('¿verdad', 64), ('sospechoso', 10), ('contactar', 2), ('¿todo', 5), ('contagioso', 3), ('adecuado', 3), ('roja', 16), ('abierto', 10), ('flor', 9), ('puzzle', 4), ('¿éste', 1), ('dvd', 1), ('¿tu', 14), ('llover', 30), ('2', 3), ('euros', 2), ('enchinada', 1), ('emboscada', 4), ('lloviznaba', 2), ('excesivo', 3), ('fantástico', 6), ('medio', 11), ('hacía', 13), ('ayer', 100), ('aterrador', 4), ('llevará', 1), ('horas', 25), ('suena', 45), ('grupo', 11), ('lluvioso', 1), ('soleado', 4), ('mediodía', 15), ('complicado', 10), ('temporada', 2), ('venados', 1), ('oscurecido', 2), ('droga', 2), ('mono', 7), ('truco', 7), ('lógico', 3), ('natural', 6), ('inusual', 1), ('sofá', 13), ('sobre', 73), ('segunda', 4), ('improbable', 4), ('amargo', 9), ('asia', 3), ('manténgame', 1), ('informado', 11), ('manteneme', 1), ('fuerza', 12), ('abandónalo', 1), ('dejádmelo', 1), ('cargue', 1), ('suéltame', 3), ('suelta', 2), ('suelte', 1), ('soltadme', 1), ('permíteme', 7), ('tratar', 3), ('barrilete', 1), ('papalote', 1), ('probemos', 6), ('almorcemos', 2), ('olvidemos', 1), ('baraja', 2), ('pesquemos', 1), ('candela', 1), ('vela', 6), ('libertad', 9), ('inmortal', 1), ('bajen', 5), ('permiso', 4), ('elección', 17), ('marimacho', 2), ('chicazo', 2), ('encantadora', 4), ('abrir', 29), ('funcione', 6), ('azules', 10), ('adoloridos', 2), ('fríos', 2), ('pequeñita', 1), ('minúscula', 1), ('pulso', 8), ('elevado', 1), ('quemadura', 1), ('garganta', 5), ('juguete', 5), ('dañado', 1), ('pega', 4), ('prestó', 3), ('previno', 4), ('importar', 3), ('ilesos', 1), ('esfuerzo', 10), ('enseñado', 4), ('enseñó', 14), ('erróneo', 3), ('intentad', 2), ('intente', 2), ('intenten', 2), ('ventanas', 15), ('gane', 3), ('ketchup', 3), ('ridícula', 5), ('mascotas', 1), ('contestame', 1), ('educado', 11), ('calmaos', 1), ('tranquilícese', 1), ('copiad', 1), ('copie', 1), ('copiá', 1), ('copien', 1), ('sígame', 1), ('retroceda', 2), ('inténtelo', 2), ('dese', 1), ('dense', 3), ('hala', 1), ('gatillo', 9), ('envía', 1), ('¡apaga', 1), ('¡dejen', 1), ('quejarse', 4), ('quejaros', 1), ('precipitación', 1), ('levantá', 2), ('levanten', 2), ('levante', 3), ('artículo', 8), ('tinto', 2), ('respétate', 1), ('venganza', 8), ('roma', 6), ('italia', 7), ('ahórrate', 4), ('saliva', 1), ('palabrería', 1), ('oraciones', 1), ('véalo', 1), ('compártelo', 1), ('compartilo', 2), ('derrotó', 1), ('despreció', 1), ('desprecia', 3), ('1960', 2), ('divorció', 2), ('idolatraba', 1), ('insultó', 6), ('pianista', 3), ('calcetines', 14), ('rechazó', 12), ('rechaza', 1), ('montó', 3), ('camello', 2), ('chao', 1), ('cantaba', 3), ('alegremente', 1), ('melancólicamente', 1), ('carretero', 1), ('fijó', 2), ('mirada', 10), ('arduamente', 1), ('promovida', 1), ('venderla', 2), ('mostranos', 1), ('tamaño', 9), ('disculpe', 7), ('tardanza', 4), ('disculparte', 2), ('disculpes', 1), ('evitarme', 1), ('metiche', 1), ('interferir', 2), ('pellizcarme', 1), ('asustar', 1), ('presumir', 1), ('sobarme', 1), ('tocarme', 2), ('saquen', 2), ('precaución', 1), ('¡dímelo', 2), ('cordialmente', 1), ('mochila', 11), ('ayudado', 4), ('asombroso', 5), ('mejorable', 1), ('mejorarse', 1), ('hermoso', 27), ('discutible', 2), ('deshonesto', 4), ('asunto', 18), ('ofensivo', 2), ('problemático', 1), ('reventó', 3), ('globo', 3), ('pesada', 4), ('jaula', 6), ('vacía', 19), ('marrón', 2), ('tictac', 2), ('cortina', 2), ('telón', 1), ('muriéndose', 1), ('chirrió', 2), ('¡se', 2), ('jurado', 1), ('desacuerdo', 1), ('resultó', 7), ('clara', 8), ('bombilla', 1), ('fundida', 1), ('apagada', 1), ('micrófono', 1), ('lechero', 2), ('fiesta', 32), ('piscina', 5), ('carrera', 14), ('paró', 19), ('carretera', 6), ('congelada', 2), ('oscura', 8), ('show', 4), ('función', 1), ('despejado', 2), ('tormenta', 8), ('amainó', 1), ('aflojó', 3), ('gemelas', 2), ('secó', 6), ('curó', 1), ('cabe', 2), ('apuro', 3), ('límite', 3), ('lastiman', 2), ('observaron', 1), ('comtemplaron', 1), ('cantantes', 1), ('degradaron', 1), ('descendieron', 1), ('merecían', 1), ('desprecian', 3), ('desaparecieron', 2), ('cavaron', 1), ('tumba', 4), ('casaron', 1), ('sensatos', 1), ('mintieron', 2), ('confiaron', 1), ('confiaban', 2), ('comían', 1), ('cederán', 1), ('encontrarán', 6), ('acordarán', 1), ('escapando', 5), ('escapan', 1), ('peleando', 6), ('inmaduros', 1), ('involucrados', 1), ('traidores', 2), ('raras', 3), ('medítalo', 1), ('medita', 1), ('antiguo', 6), ('encaja', 3), ('839', 1), ('lujo', 4), ('entrenador', 3), ('entrenadora', 1), ('relajante', 3), ('sabotaje', 1), ('faltaba', 1), ('cds', 2), ('admira', 2), ('pierde', 7), ('saciarse', 1), ('evitaba', 1), ('cuidó', 3), ('trajo', 11), ('venía', 4), ('decidir', 3), ('rehusarse', 1), ('convenció', 4), ('detesta', 5), ('divirtió', 4), ('tuberculosis', 1), ('2009', 1), ('darse', 6), ('perilla', 2), ('coartada', 4), ('pecas', 2), ('insomnio', 1), ('aceitunas', 2), ('ignoró', 4), ('fascista', 1), ('luchador', 1), ('guerrero', 1), ('patriota', 1), ('plomero', 1), ('recluso', 1), ('campesino', 1), ('refugiado', 1), ('manipulador', 1), ('maquinador', 1), ('cirujano', 2), ('traidor', 7), ('camionero', 3), ('viudo', 1), ('ambicioso', 3), ('brillante', 8), ('volviendo', 14), ('embustero', 3), ('excéntrico', 2), ('emocional', 3), ('enérgico', 1), ('despistado', 5), ('mejorando', 7), ('ocultando', 10), ('sincero', 2), ('sobrino', 3), ('obsesivo', 1), ('perplejo', 3), ('indeciso', 4), ('debilitando', 1), ('debilita', 1), ('silbando', 2), ('hockey', 2), ('ponis', 1), ('reggae', 1), ('encendió', 14), ('prendió', 9), ('horno', 3), ('lucía', 4), ('fiero', 1), ('deportes', 12), ('puñetazo', 5), ('rescató', 1), ('sentó', 39), ('tronco', 1), ('regañó', 1), ('agradeció', 3), ('zancadilleó', 1), ('visitó', 8), ('alejó', 2), ('pony', 1), ('raptado', 2), ('ejecutado', 2), ('dudando', 1), ('torturado', 3), ('observó', 4), ('observa', 3), ('encontrará', 6), ('amará', 5), ('alegrará', 1), ('aparecerá', 1), ('tendrá', 8), ('éxito', 27), ('entrará', 1), ('trabajaba', 9), ('preocuparos', 2), ('preocuparse', 8), ('tratad', 1), ('trate', 2), ('tuerce', 1), ('gire', 1), ('girad', 2), ('involucrado', 5), ('riega', 1), ('plantas', 4), ('aceptamos', 4), ('cheques', 5), ('odiábamos', 1), ('amábamos', 1), ('confiamos', 2), ('llegamos', 9), ('competimos', 1), ('vinimos', 3), ('230', 23), ('dependemos', 2), ('molestamos', 1), ('dimos', 9), ('crisis', 2), ('teoría', 7), ('visitas', 4), ('oímos', 12), ('tiros', 2), ('escuchamos', 4), ('topamos', 2), ('acabamos', 6), ('referimos', 1), ('pasada', 26), ('evacuar', 3), ('sentarnos', 5), ('avisarle', 2), ('retirarnos', 1), ('líder', 8), ('pruebas', 7), ('regreses', 1), ('apegados', 1), ('encallados', 1), ('estudiábamos', 1), ('entusiasmados', 1), ('partido', 11), ('rescatados', 1), ('encontraremos', 6), ('sabremos', 2), ('notificaremos', 1), ('pagaremos', 2), ('hablaremos', 2), ('compañeros', 2), ('llevamos', 3), ('historiadores', 1), ('apurados', 3), ('socorristas', 1), ('rodeados', 2), ('completamente', 34), ('película', 41), ('bonita', 29), ('larga', 21), ('dijisteis', 3), ('querés', 19), ('desgracia', 1), ('sucede', 6), ('pachuca', 1), ('toluca', 1), ('mudarnos', 1), ('empezamos', 9), ('¿cúando', 1), ('aparcar', 8), ('estacionar', 4), ('¿hacia', 5), ('empiezo', 5), ('aduana', 2), ('cuchilla', 1), ('resto', 3), ('correcta', 17), ('pastel', 16), ('estropeó', 3), ('llamaste', 12), ('asesinado', 5), ('hamlet', 1), ('invitarían', 1), ('viniste', 4), ('vinisteis', 1), ('renunciaste', 1), ('paraste', 2), ('quedaste', 3), ('gritaste', 1), ('ayudarás', 2), ('acompañáis', 1), ('unirás', 2), ('unirán', 1), ('abandonaste', 2), ('perturbado', 1), ('guapísima', 2), ('espléndida', 2), ('escapar', 20), ('lidias', 1), ('mereces', 9), ('golpearon', 1), ('entendiste', 2), ('pulsera', 1), ('mami', 2), ('lastimaste', 1), ('diriges', 1), ('defraudaste', 1), ('sorprendido', 15), ('sorprendida', 5), ('atrasaste', 1), ('lleves', 2), ('equivoques', 1), ('decírmelo', 1), ('pasatiempo', 6), ('lees', 2), ('salvado', 5), ('deberíais', 9), ('empezar', 41), ('estuviste', 11), ('moriréis', 1), ('morirán', 1), ('ajustarás', 1), ('establecidas', 1), ('necesitarás', 2), ('impacientes', 2), ('motivados', 1), ('necesario', 12), ('autoridad', 4), ('práctico', 4), ('propietario', 2), ('sabio', 7), ('sabia', 7), ('engordado', 3), ('enrojecida', 1), ('¡tienes', 5), ('mutiló', 1), ('torrencial', 1), ('agrega', 2), ('añada', 1), ('ajusta', 2), ('frenos', 5), ('ajustad', 1), ('gratuita', 2), ('iguales', 8), ('molestando', 9), ('¿voy', 5), ('único', 18), ('arresto', 3), ('detenido', 5), ('américa', 14), ('cometió', 7), ('respóndame', 1), ('papel', 33), ('americanos', 3), ('estadounidenses', 4), ('olvidadiza', 2), ('desmemoriado', 1), ('¿salís', 1), ('¿van', 1), ('libres', 7), ('¿tocas', 3), ('¿escuchas', 1), ('creyente', 4), ('chef', 4), ('preguntale', 1), ('sincera', 2), ('sinceras', 1), ('demás', 16), ('compórtate', 1), ('¡cuidado', 1), ('construyen', 1), ('nidos', 1), ('profundamente', 18), ('inspira', 1), ('ambulancia', 12), ('hospital', 19), ('llamad', 2), ('mordida', 1), ('probarme', 3), ('¿todos', 7), ('rentar', 2), ('¿oyes', 2), ('firmar', 2), ('ocuparte', 1), ('coger', 9), ('lazo', 1), ('despedir', 4), ('champaña', 1), ('elija', 3), ('click', 1), ('enlace', 4), ('pincha', 1), ('codificar', 1), ('codificación', 1), ('insisto', 1), ('admítelo', 1), ('aprisa', 1), ('apura', 1), ('tócala', 1), ('¿podrías', 26), ('callarte', 2), ('crimen', 10), ('compensa', 2), ('delincuencia', 1), ('repártenos', 1), ('naipes', 1), ('inminente', 2), ('defendeos', 1), ('pases', 3), ('vueltas', 2), ('¿desperté', 1), ('desperté', 7), ('¿hirió', 1), ('¿besó', 1), ('¿conocía', 1), ('¿fracasó', 2), ('¿compraste', 7), ('¿comprasteis', 1), ('¿compró', 1), ('¿compraron', 3), ('zumo', 8), ('¿oíste', 2), ('besado', 2), ('besaste', 2), ('¿sabías', 1), ('¿viviste', 1), ('vivido', 5), ('habías', 8), ('saliste', 2), ('¿las', 4), ('hormigas', 1), ('¿beben', 1), ('ríes', 4), ('¿tenés', 17), ('mascota', 4), ('jugo', 12), ('¿necesitas', 14), ('¿necesita', 2), ('rosa', 11), ('¿hueles', 2), ('¿comprende', 2), ('¿entendéis', 1), ('¿comprendes', 1), ('¿entiende', 1), ('¿comprendéis', 1), ('¿queréis', 9), ('dé', 6), ('¿desean', 1), ('abrace', 2), ('¿quieren', 11), ('¿importa', 1), ('cobarde', 8), ('engañéis', 2), ('cambies', 5), ('decepciones', 4), ('defraudes', 2), ('desilusiones', 2), ('busques', 1), ('repitas', 1), ('amenaces', 1), ('despiertes', 1), ('¡tira', 1), ('armas', 7), ('¡arrojen', 1), ('¡tiren', 1), ('¡arroja', 1), ('terror', 4), ('chillido', 3), ('llene', 2), ('formulario', 8), ('llená', 1), ('completá', 1), ('completa', 4), ('complete', 2), ('consígame', 1), ('cuelga', 3), ('arrodíllate', 1), ('rodillas', 4), ('poneos', 2), ('arrodillaos', 1), ('salga', 5), ('¡dámelo', 1), ('cuchara', 7), ('seguida', 9), ('señores', 4), ('noches', 11), ('señoritas', 1), ('consejera', 1), ('heno', 1), ('fiera', 1), ('chantajeó', 2), ('bloqueó', 2), ('palmó', 1), ('mejoró', 3), ('tres', 113), ('marrones', 4), ('castaño', 6), ('remordimiento', 1), ('casas', 4), ('mantuvo', 8), ('biólogo', 2), ('poeta', 6), ('nato', 2), ('temerario', 1), ('verdadero', 21), ('científico', 4), ('40', 4), ('influyente', 2), ('introvertido', 1), ('misma', 28), ('fumador', 1), ('enviar', 4), ('texto', 13), ('guardó', 4), ('suicidó', 4), ('encima', 16), ('osaka', 3), ('reputación', 6), ('trasladó', 1), ('pidió', 45), ('posee', 3), ('tierra', 7), ('empujó', 4), ('rehuso', 1), ('marinero', 2), ('sacudió', 3), ('ruso', 6), ('fósforo', 2), ('estudió', 8), ('exterior', 1), ('vitaminas', 4), ('tomó', 30), ('sacó', 16), ('foto', 34), ('convirtió', 13), ('torció', 3), ('violó', 1), ('sonrisas', 1), ('encarcelado', 1), ('encolerizado', 1), ('volverá', 15), ('usaba', 1), ('pantalones', 16), ('guiones', 2), ('recuperará', 3), ('pasará', 6), ('conductor', 11), ('chofer', 4), ('ideal', 4), ('sobreactuando', 1), ('atiende', 1), ('advertencias', 4), ('atienda', 1), ('atiendan', 1), ('pollera', 6), ('cierta', 15), ('dirección', 29), ('recibo', 4), ('ordenada', 2), ('agárraos', 2), ('agárrese', 2), ('agárrense', 2), ('sujétate', 1), ('sujétaos', 1), ('sujétese', 1), ('sujétense', 1), ('ascensor', 8), ('barandilla', 1), ('irás', 4), ('complejidad', 1), ('19', 2), ('vegetariano', 3), ('horneando', 3), ('deudas', 5), ('ecuador', 1), ('diestro', 2), ('curiosa', 1), ('destrozado', 2), ('cebé', 1), ('anzuelo', 4), ('cactus', 1), ('nopal', 1), ('híbrido', 1), ('pasaje', 3), ('pedido', 6), ('consolarla', 1), ('chopin', 3), ('proteger', 5), ('culpar', 2), ('culparos', 1), ('culparte', 3), ('rezar', 2), ('decidí', 6), ('dimitir', 6), ('seguido', 5), ('obtenerlo', 1), ('rehusar', 1), ('exigo', 1), ('reembolso', 1), ('limpié', 4), ('besé', 2), ('robé', 4), ('reprocho', 2), ('voto', 1), ('vacuno', 2), ('pool', 1), ('billar', 2), ('conduje', 3), ('pinto', 1), ('abandoné', 1), ('bofetón', 1), ('consigo', 9), ('acuesto', 4), ('abeja', 4), ('conseguí', 8), ('saqué', 6), ('siete', 25), ('recibido', 5), ('pasé', 14), ('pesadilla', 8), ('sufrí', 1), ('decirle', 4), ('hipócritas', 1), ('mosquitos', 1), ('padres', 53), ('ordenador', 12), ('computador', 9), ('resaca', 3), ('jaqueca', 1), ('otitis', 1), ('negros', 3), ('discos', 1), ('puntas', 3), ('abiertas', 2), ('sobrinas', 2), ('distinta', 6), ('ignoro', 2), ('inventarlo', 1), ('inventar', 2), ('vendrías', 2), ('ganarás', 1), ('cantos', 1), ('populares', 2), ('sándwiches', 1), ('chucrut', 1), ('sandía', 2), ('bufanda', 5), ('estilo', 4), ('bloqueado', 1), ('trancado', 1), ('arete', 4), ('silla', 27), ('algunas', 33), ('minutos', 16), ('teclado', 2), ('compro', 3), ('emborracho', 1), ('amé', 2), ('ordené', 7), ('100', 6), ('guitarra', 29), ('choqué', 1), ('rehúso', 2), ('salvé', 1), ('bordillo', 3), ('envié', 2), ('concuerdo', 1), ('largarme', 1), ('beber', 36), ('firmé', 1), ('jugando', 18), ('tabaco', 7), ('opinión', 30), ('pensaba', 13), ('vengué', 1), ('usé', 5), ('plato', 6), ('acostumbraba', 1), ('comúnmente', 7), ('descuento', 3), ('disculpa', 11), ('creer', 37), ('competir', 1), ('confesar', 1), ('chaqueta', 16), ('frustrado', 4), ('área', 6), ('zoo', 4), ('¡nunca', 5), ('lotería', 6), ('juzgar', 2), ('hubiera', 12), ('esperado', 5), ('agradecería', 2), ('devastado', 3), ('devolveré', 2), ('ire', 1), ('esconderé', 2), ('oraré', 1), ('rezaré', 1), ('mandar', 1), ('liberaré', 1), ('acompañaré', 3), ('trabajaré', 1), ('escribiré', 2), ('dependiente', 1), ('astrónomo', 1), ('siendo', 28), ('observado', 2), ('concentrando', 1), ('tomando', 11), ('pera', 2), ('ayuno', 1), ('poniendo', 17), ('empeorando', 5), ('alegra', 19), ('rayado', 1), ('toilette', 1), ('llevando', 2), ('adelgazando', 2), ('convencida', 1), ('abandono', 1), ('miento', 4), ('convencido', 4), ('convence', 1), ('persuade', 1), ('18', 1), ('echando', 3), ('bofes', 1), ('hígado', 2), ('sale', 7), ('muchísima', 2), ('bañando', 4), ('twitter', 2), ('cliente', 5), ('vecino', 14), ('perdonado', 3), ('diarrea', 1), ('cagalera', 1), ('evidencia', 5), ('rumores', 3), ('identifíquese', 2), ('puro', 4), ('torta', 25), ('toque', 8), ('impresionante', 5), ('caro', 19), ('pedazos', 3), ('sentidos', 1), ('piadosa', 1), ('egipcio', 2), ('resulta', 6), ('familiar', 6), ('resultar', 4), ('desagradable', 5), ('daba', 7), ('sorprendente', 3), ('imprevisto', 1), ('crecer', 4), ('grasoso', 1), ('carga', 2), ('conspiración', 1), ('diccionario', 17), ('comienzo', 9), ('emergencia', 8), ('urgencias', 1), ('confidencial', 3), ('vivificante', 1), ('turistas', 1), ('¡todo', 2), ('humana', 1), ('bolsillo', 1), ('probablemente', 19), ('llueve', 12), ('bello', 3), ('bella', 10), ('cerrado', 9), ('subiendo', 7), ('molde', 1), ('escucharme', 3), ('escúchame', 4), ('acerques', 6), ('alejado', 5), ('alejada', 1), ('abrigo', 32), ('lleve', 6), ('permítame', 5), ('menú', 14), ('empecemos', 5), ('casémonos', 1), ('centro', 7), ('echemos', 3), ('cenemos', 1), ('démonos', 2), ('investiguemos', 1), ('escondamos', 1), ('pasemos', 2), ('cojamos', 1), ('maravillosa', 14), ('precio', 13), ('vence', 1), ('predicción', 1), ('decídete', 3), ('¡maría', 1), ('vivaracha', 1), ('vivaz', 1), ('bañar', 2), ('ponerlo', 5), ('podamos', 4), ('modales', 6), ('brazos', 7), ('entumecieron', 1), ('blancos', 8), ('pican', 3), ('atadas', 3), ('afición', 2), ('desaparecido', 4), ('hombro', 4), ('panza', 3), ('ofrece', 1), ('movido', 1), ('tené', 1), ('explícate', 1), ('explicarte', 1), ('perdóname', 3), ('perdóneme', 2), ('perdonarme', 5), ('reconsidera', 1), ('postura', 4), ('tapa', 3), ('gotera', 4), ('tapad', 1), ('tape', 1), ('tapen', 1), ('poetas', 1), ('escriben', 1), ('poemas', 7), ('ponelo', 1), ('póngalo', 4), ('apague', 3), ('¡arriba', 1), ('molestarme', 3), ('léalo', 1), ('alfombras', 1), ('absorben', 1), ('sonido', 6), ('dígalo', 2), ('decidlo', 1), ('díganlo', 1), ('atorníllalo', 1), ('firmemente', 4), ('próxima', 14), ('envíamelo', 1), ('debutó', 1), ('manejarlo', 3), ('facilidad', 16), ('emborrachó', 3), ('fotografía', 8), ('figura', 3), ('planta', 4), ('agresiva', 2), ('atractiva', 5), ('31', 1), ('secretos', 4), ('desgraciada', 1), ('apresuró', 1), ('apurar', 2), ('alemán', 10), ('polaco', 2), ('aterrorizaba', 1), ('trató', 9), ('deprimida', 2), ('subió', 19), ('amargamente', 2), ('conseguirá', 2), ('hiperactiva', 1), ('desnuda', 2), ('sonroja', 1), ('muéstreme', 2), ('muéstrenme', 1), ('¡enséñame', 2), ('cerrada', 17), ('entran', 2), ('tesoro', 1), ('resuelva', 1), ('resuelve', 1), ('surgió', 1), ('tejen', 2), ('redes', 1), ('robar', 4), ('dejate', 1), ('joder', 1), ('exagerar', 2), ('fome', 1), ('gorro', 1), ('medicina', 3), ('decidme', 2), ('termitas', 1), ('preguntarme', 1), ('antemano', 2), ('avance', 1), ('indispensable', 3), ('esencial', 2), ('fundamental', 1), ('nudo', 8), ('flojo', 3), ('bastar', 2), ('acontecerá', 1), ('abeto', 1), ('faisán', 1), ('entristecedor', 1), ('terrorífico', 1), ('espíritu', 1), ('bar', 2), ('sabroso', 5), ('sabrosa', 1), ('asustó', 3), ('espantó', 1), ('buenísima', 1), ('local', 1), ('desafilado', 1), ('amellado', 1), ('romo', 1), ('amantes', 1), ('agonizando', 1), ('mercado', 7), ('amplio', 2), ('alquiler', 5), ('templada', 1), ('cálida', 2), ('zarpó', 1), ('espesa', 3), ('táctica', 1), ('test', 2), ('continuaba', 1), ('pura', 6), ('dioses', 2), ('pelea', 8), ('obstáculo', 2), ('juicio', 7), ('carnicería', 1), ('margaritas', 1), ('verdaderos', 2), ('nuestros', 27), ('viejas', 5), ('traicionaron', 1), ('movieron', 1), ('cedieron', 1), ('escuchan', 2), ('siguieron', 8), ('cazaban', 1), ('zorros', 2), ('continuaron', 1), ('saludables', 3), ('asesinaron', 1), ('adelantaron', 1), ('hablaban', 1), ('torturaron', 2), ('maravillosos', 4), ('muertas', 1), ('idénticos', 1), ('agradables', 1), ('sorprendidos', 3), ('cubeta', 2), ('fuga', 3), ('balde', 5), ('cojonudo', 2), ('buenísimo', 2), ('riquísimo', 1), ('extorsión', 1), ('galimatías', 1), ('incoherente', 1), ('graciosísimo', 1), ('desordenado', 3), ('espagueti', 4), ('insípido', 1), ('parada', 8), ('servir', 4), ('tírame', 4), ('bola', 5), ('jueves', 1), ('contestó', 5), ('atacó', 4), ('creía', 16), ('molestia', 2), ('burdo', 1), ('cocinó', 1), ('preparó', 7), ('menospreció', 1), ('menosprecia', 2), ('tiñó', 5), ('alimentó', 1), ('traicionado', 1), ('bug', 2), ('bicho', 4), ('discurso', 11), ('insoló', 1), ('debilitó', 1), ('adivinó', 2), ('alergias', 1), ('iphone', 2), ('artritis', 1), ('piel', 9), ('ingresos', 2), ('finos', 1), ('ondulado', 2), ('imitó', 1), ('civil', 2), ('demócrata', 1), ('diseñador', 1), ('diabético', 1), ('lobista', 1), ('mecánico', 2), ('asesino', 2), ('homicida', 1), ('pacifista', 1), ('reportero', 1), ('vendedor', 2), ('hechicero', 1), ('adolescente', 1), ('debilucho', 1), ('agresivo', 2), ('diplomático', 1), ('bajando', 4), ('fascinado', 1), ('creciendo', 6), ('histérico', 1), ('indiscreto', 2), ('intolerante', 2), ('hipnotizado', 3), ('novio', 19), ('padrastro', 3), ('alumno', 2), ('empacando', 2), ('apasionado', 1), ('tartamudeando', 1), ('ganador', 4), ('infiel', 2), ('fiable', 4), ('tajante', 1), ('vulnerable', 2), ('cediendo', 1), ('empatía', 1), ('rubias', 2), ('langosta', 1), ('tejer', 1), ('cigarro', 7), ('estufa', 5), ('malinterpretó', 1), ('pausa', 2), ('ofendió', 2), ('poseía', 2), ('renta', 3), ('intoxicó', 1), ('postuló', 4), ('ante', 10), ('reconoció', 4), ('jubiló', 1), ('asaltó', 1), ('pacientemente', 2), ('video', 3), ('firmó', 6), ('confidencialidad', 1), ('adc', 1), ('estafó', 2), ('amenazó', 3), ('usó', 3), ('vomitó', 1), ('resultados', 6), ('absuelto', 2), ('secuestrado', 2), ('estrangulado', 1), ('aterrorizado', 3), ('saludaba', 1), ('descubrirá', 3), ('diría', 11), ('sabría', 1), ('poesía', 2), ('incompetente', 6), ('imparable', 2), ('calmarte', 2), ('tranquilizarte', 2), ('voltéate', 1), ('prendé', 1), ('giren', 1), ('cervezas', 2), ('úsalo', 1), ('piérdelo', 1), ('¡visítenos', 1), ('¡espere', 1), ('abandonado', 6), ('líquido', 1), ('aborrecemos', 1), ('defectos', 4), ('creemos', 2), ('cultivamos', 2), ('bailamos', 2), ('juntas', 5), ('tomamos', 2), ('metimos', 2), ('aprendimos', 3), ('anhelamos', 1), ('admiramos', 1), ('misterios', 3), ('facultad', 1), ('echamos', 5), ('apurarnos', 3), ('mantener', 10), ('empleos', 2), ('reconocimos', 1), ('alquilamos', 2), ('canoa', 1), ('partir', 13), ('aspiramos', 2), ('felicidad', 11), ('comprendemos', 3), ('estuvimos', 4), ('vecinos', 9), ('batalla', 4), ('jugaremos', 1), ('cruz', 3), ('aventureros', 1), ('invitados', 12), ('indefensos', 1), ('desvalidos', 2), ('extrovertidos', 1), ('conejillos', 1), ('indias', 1), ('periodistas', 1), ('perfectos', 1), ('adictos', 1), ('probando', 2), ('escondernos', 3), ('abrigada', 1), ('colección', 1), ('novedosa', 1), ('original', 1), ('sentiste', 1), ('sintieron', 4), ('escondiste', 4), ('ocurre', 5), ('pretendía', 3), ('dirás', 1), ('pasaría', 2), ('olor', 9), ('cuánto', 14), ('escribes', 1), ('vuelo', 14), ('estacionarnos', 1), ('comenzamos', 2), ('vives', 12), ('vodka', 3), ('¿quienes', 1), ('inventó', 8), ('fabricado', 2), ('estuvisteis', 4), ('andabas', 1), ('levantada', 1), ('tumbado', 4), ('marchó', 5), ('llorás', 1), ('sufrir', 1), ('riesgo', 11), ('arriesgarnos', 2), ('casarte', 6), ('contado', 5), ('inflamable', 1), ('¡ah', 1), ('pegas', 1), ('maestra', 5), ('actrices', 2), ('importantes', 2), ('responderlo', 2), ('estacionarse', 2), ('vencerme', 1), ('negarlo', 2), ('rendirte', 2), ('perdértelo', 2), ('perdéroslo', 3), ('vender', 3), ('podrías', 18), ('diste', 9), ('escuchaste', 3), ('engañas', 1), ('sabrás', 2), ('adivinaste', 1), ('tomaste', 4), ('darte', 9), ('acaban', 4), ('agradan', 3), ('luces', 15), ('europeo', 1), ('europea', 1), ('fabulosa', 1), ('cometido', 10), ('hiciera', 9), ('reír', 24), ('necesites', 4), ('apurarte', 3), ('detenerlo', 5), ('relajarte', 5), ('corres', 1), ('salvaste', 1), ('estresado', 1), ('hablas', 17), ('habláis', 1), ('cómicos', 1), ('entiendes', 5), ('¡eras', 1), ('graciosos', 1), ('vencerás', 3), ('encontrarás', 7), ('hacéis', 3), ('embromando', 1), ('rodeado', 2), ('experta', 1), ('pálida', 3), ('arañado', 1), ('contesta', 1), ('logra', 2), ('¿incluye', 1), ('comidas', 7), ('¿viene', 1), ('budista', 2), ('culpando', 7), ('tontos', 2), ('productivo', 1), ('¿todavía', 30), ('ansioso', 4), ('pídele', 9), ('pedidle', 1), ('apártense', 1), ('plátanos', 6), ('marque', 2), ('cambiando', 6), ('pero', 25), ('tranquilicen', 1), ('llevármelo', 1), ('recoger', 3), ('recogerlo', 1), ('olerlo', 2), ('humanos', 3), ('revisen', 1), ('bolsillos', 4), ('revise', 3), ('sígannos', 1), ('síganos', 1), ('considerá', 1), ('controlaos', 1), ('cruzá', 1), ('creyó', 8), ('¿sobornó', 1), ('cenó', 3), ('¿tenía', 2), ('vivían', 2), ('vivieron', 2), ('¿fuiste', 3), ('invitaste', 2), ('invitasteis', 1), ('divide', 2), ('¿acepta', 2), ('¿aceptas', 1), ('creéis', 2), ('pulpo', 1), ('¿hablás', 2), ('mozart', 1), ('robots', 4), ('¿añoras', 1), ('aventón', 2), ('juegas', 7), ('acuerdas', 7), ('recorte', 1), ('sangran', 1), ('encías', 2), ('salvan', 2), ('vidas', 5), ('¿conoce', 2), ('ofende', 1), ('¿sabe', 10), ('¿muerde', 1), ('avaricioso', 2), ('resfríes', 1), ('exceso', 3), ('vencido', 8), ('malentienda', 3), ('malinterprete', 1), ('paranoico', 7), ('deis', 2), ('den', 1), ('riais', 1), ('escena', 3), ('pongas', 6), ('excusas', 8), ('pongáis', 1), ('pongan', 1), ('causes', 1), ('metas', 5), ('pienses', 3), ('trates', 5), ('condescendencia', 1), ('pronuncies', 1), ('paren', 2), ('arriesgues', 1), ('piedras', 2), ('camines', 2), ('trabajes', 4), ('¡muera', 1), ('rey', 12), ('relaja', 1), ('¡vaciá', 1), ('¡vacía', 1), ('dudaron', 1), ('vacilaron', 1), ('agradabas', 2), ('piensan', 6), ('creen', 6), ('molestos', 1), ('molestas', 1), ('estupefactos', 2), ('explicaos', 1), ('rellene', 2), ('huecos', 1), ('llénalo', 1), ('ejemplo', 14), ('olvida', 3), ('olvide', 7), ('olviden', 2), ('aléjese', 2), ('sácame', 2), ('levántame', 1), ('¡desaparece', 1), ('¡sal', 3), ('deshazte', 1), ('deshágase', 1), ('sácanos', 2), ('despertar', 5), ('escoba', 5), ('entrégueme', 1), ('distancia', 6), ('acción', 5), ('abusó', 3), ('comportó', 2), ('estúpidamente', 1), ('comprarse', 4), ('compás', 2), ('gustamos', 3), ('disfrutaba', 1), ('obligó', 3), ('regaló', 4), ('bajó', 19), ('apretó', 7), ('retirarse', 1), ('graso', 1), ('pasos', 1), ('contuvo', 5), ('compañero', 10), ('colega', 2), ('desalmado', 2), ('aventuras', 3), ('aventura', 2), ('memoria', 11), ('chismes', 1), ('haló', 1), ('alzó', 7), ('rinde', 1), ('impunemente', 2), ('precedente', 1), ('rapó', 1), ('mostró', 10), ('tocó', 10), ('apelar', 1), ('4', 1), ('envejecía', 1), ('habían', 2), ('invitaron', 2), ('gustar', 6), ('culturista', 1), ('creacionista', 1), ('portero', 1), ('verdadera', 11), ('aristócrata', 3), ('madrugador', 3), ('pisando', 1), ('cincuenta', 6), ('trabajador', 7), ('autónomo', 3), ('aplicado', 1), ('talento', 10), ('erizos', 1), ('adorables', 2), ('imprimir', 2), ('rasgado', 1), ('gramática', 1), ('deficiente', 1), ('lisa', 1), ('¡hey', 1), ('armario', 5), ('posición', 6), ('mantenga', 2), ('mantengan', 1), ('rellenas', 1), ('olvidarlo', 2), ('resistirme', 1), ('decidieron', 1), ('decidisteis', 1), ('entraste', 1), ('granizo', 3), ('utiliza', 1), ('¿hasta', 2), ('¿cuánta', 8), ('recorriste', 1), ('probabilidad', 1), ('¿harto', 1), ('hirviendo', 5), ('jardín', 16), ('metro', 8), ('ochenta', 4), ('centímetros', 2), ('altura', 5), ('mido', 4), ('respondí', 3), ('remera', 3), ('confirmar', 1), ('conseguirte', 1), ('conseguirles', 1), ('cabalgar', 1), ('montar', 8), ('esperarte', 2), ('creerlo', 6), ('culparlos', 4), ('controlarlo', 1), ('excluirlo', 1), ('perdonarle', 3), ('perdonarla', 3), ('explicarlo', 9), ('seguirte', 4), ('olvidar', 3), ('mentirte', 2), ('mentiros', 1), ('irresistible', 4), ('logro', 7), ('entender', 7), ('aplaudí', 1), ('colecciono', 2), ('antigüedades', 7), ('tosí', 1), ('serles', 1), ('útil', 17), ('exijo', 1), ('recuento', 2), ('esperaba', 17), ('dicen', 11), ('deprisa', 3), ('almorzar', 9), ('soñado', 5), ('soñé', 5), ('entré', 6), ('cueva', 1), ('suspendí', 1), ('temía', 5), ('entrando', 1), ('hoyo', 3), ('intenso', 2), ('lancé', 1), ('campera', 5), ('fracturé', 1), ('enfado', 2), ('enojo', 2), ('canso', 2), ('metí', 4), ('crecí', 14), ('horroroso', 2), ('aceptarlo', 1), ('aburrirme', 1), ('chistes', 6), ('funerala', 1), ('morado', 3), ('acuario', 1), ('pecera', 1), ('pinchó', 1), ('llanta', 1), ('ponchó', 1), ('goma', 4), ('cristal', 3), ('vidrio', 4), ('sangra', 8), ('lugares', 2), ('información', 7), ('pasaporte', 11), ('apetito', 5), ('juntarme', 1), ('encontrame', 1), ('pintarlo', 1), ('advertir', 1), ('cámaras', 3), ('sobrinos', 1), ('guste', 10), ('troto', 1), ('casar', 8), ('maté', 4), ('empaqué', 1), ('metido', 7), ('dolido', 1), ('aquellas', 2), ('coreana', 5), ('ángeles', 2), ('favoritas', 1), ('carreras', 4), ('cortos', 4), ('costumbre', 4), ('refrán', 1), ('divertirme', 4), ('conjunto', 3), ('mirado', 3), ('identidad', 3), ('mariposas', 1), ('lentejas', 1), ('hija', 27), ('asada', 1), ('otros', 18), ('gradúe', 1), ('graduarme', 1), ('ofender', 1), ('mes', 14), ('destruirte', 2), ('nombres', 6), ('dudé', 2), ('pillaron', 1), ('obedecí', 2), ('puertas', 5), ('videojuegos', 2), ('arado', 1), ('campo', 9), ('adonde', 6), ('repetí', 1), ('pegarle', 2), ('arrancar', 2), ('huir', 2), ('duermo', 5), ('nueve', 9), ('fumo', 9), ('cigarrillos', 3), ('derramé', 1), ('psicología', 1), ('sugiero', 2), ('sorprendí', 2), ('estando', 2), ('mientras', 10), ('pare', 5), ('viniera', 5), ('entregué', 2), ('torcí', 1), ('desafío', 7), ('tigre', 4), ('devuelvan', 1), ('propia', 12), ('disfrutar', 2), ('contratar', 7), ('besar', 12), ('conocer', 6), ('verlas', 2), ('advertirte', 3), ('quedes', 8), ('1972', 1), ('1979', 1), ('1982', 1), ('1988', 1), ('forzado', 3), ('encantado', 7), ('proseguiré', 1), ('leeré', 2), ('tuviera', 4), ('sabido', 6), ('fuese', 5), ('coaccionado', 1), ('traicionaré', 2), ('molestarte', 4), ('trabajé', 8), ('granja', 3), ('pasaré', 2), ('lavaré', 1), ('averiguaré', 4), ('extrañaré', 2), ('abandonaré', 4), ('jugaré', 4), ('guardaré', 1), ('recordaré', 3), ('aprovecharé', 1), ('oportunidad', 31), ('nadador', 3), ('tocado', 3), ('tocada', 1), ('ida', 1), ('fiestero', 1), ('fotógrafo', 4), ('biblioteca', 9), ('desangrando', 1), ('extremadamente', 18), ('domingo', 12), ('singapur', 1), ('engordando', 2), ('devolviendo', 1), ('alegro', 33), ('hayamos', 2), ('hablado', 7), ('marcho', 1), ('esquiando', 6), ('esquí', 9), ('gozo', 1), ('comenzando', 3), ('clientes', 5), ('calcetín', 1), ('fotogénico', 2), ('avergonzada', 1), ('perdona', 4), ('ocupando', 1), ('atacada', 1), ('agredido', 1), ('ascendieron', 1), ('convocado', 1), ('cubierta', 1), ('cubro', 1), ('equivoqué', 6), ('juzgué', 2), ('ignorancia', 1), ('bendición', 1), ('¿algo', 1), ('realidad', 24), ('¿esa', 7), ('encadenado', 2), ('serpiente', 3), ('cargada', 3), ('pertenecía', 2), ('evitar', 9), ('empeorar', 1), ('cae', 4), ('durante', 20), ('valor', 12), ('cuestión', 7), ('extraordinario', 4), ('chulo', 4), ('valía', 2), ('costará', 6), ('tomará', 4), ('tardará', 2), ('sucederá', 1), ('pegadiza', 2), ('común', 11), ('diseño', 3), ('defectuoso', 2), ('imperfecto', 1), ('distracción', 2), ('sistema', 9), ('demostrado', 1), ('arenque', 1), ('tipeo', 1), ('esquina', 3), ('abarrotado', 2), ('cálido', 4), ('medianoche', 22), ('apestoso', 1), ('comenzado', 7), ('europa', 8), ('grecia', 3), ('mermelada', 2), ('jarra', 3), ('rellenarlo', 1), ('rellénalo', 1), ('bajar', 6), ('subir', 6), ('dí', 1), ('perfil', 1), ('vigilá', 1), ('pisar', 1), ('pise', 2), ('tensa', 1), ('alzadas', 1), ('quites', 4), ('calzoncillos', 1), ('promesas', 8), ('calzado', 1), ('leyes', 4), ('necesarias', 1), ('aprenda', 1), ('marcar', 1), ('inmediato', 17), ('cayendo', 3), ('lección', 8), ('préstamelo', 1), ('explique', 1), ('dejadme', 1), ('compremos', 1), ('divorciémonos', 1), ('preparémonos', 2), ('emborracharnos', 1), ('tomémonos', 3), ('quedemos', 3), ('imprudentes', 2), ('miremos', 1), ('¡veamos', 1), ('hablemos', 9), ('estudiemos', 2), ('tomémoslo', 1), ('intentémoslo', 2), ('usemos', 1), ('ilusión', 3), ('lilas', 1), ('afortunadamente', 4), ('marte', 3), ('lunas', 1), ('tía', 10), ('actriz', 4), ('histérica', 2), ('risa', 4), ('prestar', 9), ('llamarte', 4), ('cheque', 6), ('sacar', 5), ('moveos', 1), ('detengáis', 1), ('definitiva', 3), ('arranca', 2), ('uvas', 9), ('pesadas', 2), ('sellados', 2), ('naranja', 13), ('salvarme', 3), ('¡nadie', 1), ('resultado', 7), ('equivoca', 3), ('valija', 3), ('proyecto', 14), ('lechuzas', 2), ('cazan', 1), ('recógeme', 1), ('discuta', 1), ('discutan', 1), ('vístase', 1), ('hágame', 2), ('contribución', 1), ('tranquilos', 4), ('recuérdame', 1), ('bañate', 1), ('esperarme', 2), ('esperadme', 2), ('volaron', 2), ('pistolas', 1), ('bajad', 3), ('haced', 2), ('relájate', 3), ('vendaje', 1), ('inmediatamente', 16), ('guardalo', 1), ('reserva', 3), ('resérvate', 1), ('rato', 27), ('empiezan', 7), ('9', 1), ('colegios', 1), ('escuelas', 1), ('¡nos', 2), ('muchachada', 1), ('mándale', 1), ('mándele', 2), ('mándenle', 1), ('enviadlo', 1), ('postal', 2), ('agitar', 1), ('agite', 1), ('varones', 1), ('invitó', 10), ('besando', 6), ('astuta', 4), ('moza', 1), ('recogió', 8), ('señaló', 2), ('apuntó', 6), ('deseando', 8), ('franqueza', 4), ('veinticuatro', 1), ('sonriente', 1), ('suertuda', 1), ('apresurada', 1), ('alcohólica', 1), ('reunión', 21), ('somalia', 1), ('madrina', 1), ('repetirlo', 1), ('¿deberíamos', 4), ('difamación', 1), ('delito', 3), ('pónganse', 2), ('liado', 5), ('fastidiado', 3), ('golpeando', 3), ('¡mantente', 2), ('donde', 36), ('molestar', 2), ('déjate', 2), ('bromear', 2), ('bromas', 6), ('armar', 2), ('escándalo', 1), ('detengan', 1), ('gritarme', 2), ('cosquillas', 2), ('quita', 4), ('saluda', 3), ('cuéntamelo', 1), ('llamáis', 1), ('háblanos', 1), ('triciclo', 2), ('intrigante', 3), ('pino', 4), ('maleta', 10), ('permitido', 1), ('notable', 3), ('innecesario', 1), ('despertador', 1), ('eje', 1), ('partió', 7), ('ronroneando', 3), ('cuervo', 3), ('volando', 4), ('discoteca', 1), ('ladra', 3), ('corriente', 5), ('cerradas', 3), ('niebla', 2), ('amañado', 1), ('hundió', 2), ('derretido', 1), ('costa', 5), ('apagadas', 1), ('repuntó', 1), ('alza', 3), ('agria', 4), ('venció', 1), ('fresca', 3), ('loro', 2), ('perico', 1), ('despegó', 3), ('electricidad', 5), ('arreglada', 1), ('cohete', 2), ('silenciosa', 1), ('falda', 4), ('aclaró', 2), ('despejó', 2), ('soldados', 4), ('abrieron', 2), ('araña', 1), ('estampilla', 1), ('estrellas', 4), ('salieron', 6), ('difundió', 1), ('brilla', 3), ('brillando', 1), ('neumáticos', 3), ('chillaron', 1), ('helada', 1), ('olas', 2), ('soplaba', 3), ('violentamente', 1), ('escapatoria', 2), ('comenzaron', 2), ('besarse', 2), ('venden', 8), ('recibieron', 1), ('familias', 3), ('escucharon', 1), ('oyeron', 3), ('meta', 9), ('rinden', 1), ('pagarme', 1), ('comprenden', 1), ('entienden', 3), ('estudiaban', 1), ('nadaban', 1), ('emocionados', 5), ('conseguirán', 1), ('entenderán', 4), ('cristianos', 3), ('cristianas', 2), ('extranjeros', 2), ('esposados', 1), ('poca', 2), ('ácida', 2), ('grasosa', 1), ('greñudo', 1), ('hoja', 7), ('ruta', 3), ('carreteras', 1), ('triángulo', 1), ('clasificado', 1), ('misión', 3), ('plagio', 1), ('destacable', 1), ('incómodo', 5), ('embarazoso', 2), ('estrafalario', 1), ('típico', 3), ('ultra', 1), ('altamente', 1), ('soso', 1), ('riesgoso', 1), ('salado', 2), ('profunda', 6), ('resultaron', 2), ('amárrate', 1), ('apriete', 1), ('tornillo', 3), ('marzo', 2), ('conocernos', 2), ('comía', 4), ('toser', 4), ('cortésmente', 3), ('levantarse', 8), ('consoló', 1), ('contactó', 1), ('describió', 1), ('diversión', 2), ('combate', 1), ('tifoidea', 1), ('falleció', 4), ('limonada', 2), ('evitó', 2), ('males', 1), ('rasguñó', 3), ('canadá', 13), ('liberó', 3), ('miraba', 3), ('desagrado', 1), ('aplicar', 1), ('gripa', 1), ('rizado', 1), ('enloquecido', 2), ('aguantado', 1), ('arrepentimientos', 1), ('desmayado', 4), ('aferró', 1), ('sirvió', 3), ('pitó', 1), ('camarógrafo', 1), ('celebridad', 1), ('comunista', 2), ('hipócrita', 3), ('nerd', 1), ('socialista', 1), ('terrorista', 3), ('aventurero', 1), ('empleado', 7), ('anonadado', 1), ('hiperactivo', 1), ('delantera', 2), ('independiente', 2), ('insensible', 2), ('malicioso', 3), ('enfocado', 1), ('desocupado', 4), ('condescendiente', 2), ('pesimista', 2), ('descoordinado', 1), ('cariñoso', 1), ('obediente', 1), ('secuestró', 1), ('conocía', 10), ('riesgos', 5), ('lacrosse', 1), ('pelirrojas', 1), ('cargó', 1), ('conmocionado', 1), ('espantosa', 1), ('comerlo', 1), ('perderse', 1), ('enfermarse', 1), ('juzgó', 1), ('erróneamente', 1), ('relajarse', 5), ('entrenamiento', 1), ('estacionó', 1), ('propuso', 1), ('matrimonio', 4), ('tras', 6), ('tranquilizó', 2), ('dependía', 1), ('respetó', 1), ('respetaba', 2), ('sonreir', 2), ('maletero', 4), ('loncheó', 1), ('vendió', 7), ('fijamente', 6), ('reprimió', 3), ('moverse', 2), ('aterrorizó', 1), ('llevó', 24), ('comprende', 3), ('evidencias', 1), ('desfigurado', 1), ('riña', 1), ('condenado', 3), ('ostracismo', 1), ('quedado', 9), ('lavó', 7), ('agitó', 1), ('disculpará', 1), ('matará', 3), ('necesitar', 8), ('morder', 2), ('nasa', 1), ('ráfaga', 1), ('permanecer', 7), ('¿estuve', 1), ('¿su', 5), ('¿ese', 5), ('detestamos', 1), ('papa', 4), ('patinaje', 3), ('frustrados', 1), ('obtuvimos', 1), ('trigo', 5), ('razones', 4), ('motivos', 1), ('charla', 7), ('compra', 10), ('estrategia', 3), ('guardián', 1), ('herramientas', 1), ('usamos', 3), ('jugábamos', 2), ('corrimos', 4), ('agotó', 1), ('permanecimos', 2), ('sacrificamos', 1), ('carpa', 1), ('2013', 7), ('lodo', 1), ('tipos', 2), ('concurso', 4), ('rendiremos', 2), ('estaríamos', 2), ('diplomáticamente', 1), ('miraremos', 1), ('refugio', 2), ('oraremos', 1), ('rezaremos', 1), ('nacemos', 2), ('quebrados', 1), ('ambidextros', 1), ('ambidiestros', 1), ('evitando', 3), ('culturistas', 1), ('atamos', 1), ('alambre', 2), ('guardeses', 2), ('cuidando', 1), ('cuidamos', 1), ('ignorando', 3), ('pareja', 6), ('avistado', 1), ('sorprendiste', 2), ('calabaza', 1), ('coincidencia', 7), ('doncella', 2), ('experiencia', 10), ('pésimo', 13), ('clima', 10), ('referirse', 1), ('aprendiste', 5), ('derramaste', 2), ('robaste', 3), ('ballenas', 4), ('motiva', 3), ('estrechas', 1), ('llevarás', 1), ('cobrar', 1), ('naciste', 2), ('empezará', 1), ('vendrás', 3), ('boda', 6), ('policías', 5), ('comprarla', 1), ('buscaste', 1), ('trabajabas', 1), ('trabajaban', 3), ('oculta', 1), ('vais', 3), ('sujetos', 1), ('engañar', 2), ('jarrón', 1), ('impedir', 1), ('sospechas', 2), ('terreno', 1), ('¿del', 1), ('compraste', 13), ('pegaste', 1), ('comisteis', 1), ('comistes', 1), ('comieron', 7), ('flota', 2), ('entramos', 1), ('cicatriz', 7), ('doler', 2), ('¿dolerá', 1), ('¿lloverá', 2), ('hablan', 11), ('harían', 1), ('ponerle', 2), ('enseñarías', 1), ('saturado', 1), ('durísimo', 1), ('juramento', 2), ('rompiste', 5), ('dejarme', 1), ('tentarme', 1), ('usarlo', 5), ('ayudaste', 2), ('avisaste', 1), ('asustás', 1), ('conduces', 1), ('manejás', 3), ('conducís', 3), ('asustaste', 1), ('acostumbras', 1), ('desahuciaron', 1), ('uds', 1), ('cuatro', 23), ('acabas', 5), ('fallar', 1), ('elefantes', 2), ('viviendo', 13), ('recibir', 5), ('encuentres', 5), ('¡debes', 2), ('debés', 2), ('arruinaste', 3), ('disparaste', 2), ('unirte', 2), ('enseñaste', 3), ('recuperarás', 4), ('sentirte', 1), ('sentirás', 1), ('tendrás', 4), ('lamentarás', 2), ('cocinera', 8), ('maja', 3), ('¡sois', 1), ('cobardes', 4), ('¡son', 1), ('invitadas', 1), ('racistas', 1), ('fastidiando', 1), ('carismático', 1), ('cooperando', 1), ('desamparada', 1), ('interfiriendo', 8), ('favorito', 14), ('princesa', 2), ('condescendiendo', 1), ('inmaduro', 3), ('negativo', 2), ('engreído', 2), ('engreída', 1), ('engreídos', 2), ('engreídas', 2), ('empapada', 1), ('empapado', 2), ('poniéndote', 1), ('astutos', 1), ('aburridísimo', 2), ('advertido', 2), ('temperatura', 5), ('cogido', 5), ('esconderte', 2), ('decepcionas', 2), ('trabajado', 7), ('extenuación', 1), ('sucia', 4), ('patas', 1), ('mamíferos', 1), ('ballena', 2), ('mamífero', 2), ('parranda', 1), ('aluminio', 1), ('responde', 7), ('asientos', 9), ('¿existe', 2), ('algún', 26), ('esquíes', 3), ('gimnasio', 3), ('siguiendo', 9), ('¿solo', 1), ('¿siempre', 1), ('facebook', 7), ('perdidas', 1), ('¿sigues', 3), ('¿seguís', 1), ('profeta', 1), ('atenas', 1), ('entristece', 2), ('cueza', 1), ('sobrevalorado', 1), ('servido', 1), ('tráigame', 2), ('burda', 1), ('cuchis', 3), ('¿podría', 21), ('crédito', 11), ('móvil', 7), ('creérnoslo', 1), ('¿cambiémonos', 1), ('intercambiamos', 1), ('intercambiarnos', 1), ('creerle', 1), ('preparar', 6), ('verificar', 2), ('principio', 9), ('darme', 16), ('¡cumpla', 1), ('atrápame', 1), ('cámbiate', 1), ('aceptan', 2), ('mastica', 1), ('caballerosidad', 2), ('gentileza', 2), ('despeja', 1), ('conocerlos', 1), ('consulta', 1), ('contáctame', 1), ('partes', 5), ('virus', 1), ('amanecerá', 1), ('borra', 1), ('elimina', 2), ('borrá', 1), ('habré', 1), ('¿mintió', 1), ('¿vinieron', 1), ('¿entendieron', 1), ('¿soñaste', 1), ('¿acabas', 2), ('¿dejaste', 2), ('propina', 3), ('¿dejasteis', 1), ('¿notaste', 2), ('leíste', 2), ('bañaste', 1), ('desconecta', 1), ('enchufe', 1), ('parta', 1), ('maldigo', 1), ('¿necesitamos', 2), ('b', 2), ('¿entiendes', 2), ('hobby', 1), ('lema', 1), ('mascar', 1), ('chicle', 2), ('bolos', 1), ('ostras', 4), ('surfear', 2), ('¿habláis', 1), ('¿habla', 6), ('¿hablas', 4), ('¿estudiás', 1), ('¿viajáis', 1), ('abandonar', 10), ('¿deseas', 1), ('¿usás', 1), ('anteojos', 4), ('actúes', 1), ('pidas', 3), ('caiga', 2), ('dudes', 1), ('pelees', 1), ('ilusiones', 3), ('escuchés', 1), ('escuches', 4), ('enojar', 2), ('telefonees', 1), ('leas', 3), ('azote', 1), ('tomes', 5), ('boludeces', 1), ('digáis', 3), ('malgastes', 3), ('desperdicies', 2), ('echáis', 1), ('añora', 2), ('verduras', 3), ('¡cómanse', 1), ('aplaudiendo', 1), ('riéndose', 1), ('oigan', 1), ('perdone', 5), ('pocas', 12), ('olvidá', 1), ('dolores', 4), ('tiquete', 1), ('sácala', 1), ('aléjenlo', 1), ('púdrete', 1), ('mamón', 1), ('tráiganme', 1), ('propiedad', 5), ('acostúmbrate', 1), ('mandale', 3), ('saludos', 8), ('salúdalo', 1), ('déle', 1), ('recuerdos', 1), ('palillo', 1), ('devuélveme', 4), ('rompe', 4), ('lavarte', 3), ('cepillarte', 2), ('cepillarse', 1), ('tírate', 1), ('gárgaras', 1), ('entrega', 2), ('papeles', 6), ('entreguen', 2), ('cená', 1), ('aceptó', 13), ('dedal', 1), ('pararlos', 2), ('escaló', 1), ('monte', 4), ('fuji', 4), ('génova', 1), ('gales', 1), ('diseñó', 2), ('contrario', 2), ('pesar', 2), ('cólera', 1), ('enriqueció', 1), ('agarró', 12), ('dama', 3), ('acababa', 2), ('redonda', 1), ('actuado', 1), ('picassos', 1), ('sostuvo', 2), ('pescadero', 1), ('grosera', 2), ('efectivamente', 1), ('penitencia', 1), ('80', 2), ('kilos', 3), ('soberbio', 2), ('dando', 10), ('lavando', 7), ('promesa', 11), ('quiénes', 11), ('sobria', 1), ('melón', 1), ('cardiff', 1), ('marruecos', 1), ('insecto', 2), ('haya', 15), ('masculló', 1), ('suele', 7), ('jaulas', 1), ('alcanzó', 8), ('administra', 4), ('zapatería', 2), ('lustró', 1), ('agradecerle', 5), ('cristianismo', 1), ('amarla', 1), ('amó', 2), ('ohio', 1), ('enterraron', 1), ('nombraron', 1), ('capitán', 6), ('terriblemente', 3), ('castigado', 3), ('derrotará', 1), ('aprobará', 1), ('dirá', 3), ('arrepentirá', 2), ('creerá', 5), ('laboratorio', 2), ('empeño', 1), ('rendir', 2), ('letra', 5), ('mejorará', 3), ('cazafantasmas', 1), ('guionista', 1), ('teme', 13), ('tantos', 3), ('centinela', 1), ('tetris', 2), ('posiblemente', 3), ('mejillas', 2), ('novela', 9), ('che', 8), ('recordar', 14), ('conmovió', 5), ('sostenete', 1), ('agarre', 1), ('honestidad', 4), ('virtud', 5), ('sinceridad', 2), ('¡cuánto', 1), ('nhk', 1), ('funcionan', 2), ('imanes', 1), ('concierto', 7), ('casamiento', 1), ('arreglarás', 1), ('aligera', 1), ('porque', 4), ('condiciones', 6), ('mato', 1), ('prometido', 1), ('resfriando', 1), ('india', 5), ('pelando', 1), ('tocando', 10), ('obra', 7), ('escucharlo', 6), ('tristeza', 2), ('escaso', 3), ('fondos', 1), ('kanji', 3), ('sms', 1), ('londres', 10), ('viniese', 2), ('ayudara', 7), ('pedía', 2), ('cantara', 1), ('cantase', 1), ('quedara', 8), ('quedase', 2), ('parase', 3), ('parara', 4), ('almorcé', 4), ('apresuradamente', 1), ('liviano', 2), ('24', 2), ('lápices', 5), ('construido', 3), ('construí', 1), ('disculparme', 6), ('verla', 7), ('defender', 1), ('guardar', 4), ('pelar', 5), ('aceptar', 7), ('controlar', 3), ('superarlo', 2), ('acordar', 4), ('decirlo', 4), ('exactitud', 2), ('valla', 9), ('fantaseo', 1), ('decoré', 1), ('invité', 7), ('entendí', 6), ('salgo', 8), ('tampoco', 27), ('aprecio', 14), ('apetece', 5), ('reparo', 1), ('radios', 1), ('rotas', 2), ('preguntárselo', 1), ('c', 2), ('recibí', 5), ('electrónico', 4), ('barca', 3), ('bajé', 7), ('estupenda', 8), ('frenética', 1), ('quedaba', 3), ('mentirle', 1), ('alquilar', 7), ('empleados', 4), ('novia', 33), ('mocos', 1), ('sugerencia', 5), ('apendicitis', 2), ('facturas', 1), ('partidos', 1), ('retortijones', 1), ('solución', 23), ('cambiarlo', 1), ('dejarte', 6), ('darle', 6), ('portazo', 2), ('serias', 1), ('saliera', 1), ('diviertas', 2), ('enterarme', 1), ('enterar', 1), ('visión', 1), ('guardé', 1), ('guardado', 2), ('parda', 1), ('trataba', 3), ('entenderías', 1), ('cuantas', 4), ('tema', 8), ('cuándo', 11), ('exótica', 1), ('actitud', 6), ('patatas', 5), ('perfume', 2), ('jersey', 2), ('página', 9), ('web', 5), ('kioto', 9), ('sector', 1), ('encerré', 1), ('lados', 4), ('china', 15), ('italiana', 2), ('€', 4), ('logré', 2), ('arreglé', 2), ('decírtelo', 4), ('in', 1), ('casualidad', 10), ('club', 7), ('topé', 2), ('asesiné', 1), ('haberlo', 17), ('haberme', 7), ('asistente', 6), ('perchas', 1), ('resfrío', 2), ('3000', 1), ('conecté', 1), ('fingí', 1), ('pijama', 4), ('pongo', 6), ('actos', 2), ('revisado', 1), ('informe', 7), ('reescribí', 1), ('reescrito', 1), ('conduzco', 2), ('moto', 1), ('podías', 5), ('anoche', 36), ('pidiendo', 5), ('socorro', 1), ('proposición', 1), ('moción', 2), ('mandé', 6), ('email', 3), ('resolví', 1), ('tartamudeo', 1), ('sospecho', 2), ('factible', 1), ('pararan', 1), ('quité', 1), ('integrar', 1), ('salvar', 5), ('salvarle', 1), ('salvarlo', 1), ('salvarte', 3), ('apagué', 5), ('desaté', 1), ('cinta', 2), ('filete', 4), ('emborrachar', 1), ('acostarme', 5), ('casarme', 4), ('negociar', 2), ('acuático', 1), ('relajes', 1), ('matan', 1), ('desilusionado', 2), ('disfrutando', 2), ('atónito', 1), ('relajándome', 1), ('alterado', 1), ('vanidoso', 4), ('asustada', 4), ('tercero', 1), ('cola', 8), ('lavé', 3), ('sábanas', 3), ('preguntando', 1), ('siquiera', 26), ('regresaré', 3), ('enfadaré', 1), ('encantaría', 7), ('capaz', 19), ('estuviera', 10), ('tuviéramos', 1), ('olvidaré', 1), ('moriría', 3), ('habría', 7), ('daiquiri', 1), ('querría', 9), ('revisaré', 3), ('tomaré', 9), ('desnatada', 1), ('reuniré', 2), ('patearé', 1), ('trasero', 2), ('mandaré', 6), ('pensaré', 3), ('actualizaré', 1), ('perfeccionista', 1), ('tenista', 4), ('absolutamente', 3), ('disposición', 1), ('vientos', 2), ('rápida', 5), ('cuarenta', 6), ('recuperado', 1), ('cachorro', 3), ('casando', 1), ('comprarlo', 7), ('apartamento', 8), ('increíblemente', 5), ('esclavo', 1), ('absoluto', 11), ('aventuroso', 1), ('quejo', 1), ('especulando', 2), ('practico', 1), ('judo', 1), ('¿o', 6), ('fila', 3), ('preparándome', 1), ('suspendieron', 3), ('cogí', 3), ('preocupaciones', 3), ('escuchado', 5), ('estudiado', 2), ('identificaos', 1), ('parto', 2), ('¿sigue', 3), ('submarino', 1), ('¿anda', 1), ('billetero', 1), ('tremendo', 2), ('impactante', 1), ('¿eh', 3), ('tomas', 2), ('jodió', 1), ('duró', 6), ('costoso', 1), ('profecía', 5), ('exquisita', 1), ('merecido', 1), ('maravilla', 3), ('energía', 10), ('solar', 3), ('equivocamos', 1), ('metieron', 4), ('justa', 1), ('descuido', 1), ('estimulante', 1), ('oscureciendo', 4), ('presentimiento', 2), ('estuviese', 2), ('rumor', 3), ('siniestro', 1), ('imperdonable', 2), ('petición', 3), ('nevará', 2), ('cumpleaños', 13), ('comedia', 1), ('cantidad', 3), ('considerable', 1), ('acreditada', 1), ('elegir', 4), ('juerga', 1), ('once', 5), ('privada', 3), ('facilísimo', 2), ('nublando', 2), ('placebo', 1), ('única', 21), ('insólito', 1), ('rasguño', 1), ('insoportable', 6), ('jesus', 1), ('segundos', 3), ('mantenme', 5), ('abiertos', 3), ('omite', 1), ('libérate', 1), ('permitime', 1), ('optimistas', 3), ('revisemos', 1), ('busquemos', 1), ('metámoslo', 1), ('llevémoslo', 1), ('divirtámonos', 2), ('limpiemos', 2), ('exageremos', 2), ('arruinemos', 1), ('leamos', 1), ('3', 7), ('compartamos', 2), ('tratemos', 2), ('¡intentemos', 1), ('imagen', 4), ('oxígeno', 1), ('acuerde', 1), ('solicite', 1), ('¡hombre', 1), ('prometida', 1), ('camarera', 2), ('acompañas', 2), ('acompañar', 2), ('permite', 4), ('interrumpa', 1), ('suben', 1), ('árboles', 9), ('¡mi', 2), ('mima', 1), ('lectura', 4), ('equipaje', 6), ('extravió', 1), ('5', 5), ('húmedos', 1), ('atoró', 2), ('explicó', 4), ('detendrá', 1), ('importo', 1), ('torturó', 1), ('infalible', 1), ('detenerme', 3), ('detenernos', 2), ('enseñarte', 1), ('dará', 5), ('avestruces', 1), ('prestanos', 1), ('duraznos', 1), ('tócame', 1), ('ventila', 1), ('corrija', 1), ('murmures', 1), ('tómese', 2), ('escúcheme', 1), ('deséame', 1), ('conocerte', 6), ('conocerlo', 3), ('veneno', 4), ('tire', 2), ('suéter', 6), ('¡ponete', 1), ('poné', 3), ('ponete', 1), ('¡abajo', 1), ('rambo', 1), ('acordate', 1), ('respetad', 1), ('antigua', 5), ('ciencia', 7), ('salúdela', 1), ('coció', 1), ('respiró', 1), ('llamaba', 4), ('costearlo', 1), ('2000', 2), ('narizota', 1), ('convulsiones', 1), ('adelgazado', 3), ('tortas', 2), ('corredor', 3), ('conocida', 1), ('ancho', 2), ('prosiguió', 2), ('saña', 1), ('helados', 3), ('interpretó', 2), ('sonata', 1), ('jaló', 2), ('shinjuku', 1), ('reservó', 2), ('impunidad', 1), ('frotó', 2), ('talló', 1), ('viajó', 3), ('ibaragi', 2), ('rubia', 3), ('besadora', 1), ('moderna', 3), ('chusma', 1), ('hermosura', 1), ('¡mostrame', 1), ('bocota', 2), ('bocaza', 1), ('quemando', 5), ('apretá', 1), ('condescender', 1), ('quítese', 3), ('quítense', 3), ('sacate', 3), ('sáquense', 1), ('medias', 8), ('quitaos', 2), ('decile', 2), ('adónde', 10), ('indícame', 1), ('deciles', 2), ('tailandia', 2), ('aclara', 1), ('explica', 3), ('irrita', 1), ('alucinante', 1), ('previsto', 3), ('inesperado', 4), ('poema', 5), ('órgano', 2), ('limonero', 3), ('imitación', 1), ('museo', 5), ('relevante', 1), ('buscamos', 2), ('magnífico', 1), ('inaceptable', 1), ('funeral', 3), ('calentó', 1), ('blusa', 10), ('regañado', 2), ('arbusto', 1), ('empresa', 5), ('malogró', 1), ('botón', 12), ('complejo', 2), ('carbón', 6), ('ardiendo', 4), ('cultivos', 2), ('multitud', 9), ('dispersó', 1), ('zapato', 4), ('babeando', 1), ('alegres', 1), ('cerrando', 4), ('economía', 3), ('corrupto', 1), ('bosque', 10), ('heladera', 3), ('ácidas', 2), ('pasaban', 1), ('alterada', 1), ('modificada', 2), ('apagaron', 1), ('rugiendo', 1), ('horrorosa', 2), ('continuó', 5), ('despensa', 1), ('salario', 8), ('exquisito', 2), ('estanque', 3), ('congeló', 2), ('elevados', 1), ('motivo', 10), ('tejado', 2), ('claras', 1), ('sanando', 2), ('hunde', 2), ('apestan', 2), ('victoria', 2), ('asombrosa', 1), ('caída', 1), ('cremallera', 3), ('atascada', 2), ('habrá', 3), ('¡hay', 1), ('escritorios', 1), ('maravillosas', 2), ('suceden', 1), ('nerviosas', 1), ('despediros', 1), ('despedirle', 1), ('despedirles', 1), ('pararnos', 1), ('burlaron', 3), ('fracasado', 2), ('alquilaron', 1), ('coro', 5), ('demandarte', 1), ('rodearon', 1), ('desertores', 1), ('forman', 1), ('regresando', 1), ('indefensas', 1), ('burlando', 1), ('favoritos', 1), ('chuleta', 1), ('tierna', 4), ('amarga', 3), ('significar', 2), ('periódico', 16), ('menuda', 1), ('cubo', 1), ('fastidioso', 3), ('fórmula', 2), ('sagrado', 1), ('intolerable', 1), ('favorita', 13), ('cuaderno', 7), ('sándwich', 6), ('taladro', 1), ('sobresaliente', 2), ('dilema', 2), ('lamentable', 1), ('escalofriante', 2), ('ponerse', 5), ('áspero', 1), ('suelto', 3), ('diente', 2), ('caballeros', 1), ('matarás', 1), ('transcurrieron', 1), ('semanas', 11), ('agotando', 2), ('detenerse', 1), ('fastidió', 1), ('webcam', 1), ('costear', 2), ('atrapó', 6), ('desafió', 1), ('animó', 2), ('colecciona', 2), ('estampillas', 3), ('peinó', 1), ('enfrentó', 1), ('repartió', 2), ('voltereta', 1), ('culpó', 1), ('traído', 3), ('quejó', 1), ('vejez', 2), ('desilusionó', 1), ('agrado', 5), ('motivó', 1), ('enfrenta', 3), ('horriblemente', 1), ('fingió', 3), ('perseguido', 1), ('sufrió', 2), ('rifle', 4), ('promovido', 2), ('avergonzó', 1), ('irritó', 1), ('arduo', 2), ('calva', 1), ('leporino', 2), ('sufre', 2), ('simpatía', 4), ('otras', 5), ('delgadas', 1), ('amigdalitis', 1), ('opciones', 10), ('brujas', 2), ('silbido', 2), ('sujetó', 1), ('bioquímico', 1), ('decente', 5), ('tragafuegos', 1), ('deportista', 1), ('periodista', 7), ('político', 1), ('psicópata', 1), ('trabajólico', 1), ('ambidiestro', 1), ('arquitecto', 1), ('conservador', 2), ('antipático', 1), ('incorregible', 2), ('intelectual', 1), ('igual', 18), ('pabellón', 1), ('lamenta', 2), ('mandando', 2), ('inescrupuloso', 1), ('insensato', 1), ('religioso', 2), ('garabateando', 1), ('erupto', 1), ('morenas', 1), ('curry', 2), ('picante', 7), ('ton', 2), ('billetera', 8), ('emplear', 1), ('aporte', 2), ('hirió', 5), ('supo', 6), ('ordenó', 6), ('debía', 5), ('adeuda', 1), ('empacó', 1), ('bolsos', 2), ('desgarró', 1), ('músculo', 1), ('sotana', 1), ('cuestionó', 1), ('niega', 4), ('rehúsa', 1), ('reanudó', 1), ('encarando', 1), ('frunció', 1), ('alineó', 1), ('compromiso', 4), ('gemido', 1), ('cavar', 1), ('estofado', 3), ('comprendió', 1), ('vendados', 1), ('liberado', 3), ('mintiéndonos', 1), ('estabá', 1), ('irritado', 1), ('extraordinariio', 1), ('espantado', 1), ('alertará', 1), ('cogerá', 1), ('perdonar', 4), ('trapeó', 2), ('ganadas', 1), ('despedirá', 1), ('interferirá', 1), ('odiaría', 1), ('desordenada', 1), ('traduce', 1), ('traduzca', 1), ('traduzcan', 1), ('traducid', 1), ('traducí', 1), ('inténtenlo', 1), ('probate', 1), ('pullover', 1), ('bájale', 2), ('ponla', 1), ('cafés', 2), ('esperá', 3), ('concierne', 2), ('pelma', 1), ('palabrotas', 1), ('tacos', 1), ('similares', 1), ('parecemos', 1), ('exageramos', 1), ('cogimos', 1), ('agarramos', 2), ('jugamos', 5), ('repudiamos', 1), ('disgusta', 1), ('bebemos', 3), ('anomalía', 1), ('abandonamos', 1), ('subimos', 2), ('crecimos', 3), ('oral', 1), ('prevenir', 1), ('barra', 6), ('obedecimos', 1), ('alcanzamos', 1), ('lamentamos', 3), ('deceso', 1), ('fallecimiento', 1), ('sazonamos', 1), ('nadamos', 2), ('viajamos', 2), ('superaban', 1), ('peleándonos', 1), ('peleábamos', 2), ('derrotaremos', 1), ('dejaremos', 1), ('empezaremos', 1), ('enteraremos', 1), ('descubriremos', 1), ('informados', 2), ('volvimos', 2), ('observados', 1), ('cardiólogos', 1), ('cercanos', 1), ('atónitos', 1), ('cenando', 6), ('abrimos', 1), ('encantados', 3), ('tendido', 1), ('derrotado', 2), ('elecciones', 3), ('persiguen', 2), ('diciendo', 11), ('respondido', 1), ('respondiste', 3), ('respondisteis', 1), ('esperabas', 2), ('creés', 4), ('sugieres', 2), ('postre', 2), ('pupitre', 1), ('cocinamos', 2), ('hacías', 2), ('leéis', 2), ('deshacer', 4), ('tarifa', 1), ('opina', 1), ('levantaste', 1), ('volviste', 4), ('terminan', 1), ('llegaremos', 3), ('empezarás', 2), ('¿cuando', 1), ('guantes', 8), ('tenedores', 1), ('niñas', 7), ('estudiaste', 1), ('estudiaron', 3), ('birome', 2), ('letrina', 1), ('aeropuerto', 6), ('frazada', 2), ('hablabas', 3), ('hablaste', 3), ('¿quén', 1), ('informar', 1), ('biblia', 2), ('peleamos', 2), ('bostezando', 1), ('apresurar', 1), ('contrataste', 1), ('vendiste', 1), ('dudás', 1), ('dices', 11), ('preocuparía', 1), ('¿cenarás', 1), ('¿firmaría', 1), ('¡hala', 1), ('ensayo', 1), ('decís', 4), ('pediste', 3), ('retirar', 1), ('señor', 5), ('disponer', 1), ('culparle', 4), ('ayudarles', 2), ('fiarte', 1), ('medalla', 9), ('merecen', 2), ('merecéis', 3), ('confiaste', 1), ('decepcionaste', 1), ('parecían', 5), ('¡sabes', 1), ('paliducho', 1), ('sexy', 3), ('seguramente', 2), ('apareciste', 1), ('pagas', 5), ('calidad', 3), ('semáforo', 3), ('pues', 4), ('majara', 2), ('apestas', 1), ('alcohol', 8), ('formal', 2), ('agradecerme', 1), ('echaste', 1), ('bronca', 2), ('rajaste', 1), ('elegido', 7), ('ignorado', 1), ('advierto', 1), ('estaréis', 5), ('pagarás', 2), ('afortunada', 2), ('aciertas', 1), ('detestable', 1), ('confundiendo', 1), ('desorganizado', 2), ('bolacero', 2), ('quedas', 6), ('quedan', 9), ('detenidos', 3), ('elegante', 2), ('sucios', 6), ('frías', 1), ('despelote', 1), ('dolar', 2), ('calamar', 1), ('tentáculos', 1), ('añádele', 1), ('ponle', 2), ('cálculos', 1), ('sospecha', 3), ('crecen', 1), ('imitando', 1), ('arremedando', 1), ('espiando', 2), ('subjetiva', 1), ('imitaciones', 2), ('bob', 1), ('mataron', 5), ('traigan', 2), ('tráete', 2), ('versión', 2), ('exterminador', 1), ('prestada', 3), ('tomarme', 2), ('prender', 3), ('encender', 6), ('aclararlo', 1), ('aclarar', 1), ('despacharlo', 1), ('repartir', 1), ('adivinar', 2), ('imaginarlo', 1), ('¿sabéis', 6), ('juntar', 1), ('programar', 1), ('mojarse', 2), ('entumece', 1), ('miembros', 1), ('resfriados', 1), ('contagiosos', 1), ('considera', 2), ('algodón', 2), ('absorbe', 4), ('traernos', 1), ('diamantes', 1), ('eternos', 2), ('¿preguntó', 1), ('¿pasó', 2), ('¿viniste', 3), ('¿vinisteis', 1), ('¿hiciste', 2), ('¿ganasteis', 1), ('¿ganó', 2), ('¿ganaron', 2), ('visítenos', 1), ('perturban', 1), ('serpientes', 8), ('molestan', 1), ('levantas', 1), ('presupuesto', 1), ('fotos', 22), ('tatuaje', 4), ('beisbol', 1), ('brócoli', 2), ('¿luces', 1), ('¿necesitan', 2), ('¿necesitás', 4), ('¿recuerdas', 5), ('¿corres', 1), ('¿piensas', 11), ('¿pensáis', 4), ('galletita', 2), ('galleta', 3), ('delfines', 2), ('curiosos', 1), ('admitas', 1), ('admitás', 1), ('descuidado', 2), ('infantil', 3), ('reservado', 2), ('frenes', 2), ('compres', 3), ('compre', 1), ('cierres', 3), ('bebas', 4), ('duras', 2), ('esfuerces', 1), ('emociones', 2), ('extremos', 1), ('errores', 14), ('cometan', 1), ('hurgues', 1), ('cerréis', 1), ('derrames', 1), ('toqués', 1), ('intentes', 7), ('engañarme', 2), ('ocultarlo', 1), ('perdés', 2), ('pierdes', 1), ('temen', 2), ('esperaban', 2), ('durmieron', 2), ('calmados', 2), ('sonreían', 1), ('torpeza', 1), ('¡formen', 1), ('recta', 1), ('aleja', 1), ('comuníquese', 1), ('¡divertíos', 1), ('¡diviértete', 1), ('almorzado', 4), ('fumado', 1), ('mediste', 1), ('conociste', 2), ('lapicera', 2), ('probado', 3), ('usaste', 2), ('bailara', 1), ('suicidarse', 5), ('catolicismo', 1), ('sentirse', 2), ('suplicó', 1), ('imploró', 1), ('rogó', 4), ('eligió', 1), ('esquiló', 1), ('oveja', 3), ('ginebra', 1), ('lloraba', 1), ('garbo', 1), ('acto', 2), ('pío', 1), ('chistó', 1), ('enfada', 3), ('vació', 1), ('envidia', 2), ('realizó', 2), ('cansa', 5), ('lograba', 1), ('doctorado', 1), ('veintidós', 2), ('hambrienta', 2), ('importado', 2), ('acento', 3), ('pecho', 5), ('peludo', 2), ('personalidad', 1), ('dócil', 2), ('ingreso', 2), ('marco', 1), ('voluntad', 3), ('poderosos', 1), ('hijas', 5), ('extendió', 3), ('crítico', 3), ('holgazán', 1), ('hueso', 2), ('roer', 1), ('hábil', 3), ('reconocido', 1), ('sesenta', 3), ('satisfacerlo', 1), ('complacer', 2), ('prepara', 2), ('querido', 5), ('depresivo', 1), ('vivió', 7), ('nagasaki', 2), ('yokohama', 3), ('tosca', 1), ('velocidad', 7), ('repitió', 2), ('ridiculizó', 1), ('enfadarse', 3), ('portugués', 2), ('súbito', 1), ('estudiara', 3), ('dobló', 2), ('triunfar', 6), ('vasos', 2), ('obligaron', 3), ('ciervos', 1), ('influencia', 3), ('jugador', 11), ('pulmón', 2), ('avaro', 2), ('aficionado', 6), ('ofreció', 9), ('entradas', 6), ('amarilla', 3), ('vinos', 1), ('¿trabajáis', 1), ('inspiró', 1), ('ásperas', 1), ('vacías', 4), ('aguantarlo', 2), ('profundidad', 3), ('averiguó', 1), ('conocisteis', 1), ('abro', 1), ('¿cuántas', 9), ('cuestan', 4), ('pagado', 8), ('detendrás', 2), ('aspiro', 1), ('disculpado', 1), ('pintar', 6), ('construyendo', 2), ('pared', 4), ('obligan', 1), ('vistiendo', 1), ('ordeñando', 2), ('trapeando', 2), ('dejando', 4), ('revolviendo', 1), ('malgastando', 1), ('disculpo', 1), ('condujera', 4), ('condujese', 1), ('diese', 1), ('marchase', 1), ('panchos', 1), ('malicia', 2), ('rogué', 2), ('cenicero', 2), ('yema', 1), ('recado', 1), ('permitirme', 4), ('pipa', 2), ('involucrarme', 1), ('ocultarme', 2), ('apagarlo', 1), ('infinito', 2), ('provoqué', 1), ('elijo', 1), ('cerré', 3), ('monedas', 6), ('comino', 1), ('mínimo', 1), ('rábano', 1), ('crucé', 1), ('subido', 3), ('sueldo', 7), ('deseaba', 2), ('ciudades', 2), ('interesa', 9), ('caridad', 6), ('canilla', 11), ('tomado', 17), ('grifo', 9), ('echarle', 1), ('vigilarlo', 1), ('serví', 1), ('sacaron', 3), ('alternativa', 6), ('ganara', 2), ('dobladas', 1), ('celosas', 1), ('cine', 11), ('afilado', 3), ('tripa', 1), ('sangrantes', 1), ('pesqué', 1), ('juzgado', 2), ('fotográficas', 1), ('localizar', 2), ('botas', 9), ('crujir', 1), ('rama', 1), ('ayudante', 1), ('cambien', 3), ('mañanas', 2), ('saltaba', 1), ('costilla', 1), ('cortarme', 3), ('cortar', 6), ('pantera', 1), ('pato', 3), ('ibas', 5), ('encontrarías', 2), ('canciones', 11), ('mentisteis', 1), ('moderé', 1), ('discusión', 4), ('presté', 4), ('decepcioné', 1), ('fallé', 1), ('colores', 7), ('claros', 3), ('brillantes', 2), ('bistec', 2), ('cocido', 3), ('póquer', 3), ('zuecos', 1), ('premios', 1), ('sencilla', 3), ('dique', 1), ('busqué', 3), ('buscaba', 6), ('linterna', 4), ('noción', 1), ('francesas', 3), ('pimientos', 3), ('gradué', 1), ('faltarle', 2), ('cobijas', 1), ('mantas', 1), ('práctica', 7), ('ahorrar', 3), ('mirarlo', 2), ('200', 2), ('rayo', 2), ('diablo', 1), ('rechacé', 2), ('propuesta', 12), ('parezco', 3), ('lloviera', 1), ('seriamente', 2), ('habértelo', 3), ('mostré', 5), ('dormitorio', 7), ('indiqué', 1), ('deslicé', 1), ('resuelto', 4), ('misterio', 5), ('introduje', 1), ('comprendí', 4), ('entendido', 6), ('llevan', 4), ('equivocas', 4), ('pensé', 46), ('viajé', 3), ('reírme', 2), ('escribirle', 3), ('adinerado', 1), ('colina', 8), ('ventanilla', 1), ('mp3', 1), ('pasillo', 3), ('olvidarla', 1), ('complacerte', 1), ('comportes', 2), ('ganaran', 2), ('amar', 2), ('vinieras', 4), ('supieras', 3), ('solitaria', 2), ('teatro', 6), ('¡una', 2), ('marcharme', 2), ('58', 1), ('kilogramos', 1), ('uní', 2), ('ejército', 4), ('marina', 1), ('pachanga', 1), ('panadería', 1), ('acompaño', 4), ('tendré', 9), ('empezaré', 1), ('trataré', 2), ('¡desearía', 1), ('estuvieses', 1), ('venderé', 1), ('alma', 4), ('farmacia', 1), ('culparía', 3), ('recostarme', 1), ('traicionaría', 4), ('admitiré', 1), ('amaré', 6), ('disculparé', 1), ('pediré', 1), ('cuidadosa', 3), ('vigilando', 4), ('pides', 2), ('soñaré', 1), ('conduciré', 1), ('termino', 3), ('pintaré', 1), ('sacaré', 1), ('molido', 2), ('alérgico', 9), ('alérgica', 6), ('arqueólogo', 2), ('arqueóloga', 2), ('atrae', 2), ('dependo', 1), ('llamada', 6), ('arreglando', 2), ('doblando', 2), ('divorciando', 1), ('planchando', 3), ('asegurando', 2), ('guacamole', 1), ('cabo', 6), ('ignorándote', 1), ('prestando', 1), ('resistente', 2), ('resolviendo', 1), ('acertijo', 3), ('haberte', 8), ('sorprendes', 1), ('vendido', 3), ('quemado', 1), ('tostada', 1), ('marcapasos', 1), ('dignidad', 2), ('gustado', 7), ('pensado', 4), ('¿mary', 3), ('¿hace', 4), ('¿seguro', 4), ('¿mi', 1), ('sonando', 9), ('diamante', 2), ('¿así', 1), ('¿mañana', 2), ('nervios', 3), ('oscuridad', 14), ('oscurecer', 1), ('alfombra', 2), ('indicativo', 2), ('revés', 5), ('militares', 1), ('menor', 5), ('chupado', 1), ('trozo', 7), ('enfermedad', 8), ('cuero', 2), ('cabelludo', 1), ('ingrato', 1), ('medida', 3), ('extremo', 1), ('justificar', 1), ('plaza', 1), ('nutritivo', 1), ('merecemos', 1), ('península', 1), ('prevalecerá', 1), ('corderos', 1), ('bebés', 4), ('prestame', 2), ('acompañe', 1), ('ocupo', 1), ('comprobarlo', 1), ('¡enfrentemos', 1), ('movamos', 1), ('invitemos', 1), ('dividámonos', 1), ('formalidad', 1), ('graciosa', 3), ('ampolletas', 1), ('emiten', 1), ('lincoln', 4), ('1865', 1), ('leones', 1), ('daltónicos', 1), ('nubes', 3), ('límites', 1), ('diseña', 1), ('vestidos', 2), ('limó', 1), ('uñas', 7), ('fiestera', 1), ('fea', 5), ('cardo', 1), ('pendiente', 2), ('¿tendría', 1), ('programa', 2), ('logres', 2), ('fortalece', 1), ('ajetreado', 2), ('nikon', 1), ('gasolina', 8), ('lavarse', 3), ('grietas', 1), ('castillo', 8), ('motocicleta', 2), ('palmas', 1), ('sudaban', 1), ('púrpura', 2), ('nicotina', 1), ('pesadillas', 7), ('lastimarte', 5), ('reconoce', 1), ('apoyó', 7), ('entendía', 1), ('sabios', 1), ('detenerle', 1), ('detenerte', 1), ('perturba', 1), ('relajarnos', 2), ('frigorífico', 1), ('refri', 1), ('empácalas', 1), ('escoja', 2), ('odies', 1), ('permanezcan', 1), ('sentados', 4), ('guárdeme', 1), ('ponerte', 3), ('resistirse', 1), ('mangas', 1), ('duplicado', 2), ('mandame', 1), ('mándame', 1), ('¿tomamos', 1), ('guía', 3), ('limpió', 3), ('presentó', 2), ('aperitivo', 1), ('numerosa', 2), ('planchó', 6), ('corredora', 1), ('lenta', 1), ('taxista', 2), ('usando', 7), ('lamió', 2), ('minifaldas', 2), ('echaba', 3), ('compañía', 6), ('azotó', 2), ('cachetada', 1), ('¡ella', 1), ('odiarlo', 1), ('detestaba', 1), ('amarle', 1), ('abrazarlo', 1), ('abrazarle', 1), ('chocó', 3), ('vestida', 4), ('nadaba', 1), ('pantis', 1), ('incluir', 1), ('enséñame', 13), ('pasión', 3), ('malignas', 1), ('mecanográfico', 1), ('encargado', 1), ('concrétese', 1), ('¡cíñete', 1), ('valores', 1), ('sumatra', 1), ('isla', 3), ('tómalo', 1), ('dígale', 2), ('recibirme', 1), ('desconcierta', 2), ('circulado', 1), ('aparte', 2), ('decepcionante', 2), ('especialidad', 4), ('grosería', 1), ('pseudociencia', 1), ('portón', 2), ('principal', 2), ('gateando', 2), ('tina', 1), ('batería', 6), ('frontera', 2), ('derrumbó', 3), ('dimitió', 4), ('ministerio', 1), ('maullando', 1), ('tictoc', 1), ('tic', 1), ('tac', 1), ('carbonera', 1), ('amaneciendo', 1), ('moverá', 2), ('bebidas', 1), ('manguera', 1), ('funcionaba', 2), ('encantada', 2), ('embrujada', 2), ('incendiando', 2), ('ampolleta', 3), ('encendidas', 2), ('comercial', 3), ('desierta', 4), ('sabor', 2), ('agrio', 1), ('cuanto', 8), ('clasificada', 1), ('x', 1), ('jode', 2), ('monjas', 1), ('trucada', 1), ('desbordó', 1), ('cauce', 1), ('simples', 1), ('marineros', 2), ('guion', 2), ('húmedas', 2), ('escopeta', 1), ('destiñe', 1), ('votación', 2), ('calmó', 1), ('curando', 1), ('espadas', 1), ('diferencia', 13), ('fuertes', 4), ('ciruelas', 1), ('maduras', 3), ('respetan', 1), ('quejan', 2), ('inseparables', 2), ('rompieron', 1), ('llaman', 4), ('tintinearon', 1), ('copas', 1), ('batidos', 2), ('bebieron', 1), ('intercambiaron', 4), ('cacería', 3), ('divirtieron', 1), ('entretuvieron', 1), ('requieren', 1), ('aparecieron', 1), ('separado', 3), ('empezaron', 4), ('atraparon', 1), ('lastimarme', 1), ('tottori', 1), ('desnudos', 1), ('divertían', 2), ('victoriosos', 1), ('capaces', 2), ('amenaza', 3), ('lágrimas', 10), ('coetáneos', 1), ('reflexiona', 1), ('¡piense', 1), ('¡piensa', 2), ('pensá', 3), ('podrida', 1), ('cerrará', 1), ('seda', 11), ('aprobación', 1), ('canario', 1), ('chollo', 2), ('auténtica', 3), ('ganga', 2), ('carcinógeno', 1), ('carnet', 3), ('departamento', 6), ('chistoso', 2), ('folleto', 1), ('cambie', 2), ('cambiarse', 2), ('abarrotada', 2), ('costar', 1), ('20', 5), ('octubre', 10), ('gigante', 1), ('disculpar', 1), ('emparedado', 2), ('sandwich', 1), ('deprimió', 1), ('desesperó', 1), ('abordó', 2), ('marcó', 1), ('ternero', 1), ('tropezó', 1), ('llamarla', 1), ('tolera', 1), ('coleccionaba', 3), ('sellos', 4), ('ansias', 1), ('cruzó', 5), ('chapucero', 2), ('resistió', 1), ('volvía', 1), ('regresaba', 1), ('incendio', 4), ('realiza', 1), ('consume', 3), ('arregló', 3), ('ardua', 2), ('heredero', 1), ('varón', 2), ('2020', 1), ('carácter', 2), ('gramófono', 1), ('reñido', 2), ('remordimientos', 1), ('rasgados', 1), ('tíos', 1), ('cebollas', 3), ('crudas', 2), ('escondió', 5), ('ático', 3), ('sentimientos', 6), ('mentor', 1), ('milmillonario', 1), ('ligeramente', 1), ('bombero', 1), ('bailarín', 4), ('neurólogo', 1), ('repostería', 1), ('pastelero', 2), ('repostero', 1), ('maleducada', 1), ('conectado', 1), ('evangelista', 1), ('evangelizador', 1), ('asando', 1), ('anticuado', 1), ('regañando', 1), ('fax', 1), ('dándose', 1), ('acusado', 3), ('demandada', 1), ('detallista', 2), ('derribó', 3), ('consecuencias', 2), ('disciplina', 2), ('carece', 3), ('motivación', 1), ('carcajada', 1), ('aritmética', 2), ('basquetbol', 1), ('audición', 1), ('burló', 3), ('lastimarnos', 1), ('fregó', 1), ('impuso', 1), ('multa', 2), ('300', 7), ('cajera', 1), ('cajero', 2), ('peló', 4), ('envenenó', 2), ('declaró', 2), ('apagó', 15), ('recomendó', 1), ('rehusó', 5), ('ceder', 2), ('recargó', 1), ('rebobinó', 1), ('enjuagó', 2), ('soriendo', 1), ('exposiciones', 1), ('imágenes', 1), ('fertilizante', 1), ('sacudiéndola', 1), ('meter', 2), ('partiendo', 1), ('debió', 7), ('derramó', 3), ('murmurar', 1), ('roncar', 1), ('revolvió', 1), ('limpiar', 12), ('desató', 3), ('cuerdas', 1), ('ansiosamente', 1), ('quiso', 12), ('mintiera', 2), ('matarnos', 3), ('encontrarse', 1), ('contable', 2), ('minero', 1), ('leñador', 2), ('mil', 6), ('cacharon', 2), ('agarraron', 2), ('redondito', 2), ('electrocutó', 1), ('declarado', 1), ('rehén', 1), ('hospitalizado', 1), ('cabaña', 1), ('vigiló', 1), ('silenciosamente', 1), ('clandestinidad', 1), ('pondrá', 4), ('aprobaría', 1), ('aceptaría', 2), ('reporte', 4), ('averió', 1), ('entumecido', 1), ('desvaneció', 2), ('feriado', 4), ('intuición', 1), ('pruébese', 2), ('desempleo', 2), ('usá', 1), ('imaginación', 3), ('visitantes', 1), ('¿había', 2), ('¿hubo', 1), ('autopsia', 3), ('refleja', 2), ('cometemos', 4), ('trajimos', 2), ('veníamos', 2), ('vencidos', 1), ('aplaudimos', 1), ('discutimos', 1), ('propinas', 2), ('elegimos', 3), ('ventaja', 4), ('estrictas', 1), ('rendirnos', 1), ('contárselo', 1), ('abrazamos', 1), ('besamos', 2), ('partiremos', 1), ('ganemos', 2), ('movernos', 2), ('reducir', 2), ('festejamos', 3), ('vendemos', 1), ('compartíamos', 1), ('preocuparnos', 1), ('sospechamos', 1), ('envenenamiento', 1), ('aguardamos', 1), ('asegurarnos', 1), ('apretados', 2), ('atacados', 1), ('perdonaremos', 2), ('fábrica', 7), ('comeremos', 2), ('superaremos', 2), ('tocaremos', 1), ('aproximadamente', 2), ('cuidadosos', 3), ('atacan', 1), ('llamamos', 1), ('venimos', 2), ('acercando', 3), ('desordenados', 1), ('interesados', 1), ('terroristas', 2), ('balas', 2), ('bala', 5), ('plantando', 1), ('semillas', 2), ('escasos', 2), ('dueños', 1), ('vulnerables', 1), ('rumbo', 3), ('abandonados', 1), ('saboteado', 1), ('discutido', 1), ('digno', 1), ('grata', 1), ('ocultan', 1), ('funciones', 1), ('bell', 1), ('¿sobre', 3), ('implica', 2), ('equivocáis', 1), ('corrida', 1), ('toros', 2), ('toreo', 1), ('corridas', 1), ('edificio', 7), ('sobrenombre', 1), ('ubicación', 1), ('visitarlos', 2), ('volveréis', 1), ('volverás', 4), ('guardias', 3), ('sacado', 2), ('estación', 18), ('deberiamos', 1), ('director', 2), ('uniforme', 1), ('elegiste', 2), ('borró', 1), ('eliminado', 1), ('quedarás', 4), ('creó', 3), ('demonios', 3), ('plantó', 2), ('dirige', 3), ('burlará', 1), ('¿amigo', 1), ('despediste', 1), ('huiste', 1), ('arrancaste', 1), ('ignoras', 1), ('consiente', 1), ('consientes', 1), ('respondes', 1), ('intentas', 3), ('esconderse', 4), ('¿veré', 1), ('¿ayudará', 1), ('¿habrá', 1), ('probarás', 1), ('esperarás', 1), ('mentiría', 2), ('perdonarías', 1), ('¿mentirías', 1), ('¿preferirías', 2), ('apellidos', 1), ('diligentes', 1), ('poner', 24), ('ignorar', 1), ('captás', 1), ('advertidos', 1), ('sentimiento', 2), ('alegrar', 1), ('significas', 1), ('significáis', 1), ('tocarlo', 5), ('reposar', 1), ('sobrestimas', 1), ('recursos', 2), ('indiferente', 1), ('despreocupado', 1), ('somnoliento', 1), ('debiste', 2), ('dormís', 1), ('camarón', 2), ('creerme', 2), ('entras', 3), ('averiguarás', 1), ('encontraréis', 1), ('pararás', 1), ('¡sos', 1), ('mentirosa', 4), ('evasivo', 1), ('bajoneando', 1), ('yendo', 7), ('oportunista', 1), ('hipersensible', 1), ('tacto', 1), ('misterioso', 2), ('tentando', 1), ('expiatorio', 1), ('turco', 1), ('casco', 1), ('errónea', 3), ('delfín', 1), ('pajarito', 1), ('buscarle', 1), ('buscarlo', 2), ('pasarán', 1), ('áfrica', 4), ('continente', 2), ('¡y', 1), ('esforcé', 1), ('máximo', 1), ('¿éstos', 1), ('pantuflas', 1), ('cansando', 1), ('contenta', 3), ('ud', 2), ('nana', 1), ('viajan', 2), ('deliciosos', 1), ('exquisitos', 1), ('bananas', 2), ('deliciosas', 2), ('trepar', 2), ('bayas', 1), ('congelar', 1), ('carteristas', 1), ('lanzas', 2), ('afirmaciones', 1), ('falsas', 1), ('ciertas', 1), ('¡trae', 1), ('¡tráete', 1), ('abróchense', 1), ('cinturones', 1), ('cómpralo', 1), ('pedirte', 8), ('prestas', 8), ('comprarte', 1), ('patines', 1), ('apagar', 3), ('¿podrá', 2), ('contestar', 3), ('atender', 1), ('remos', 1), ('describirles', 1), ('describirlos', 1), ('morirse', 1), ('identificarlo', 1), ('identificar', 1), ('reconocer', 1), ('prestarías', 1), ('meterme', 1), ('mantiene', 7), ('brújulas', 1), ('¿podríamos', 1), ('hablarte', 2), ('repetir', 2), ('cúbralo', 1), ('córtalo', 1), ('¿llovió', 1), ('llovido', 1), ('¿cortaste', 1), ('¿descubriste', 1), ('¿descubristeis', 1), ('¿recibiste', 6), ('¿escuchaste', 2), ('pusiste', 4), ('usado', 7), ('¿querías', 3), ('¿quisiste', 1), ('mencioné', 1), ('¿crees', 17), ('¿creen', 2), ('¿cree', 2), ('¿creéis', 2), ('¿creés', 6), ('existencia', 1), ('¿disfrutas', 1), ('¿vuelas', 1), ('¿vuelan', 1), ('encendedor', 1), ('boleta', 2), ('auriculares', 1), ('audífonos', 1), ('¿debes', 1), ('atún', 3), ('¿oís', 1), ('lomo', 1), ('¿toca', 4), ('¿vende', 1), ('pilas', 2), ('¿aún', 9), ('amás', 1), ('ruegue', 1), ('¿trabajas', 2), ('¿usa', 1), ('¿alguno', 3), ('¿nadie', 2), ('entierran', 1), ('huesos', 2), ('irracional', 2), ('muerdas', 1), ('cortes', 2), ('cortés', 2), ('ostiones', 1), ('hilo', 2), ('dental', 1), ('involucres', 1), ('aleje', 1), ('bromees', 1), ('apoyes', 2), ('menee', 1), ('descubras', 1), ('maldigas', 1), ('público', 7), ('hablés', 1), ('toquen', 1), ('extraños', 4), ('pruebes', 1), ('malgasten', 1), ('clic', 2), ('ícono', 2), ('ruina', 1), ('lléveme', 1), ('estrógeno', 1), ('hormona', 1), ('artistas', 1), ('bajaron', 3), ('bajito', 1), ('oscureció', 2), ('acudieron', 2), ('consíganme', 1), ('quítalo', 2), ('quítame', 2), ('¡devuélveme', 2), ('entrégale', 1), ('universo', 3), ('adiviná', 1), ('adivinen', 4), ('cenaste', 1), ('admiró', 1), ('admitió', 3), ('adoptó', 1), ('gastó', 4), ('izquierdo', 4), ('varias', 4), ('inglaterra', 2), ('distribuye', 1), ('muebles', 8), ('lágrima', 1), ('grúa', 1), ('10000', 2), ('cobra', 2), ('recibe', 2), ('medicamentos', 2), ('afilada', 2), ('rueda', 3), ('nacimiento', 4), ('heroína', 2), ('heroinómano', 1), ('tirador', 1), ('agudo', 2), ('futbolista', 2), ('entusiasta', 1), ('ordinario', 3), ('faltan', 2), ('jugadores', 5), ('enseñando', 4), ('incapaz', 5), ('gacho', 1), ('chupó', 3), ('buscó', 2), ('tierras', 3), ('descansó', 2), ('vendría', 4), ('rascó', 3), ('¡salgan', 1), ('¡sale', 1), ('indicó', 1), ('leía', 1), ('unirá', 1), ('fracase', 1), ('presentará', 1), ('bronce', 2), ('maravillosamente', 1), ('arrancará', 1), ('remate', 1), ('llanto', 2), ('levantando', 2), ('sonrojaron', 1), ('mofletes', 1), ('contados', 2), ('ruedas', 5), ('suenan', 1), ('alocadas', 1), ('cuelgue', 2), ('firmeza', 2), ('ocurrir', 5), ('profundos', 2), ('brincar', 1), ('tarda', 2), ('pesas', 2), ('mantengo', 4), ('cepillando', 5), ('cosechando', 1), ('calentando', 3), ('vendiendo', 1), ('vendrían', 1), ('asumí', 4), ('deditos', 1), ('milagros', 3), ('florero', 1), ('oler', 1), ('océano', 2), ('atestiguar', 1), ('prometer', 1), ('tolero', 1), ('estornudar', 1), ('cargué', 1), ('alcancé', 1), ('considero', 4), ('hacerla', 1), ('definitivamente', 6), ('ascenso', 3), ('sobrevivir', 2), ('atreví', 1), ('atrevía', 1), ('doné', 1), ('caché', 1), ('talla', 9), ('estudié', 4), ('correspondencia', 1), ('brécol', 1), ('licores', 1), ('oboe', 1), ('afeito', 2), ('sueco', 1), ('expliqué', 1), ('prohíbo', 2), ('salgas', 4), ('descubrí', 3), ('hallé', 1), ('sedante', 1), ('obtengo', 1), ('11', 1), ('perforé', 1), ('ocultar', 6), ('precocida', 1), ('recados', 1), ('habilidades', 4), ('destreza', 1), ('propias', 2), ('secar', 1), ('alimentar', 2), ('recuperarlo', 1), ('sonar', 5), ('escondí', 2), ('debajo', 11), ('pegué', 2), ('mentón', 1), ('barbilla', 1), ('importe', 1), ('entiendas', 2), ('comprendas', 1), ('cuántos', 4), ('vivís', 2), ('platicar', 1), ('esmerado', 1), ('teñirme', 2), ('futbol', 2), ('inspiración', 2), ('interpretar', 1), ('músicos', 1), ('novelas', 7), ('romance', 1), ('clavos', 2), ('intérprete', 1), ('cápsulas', 1), ('impresionar', 1), ('arrendar', 1), ('olvido', 2), ('biología', 2), ('exámenes', 2), ('pospuse', 1), ('evento', 3), ('arruiné', 1), ('haberla', 3), ('lavarme', 2), ('cometo', 3), ('recomiendo', 2), ('oeste', 4), ('afané', 1), ('conversé', 2), ('frenillos', 2), ('bulo', 1), ('apañaremos', 1), ('apañamos', 1), ('deshice', 3), ('encendí', 2), ('pomo', 2), ('disgustaba', 1), ('tercera', 5), ('explicación', 7), ('adelgazar', 2), ('corea', 1), ('madures', 1), ('beses', 1), ('leerlos', 1), ('acusaron', 1), ('injustamente', 1), ('montaña', 9), ('asistiré', 3), ('aceptaré', 2), ('volaré', 1), ('alemania', 3), ('necesitaré', 2), ('¡quisiera', 1), ('dormiré', 2), ('embajada', 1), ('mcdonalds', 1), ('agradado', 1), ('conduzcas', 2), ('golpearía', 2), ('aconsejas', 1), ('apetezca', 1), ('obtendré', 1), ('prepararé', 2), ('firmaré', 1), ('enseñaré', 3), ('contaré', 8), ('contarte', 2), ('regar', 1), ('abuelo', 7), ('fan', 1), ('concejal', 1), ('alturas', 3), ('agotaron', 1), ('trucos', 1), ('avergüenzo', 5), ('restaurante', 4), ('atraído', 1), ('gustara', 1), ('acuerdes', 1), ('besaré', 1), ('extraoficialmente', 1), ('septimo', 1), ('matando', 6), ('pizca', 1), ('materialista', 2), ('cansé', 3), ('agobiado', 1), ('ritmo', 1), ('habituado', 1), ('negado', 3), ('decepcionada', 1), ('hambrita', 1), ('descubrimiento', 1), ('fijado', 1), ('organizado', 2), ('sangrar', 2), ('ocupé', 1), ('maneras', 1), ('¿sucede', 1), ('martes', 3), ('acaso', 2), ('instalar', 1), ('¿realmente', 8), ('instalaciones', 1), ('ciertos', 1), ('tela', 4), ('heló', 1), ('pelos', 3), ('punta', 2), ('confirmado', 2), ('confirmada', 1), ('crucero', 1), ('pelean', 2), ('desgarra', 1), ('interiormente', 1), ('forzada', 2), ('imponente', 1), ('sofocantemente', 1), ('dificilísimo', 1), ('valió', 3), ('intencional', 1), ('dejará', 2), ('inversión', 2), ('cultural', 1), ('estallar', 3), ('aunque', 1), ('pela', 3), ('verá', 1), ('recompensado', 1), ('sucediendo', 1), ('completo', 9), ('olimpíadas', 1), ('obligación', 2), ('notorio', 1), ('estresante', 2), ('autoexplicativo', 1), ('empezando', 4), ('frustrante', 1), ('esperábamos', 3), ('júpiter', 1), ('cadena', 2), ('¡prosigue', 1), ('buitreé', 1), ('apréndete', 1), ('frases', 1), ('sácalo', 1), ('entorna', 1), ('déjenme', 2), ('cargar', 2), ('jueguen', 1), ('dejemos', 4), ('decida', 1), ('construyamos', 1), ('llamémosle', 1), ('snoopy', 1), ('llamemos', 1), ('bajémonos', 1), ('¡vámonos', 2), ('ayudémonos', 1), ('dejémosla', 1), ('juntémonos', 1), ('emocionemos', 1), ('abramos', 1), ('quemadas', 1), ('voleibol', 7), ('repasar', 1), ('ajustar', 1), ('viajemos', 1), ('apaguemos', 1), ('palo', 2), ('astilla', 1), ('sentite', 1), ('siéntete', 1), ('siéntase', 2), ('disgustada', 2), ('rechazados', 1), ('exesposa', 1), ('abuela', 5), ('peluquera', 1), ('trofeo', 3), ('oncóloga', 1), ('hilando', 1), ('lana', 1), ('besara', 4), ('concedes', 1), ('baile', 3), ('mike', 1), ('tyson', 1), ('boxeador', 1), ('agitado', 2), ('rige', 1), ('gobierna', 1), ('reparado', 3), ('encantará', 1), ('celular', 7), ('apagado', 1), ('instinto', 2), ('abogada', 3), ('agenda', 1), ('desgastados', 2), ('comprometió', 3), ('aprecia', 1), ('controlarnos', 1), ('incumbencia', 4), ('escuchaba', 2), ('obviamente', 5), ('tuberías', 1), ('reventaron', 1), ('encontremos', 1), ('adopta', 6), ('adopte', 3), ('adoptá', 2), ('adoptad', 1), ('adopten', 3), ('micho', 1), ('michín', 1), ('misho', 1), ('reparte', 2), ('plancha', 3), ('planchá', 1), ('mantenlo', 1), ('medidor', 1), ('repare', 1), ('prenda', 1), ('prendan', 1), ('despiértame', 3), ('grasa', 5), ('contiene', 1), ('presenta', 1), ('argumentos', 1), ('intimidad', 1), ('deseche', 1), ('temores', 1), ('¡bajen', 2), ('queráis', 6), ('quieran', 2), ('reproducen', 1), ('rapidamente', 1), ('origen', 1), ('plaga', 1), ('portadoras', 1), ('transmiten', 2), ('epidemia', 1), ('vuélvelo', 1), ('sentadas', 1), ('sentada', 1), ('recuérdate', 1), ('acuérdate', 1), ('reformule', 1), ('lenguaje', 1), ('llano', 1), ('840', 1), ('mándanos', 1), ('impresión', 3), ('apártame', 1), ('actuó', 10), ('apaleó', 1), ('tarado', 1), ('español', 5), ('obsequio', 3), ('entregó', 6), ('ceceo', 1), ('cintura', 3), ('almuerza', 1), ('muchísimo', 8), ('nadadora', 2), ('diecisiete', 3), ('víctima', 1), ('emparentada', 1), ('pariente', 1), ('cosiendo', 1), ('visitando', 2), ('baloncesto', 6), ('agonía', 1), ('desafina', 1), ('estudiase', 1), ('analgésico', 1), ('besarlo', 1), ('besarle', 2), ('bautizada', 1), ('depresión', 1), ('despistada', 1), ('enséñeme', 3), ('abandonas', 1), ('ganaré', 1), ('renacuajos', 1), ('convierten', 1), ('ranas', 3), ('aliste', 1), ('¡contame', 1), ('unírtenos', 1), ('avisarme', 1), ('maca', 1), ('tardó', 1), ('miserable', 2), ('faltado', 2), ('detalle', 2), ('desalentador', 1), ('suposición', 1), ('pensábamos', 1), ('cañería', 1), ('comprensible', 1), ('sinsentido', 1), ('jackson', 4), ('vía', 2), ('láctea', 1), ('inmensa', 1), ('impidió', 1), ('estrepitosamente', 1), ('dixie', 1), ('funcionaban', 2), ('cumplirá', 1), ('limpieza', 1), ('comparación', 1), ('apropiada', 2), ('dato', 2), ('alentador', 1), ('mordiendo', 1), ('alcantarilla', 3), ('obstruida', 1), ('precipitó', 3), ('goteando', 2), ('mutuo', 1), ('archivos', 2), ('inundación', 1), ('tremenda', 1), ('dorado', 3), ('halcón', 1), ('cazador', 3), ('espeso', 2), ('tetera', 1), ('pava', 1), ('extensa', 1), ('ilimitada', 1), ('reuniones', 6), ('malísimo', 1), ('entristeció', 1), ('rechazada', 2), ('agravó', 1), ('secado', 2), ('laguna', 3), ('bendijo', 1), ('proceso', 1), ('régimen', 1), ('caído', 4), ('falsos', 1), ('situación', 13), ('salada', 3), ('creíble', 2), ('amena', 1), ('confesó', 6), ('ilegible', 1), ('marea', 1), ('tratado', 3), ('firmado', 1), ('quitaron', 1), ('tumor', 5), ('removieron', 2), ('tifón', 1), ('arrasó', 1), ('unánime', 1), ('1945', 1), ('1954', 1), ('ejemplos', 1), ('mancha', 3), ('dificultad', 2), ('sustituto', 1), ('alumnas', 1), ('difíciles', 2), ('lucían', 1), ('armaron', 1), ('bombones', 3), ('comparten', 1), ('confabularon', 1), ('toman', 1), ('cargaron', 2), ('castigados', 1), ('castigar', 1), ('evitaron', 1), ('despreciaron', 1), ('repartieron', 1), ('llevaron', 1), ('lavan', 1), ('carcajadas', 1), ('faltos', 1), ('estrictos', 1), ('criminales', 1), ('peligrosos', 5), ('peligrosas', 2), ('arreglado', 2), ('calentador', 1), ('abanico', 2), ('manchado', 1), ('inapropiado', 2), ('preciada', 1), ('creación', 1), ('deprimente', 1), ('impactantes', 1), ('imponentes', 1), ('suyas', 1), ('sana', 1), ('heridas', 3), ('almorzó', 5), ('restos', 2), ('completos', 1), ('hervir', 4), ('cepilló', 1), ('permitirse', 1), ('maní', 1), ('casualmente', 1), ('compuso', 1), ('soneto', 1), ('autocorrigió', 1), ('faltó', 2), ('recompensa', 1), ('abdominales', 1), ('dormía', 2), ('compasión', 4), ('accedió', 1), ('barro', 1), ('coqueteó', 1), ('camisas', 3), ('casillas', 1), ('taburete', 2), ('diplomó', 1), ('creció', 5), ('ajetreada', 1), ('leyeron', 1), ('palma', 1), ('jet', 1), ('lacio', 1), ('primas', 1), ('ocultó', 2), ('hijastro', 2), ('altivo', 1), ('cardiólogo', 1), ('atleta', 2), ('cuadripléjico', 1), ('humorista', 1), ('conflictivo', 1), ('cociendo', 1), ('claustrofobia', 1), ('consolando', 1), ('divorciándose', 1), ('donando', 1), ('calificando', 1), ('bastantes', 3), ('aporreado', 1), ('entonado', 1), ('sumo', 1), ('sarcástico', 1), ('salto', 4), ('divertirse', 3), ('quiché', 1), ('laptop', 3), ('conectó', 1), ('enchufó', 1), ('pulsó', 2), ('apestaba', 1), ('intentaría', 2), ('restregó', 1), ('últimamente', 5), ('ánimo', 2), ('empacar', 2), ('recriminado', 1), ('pagarlo', 2), ('mostraba', 2), ('arrepentimiento', 1), ('raspó', 1), ('resolvió', 2), ('acarició', 1), ('pensó', 5), ('abrazar', 2), ('tergiversó', 1), ('descorchó', 1), ('subestimó', 2), ('listón', 1), ('culparnos', 1), ('casarse', 10), ('sentarse', 4), ('enterrado', 3), ('desconsiderado', 1), ('mirándome', 3), ('indudablemente', 1), ('parche', 1), ('triatlón', 1), ('prefiere', 4), ('premonición', 1), ('secando', 1), ('presta', 2), ('sitios', 1), ('desocupados', 2), ('explotó', 1), ('1939', 3), ('estalló', 2), ('¿hizo', 1), ('aceptado', 1), ('angustiábamos', 1), ('instancia', 1), ('moriremos', 2), ('deseamos', 3), ('molestándole', 1), ('futbolistas', 1), ('capturamos', 1), ('cima', 2), ('continuamos', 1), ('seguimos', 2), ('derrotamos', 1), ('exigimos', 1), ('condujimos', 2), ('emborrachamos', 1), ('pusimos', 3), ('navegación', 1), ('arrodillamos', 1), ('adoramos', 1), ('descansamos', 1), ('solíamos', 3), ('caminamos', 4), ('rescate', 1), ('decepcionaremos', 1), ('preparemos', 2), ('volveremos', 1), ('viviremos', 1), ('reyes', 1), ('perderemos', 1), ('trataremos', 1), ('progresando', 2), ('descubiertos', 1), ('¿estuviste', 4), ('¿estuvisteis', 1), ('levantadas', 2), ('desilusión', 1), ('espantoso', 5), ('atrocidad', 1), ('síntomas', 1), ('hechas', 1), ('ruidos', 1), ('insinuando', 1), ('tejiendo', 1), ('pasatiempos', 2), ('trajiste', 3), ('descubriste', 2), ('contaste', 1), ('recomendarías', 2), ('refiere', 2), ('serviría', 1), ('grado', 3), ('aprendido', 3), ('disparate', 1), ('idioma', 2), ('abres', 1), ('demoró', 1), ('llevado', 2), ('averiguaste', 1), ('llegarán', 1), ('duchas', 3), ('servicios', 2), ('creciste', 1), ('diablos', 1), ('¿donde', 2), ('presidente', 6), ('bronceador', 1), ('testigos', 2), ('¿contra', 1), ('muñeco', 2), ('descubrió', 9), ('susurrando', 1), ('melancólico', 1), ('comes', 4), ('estacionaste', 1), ('preguntastes', 1), ('pensás', 2), ('entrás', 1), ('pasas', 4), ('creces', 1), ('unes', 2), ('acompañarnos', 1), ('callas', 1), ('sucedería', 1), ('lastimarías', 1), ('querer', 4), ('¿volveremos', 1), ('acompañarás', 1), ('¿recibís', 1), ('¿recibe', 1), ('¡caramba', 1), ('guau', 1), ('anótalo', 1), ('iniciado', 1), ('sesión', 1), ('500', 1), ('hacerte', 7), ('gobernar', 1), ('sentaros', 2), ('domesticar', 1), ('pudiste', 1), ('suenas', 2), ('genios', 2), ('aguantarse', 1), ('agotada', 1), ('cumplir', 5), ('haberlos', 1), ('seguirme', 1), ('creiste', 1), ('siembra', 1), ('tempestades', 1), ('recoges', 2), ('siembras', 3), ('cosechas', 1), ('recuperaste', 1), ('habérmelo', 4), ('nadas', 2), ('nadan', 2), ('parecéis', 1), ('debéis', 2), ('castigada', 1), ('acostumbraréis', 1), ('cantas', 2), ('invencible', 2), ('predecible', 1), ('monda', 1), ('idealista', 1), ('inflexible', 3), ('hermosísima', 3), ('observador', 1), ('escéptica', 2), ('reclama', 1), ('retrasan', 1), ('napia', 1), ('manchada', 1), ('desatados', 3), ('adelanta', 1), ('2539', 1), ('cierva', 1), ('hembra', 2), ('salvaje', 1), ('imán', 1), ('mosquito', 1), ('picar', 2), ('zancudo', 1), ('requiere', 1), ('contraseña', 2), ('conejo', 4), ('esponja', 4), ('hablarme', 2), ('bastarán', 1), ('domesticado', 1), ('bebía', 1), ('reservados', 1), ('buses', 4), ('llenos', 7), ('bondis', 2), ('maduros', 1), ('asustan', 1), ('¿dejas', 1), ('apuntando', 1), ('grabando', 1), ('ingleses', 1), ('destruida', 1), ('caen', 2), ('tejones', 1), ('cavan', 2), ('agujeros', 1), ('caerte', 1), ('revistas', 2), ('comprá', 1), ('leelo', 1), ('¿podré', 1), ('burlar', 1), ('traerte', 1), ('almohadón', 1), ('entregan', 1), ('pasármelo', 1), ('entregármelo', 1), ('fracaso', 3), ('planeta', 1), ('omelet', 2), ('contabilidad', 1), ('¿habrás', 1), ('acercar', 1), ('garantizar', 2), ('cuidar', 4), ('solucionar', 3), ('mojados', 4), ('plátano', 2), ('análisis', 1), ('cocine', 1), ('gramos', 1), ('podar', 2), ('pasear', 4), ('¿recibió', 1), ('¿encontraron', 1), ('¿terminaste', 2), ('metiste', 1), ('¿necesitabas', 1), ('¿revisaste', 1), ('¿nadaste', 1), ('¿quería', 1), ('¿queríais', 1), ('¿querían', 1), ('¿trabajaste', 1), ('operación', 2), ('¿existen', 1), ('¿esos', 1), ('ovnis', 2), ('¿venís', 1), ('¿soñás', 1), ('¿sueñas', 1), ('¿tomas', 3), ('entregas', 1), ('¿traes', 1), ('cicatrices', 1), ('manual', 2), ('arca', 1), ('noé', 1), ('¿saben', 1), ('cappelletis', 1), ('¿practicas', 1), ('¿tocáis', 1), ('¿lees', 1), ('¿reconoces', 1), ('mapache', 1), ('esperanto', 2), ('diariamente', 1), ('¿pensás', 5), ('caramelo', 2), ('matarme', 4), ('besarme', 2), ('¿escribes', 2), ('¿escribís', 1), ('pusilánime', 2), ('nieva', 1), ('estupidez', 1), ('leales', 1), ('maltrates', 1), ('halagues', 1), ('dejéis', 1), ('escape', 1), ('asuste', 1), ('permitas', 1), ('desanime', 1), ('consientas', 1), ('atemorice', 1), ('estribos', 1), ('prometas', 1), ('pulsar', 1), ('mandes', 1), ('falten', 2), ('¿ok', 1), ('malcríes', 1), ('relaje', 4), ('arrojes', 1), ('traten', 1), ('subestimes', 4), ('subestiméis', 1), ('malgaste', 1), ('¿jamás', 2), ('¿nunca', 4), ('callás', 1), ('sobrante', 1), ('lucen', 2), ('títeres', 1), ('permanecieron', 1), ('relativo', 1), ('encontrarte', 4), ('descubre', 2), ('plega', 1), ('salvajes', 1), ('consigan', 1), ('agarren', 1), ('palas', 1), ('ropas', 2), ('123', 1), ('sucedido', 1), ('¿alimentaste', 1), ('lunático', 3), ('derrota', 2), ('entera', 3), ('nivel', 2), ('mundial', 3), ('sopló', 2), ('docena', 3), ('desistió', 1), ('marcharas', 1), ('sur', 5), ('espíritus', 1), ('hangzhou', 1), ('periódicos', 1), ('exigió', 1), ('paraba', 1), ('vestía', 4), ('derrochó', 1), ('vaga', 1), ('anchos', 1), ('bretaña', 1), ('pesos', 1), ('dispositivo', 1), ('violinista', 1), ('destinado', 2), ('fluido', 5), ('asesinato', 11), ('recostó', 1), ('country', 2), ('aparece', 1), ('milton', 1), ('tocaba', 2), ('finge', 1), ('demostró', 1), ('arrepiente', 1), ('repara', 1), ('retira', 1), ('jubila', 1), ('ahorra', 1), ('apartado', 2), ('tragó', 2), ('orgullo', 2), ('física', 2), ('asignaron', 1), ('felizmente', 1), ('acariciaba', 1), ('visiblemente', 1), ('dentista', 2), ('acabará', 1), ('creería', 1), ('lastimaría', 3), ('mosca', 2), ('presión', 2), ('perdonará', 2), ('beisbolista', 1), ('devoto', 1), ('cadete', 1), ('topo', 1), ('espiarnos', 1), ('apoya', 1), ('entreteniendo', 1), ('paredes', 1), ('porta', 3), ('ruidosa', 3), ('descartado', 1), ('negativa', 1), ('paraíso', 2), ('sorprendieron', 1), ('sereno', 1), ('apago', 1), ('torre', 6), ('pronuncia', 1), ('costaron', 1), ('bebes', 4), ('permití', 2), ('6', 2), ('melancólica', 1), ('descargando', 1), ('pepino', 1), ('prendiendo', 1), ('memorizando', 2), ('empantanado', 1), ('ordenando', 3), ('apruebo', 1), ('llamaras', 1), ('llamarais', 1), ('llamara', 1), ('llamaran', 1), ('armo', 1), ('motores', 2), ('solito', 1), ('asistí', 1), ('cuidarte', 2), ('aguantar', 3), ('ganáramos', 1), ('tono', 1), ('agarrado', 1), ('catarro', 2), ('atroz', 1), ('elegí', 1), ('contacté', 1), ('incorrectamente', 2), ('critiqué', 1), ('chapoteo', 1), ('gasté', 5), ('céntimo', 2), ('centavo', 1), ('desagrada', 1), ('cocino', 4), ('apariencia', 1), ('donación', 1), ('conozca', 2), ('acabé', 2), ('disfruté', 1), ('disfrutado', 1), ('temblar', 1), ('sacudirse', 2), ('cobré', 1), ('alhajas', 1), ('arreglara', 1), ('muelas', 2), ('par', 12), ('inflamado', 1), ('terribles', 2), ('e', 9), ('5000', 1), ('cepillar', 1), ('peinarme', 2), ('chaveta', 1), ('auxilio', 1), ('llamaban', 1), ('cerrarse', 1), ('estén', 2), ('conformes', 1), ('consigamos', 1), ('logremos', 1), ('resulte', 1), ('heredé', 1), ('ascender', 1), ('guardo', 1), ('reaccionar', 3), ('serías', 3), ('tendrías', 1), ('volverías', 1), ('personalmente', 10), ('diferentes', 3), ('lesionó', 1), ('lograr', 1), ('sombrilla', 1), ('obama', 1), ('clásica', 1), ('medianamente', 1), ('sorprenderme', 1), ('masticar', 2), ('observar', 3), ('rural', 1), ('americanas', 1), ('navideñas', 1), ('pudín', 1), ('tapioca', 1), ('emití', 2), ('conciencia', 3), ('precipitado', 3), ('aseguré', 1), ('acueste', 1), ('enfadara', 1), ('cursé', 1), ('énfasis', 1), ('major', 1), ('reaccionado', 1), ('exagerada', 1), ('norteamericana', 1), ('necesite', 4), ('vea', 4), ('botiquín', 1), ('asesoramiento', 1), ('usb', 2), ('documentos', 3), ('prepararme', 1), ('hacerle', 5), ('arriendo', 1), ('pasta', 3), ('acordeón', 2), ('toqué', 2), ('prometo', 6), ('carnada', 1), ('cebo', 1), ('esposé', 1), ('recorrido', 1), ('cancha', 1), ('entero', 7), ('deprimí', 1), ('reconocí', 1), ('arrepentí', 1), ('actualicé', 1), ('acordé', 1), ('regresé', 2), ('chamba', 1), ('millas', 2), ('liz', 1), ('subirse', 2), ('golpear', 2), ('rebaño', 1), ('ovejas', 1), ('lejana', 1), ('escaparse', 1), ('revista', 6), ('puesta', 5), ('apreté', 2), ('estudiéis', 1), ('terapia', 1), ('competente', 2), ('habíamos', 1), ('movieran', 1), ('movieras', 1), ('quedaras', 4), ('anduve', 2), ('pretendido', 1), ('protegerte', 2), ('plenamente', 1), ('mantenerme', 2), ('informada', 1), ('frescos', 1), ('cocinarte', 1), ('recepción', 1), ('alegré', 1), ('preguntaras', 1), ('recordando', 1), ('contendiente', 1), ('regañaba', 1), ('criaron', 1), ('requeteafortunada', 1), ('60', 1), ('distinto', 3), ('conociera', 1), ('hawái', 1), ('hubieras', 3), ('fueras', 4), ('chantajeen', 1), ('fallaré', 1), ('fracasaré', 1), ('invitar', 4), ('preguntaba', 1), ('asesor', 2), ('consultor', 1), ('probaría', 1), ('ofrecido', 1), ('aconsejaría', 1), ('apostaría', 1), ('entraría', 1), ('repetiría', 1), ('pensaría', 1), ('despierte', 1), ('mediana', 1), ('reemplazarlo', 1), ('guardaespaldas', 1), ('mantendré', 3), ('horario', 5), ('decidiré', 1), ('explicaré', 5), ('contactaré', 1), ('compondré', 1), ('pondré', 2), ('perdonaré', 3), ('enviaré', 1), ('estudiaré', 2), ('próximo', 14), ('hablaré', 2), ('gluten', 1), ('autorizo', 1), ('solicitando', 1), ('avergüenza', 2), ('fascinan', 1), ('estuvieras', 2), ('cooperar', 1), ('sedienta', 1), ('lactosa', 1), ('terapeuta', 1), ('desorden', 2), ('meditar', 1), ('acordarme', 3), ('analizado', 2), ('jugado', 1), ('desgasté', 1), ('incentivo', 1), ('logrará', 1), ('reciente', 1), ('¿sólo', 1), ('¿queda', 5), ('objeción', 2), ('vergonzoso', 1), ('mangos', 1), ('ocurrirte', 1), ('ocurriros', 2), ('ocurrirle', 2), ('sorprende', 1), ('olía', 1), ('jerusalén', 1), ('roca', 1), ('narices', 2), ('llovía', 2), ('dulcemente', 1), ('excitante', 1), ('premeditado', 1), ('monumental', 1), ('excelente', 13), ('estereotipo', 1), ('despejarse', 1), ('moda', 3), ('ocurriendo', 2), ('opuesto', 1), ('biodegradable', 1), ('procedimiento', 1), ('rutina', 1), ('vital', 1), ('importancia', 3), ('john', 13), ('alégrate', 1), ('contagiosa', 1), ('preguntemos', 1), ('crucemos', 1), ('meollo', 1), ('cambiemos', 1), ('corramos', 2), ('azar', 2), ('escuchame', 1), ('pizarra', 1), ('telefónica', 1), ('apariencias', 4), ('engañosas', 1), ('definir', 1), ('mojó', 1), ('lubricó', 1), ('animadora', 2), ('regordete', 1), ('maryam', 1), ('presentarme', 1), ('bañarme', 3), ('quitar', 2), ('¡métete', 2), ('asuntos', 6), ('¡meteos', 2), ('¡metete', 2), ('¡zapatero', 1), ('mayoría', 9), ('gps', 1), ('cochera', 5), ('encantar', 4), ('asombrosos', 1), ('latir', 1), ('aceleradamente', 1), ('cortas', 2), ('incondicionales', 1), ('párvulos', 1), ('gruñendo', 2), ('york', 6), ('concordó', 1), ('sustituirte', 1), ('llorones', 1), ('lloricas', 1), ('matado', 2), ('honestos', 1), ('placentera', 1), ('averiado', 1), ('incendió', 2), ('complicada', 2), ('pásate', 1), ('repita', 2), ('barred', 1), ('barran', 1), ('barrer', 4), ('alacena', 1), ('ordena', 2), ('limitada', 1), ('líneas', 1), ('modere', 1), ('ímpetus', 1), ('meza', 1), ('remar', 1), ('corré', 1), ('comienzan', 2), ('abril', 4), ('330', 1), ('¿arreglo', 1), ('¿cierro', 1), ('magra', 1), ('marcadamente', 1), ('resfriaba', 1), ('pareció', 4), ('calzaba', 1), ('blando', 2), ('hermosos', 3), ('talentosa', 1), ('tejió', 1), ('sweater', 1), ('divulgó', 1), ('faldas', 1), ('interruptor', 2), ('semejanza', 1), ('depiló', 1), ('axilas', 1), ('costado', 2), ('carrilla', 2), ('bélgica', 1), ('tembló', 1), ('deteriorando', 1), ('toneladas', 1), ('maquillaje', 5), ('aliviará', 1), ('marketing', 1), ('precioso', 3), ('glamorosa', 1), ('individualista', 1), ('asear', 1), ('yéndote', 1), ('gusanos', 1), ('capullos', 2), ('cántanos', 2), ('perjudica', 1), ('interrumpirte', 1), ('prohíbe', 2), ('escupir', 1), ('fronteras', 1), ('extienda', 1), ('ardillas', 2), ('mueven', 1), ('velozmente', 1), ('comerte', 1), ('morderte', 1), ('engañarte', 1), ('hurgarte', 1), ('produce', 2), ('engendra', 1), ('suministros', 2), ('¡tomá', 1), ('llévenme', 1), ('bolsas', 4), ('corran', 1), ('llevale', 1), ('¡díselo', 1), ('diles', 3), ('muchísimas', 2), ('invitarme', 1), ('rescatarme', 1), ('comentario', 3), ('entretenida', 1), ('cocinado', 1), ('tonta', 7), ('¿cierto', 5), ('preocupación', 1), ('interés', 3), ('halagador', 1), ('proseguía', 1), ('reventar', 1), ('coñac', 1), ('abrirse', 3), ('descolorida', 1), ('cubrieron', 1), ('taparon', 1), ('plazo', 1), ('filoso', 1), ('nación', 1), ('negociación', 2), ('terminada', 1), ('acusó', 1), ('héroes', 1), ('topó', 2), ('usados', 1), ('empeoró', 3), ('atardecer', 1), ('estatua', 1), ('mercados', 1), ('financieros', 1), ('brillaba', 1), ('descarriló', 2), ('ferozmente', 1), ('supone', 2), ('ganancia', 1), ('factores', 1), ('sobrevivientes', 2), ('explosión', 2), ('puentes', 3), ('patrón', 2), ('faro', 1), ('echaron', 1), ('perlas', 1), ('corbatas', 2), ('teniendo', 4), ('paseando', 2), ('entenderme', 1), ('podían', 1), ('pudieron', 2), ('huido', 1), ('detestan', 1), ('cobertizo', 2), ('fallaron', 2), ('dirigieron', 1), ('escondieron', 1), ('sótano', 2), ('lanzaron', 2), ('rememorar', 2), ('cambios', 2), ('cargos', 2), ('acusaciones', 1), ('instrucciones', 2), ('poseen', 1), ('elevaron', 1), ('afincaron', 1), ('viajaron', 1), ('protección', 2), ('tomados', 2), ('alegrarán', 1), ('comerán', 1), ('cuidadosas', 1), ('atrasados', 1), ('llegan', 1), ('mejorar', 1), ('cerebro', 1), ('eléctrico', 3), ('impermeable', 1), ('incorrecta', 6), ('deliciosa', 6), ('sentará', 1), ('discriminación', 1), ('eternidad', 2), ('rematadamente', 1), ('pésima', 6), ('gratuito', 3), ('musical', 2), ('bellísima', 2), ('hedor', 1), ('reservada', 1), ('abrirá', 3), ('balazos', 1), ('agotador', 1), ('regañadientes', 2), ('alcohólicos', 1), ('retiró', 3), ('abotonó', 3), ('calefactor', 2), ('dejarnos', 1), ('felicitó', 1), ('disfrazado', 1), ('protestar', 1), ('lagartijas', 1), ('vano', 2), ('recordaba', 1), ('rugby', 1), ('zambulló', 2), ('soñó', 1), ('forzó', 1), ('rehenes', 1), ('aburrió', 1), ('pobreza', 1), ('cardíaco', 1), ('agregar', 1), ('cejas', 2), ('peludas', 1), ('foco', 2), ('concentración', 1), ('planea', 2), ('esposas', 3), ('nieto', 1), ('ballet', 1), ('hipocondríaco', 1), ('karate', 1), ('manojo', 2), ('mimado', 1), ('muro', 3), ('tiñendo', 1), ('abanicando', 1), ('amateur', 1), ('atómico', 1), ('progresos', 1), ('analgésicos', 1), ('estacionando', 1), ('recogiendo', 2), ('planificando', 1), ('obstinado', 1), ('contando', 3), ('recula', 1), ('retroceder', 1), ('jogging', 1), ('precipicio', 1), ('quienes', 3), ('chupaba', 1), ('mexicana', 2), ('ojeó', 2), ('arquitectura', 1), ('captura', 1), ('marca', 3), ('trasplante', 1), ('descuidó', 1), ('lastima', 1), ('inocencia', 1), ('infló', 1), ('neumático', 2), ('zarandea', 1), ('rendirse', 5), ('rentó', 1), ('tabla', 2), ('alquiló', 1), ('snowboard', 1), ('dimitido', 1), ('reescribió', 2), ('urgente', 5), ('haberse', 2), ('compartía', 1), ('desconchó', 1), ('vertió', 1), ('exprimió', 1), ('limón', 3), ('pisó', 2), ('víbora', 1), ('pastilla', 2), ('sorbo', 2), ('desenchufó', 2), ('ileso', 1), ('conoceros', 1), ('conocerle', 2), ('conocerles', 1), ('sepas', 1), ('microscopio', 1), ('abrazado', 1), ('desaparecer', 1), ('mudarse', 1), ('decirte', 5), ('apasionaba', 1), ('feria', 1), ('proporcionará', 1), ('ganará', 1), ('pedirá', 1), ('defraudará', 1), ('visitará', 2), ('deshace', 1), ('colilla', 1), ('postales', 1), ('voceó', 1), ('trasplantes', 1), ('aumentando', 2), ('espéreme', 1), ('congela', 1), ('0°c', 1), ('obramos', 1), ('regresamos', 2), ('consolamos', 1), ('pudimos', 4), ('debatimos', 1), ('perdemos', 1), ('disfrutábamos', 1), ('diferencias', 1), ('disgustó', 2), ('relación', 1), ('cerrándose', 3), ('reíamos', 2), ('cometimos', 1), ('sake', 1), ('marchamos', 1), ('levantarnos', 2), ('acatar', 1), ('respetar', 1), ('miembro', 3), ('platicamos', 1), ('pospusimos', 1), ('preferimos', 1), ('torno', 2), ('platillo', 1), ('volador', 1), ('repartimos', 1), ('tareas', 2), ('callarnos', 1), ('valoramos', 1), ('malgastamos', 1), ('escribimos', 1), ('discutiremos', 2), ('actuaremos', 1), ('mostraremos', 1), ('orgullosos', 5), ('desayunando', 1), ('divertirnos', 1), ('investigando', 2), ('alcanzando', 1), ('alegramos', 2), ('desanimados', 1), ('caras', 5), ('¿eras', 2), ('hicieras', 2), ('despilfarro', 1), ('gasto', 1), ('derroche', 1), ('iniciales', 1), ('recomendaste', 1), ('trataste', 1), ('onu', 1), ('exacta', 1), ('cierran', 1), ('sales', 2), ('modos', 1), ('apellido', 3), ('calza', 1), ('asfalto', 2), ('¿pero', 1), ('costo', 1), ('actual', 2), ('sanguíneo', 5), ('filosofía', 1), ('terminaste', 3), ('pavo', 2), ('papás', 1), ('equivocó', 1), ('obtuviste', 1), ('subo', 2), ('venís', 3), ('cafetería', 1), ('bibliotecaria', 1), ('sentabas', 1), ('encajar', 1), ('vagón', 1), ('fundó', 1), ('disneyland', 2), ('tostadas', 1), ('haceros', 2), ('preocupadas', 1), ('tartamudeas', 1), ('sonríes', 3), ('atacaste', 1), ('dejaste', 5), ('delataste', 1), ('preguntáis', 1), ('preguntan', 1), ('sientas', 2), ('confías', 3), ('confiáis', 1), ('¿durará', 1), ('¿nadarás', 1), ('¿sería', 1), ('¿querrías', 1), ('¿jugarías', 1), ('congresista', 2), ('escríbele', 1), ('levadura', 2), ('masa', 1), ('eleve', 1), ('sorprendés', 1), ('oyendo', 1), ('elegida', 1), ('reemplazable', 1), ('tomarte', 4), ('ocupar', 2), ('odiar', 2), ('hipnotizarme', 1), ('podríais', 1), ('rindes', 2), ('¡chicos', 1), ('daros', 1), ('sobra', 3), ('aguadas', 1), ('trapo', 1), ('alternativas', 2), ('creernos', 1), ('parecés', 4), ('papión', 6), ('babuino', 1), ('mandril', 1), ('odiás', 1), ('comparar', 1), ('alzado', 2), ('consumir', 1), ('agarraste', 1), ('ridículos', 1), ('escondidas', 3), ('arrogantes', 1), ('lastimar', 1), ('creerás', 1), ('estarías', 6), ('¡mejor', 1), ('empiezas', 1), ('comenzaras', 1), ('empieces', 1), ('arruinar', 2), ('entenderás', 4), ('avergonzando', 1), ('interrumpiendo', 1), ('sonrojar', 1), ('veloces', 1), ('arruinando', 1), ('atractivo', 2), ('perspicaz', 1), ('posesivo', 1), ('callada', 4), ('salados', 1), ('oes', 1), ('aes', 1), ('denegada', 1), ('arrugada', 2), ('interjección', 1), ('susurró', 1), ('reunió', 1), ('hexágono', 1), ('usan', 1), ('cuadrado', 2), ('alcoholismo', 1), ('incurable', 2), ('abandonen', 1), ('sinceros', 1), ('demostrar', 1), ('actúan', 1), ('parientes', 1), ('¿quedamos', 1), ('colando', 1), ('enamorando', 1), ('¿cocinas', 1), ('refieres', 3), ('refiriendo', 1), ('siguen', 3), ('enojadas', 1), ('temes', 2), ('asistencia', 2), ('obligatoria', 1), ('austria', 1), ('aliados', 2), ('traen', 1), ('comprarle', 1), ('tractor', 1), ('comprarnos', 1), ('resolver', 11), ('¿podrás', 2), ('¿alcanzas', 1), ('cuadro', 3), ('desatar', 5), ('¿hablan', 1), ('collares', 1), ('cárgalo', 1), ('juegan', 2), ('juguetes', 3), ('concisión', 1), ('considérame', 1), ('considéreme', 1), ('considérenme', 1), ('considérate', 1), ('corrígeme', 2), ('prestás', 3), ('llamarme', 18), ('hacerme', 6), ('pasarme', 4), ('¿podríais', 1), ('reduce', 1), ('grasientas', 1), ('largos', 3), ('¿herí', 2), ('¿intentó', 1), ('apoyaba', 2), ('¿llamasteis', 1), ('limpiado', 1), ('¿limpiaste', 1), ('conseguiste', 2), ('¿mencionaste', 1), ('¿estudiaste', 1), ('¿tocaste', 1), ('lavaste', 1), ('lavado', 3), ('predicho', 1), ('predijo', 3), ('papi', 1), ('¿venden', 1), ('mandarinas', 1), ('harina', 4), ('cuenco', 2), ('¿lleva', 1), ('boletos', 2), ('sr', 1), ('macedonia', 1), ('¿requieres', 1), ('baña', 1), ('traduces', 1), ('letras', 1), ('divertir', 2), ('compartirlo', 4), ('esquives', 1), ('molestéis', 2), ('molesten', 2), ('cruces', 1), ('desobedezca', 1), ('incumplas', 1), ('oscurezca', 1), ('engañen', 1), ('movimientos', 1), ('bruscos', 1), ('fósforos', 1), ('nades', 1), ('desquites', 1), ('silbes', 1), ('preocupe', 1), ('baseball', 1), ('cometer', 4), ('negociable', 3), ('contactarme', 1), ('averigua', 1), ('alimentos', 1), ('prevenido', 1), ('sáquelo', 1), ('¡salí', 1), ('¡rápido', 1), ('¿escogiste', 1), ('halcones', 1), ('presa', 1), ('abusa', 2), ('ayudáramos', 1), ('anocheciera', 1), ('resfría', 2), ('ascendido', 2), ('demuestra', 1), ('disfrutó', 1), ('mayo', 3), ('hobbys', 1), ('hokkaido', 2), ('vigoroso', 1), ('dibujo', 6), ('detestado', 1), ('toro', 3), ('codos', 2), ('lujos', 1), ('bromeó', 1), ('repisa', 1), ('azafata', 1), ('popeye', 1), ('descuida', 1), ('estudios', 1), ('alentadoramente', 1), ('opuso', 3), ('saltarse', 1), ('únicamente', 1), ('hoteles', 1), ('ahorró', 2), ('entrecortado', 1), ('lenguas', 7), ('unidad', 1), ('creído', 2), ('retorció', 1), ('bigote', 3), ('desabotonó', 4), ('destruirlo', 1), ('sordos', 1), ('ruegos', 1), ('súplicas', 3), ('instantánea', 1), ('reelegido', 1), ('poseyó', 1), ('enviaron', 1), ('combatir', 1), ('esmoquin', 2), ('melodía', 2), ('chifló', 1), ('sinoamericano', 1), ('fluidamente', 4), ('perdidamente', 1), ('médula', 1), ('comprensivo', 1), ('amabilidad', 2), ('elogió', 2), ('pedazo', 2), ('niñez', 1), ('latía', 1), ('alumnos', 2), ('sostenelo', 1), ('disparando', 1), ('prevenirlo', 1), ('denuncio', 1), ('longitud', 2), ('tardar', 1), ('pesa', 4), ('¡apresúrate', 1), ('reto', 1), ('lombriz', 1), ('viruela', 1), ('andarme', 1), ('rodeos', 5), ('perdones', 2), ('perdonéis', 1), ('amistad', 2), ('nintendo', 1), ('3ds', 1), ('cielorraso', 1), ('cuota', 2), ('honorarios', 1), ('acostumbrarme', 1), ('quererla', 1), ('hospitales', 2), ('diferenciarlos', 1), ('confieso', 1), ('bailé', 1), ('similar', 3), ('colgué', 1), ('centros', 1), ('fijo', 3), ('ram', 1), ('frita', 1), ('moratón', 1), ('ningunos', 1), ('moretones', 1), ('variedad', 1), ('presionarte', 1), ('muera', 3), ('entrometerme', 2), ('vomitar', 2), ('enamoré', 1), ('crié', 3), ('infancia', 4), ('sangrado', 1), ('racha', 1), ('desayuné', 2), ('730', 1), ('recurrir', 2), ('dispararle', 1), ('notado', 3), ('¡odio', 1), ('suegra', 1), ('cronograma', 1), ('ajustado', 1), ('revuelto', 1), ('escalado', 1), ('habilidad', 1), ('as', 3), ('tréboles', 1), ('preocuparme', 1), ('duchar', 2), ('medicamento', 1), ('medicinas', 1), ('remedios', 1), ('adolescentes', 1), ('amigables', 1), ('valga', 1), ('estéis', 2), ('diviertan', 1), ('resultaría', 1), ('distinguir', 1), ('dibujar', 2), ('ordeñar', 1), ('barbaridad', 2), ('npr', 1), ('construir', 1), ('desabroché', 1), ('villancicos', 1), ('secretaria', 3), ('correcciones', 1), ('compensé', 1), ('nade', 1), ('reuní', 1), ('¡perdí', 1), ('escolar', 1), ('acercándome', 2), ('recuperarlos', 2), ('mantenerte', 2), ('cooperación', 1), ('visito', 2), ('oídas', 1), ('encargué', 1), ('1000', 1), ('pinté', 2), ('parcialmente', 1), ('tailandesa', 3), ('enfáticamente', 1), ('abstengo', 1), ('negué', 1), ('monociclo', 3), ('andé', 1), ('contaría', 1), ('serruchando', 1), ('serrando', 1), ('tendría', 2), ('haberle', 4), ('riéndome', 1), ('trizas', 1), ('documento', 5), ('estiré', 1), ('mareé', 1), ('retiro', 1), ('odiabas', 1), ('sabíais', 1), ('preocuparas', 1), ('preocupaseis', 1), ('inquietase', 1), ('intentaba', 2), ('disuadir', 1), ('acostumbro', 1), ('hermanito', 1), ('golosina', 1), ('gominola', 1), ('honesta', 4), ('spaghetti', 1), ('deshacerme', 1), ('unirme', 1), ('guardarlo', 1), ('parecerme', 2), ('confesara', 1), ('gustarte', 1), ('tráfico', 7), ('youtube', 1), ('kobe', 1), ('secaré', 1), ('camiseta', 1), ('¡siempre', 2), ('hablaras', 1), ('ocurra', 5), ('sorprendería', 3), ('recomendaría', 1), ('ayudaras', 1), ('sugerencias', 1), ('llegaré', 2), ('meteré', 1), ('conseguiré', 1), ('internen', 1), ('prestaré', 1), ('decepcionaré', 2), ('mostrar', 3), ('comenzaré', 1), ('memorizarlo', 1), ('visitaré', 3), ('cacahuates', 2), ('cacahuetes', 2), ('estrés', 1), ('cruzando', 3), ('emocionalmente', 1), ('harta', 2), ('pudieras', 1), ('hayas', 4), ('disfrutaras', 1), ('devuelvo', 1), ('dificultades', 2), ('protegeros', 1), ('octavo', 2), ('reparando', 1), ('tantísimo', 1), ('perdieses', 1), ('perdieras', 1), ('intenciones', 2), ('admirado', 3), ('licencia', 1), ('revisé', 1), ('estúpidas', 3), ('prioridades', 1), ('demasiadas', 2), ('llorá', 1), ('¿cuesta', 1), ('recuperando', 1), ('detuviste', 3), ('630', 1), ('manuscrito', 1), ('sensación', 4), ('hiele', 1), ('accidental', 1), ('informático', 1), ('macizo', 1), ('oscuras', 1), ('distaba', 1), ('alcance', 1), ('enfermizo', 1), ('aberración', 1), ('ocasión', 3), ('delicado', 1), ('fastidio', 1), ('quince', 2), ('consta', 1), ('visible', 1), ('expresión', 1), ('contrato', 3), ('inofensivo', 1), ('petróleo', 1), ('conservar', 1), ('kennedy', 1), ('patea', 1), ('decidle', 1), ('díganle', 1), ('conduzcamos', 1), ('pidamos', 2), ('discutamos', 1), ('botellas', 1), ('supongamos', 1), ('esclavitud', 2), ('lichis', 1), ('uva', 1), ('producción', 1), ('quesos', 1), ('decoró', 2), ('pestañas', 1), ('novios', 1), ('jubilada', 1), ('preguntarte', 6), ('navaja', 4), ('dejáis', 1), ('dejan', 1), ('telefonearle', 1), ('cortinas', 7), ('colgar', 1), ('permites', 1), ('ofrezca', 1), ('sacarte', 1), ('tomarle', 1), ('puedan', 1), ('tengamos', 1), ('engañada', 1), ('agricultura', 3), ('divorciaron', 1), ('furiosos', 3), ('calcetas', 1), ('dañó', 2), ('vegetariana', 1), ('apretes', 1), ('excepto', 6), ('escapa', 4), ('mezcla', 1), ('fines', 3), ('cancelado', 2), ('poseer', 1), ('chuchito', 1), ('pregúntaselo', 2), ('cómprame', 1), ('extender', 1), ('inserte', 1), ('mantenelo', 1), ('suélteme', 1), ('salúdame', 1), ('envíeme', 2), ('polonia', 1), ('baratas', 3), ('súbitamente', 1), ('presione', 1), ('pulsa', 1), ('¡apaguen', 1), ('repetid', 1), ('repitan', 1), ('enrolle', 1), ('aplican', 2), ('aumentado', 1), ('sueldos', 1), ('disuelve', 2), ('8', 5), ('envíe', 1), ('brasileños', 1), ('brasileñas', 1), ('inclinando', 1), ('irrumpió', 1), ('centró', 1), ('tímidamente', 2), ('seria', 2), ('educada', 3), ('chantajeándole', 1), ('mandado', 1), ('broche', 1), ('proverbios', 1), ('reveló', 3), ('resfriada', 2), ('ahuyentó', 1), ('mostro', 1), ('apartó', 1), ('presenció', 2), ('intentará', 1), ('inadecuada', 2), ('miedito', 1), ('cuadra', 2), ('ortográficos', 1), ('intrusión', 1), ('disculpame', 1), ('llamás', 1), ('deletree', 1), ('avellanas', 1), ('acero', 1), ('ilegales', 1), ('torturarte', 1), ('desmayé', 1), ('conocimiento', 3), ('calentar', 1), ('sidney', 1), ('¡cuídense', 1), ('sácate', 1), ('acepta', 1), ('temor', 1), ('evitarse', 1), ('comestible', 1), ('distrae', 1), ('insensatez', 1), ('rebalsó', 1), ('memorable', 1), ('conveniente', 2), ('césar', 1), ('derrocado', 1), ('españoles', 1), ('viciado', 1), ('embajador', 1), ('subasta', 1), ('autor', 2), ('brasileño', 1), ('gatear', 1), ('globos', 1), ('nido', 1), ('agujereada', 1), ('capturó', 1), ('templado', 2), ('criminal', 2), ('delincuente', 1), ('mandaron', 1), ('ladrar', 3), ('sacudía', 1), ('meneaba', 1), ('caminaba', 5), ('collar', 2), ('abriendo', 3), ('propagó', 1), ('marchitaron', 1), ('polvorientos', 1), ('mobiliario', 2), ('acercan', 1), ('impostor', 2), ('retroiluminado', 1), ('aterrizaje', 1), ('incesante', 1), ('chances', 2), ('organización', 1), ('empanadilla', 1), ('curda', 1), ('impresora', 2), ('proverbio', 1), ('encargo', 1), ('rebajas', 1), ('anclas', 1), ('despejará', 1), ('amainaba', 1), ('hablada', 1), ('inundadas', 1), ('suma', 3), ('título', 1), ('ruinas', 1), ('congestionado', 1), ('rastro', 1), ('enfriado', 1), ('innegable', 1), ('saldrá', 1), ('agujetas', 1), ('ventas', 2), ('habido', 2), ('vías', 1), ('férreas', 1), ('supervivientes', 2), ('higiénico', 2), ('originales', 1), ('cortan', 1), ('calzan', 1), ('renunciaron', 1), ('aceptaron', 2), ('adoptaron', 2), ('acordaban', 1), ('acordaron', 1), ('recordaban', 1), ('recordaron', 1), ('tendieron', 1), ('nueces', 1), ('preparan', 1), ('sensatas', 1), ('paces', 1), ('ahuyentaron', 1), ('actuaron', 1), ('rapidez', 1), ('maltrataron', 1), ('subrepticia', 1), ('cautelosamente', 1), ('aplastaron', 1), ('pelearon', 1), ('lucharon', 4), ('liberaron', 1), ('almohadas', 1), ('conocieron', 4), ('secundaria', 1), ('avanzaron', 1), ('fatigados', 1), ('balearon', 1), ('corrieron', 2), ('pasaportes', 1), ('confundidos', 1), ('persiguiendo', 2), ('¡pensá', 1), ('amigable', 1), ('tuerca', 1), ('policíaca', 1), ('presagio', 1), ('abandonada', 1), ('tremendamente', 1), ('perfección', 1), ('billetes', 1), ('despedí', 1), ('interesarte', 1), ('desconcertante', 1), ('mantendrá', 2), ('estornino', 1), ('cebras', 1), ('vendó', 1), ('hirvió', 2), ('patoso', 1), ('rebanó', 1), ('antiguas', 2), ('creérselo', 1), ('admiración', 1), ('impensable', 1), ('importarle', 1), ('97', 2), ('teñido', 2), ('bañó', 1), ('raite', 1), ('escalofríos', 1), ('vistió', 2), ('quedaban', 3), ('mensajeando', 1), ('novias', 2), ('desempacado', 1), ('pololo', 2), ('paracaidista', 1), ('cocainómano', 1), ('guitarrista', 2), ('bebedor', 1), ('social', 1), ('fiscal', 1), ('tosco', 1), ('alimentando', 1), ('balonmano', 1), ('hiperventilando', 1), ('sede', 1), ('cantina', 1), ('almacén', 1), ('manipulando', 1), ('escudriñando', 1), ('intensidad', 1), ('manager', 1), ('reflexionando', 1), ('sociable', 1), ('maru', 1), ('experimentar', 1), ('lente', 1), ('eventos', 1), ('deportivos', 1), ('hamburguesas', 4), ('tiende', 4), ('chela', 2), ('desplumó', 1), ('marisco', 1), ('duchó', 1), ('lonchas', 1), ('chasqueó', 1), ('escupió', 1), ('estrujó', 2), ('alocado', 1), ('arrojó', 1), ('desatascó', 1), ('desenfundó', 1), ('desabrochó', 1), ('voluntarió', 1), ('escenario', 3), ('agradecerte', 4), ('viésemos', 1), ('viéramos', 1), ('celda', 2), ('hundido', 1), ('pensamientos', 3), ('sumido', 1), ('enfrascado', 1), ('2010', 1), ('bromeaba', 1), ('reacio', 1), ('regó', 1), ('ostra', 1), ('quedará', 2), ('competencia', 2), ('arqueología', 1), ('plataforma', 1), ('petrolífera', 1), ('confiscado', 2), ('fachero', 1), ('surtió', 1), ('efecto', 2), ('procure', 1), ('controlarte', 2), ('faros', 1), ('contadas', 1), ('capa', 1), ('¿eran', 1), ('apreciamos', 2), ('equilibrio', 2), ('pensamos', 2), ('cenamos', 2), ('conferencia', 2), ('secreta', 2), ('¡traemos', 1), ('estupendas', 1), ('analizar', 1), ('proactivos', 1), ('mantenernos', 1), ('esperarle', 1), ('vigilantes', 1), ('aumentar', 2), ('chanza', 1), ('reportamos', 1), ('agradecimos', 1), ('tranquilamente', 1), ('perfeccionistas', 1), ('únicos', 2), ('fuésemos', 1), ('ocaso', 3), ('anochecer', 1), ('pasarla', 1), ('tendremos', 1), ('entrante', 1), ('sintiéndonos', 2), ('campeones', 1), ('navegamos', 2), ('orgullosas', 1), ('¿naciste', 1), ('establo', 1), ('¿estaban', 2), ('¿saliste', 2), ('sentando', 1), ('propones', 2), ('hablabais', 1), ('letrero', 2), ('compone', 1), ('nacionalidad', 3), ('ocupación', 1), ('equipos', 1), ('jugaban', 1), ('reacción', 2), ('nacisteis', 1), ('hacés', 1), ('causando', 1), ('zumbido', 1), ('aparador', 1), ('tasa', 1), ('vuelves', 1), ('botes', 2), ('fotografías', 3), ('cepillo', 1), ('¿desde', 2), ('comedor', 1), ('prefieres', 4), ('buscáis', 1), ('esperas', 3), ('provocó', 1), ('políticas', 1), ('mueble', 1), ('tango', 1), ('insegura', 4), ('inseguros', 1), ('inseguras', 1), ('qués', 1), ('paranoicos', 2), ('cocinas', 2), ('confiás', 1), ('esperás', 1), ('castigando', 1), ('diantres', 2), ('mataría', 2), ('querrías', 1), ('triunfará', 2), ('fracasará', 2), ('¿hará', 1), ('ayudarías', 1), ('ganadores', 1), ('consumen', 1), ('cables', 1), ('trabajadores', 4), ('trazarías', 1), ('banano', 1), ('banana', 2), ('¿desea', 2), ('ordenar', 3), ('¿dejarás', 1), ('teclear', 1), ('progreso', 2), ('cobrado', 1), ('merecés', 1), ('apresurarte', 3), ('fumas', 2), ('¿сierto', 1), ('manejaste', 1), ('hábilmente', 1), ('mensajes', 3), ('educados', 1), ('afrontar', 1), ('leerte', 1), ('aprendes', 1), ('elegirán', 1), ('conveniencia', 1), ('dolería', 1), ('enfrentarte', 1), ('enfrentar', 1), ('¡deberías', 1), ('espiar', 1), ('fisgonear', 1), ('escapará', 1), ('creelo', 1), ('meterás', 1), ('superarás', 1), ('pasarás', 2), ('aprenderás', 1), ('comprenderás', 1), ('rompiendo', 1), ('manejando', 2), ('terminasteis', 1), ('asustando', 1), ('desperdiciando', 1), ('podido', 1), ('ingles', 1), ('esfuerzos', 1), ('fantástica', 1), ('graciosas', 1), ('corrido', 1), ('mencionaron', 1), ('bajada', 1), ('deseos', 1), ('«¡protesto»', 1), ('«se', 1), ('admite»', 1), ('86400', 1), ('floja', 1), ('ángulos', 1), ('meses', 3), ('inevitables', 1), ('pimienta', 3), ('consumieron', 1), ('provisiones', 1), ('ira', 1), ('equivocarse', 1), ('¿todas', 1), ('¿mis', 1), ('secos', 1), ('¿estas', 1), ('tazas', 3), ('porcelana', 1), ('resolverla', 1), ('¿serás', 1), ('¿entras', 1), ('¿pasas', 1), ('coqueteando', 1), ('zorreando', 1), ('pitorreando', 1), ('cachondeando', 1), ('bancos', 2), ('cerraron', 1), ('ladrador', 1), ('mordedor', 1), ('mecánicas', 2), ('distancias', 1), ('suelen', 1), ('oponían', 1), ('búfalos', 1), ('bush', 1), ('mantequilla', 8), ('obtiene', 1), ('repollo', 1), ('bomberos', 2), ('hacerles', 1), ('mandolina', 1), ('usuario', 2), ('posponer', 1), ('copiarlo', 1), ('explicármelo', 2), ('darnos', 1), ('mantenerlo', 1), ('prestarme', 2), ('alcanzas', 1), ('alcanza', 1), ('ukelele', 1), ('lanzar', 1), ('cancelen', 1), ('reservas', 1), ('nocturnos', 1), ('fabrica', 1), ('visitarme', 5), ('congreso', 2), ('posibilidad', 1), ('custer', 1), ('darwin', 1), ('transformó', 1), ('¿dejé', 1), ('¿ayer', 3), ('gatito', 3), ('cepillaste', 1), ('¡¿alcanzaste', 1), ('divertisteis', 1), ('pasasteis', 1), ('¿tuvo', 2), ('¿pagaste', 2), ('cosiste', 1), ('dioxina', 1), ('peligrosa', 5), ('responsabilidad', 2), ('¿haces', 2), ('¿esperas', 1), ('violenta', 2), ('¿andas', 1), ('lúcidos', 1), ('¿llevas', 1), ('¿pegas', 1), ('¿pegáis', 1), ('celta', 1), ('frutillas', 1), ('¿requiere', 1), ('similitud', 1), ('¿cantas', 1), ('hablás', 2), ('ciegos', 1), ('calculadora', 1), ('conteste', 1), ('salvarlos', 1), ('venderlos', 3), ('lleguéis', 1), ('canal', 1), ('regreséis', 1), ('quejándote', 2), ('escribirme', 2), ('asusten', 1), ('mirés', 1), ('burléis', 1), ('jueges', 1), ('recurras', 1), ('asustes', 1), ('apagues', 2), ('cansás', 1), ('cansas', 1), ('reconoces', 1), ('folio', 1), ('trazá', 2), ('educación', 5), ('entusiasmo', 2), ('asistir', 2), ('elogian', 1), ('anduvo', 2), ('montañas', 2), ('fidelidad', 1), ('indica', 1), ('pliego', 1), ('solicitud', 3), ('cubra', 1), ('jarros', 1), ('transforma', 2), ('desperdiciar', 1), ('microbios', 1), ('provocar', 1), ('enfermedades', 1), ('aula', 4), ('tiza', 3), ('convencerlo', 3), ('estudian', 1), ('¡excelente', 1), ('distribuido', 1), ('¿he', 1), ('explicado', 1), ('claridad', 2), ('reunido', 2), ('¿ocultaste', 1), ('¿tomaste', 1), ('aconsejó', 4), ('agosto', 1), ('critica', 2), ('colgaran', 1), ('decepcionó', 1), ('modestia', 1), ('enamoró', 1), ('cortante', 1), ('ferocidad', 1), ('rechazaran', 1), ('empeñar', 1), ('respiratorios', 1), ('batió', 2), ('record', 1), ('titubeó', 1), ('instante', 2), ('hablador', 1), ('alardeando', 1), ('décimo', 1), ('quinto', 4), ('inmediata', 1), ('testamento', 1), ('pooch', 1), ('raramente', 2), ('señas', 1), ('detuvieran', 1), ('gasta', 1), ('través', 4), ('aprendió', 2), ('participó', 1), ('1998', 1), ('influenciado', 1), ('muertito', 2), ('achacaron', 1), ('culpado', 2), ('ahorcado', 1), ('judío', 1), ('mantenido', 1), ('cautiverio', 1), ('humilló', 2), ('pasivo', 2), ('silbaba', 1), ('seguirá', 1), ('regresará', 1), ('siguientes', 1), ('categoría', 1), ('acciones', 2), ('argumento', 2), ('gastada', 1), ('acumulándose', 1), ('desgastado', 1), ('gabardina', 1), ('desgastada', 1), ('granjeros', 1), ('¡detente', 1), ('andan', 1), ('deshago', 1), ('reírte', 1), ('subiste', 1), ('detenemos', 1), ('gorras', 1), ('sombreros', 1), ('cortaste', 1), ('kilo', 1), ('libra', 2), ('obtener', 1), ('antigüedad', 1), ('afectará', 1), ('prohibida', 1), ('caza', 2), ('actué', 1), ('capturo', 1), ('afilando', 2), ('exprimiendo', 1), ('limpiando', 3), ('ayudase', 1), ('sarampión', 1), ('persuasivo', 1), ('cantarlo', 1), ('cantarla', 1), ('comprármelo', 2), ('olvidara', 1), ('mirarte', 1), ('maletín', 2), ('atino', 1), ('cerradura', 2), ('lógica', 1), ('quitarme', 1), ('revelar', 2), ('fuentes', 2), ('escogí', 1), ('escalé', 1), ('queriendo', 1), ('apetecía', 1), ('existía', 1), ('descortés', 2), ('golpearlo', 1), ('muriera', 1), ('dislocado', 1), ('atrevo', 1), ('hablarle', 1), ('afecte', 1), ('autostop', 1), ('afecta', 1), ('fío', 2), ('herirla', 1), ('perderos', 1), ('perderte', 3), ('recordarlo', 1), ('contároslo', 1), ('contártelo', 1), ('reparto', 1), ('prius', 1), ('alimento', 2), ('peleo', 1), ('aniversario', 1), ('averigüé', 2), ('demandas', 1), ('autoescuela', 1), ('portátil', 4), ('interior', 2), ('chorreando', 1), ('infarto', 2), ('considerado', 3), ('contradecirte', 1), ('contradecirle', 1), ('contradecirles', 1), ('paquete', 2), ('tapada', 1), ('panda', 2), ('corazones', 1), ('picas', 1), ('cepillarme', 1), ('lustrarme', 1), ('sacarle', 1), ('brillo', 1), ('bolear', 1), ('pensármelo', 2), ('varios', 3), ('pisadas', 1), ('explosiones', 1), ('diversas', 1), ('opiniones', 1), ('vajilla', 1), ('mejore', 1), ('juzgarte', 1), ('organizar', 1), ('ilusionaría', 1), ('defraudado', 1), ('barcos', 1), ('aprendo', 1), ('extranjeras', 1), ('policíacas', 1), ('barrio', 1), ('espontáneo', 1), ('amarillo', 1), ('conversaciones', 1), ('vestís', 1), ('coleccionar', 1), ('vainilla', 1), ('demasiados', 1), ('mismísimo', 1), ('príncipe', 1), ('acortar', 1), ('protegerme', 2), ('dejaras', 1), ('usualmente', 1), ('murmuro', 1), ('eléctrica', 2), ('telas', 1), ('lisas', 1), ('crema', 3), ('invitación', 5), ('montando', 1), ('cruzar', 1), ('compartí', 1), ('comencé', 2), ('¡aún', 2), ('¡todavía', 1), ('juro', 1), ('enseñé', 4), ('presuntuoso', 2), ('despejando', 1), ('cuco', 1), ('relajar', 1), ('topado', 2), ('confiabas', 1), ('tuvieras', 1), ('participé', 1), ('metan', 2), ('carcel', 1), ('respete', 1), ('escalar', 1), ('sentirme', 1), ('sirviente', 1), ('lucir', 1), ('formar', 1), ('reservar', 1), ('pensarlo', 1), ('estemos', 1), ('caves', 1), ('sigas', 1), ('sorprenderla', 1), ('sorprenderte', 1), ('esperase', 1), ('supermercado', 3), ('atracado', 1), ('poseído', 1), ('avaricia', 1), ('arañó', 1), ('lavo', 1), ('reunirme', 1), ('regalaré', 1), ('tolerarlo', 1), ('acabe', 1), ('mencionaré', 1), ('soportaré', 1), ('inventado', 1), ('iría', 2), ('rutas', 1), ('devolver', 1), ('hojear', 1), ('ojear', 1), ('estrangular', 1), ('fueses', 1), ('acordaré', 3), ('responderé', 1), ('confeccionaré', 1), ('estropearé', 1), ('indicaré', 1), ('usaré', 1), ('habilitado', 1), ('dándole', 1), ('recordaste', 1), ('recordado', 1), ('consultar', 1), ('contraria', 1), ('chupatintas', 3), ('despido', 1), ('busco', 2), ('hablante', 1), ('nativo', 1), ('ayudarlas', 1), ('inspirada', 1), ('molestado', 2), ('haberos', 3), ('importunado', 2), ('molestarle', 1), ('disfrutarlo', 1), ('gustarme', 1), ('curso', 2), ('danza', 1), ('traducir', 1), ('valgo', 1), ('probé', 1), ('despedirme', 1), ('faena', 1), ('alquilé', 1), ('merced', 1), ('inspire', 1), ('¿papá', 1), ('¿mil', 1), ('suficientes', 1), ('aplicación', 1), ('impuesto', 1), ('capciosa', 1), ('aceptable', 1), ('spaguetti', 1), ('máquina', 5), ('¿ésta', 2), ('perteneció', 1), ('riñón', 3), ('costaba', 2), ('anochece', 1), ('maravillas', 1), ('embargo', 1), ('mansión', 1), ('necesariamente', 1), ('desafortunadamente', 3), ('pasadas', 1), ('windows', 1), ('principios', 1), ('rayos', 2), ('¡el', 3), ('certero', 1), ('equivocación', 1), ('empezaba', 1), ('metros', 3), ('publicado', 1), ('1969', 1), ('oscurecerá', 1), ('gustos', 1), ('acomodada', 1), ('evidentemente', 1), ('arrójala', 1), ('descabellado', 2), ('asiático', 1), ('koko', 1), ('gorila', 1), ('presentarte', 2), ('aclare', 1), ('avísame', 1), ('déjelos', 1), ('¡juntémonos', 1), ('¡volvamos', 1), ('juntarnos', 1), ('démosle', 3), ('campito', 1), ('démosles', 1), ('mantengamos', 1), ('desanimemos', 1), ('juntemos', 1), ('republicano', 1), ('científicos', 1), ('senadores', 1), ('opusieron', 1), ('mesero', 2), ('madrastra', 1), ('hermanastra', 1), ('hurgando', 2), ('pediros', 1), ('borrador', 1), ('borrar', 2), ('debiéramos', 1), ('michael', 1), ('monroe', 1), ('votos', 1), ('vocación', 1), ('novato', 1), ('reparación', 2), ('conviven', 1), ('ardilla', 1), ('remuerde', 1), ('construye', 1), ('permitirá', 1), ('fregar', 1), ('sobreprotectora', 1), ('multi', 1), ('desataron', 1), ('trota', 1), ('apretado', 2), ('lavarropa', 1), ('lavarropas', 1), ('lavadora', 1), ('exacto', 3), ('darles', 1), ('retrasarte', 1), ('descubrir', 1), ('retendrá', 1), ('distraerá', 1), ('pasarlo', 2), ('divertirte', 1), ('levantan', 2), ('aprobada', 1), ('activos', 1), ('registradora', 1), ('persistencia', 1), ('frutos', 1), ('mueren', 1), ('revele', 1), ('fumen', 1), ('desperdicie', 1), ('diván', 1), ('envíen', 1), ('lústrese', 1), ('lústrate', 1), ('visitame', 1), ('visítame', 1), ('visíteme', 1), ('praga', 1), ('seguían', 1), ('sacerdotes', 1), ('curas', 1), ('comportarte', 1), ('secas', 1), ('leída', 1), ('republicanos', 1), ('roosevelt', 1), ('samsung', 1), ('tiburones', 1), ('nadadores', 2), ('supuestamente', 1), ('engordar', 1), ('asiste', 1), ('bolearon', 1), ('inesperadamente', 1), ('universitaria', 1), ('obstinada', 2), ('dibujando', 2), ('apurada', 1), ('especializó', 1), ('bancario', 1), ('mendiga', 1), ('empujón', 1), ('recitó', 1), ('declinó', 2), ('desayunar', 3), ('avanzó', 1), ('daños', 3), ('desvió', 1), ('adularme', 1), ('acusada', 1), ('deseosa', 1), ('soltura', 1), ('dolorosamente', 1), ('delgada', 1), ('criada', 3), ('enjugó', 1), ('tacón', 1), ('museos', 1), ('aturde', 1), ('implicas', 1), ('fuman', 1), ('atrapadas', 1), ('sudáfrica', 1), ('controlaba', 1), ('florida', 1), ('retrasando', 1), ('golpearte', 1), ('suzhou', 2), ('avisame', 1), ('termines', 1), ('tensiones', 1), ('aumentaban', 1), ('recogerme', 1), ('entenderlo', 2), ('comprenderlo', 1), ('agradecemos', 1), ('áspera', 1), ('enloquece', 1), ('¡ese', 1), ('intrigó', 1), ('descompuso', 1), ('solemne', 1), ('difícilmente', 2), ('preferida', 1), ('hilton', 1), ('airbag', 1), ('flecha', 2), ('aun', 1), ('hemorragia', 1), ('ajustó', 1), ('repleto', 1), ('canasto', 1), ('resucitó', 1), ('aplazada', 1), ('caseta', 1), ('enfriando', 2), ('reírse', 1), ('gobernador', 1), ('derritiendo', 2), ('cancelada', 1), ('monjes', 1), ('destrozada', 1), ('enfermeras', 1), ('simpáticas', 1), ('orquesta', 1), ('estacionamiento', 1), ('decayendo', 1), ('triunfó', 2), ('descartados', 1), ('pm', 1), ('enchufada', 1), ('sorprendentes', 1), ('servidor', 1), ('estructura', 1), ('hundirse', 1), ('váter', 1), ('cisterna', 3), ('garantizado', 1), ('enlodaron', 1), ('salvada', 1), ('temer', 1), ('necesidad', 1), ('pertenecen', 2), ('¡estas', 1), ('consiguieron', 1), ('amables', 1), ('sanas', 1), ('enchiladas', 1), ('convirtieron', 1), ('capturaron', 1), ('robando', 1), ('consideran', 1), ('tales', 1), ('distintas', 1), ('invadieron', 1), ('afueras', 1), ('pisos', 1), ('ciegas', 2), ('odiarme', 1), ('artículos', 1), ('echarlos', 1), ('tradujeron', 1), ('zelanda', 1), ('gastaban', 1), ('pedirían', 1), ('rendirían', 1), ('creyeron', 2), ('promedio', 1), ('marchando', 2), ('monto', 1), ('incluye', 1), ('contraría', 2), ('parecido', 2), ('gruesa', 1), ('habitaciones', 3), ('ejemplar', 1), ('sentencia', 1), ('interno', 1), ('hierva', 1), ('estrecha', 1), ('planchada', 1), ('queroseno', 1), ('material', 2), ('sillas', 6), ('rapidísimo', 1), ('búsqueda', 3), ('direcciones', 1), ('asistió', 2), ('vengó', 2), ('gracia', 4), ('apostó', 3), ('abrochó', 1), ('razonar', 1), ('aseguró', 1), ('agachaba', 1), ('sugeriste', 1), ('investigó', 1), ('destacado', 1), ('necesitó', 1), ('treintas', 1), ('sucesor', 1), ('aparenta', 1), ('ocupa', 2), ('esteroides', 2), ('alistó', 2), ('llenó', 1), ('espacios', 1), ('concedió', 1), ('desvío', 1), ('británico', 1), ('admirador', 2), ('temperamento', 2), ('rendido', 1), ('regañina', 1), ('acceso', 2), ('maritales', 1), ('cantado', 3), ('heredó', 1), ('exesposo', 1), ('yerno', 1), ('compulsivo', 3), ('convicto', 1), ('amistosa', 1), ('imprudente', 2), ('desconocido', 2), ('parpadeando', 1), ('masticando', 2), ('cortando', 1), ('lamentarlo', 1), ('recostado', 1), ('rival', 1), ('porche', 1), ('podando', 1), ('firmando', 1), ('cabro', 1), ('encenagado', 1), ('conversando', 1), ('patadas', 1), ('tacho', 1), ('decoroso', 1), ('necesitado', 2), ('movimiento', 1), ('batuta', 1), ('chatarra', 2), ('deambulaba', 1), ('remoto', 1), ('planeó', 1), ('fingía', 2), ('disfraz', 1), ('refregó', 1), ('lechuga', 3), ('desplomó', 1), ('enojarse', 1), ('freno', 3), ('disminuya', 1), ('esperara', 2), ('sorbito', 1), ('brandi', 1), ('rescatar', 2), ('pedigüeño', 1), ('exigente', 1), ('dirigió', 1), ('podio', 1), ('probarse', 1), ('comandante', 1), ('tanques', 1), ('enviado', 1), ('irak', 1), ('mero', 1), ('apuñalado', 1), ('campeonato', 1), ('dejaba', 1), ('erróneas', 1), ('compañías', 1), ('máquinas', 1), ('caminá', 1), ('lavate', 1), ('mudaremos', 1), ('escalamos', 1), ('empinada', 1), ('conducimos', 1), ('leve', 1), ('disneylandia', 1), ('problemilla', 1), ('intereses', 1), ('stock', 1), ('existencias', 1), ('gastado', 1), ('solucionarlo', 1), ('positivos', 1), ('importamos', 1), ('reunimos', 1), ('recomenzar', 1), ('ordenamos', 1), ('reposamos', 1), ('propensos', 1), ('creíamos', 1), ('sacamos', 1), ('convencerle', 1), ('tratamos', 1), ('atrapar', 2), ('cases', 2), ('peli', 1), ('descansaremos', 1), ('vendremos', 1), ('visitarte', 2), ('tomaremos', 1), ('emplearemos', 1), ('prácticamente', 1), ('añoramos', 1), ('¡bienvenido', 1), ('mas', 1), ('arcoíris', 1), ('declaración', 1), ('celebras', 1), ('celebrando', 4), ('celebráis', 1), ('celebra', 1), ('celebran', 1), ('buscás', 1), ('esperan', 2), ('miras', 2), ('soñaste', 1), ('planeas', 2), ('opinas', 1), ('usas', 2), ('buscas', 1), ('urss', 1), ('aparato', 1), ('cartel', 1), ('anterior', 1), ('objeto', 1), ('sospechar', 1), ('disfrutas', 1), ('despiertas', 1), ('usarás', 1), ('escampó', 1), ('intermedio', 1), ('dirigen', 1), ('venían', 1), ('solicitar', 1), ('correos', 4), ('patito', 1), ('elegirá', 1), ('escogerá', 1), ('vecinas', 1), ('dividió', 1), ('átomo', 1), ('combustible', 4), ('postor', 1), ('interrumpió', 1), ('comprasteis', 1), ('enfadaste', 1), ('abriste', 2), ('informaste', 1), ('veinticinco', 1), ('centavos', 1), ('cogemos', 1), ('entendéis', 1), ('creerte', 1), ('¿será', 1), ('¿saldrás', 1), ('enseñarás', 2), ('moriríamos', 1), ('dejarías', 1), ('250', 1), ('fermente', 1), ('pedirle', 3), ('¡puede', 1), ('cogerte', 1), ('utilizar', 2), ('contarme', 1), ('sobornar', 1), ('juez', 1), ('escaparte', 1), ('respondas', 1), ('escuchas', 1), ('revelaste', 1), ('recibes', 2), ('consigues', 1), ('regular', 1), ('decisiones', 2), ('alegraste', 1), ('habérsete', 1), ('perdérselo', 2), ('perderla', 1), ('necesitabas', 1), ('ejercitarte', 1), ('derrotarás', 1), ('venceréis', 1), ('arrepentirás', 1), ('oponente', 1), ('engañando', 1), ('especialito', 1), ('tiquismiquis', 1), ('arruinas', 1), ('atmósfera', 1), ('recia', 1), ('comprará', 1), ('espléndido', 1), ('—vamos', 1), ('—me', 1), ('iluminaba', 1), ('cocodrilo', 1), ('indicación', 1), ('añade', 1), ('daña', 1), ('autobuses', 1), ('engañan', 1), ('¿vais', 1), ('excepción', 3), ('asegúrate', 1), ('gallinas', 1), ('negras', 1), ('peleas', 2), ('limítrofes', 1), ('comunes', 1), ('bourbon', 1), ('búlgaro', 1), ('nata', 1), ('manteca', 1), ('llámenme', 1), ('llámeme', 1), ('párpados', 1), ('permitírnoslo', 1), ('sumar', 1), ('números', 1), ('disculpan', 1), ('grapadora', 1), ('tope', 1), ('pedirlos', 1), ('alojar', 1), ('recomendar', 1), ('enseñarnos', 1), ('vigilar', 1), ('gominolas', 1), ('ositos', 1), ('considérense', 1), ('mandarme', 1), ('sagradas', 1), ('hindúes', 1), ('proveen', 1), ('bailad', 1), ('darcy', 1), ('detroit', 1), ('¿interrumpí', 1), ('¿dije', 1), ('arrestó', 1), ('¿compusieron', 1), ('¿repararon', 1), ('decoración', 1), ('¿llegaste', 1), ('criaste', 1), ('¿creciste', 1), ('crió', 2), ('¿creció', 1), ('¿dormiste', 1), ('¿percibiste', 1), ('alquilado', 1), ('¿devolviste', 1), ('dinosaurios', 1), ('actualmente', 1), ('extintos', 1), ('dicte', 1), ('caminás', 1), ('imitarla', 1), ('imitarle', 1), ('hadas', 1), ('respaldo', 1), ('tazón', 1), ('alergia', 2), ('vacantes', 1), ('vacante', 1), ('¿conocés', 1), ('¿conocen', 1), ('san', 2), ('francisco', 2), ('tatuajes', 1), ('¿pensas', 2), ('langostinos', 1), ('camarones', 1), ('ejercitas', 1), ('regularmente', 2), ('derramada', 1), ('fritas', 1), ('fracasas', 1), ('cuelgues', 1), ('sujetes', 1), ('bajes', 1), ('desprecies', 1), ('castigue', 1), ('quite', 1), ('manilla', 1), ('atrevas', 2), ('burros', 1), ('bravos', 1), ('dibujad', 1), ('taquilla', 1), ('casillero', 1), ('frescas', 1), ('espinas', 1), ('embuste', 1), ('pizzas', 1), ('confirma', 1), ('felicja', 1), ('granjas', 1), ('sinceramente', 1), ('alcanzo', 2), ('utilizada', 1), ('lavaros', 1), ('asearse', 1), ('adivine', 2), ('adivinad', 1), ('gancho', 2), ('cenado', 2), ('asaltado', 1), ('meditado', 1), ('justamente', 1), ('asumió', 1), ('garantizó', 1), ('nacional', 1), ('naturalidad', 1), ('alarde', 1), ('récord', 2), ('mudaba', 1), ('culpas', 1), ('taló', 2), ('cerezo', 1), ('causas', 2), ('naturales', 2), ('cadillac', 2), ('rosado', 1), ('malversó', 1), ('enoja', 1), ('chiripa', 1), ('graduado', 2), ('magnífica', 1), ('acumulado', 1), ('celulares', 1), ('móviles', 1), ('criado', 1), ('guapos', 1), ('sociedad', 1), ('novelista', 2), ('prometedor', 1), ('cocaína', 1), ('apasionadamente', 1), ('bailes', 1), ('folclóricos', 1), ('encendido', 1), ('burla', 1), ('voley', 1), ('adversario', 1), ('esforzó', 2), ('dominar', 2), ('furia', 1), ('amoratado', 1), ('condenaron', 1), ('sudor', 2), ('orador', 1), ('castigaron', 1), ('1970', 1), ('alegrarse', 1), ('call', 1), ('center', 1), ('reelecciones', 1), ('elevando', 1), ('volantines', 1), ('buscado', 1), ('coraje', 2), ('respaldaba', 1), ('cenizas', 1), ('enterradas', 1), ('condición', 2), ('crítica', 2), ('conducta', 1), ('admirable', 1), ('físico', 1), ('reconfortó', 1), ('entretuvo', 1), ('significado', 1), ('¿quisiera', 1), ('abuelos', 1), ('desquitarme', 1), ('cínico', 1), ('quererme', 1), ('pasara', 1), ('convenciste', 2), ('resuelvo', 1), ('chinatown', 2), ('¿exactamente', 2), ('edades', 1), ('acusé', 1), ('sapporo', 1), ('explicando', 1), ('holanda', 2), ('catorce', 1), ('colgando', 1), ('interesan', 1), ('involucrando', 1), ('sirviendo', 1), ('llegaran', 1), ('capacidades', 1), ('facultades', 1), ('deportivo', 2), ('rescatarte', 1), ('cuidarme', 2), ('imaginármelo', 1), ('dártelos', 1), ('mintiéndole', 1), ('leáis', 1), ('confisqué', 1), ('ordenarte', 1), ('arrastré', 1), ('atravesé', 1), ('guardaste', 1), ('herirlo', 1), ('ofenderte', 1), ('contarle', 1), ('despertarte', 1), ('extraterrestres', 1), ('políticos', 2), ('asustarte', 1), ('entrés', 1), ('litro', 1), ('hallo', 1), ('reparé', 1), ('reparen', 1), ('tientas', 1), ('fotografíen', 1), ('sensibilidad', 1), ('acidez', 1), ('planearlo', 1), ('páginas', 1), ('ajustarme', 1), ('cinturón', 3), ('trastes', 1), ('enteré', 1), ('planché', 1), ('avisarte', 2), ('experimento', 2), ('técnica', 2), ('duerma', 1), ('instrumental', 1), ('mejicana', 1), ('modificaciones', 1), ('decirles', 2), ('estirar', 1), ('aconsejaras', 1), ('pretendí', 1), ('herirte', 3), ('tumbo', 1), ('deshojé', 1), ('margarita', 1), ('modernos', 1), ('new', 1), ('times', 1), ('diciéndotelo', 1), ('propios', 1), ('familiares', 1), ('besándoos', 1), ('interrumpo', 1), ('quemándose', 1), ('fumaba', 1), ('sospechaba', 2), ('vencer', 1), ('analfabeto', 1), ('paperas', 1), ('formamos', 1), ('dormida', 2), ('dormidas', 1), ('generalmente', 1), ('astronauta', 1), ('paguen', 1), ('ananá', 1), ('piña', 1), ('rascarme', 1), ('telegrama', 1), ('levemente', 1), ('atropella', 1), ('consternado', 1), ('interesaba', 1), ('kawagoe', 1), ('actuaré', 1), ('según', 2), ('pelearé', 1), ('cuidaré', 1), ('hubieses', 1), ('podré', 1), ('ayudaría', 1), ('petrolera', 1), ('manta', 1), ('contestaré', 1), ('incidente', 1), ('prenderé', 1), ('anestesia', 2), ('inyectaré', 1), ('cambiarme', 2), ('distraerlos', 1), ('transformaré', 1), ('instituto', 1), ('terremotos', 1), ('adjuntando', 1), ('acosado', 1), ('acosada', 1), ('opongo', 1), ('rotundamente', 1), ('terminando', 4), ('terminara', 1), ('sociología', 1), ('revueltos', 1), ('alivia', 1), ('gritado', 2), ('confundí', 1), ('comparando', 1), ('enojará', 1), ('lamentos', 1), ('concentrarme', 1), ('endeudado', 1), ('pescuezo', 1), ('jirafa', 1), ('arco', 1), ('iris', 1), ('repentinamente', 1), ('ay', 1), ('mueres', 2), ('calientas', 1), ('derrite', 1), ('119', 1), ('mezclilla', 1), ('mercurio', 1), ('oxford', 1), ('contexto', 2), ('cagar', 1), ('valido', 1), ('okinawa', 1), ('sonaba', 1), ('inalcanzable', 1), ('septiembre', 1), ('serán', 1), ('acusación', 2), ('sorprender', 1), ('piramidal', 1), ('mencionarlo', 1), ('momentos', 1), ('temporal', 1), ('enérgicamente', 1), ('cántaros', 1), ('intuitivo', 1), ('virtualmente', 1), ('barajar', 1), ('tardan', 2), ('secarse', 1), ('juan', 2), ('cruzados', 1), ('tendámosle', 1), ('echémosle', 1), ('ayudemos', 1), ('aplauso', 1), ('sombra', 1), ('malgastemos', 1), ('trasnochemos', 1), ('asar', 1), ('castañas', 1), ('410', 1), ('polar', 1), ('llevaban', 1), ('aguardaban', 1), ('piercing', 1), ('36', 1), ('ciernes', 1), ('cepillándose', 1), ('maquillando', 1), ('pendientes', 3), ('maternidad', 1), ('floreada', 1), ('maltrataba', 1), ('preguntaros', 1), ('preguntarles', 1), ('veme', 1), ('menores', 1), ('generalidad', 1), ('juguetones', 1), ('disfrutan', 1), ('prematuramente', 1), ('dormitorios', 1), ('fracasaron', 1), ('miserablemente', 1), ('escuchará', 1), ('temblaba', 2), ('rendirá', 1), ('entenderle', 1), ('deshonestos', 1), ('pasarte', 1), ('comprender', 2), ('actualidad', 1), ('escasea', 1), ('59', 1), ('reja', 1), ('huéspedes', 1), ('prende', 1), ('relato', 3), ('pelícanos', 1), ('picos', 1), ('duran', 1), ('contácteme', 1), ('malentiendas', 1), ('malentiendan', 1), ('endóseme', 1), ('endósame', 1), ('apagá', 1), ('prométeme', 2), ('deposita', 1), ('abandonan', 1), ('desarrolla', 1), ('absténgase', 1), ('manga', 1), ('mándeme', 1), ('factura', 1), ('discusiones', 2), ('majo', 1), ('docenas', 2), ('54', 2), ('alegró', 1), ('moral', 1), ('mecanógrafo', 1), ('honores', 2), ('tendió', 2), ('desertor', 1), ('inteligencia', 1), ('ágil', 1), ('cientos', 1), ('visitado', 1), ('psíquicas', 2), ('conductora', 1), ('contigua', 1), ('propietaria', 1), ('renunciara', 1), ('testificó', 2), ('preocupara', 1), ('década', 1), ('hablaría', 1), ('calificaciones', 1), ('refunfuñando', 1), ('mostrales', 1), ('prestá', 1), ('empape', 1), ('afeitan', 1), ('volante', 1), ('tráguelo', 1), ('mastique', 1), ('aguántalo', 1), ('cazuela', 1), ('colocar', 1), ('¡muchísimas', 1), ('pellejo', 1), ('corrección', 1), ('chimenea', 2), ('rabo', 1), ('fruto', 2), ('malhablado', 1), ('traía', 1), ('frito', 1), ('fracasar', 1), ('tentador', 1), ('desaparecerá', 1), ('interpuso', 1), ('inadecuado', 1), ('ofrecemos', 1), ('escusa', 1), ('chihuahua', 1), ('absoluta', 2), ('desconsideración', 1), ('1812', 1), ('correctas', 2), ('madura', 1), ('sonado', 1), ('desplegó', 1), ('contenía', 1), ('dirigía', 1), ('avanzaba', 1), ('lamiendo', 1), ('aplausos', 1), ('ensordecedores', 1), ('pintaba', 1), ('chile', 1), ('bancarrota', 1), ('competición', 1), ('feroz', 1), ('asó', 1), ('parrilla', 1), ('predeterminado', 1), ('olfateó', 1), ('tirada', 1), ('alcantarillas', 1), ('obstruidas', 1), ('bailaban', 2), ('neblina', 1), ('envolvía', 1), ('investigación', 2), ('deshabitada', 1), ('abusaba', 1), ('refrigerador', 1), ('afectó', 1), ('aumentó', 1), ('población', 2), ('aumenta', 1), ('respondida', 1), ('extendieron', 1), ('admitían', 1), ('incómodos', 1), ('oscurecerse', 1), ('seguidos', 1), ('valientemente', 1), ('enfrente', 1), ('encendieron', 1), ('faroles', 1), ('trueno', 1), ('obstruyó', 1), ('océanos', 1), ('infectó', 1), ('destinos', 1), ('entrelazados', 1), ('fáciles', 1), ('pudrieron', 1), ('podridas', 1), ('preciosos', 1), ('corrigieron', 1), ('1997', 1), ('vetaron', 1), ('malograron', 1), ('rocky', 1), ('crearon', 1), ('gobierno', 1), ('sentían', 1), ('olvidaron', 1), ('despertarme', 1), ('avenida', 1), ('asintieron', 1), ('hundieron', 1), ('naves', 1), ('cultura', 2), ('boquiabiertos', 1), ('misa', 1), ('asustadas', 1), ('porte', 1), ('ishikawa', 1), ('interrogando', 1), ('sorprendentemente', 1), ('entusiastas', 1), ('descatalogado', 1), ('restringido', 1), ('automática', 1), ('hipótesis', 1), ('sartén', 2), ('usos', 2), ('excepcional', 1), ('rescatadas', 1), ('devuelta', 1), ('salen', 1), ('abstuvo', 1), ('marchara', 1), ('damas', 2), ('temerle', 1), ('traidora', 1), ('vencernos', 1), ('compite', 1), ('completó', 1), ('condena', 1), ('notó', 1), ('setentas', 1), ('desagradan', 1), ('ruidosas', 1), ('desayuna', 1), ('apresurarse', 1), ('falsificó', 1), ('reportes', 1), ('bruces', 1), ('tratamiento', 1), ('padece', 1), ('espiándome', 1), ('montones', 1), ('freelance', 1), ('actuando', 1), ('esquiador', 1), ('comprador', 1), ('litera', 2), ('desplumando', 1), ('esquilando', 1), ('atendiendo', 1), ('capacitado', 1), ('mejicano', 1), ('tirantes', 1), ('chismoseando', 1), ('cotorreando', 1), ('balbuceando', 1), ('zanja', 1), ('burlándose', 1), ('mostrador', 1), ('pañal', 1), ('domigos', 1), ('feneció', 1), ('pantalla', 1), ('practica', 1), ('caset', 1), ('casetera', 1), ('bloqueador', 1), ('cría', 1), ('árabes', 1), ('mojadas', 2), ('denunció', 1), ('desaparición', 1), ('párrafo', 1), ('dueto', 1), ('durmiera', 1), ('guiñarle', 1), ('apretón', 2), ('espió', 1), ('liberarse', 1), ('forcejeo', 1), ('soltar', 1), ('ataduras', 1), ('forcejeó', 1), ('liberación', 1), ('debatió', 1), ('dirigiera', 1), ('estaríais', 1), ('estarían', 1), ('consolar', 1), ('matarse', 1), ('ocupó', 1), ('económico', 1), ('exitoso', 1), ('respetado', 1), ('donar', 1), ('teñirse', 1), ('bautizo', 1), ('pegaron', 1), ('eligieron', 1), ('cercano', 2), ('sentenciado', 2), ('inanición', 1), ('sobreviviente', 1), ('toallas', 1), ('tangente', 1), ('ómnibus', 1), ('deseó', 1), ('abandonaría', 1), ('entrenado', 1), ('excéntrica', 1), ('salía', 1), ('pelado', 3), ('tratá', 1), ('montamos', 1), ('calentadores', 3), ('ensamblamos', 1), ('armamos', 1), ('desayunamos', 1), ('abandonarlos', 1), ('agradecerles', 1), ('podíamos', 1), ('brecha', 1), ('campanas', 1), ('aprendemos', 1), ('lleguemos', 1), ('ofrecimos', 2), ('pintado', 2), ('zambullimos', 1), ('despertamos', 1), ('abandonaremos', 1), ('separadas', 1), ('protegerles', 1), ('primeras', 1), ('dispuestos', 1), ('esperable', 1), ('alimentan', 1), ('cómica', 1), ('mascando', 1), ('tratas', 1), ('conclusiones', 1), ('atisbar', 1), ('pretende', 1), ('depara', 1), ('consiste', 2), ('recórcholis', 1), ('sostienes', 1), ('marchas', 1), ('marcháis', 1), ('últimas', 1), ('tardas', 1), ('preferido', 2), ('aterrizar', 1), ('visitaste', 1), ('desayunáis', 1), ('pretendes', 1), ('sobres', 1), ('aprendieron', 1), ('terminal', 1), ('cercana', 2), ('quedaréis', 1), ('escogerás', 1), ('central', 1), ('park', 1), ('alentando', 1), ('piense', 1), ('homicidio', 2), ('porción', 1), ('enviaría', 1), ('quienquiera', 1), ('cabreado', 1), ('cabreada', 1), ('cabreados', 1), ('cabreadas', 1), ('rompisteis', 1), ('creíste', 1), ('despertaste', 1), ('aceptas', 1), ('adelantas', 1), ('¿estará', 1), ('calmar', 1), ('frotarías', 1), ('despertarás', 1), ('envejecen', 1), ('¿estarías', 1), ('apetecería', 1), ('levantarías', 1), ('¿dirías', 1), ('anotá', 1), ('yoga', 1), ('distraes', 1), ('subestimando', 1), ('podrás', 1), ('ganarle', 1), ('ayuntamiento', 1), ('desprecias', 1), ('almorzaste', 1), ('escribiste', 1), ('ticket', 1), ('telefonearme', 1), ('envolverlo', 1), ('total', 1), ('llevarnos', 1), ('regularidad', 3), ('arriesgarte', 1), ('kimono', 1), ('tomasteis', 1), ('adecuada', 1), ('cometiste', 1), ('apretar', 1), ('entrenar', 1), ('ceremonia', 1), ('distraída', 1), ('vegetales', 1), ('vestir', 1), ('vestirte', 2), ('tomarse', 2), ('guardaespalda', 1), ('descanses', 1), ('entenderéis', 1), ('vean', 1), ('atentos', 1), ('contagiado', 1), ('vehículos', 1), ('vota', 1), ('intentos', 1), ('pobladores', 1), ('1864', 1), ('excavó', 1), ('vasija', 1), ('pasándola', 1), ('acostados', 1), ('duradera', 1), ('astronautas', 1), ('trajes', 1), ('espaciales', 1), ('libramos', 1), ('impedimento', 1), ('abren', 1), ('edificios', 1), ('boxeadores', 1), ('reflejos', 1), ('raros', 1), ('mama', 1), ('tijera', 1), ('gerente', 1), ('pequeñito', 1), ('enmarcar', 2), ('receta', 1), ('medir', 1), ('arrojar', 2), ('tomarnos', 1), ('cartón', 1), ('rajan', 1), ('caros', 1), ('emparentados', 1), ('aprenden', 1), ('25', 1), ('diciembre', 1), ('circunstancias', 1), ('retomarán', 1), ('¡vuelve', 2), ('¡volved', 2), ('¡vuelva', 2), ('¡vuelvan', 2), ('¡anda', 1), ('¡ea', 1), ('considere', 1), ('autógrafo', 1), ('destornillador', 1), ('enviarlo', 1), ('deletrearlo', 1), ('destruye', 1), ('¿trajiste', 1), ('secador', 2), ('¿trajeron', 1), ('telefoneaste', 1), ('trabajaste', 1), ('¿pasaste', 1), ('¿tuviste', 1), ('¿abriste', 1), ('solicitaste', 1), ('¿apagaste', 2), ('pronunciar', 1), ('¿aceptáis', 1), ('tarjetas', 1), ('créditos', 1), ('económica', 1), ('incendios', 2), ('ikea', 1), ('artístico', 1), ('practicar', 1), ('colegas', 1), ('marches', 1), ('depilas', 1), ('acordás', 1), ('continue', 1), ('odie', 1), ('matemos', 1), ('doctores', 1), ('extrajeron', 1), ('masticas', 1), ('masticás', 1), ('indicaciones', 1), ('andes', 2), ('ramas', 4), ('andéis', 2), ('ande', 2), ('anden', 2), ('directos', 2), ('creas', 1), ('mezcle', 1), ('juzgues', 2), ('severidad', 4), ('juzguéis', 1), ('juzgue', 1), ('juzguen', 1), ('distraiga', 1), ('fieis', 1), ('manipularme', 1), ('sécate', 1), ('eterno', 1), ('ancla', 1), ('admiraban', 1), ('ejercitarse', 1), ('beneficios', 1), ('exportaciones', 1), ('ralentizando', 1), ('adictiva', 1), ('fatiga', 1), ('cuestionario', 1), ('gay', 1), ('sobras', 1), ('griegos', 1), ('retrasó', 1), ('enamoradas', 1), ('sirvienta', 1), ('ordeñado', 1), ('koala', 1), ('granizar', 1), ('nominación', 1), ('apropió', 1), ('fumara', 1), ('furiosamente', 1), ('chocolates', 1), ('difunto', 1), ('noel', 1), ('noreste', 1), ('loncha', 1), ('castigo', 1), ('despilfarró', 1), ('amago', 1), ('cruda', 1), ('quilos', 1), ('insinuó', 1), ('nobleza', 1), ('pescando', 1), ('mejilla', 2), ('limpiara', 1), ('visitaba', 1), ('ocasiones', 1), ('paisajes', 2), ('jugará', 1), ('ganaría', 1), ('pedal', 1), ('arrepintió', 1), ('recortaría', 1), ('compartió', 2), ('fluidez', 2), ('hablarles', 1), ('lavara', 1), ('alertó', 1), ('atacado', 1), ('tiburón', 2), ('bautizado', 1), ('católico', 1), ('suiza', 1), ('atado', 1), ('notaba', 1), ('agotadísimo', 1), ('electores', 1), ('atropellaron', 1), ('reelección', 1), ('libras', 1), ('esperándote', 1), ('escrupuloso', 1), ('cómics', 1), ('visitaría', 1), ('llenaron', 3), ('expresaba', 1), ('deletreado', 1), ('deletrearon', 1), ('rebosaba', 1), ('ingenio', 1), ('vanidad', 1), ('halla', 1), ('dificultosa', 1), ('discursos', 1), ('conferencias', 1), ('antoja', 1), ('filtró', 1), ('supiste', 1), ('deletrea', 1), ('distinguirlos', 1), ('distinguirlas', 1), ('nilo', 1), ('muñecas', 1), ('horneaste', 1), ('cuartos', 1), ('ganaste', 1), ('suponía', 1), ('aconsejé', 1), ('calculando', 1), ('cuentos', 1), ('cubano', 1)])\n"
     ]
    }
   ],
   "source": [
    "print(spa_tokenizer.word_counts)"
   ]
  },
  {
   "cell_type": "markdown",
   "metadata": {
    "id": "BFRiUnL732Fl"
   },
   "source": [
    "A continuación se muestra una función para preparar las secuencias. También realizará el relleno de secuencia hasta su longitud máxima."
   ]
  },
  {
   "cell_type": "markdown",
   "metadata": {},
   "source": [
    "Cuando introducimos nuestras secuencias de ID de palabras en el modelo, cada secuencia debe tener la misma longitud. Para lograr esto, se agrega relleno a cualquier secuencia que sea más corta que la longitud máxima (es decir, más corta que la oración más larga)."
   ]
  },
  {
   "cell_type": "code",
   "execution_count": 19,
   "metadata": {
    "id": "2I3Hnq_032Fl"
   },
   "outputs": [],
   "source": [
    "# Codificar y rellenar secuencias\n",
    "def encode_sequences(tokenizer, length, lines):\n",
    "    # Secuencias de codificación entera\n",
    "    seq = tokenizer.texts_to_sequences(lines)\n",
    "    # Rellenar las secuencias con 0\n",
    "    seq = pad_sequences(seq, maxlen=length, padding='post')\n",
    "    print(seq)\n",
    "    print(len(seq))\n",
    "    return seq"
   ]
  },
  {
   "cell_type": "markdown",
   "metadata": {},
   "source": [
    "eng_padding= encode_sequences(eng_tokenizer, 12, spa_eng[:, 0])"
   ]
  },
  {
   "cell_type": "markdown",
   "metadata": {
    "id": "r1h1NCZE32Fm"
   },
   "source": [
    "### Creación de la muestra de train y test"
   ]
  },
  {
   "cell_type": "markdown",
   "metadata": {
    "id": "rNwh2MYE32Fm"
   },
   "source": [
    "Dividimos los datos para el entrenamiento y la evaluación del modelo."
   ]
  },
  {
   "cell_type": "code",
   "execution_count": 20,
   "metadata": {
    "id": "FERYdIk932Fm"
   },
   "outputs": [],
   "source": [
    "from sklearn.model_selection import train_test_split\n",
    "train, test = train_test_split(spa_eng, test_size=0.2, random_state = 12)"
   ]
  },
  {
   "cell_type": "markdown",
   "metadata": {
    "id": "TIdqvmfU32Fm"
   },
   "source": [
    "Codificamos las oraciones de español como secuencias de entrada y las oraciones de inglés como secuencias de destino. Para el conjunto de train y test."
   ]
  },
  {
   "cell_type": "code",
   "execution_count": 21,
   "metadata": {
    "id": "9B2rrstF32Fn",
    "outputId": "029e9455-e58e-4f27-b51e-b52f22cd15d9"
   },
   "outputs": [
    {
     "name": "stdout",
     "output_type": "stream",
     "text": [
      "[[   1   10 1574 ...    0    0    0]\n",
      " [4836    4    6 ...    0    0    0]\n",
      " [  14 4963    0 ...    0    0    0]\n",
      " ...\n",
      " [  43  199 1665 ...    0    0    0]\n",
      " [  18   12   15 ...    8 1196    0]\n",
      " [   2  240 1475 ...    0    0    0]]\n",
      "40000\n",
      "[[   3  182   10 ...    0    0    0]\n",
      " [   1 1094    6 ...    0    0    0]\n",
      " [  50  101    9 ...    0    0    0]\n",
      " ...\n",
      " [  44  444  432 ...    0    0    0]\n",
      " [  22    4  123 ...  213    0    0]\n",
      " [   1  202 2244 ...    0    0    0]]\n",
      "40000\n"
     ]
    }
   ],
   "source": [
    "# Preparación de los datos de entrenamiento\n",
    "trainX = encode_sequences(spa_tokenizer, spa_length, train[:, 1])\n",
    "trainY = encode_sequences(eng_tokenizer, eng_length, train[:, 0])"
   ]
  },
  {
   "cell_type": "code",
   "execution_count": 22,
   "metadata": {
    "id": "2OrQ_Q2j32Fn",
    "outputId": "aeecfc75-b5a0-487c-960c-ce7f65d95238"
   },
   "outputs": [
    {
     "name": "stdout",
     "output_type": "stream",
     "text": [
      "(40000, 8)\n",
      "(40000, 8)\n"
     ]
    }
   ],
   "source": [
    "print(trainX.shape)\n",
    "print(trainY.shape)"
   ]
  },
  {
   "cell_type": "code",
   "execution_count": 23,
   "metadata": {
    "id": "Tf71qw4n32Fn",
    "outputId": "600833ec-8a66-4849-f2bc-43d30d649180"
   },
   "outputs": [
    {
     "name": "stdout",
     "output_type": "stream",
     "text": [
      "[[  53   43   28 ...    0    0    0]\n",
      " [ 233    4    1 ...    0    0    0]\n",
      " [ 108 8599    0 ...    0    0    0]\n",
      " ...\n",
      " [9604  115  974 ...    0    0    0]\n",
      " [1347   55  598 ...    0    0    0]\n",
      " [   2   31 6750 ...    0    0    0]]\n",
      "10000\n",
      "[[  36   16   40 ...    0    0    0]\n",
      " [   1   37    3 ...    0    0    0]\n",
      " [   2   99 1339 ...    0    0    0]\n",
      " ...\n",
      " [  56 1781   29 ...    0    0    0]\n",
      " [  33    2  217 ...    0    0    0]\n",
      " [   1  867   42 ...    0    0    0]]\n",
      "10000\n"
     ]
    }
   ],
   "source": [
    "# Preparación de los datos de test\n",
    "testX = encode_sequences(spa_tokenizer, spa_length, test[:, 1])\n",
    "testY = encode_sequences(eng_tokenizer, eng_length, test[:, 0])"
   ]
  },
  {
   "cell_type": "code",
   "execution_count": 24,
   "metadata": {
    "id": "kyvgSSh_32Fo",
    "outputId": "077d61dc-78b2-4605-b9e6-c489df7e7d8d"
   },
   "outputs": [
    {
     "name": "stdout",
     "output_type": "stream",
     "text": [
      "(10000, 8)\n",
      "(10000, 8)\n"
     ]
    }
   ],
   "source": [
    "print(testX.shape)\n",
    "print(testY.shape)"
   ]
  },
  {
   "cell_type": "markdown",
   "metadata": {},
   "source": [
    "### Construcción del modelo"
   ]
  },
  {
   "cell_type": "markdown",
   "metadata": {},
   "source": [
    "Partes de la arquitectura de un RNN en un nivel alto:\n",
    "\n",
    "- **Entradas.** Las secuencias de entrada se introducen en el modelo con una palabra para cada paso de tiempo. Cada palabra está codificada como un número entero único o un vector codificado en caliente que se asigna al vocabulario del conjunto de datos en inglés.\n",
    "\n",
    "\n",
    "- **Embeddings.** Las incrustaciones se utilizan para convertir cada palabra en un vector. El tamaño del vector depende de la complejidad del vocabulario.\n",
    "\n",
    "\n",
    "- **Capas recurrentes (codificador).** Aquí es donde el contexto de los vectores de palabras en los pasos de tiempo anteriores se aplica al vector de palabras actual.\n",
    "\n",
    "\n",
    "- **Capas densas (decodificador).** Estas son capas típicas completamente conectadas que se utilizan para decodificar la entrada codificada en la secuencia de traducción correcta.\n",
    "\n",
    "\n",
    "- **Salidas.** Las salidas se devuelven como una secuencia de números enteros o vectores codificados en caliente que luego se pueden asignar al vocabulario del conjunto de datos."
   ]
  },
  {
   "cell_type": "markdown",
   "metadata": {},
   "source": [
    "Los **Embeddings** permiten capturar relaciones de palabras sintácticas y semánticas más precisas proyectando cada palabra en un espacio n-dimensional. Las palabras con significados similares ocupan regiones similares de este espacio; cuanto más cercanas están dos palabras, más similares son. Y a menudo los vectores entre palabras representan relaciones útiles, como género, tiempo verbal o incluso relaciones geopolíticas.\n",
    "\n",
    "El entrenamiento con Embeddings en un gran conjunto de datos desde cero requiere una gran cantidad de datos y cálculos. Entonces, en lugar de hacerlo nosotros mismos, normalmente usamos un paquete de Embeddings previamente entrenado como word2vec . Cuando se usan de esta manera, las incrustaciones son una forma de aprendizaje por transferencia. Sin embargo, dado que nuestro conjunto de datos para este proyecto tiene un vocabulario pequeño y poca variación sintáctica, usaremos Keras para entrenar las incrustaciones nosotros mismos."
   ]
  },
  {
   "cell_type": "markdown",
   "metadata": {},
   "source": [
    "Nuestro **modelo secuencia a secuencia** vincula dos redes recurrentes: un codificador y un descodificador. El codificador resume la entrada en una variable de contexto. Depués, se decodifica este contexto y se genera la secuencia de salida. Dado que tanto el codificador como el descodificador son recurrentes, tienen bucles que procesan cada parte de la secuencia en diferentes pasos de tiempo. \n",
    "\n",
    "Para cada paso de tiempo después de la primera palabra en la secuencia hay dos entradas: el estado oculto y una palabra de la secuencia. Para el codificador, es la siguiente palabra en la secuencia de entrada. Para el decodificador, es la palabra anterior de la secuencia de salida.\n",
    "\n",
    "El aprendizaje secuencia a secuencia (Seq2Seq) se trata de entrenar modelos para convertir secuencias de un dominio (inglés) a secuencias en otro dominio (español). Es útil para la generación de texto como traducción automática y respuesta a preguntas. Definimos la arquitectura *Seq2Seq*. Estamos usando una capa de incrustación y una capa LSTM como codificador y otra capa LSTM seguida de una capa densa como decodificador."
   ]
  },
  {
   "cell_type": "markdown",
   "metadata": {
    "id": "dwO1GZ9D32Fo"
   },
   "source": [
    "Ya entendemos cómo fluye el contexto a través de la red a través del estado oculto, elsiguiente paso es entender como fluye el contexto en ambas direcciones. Esto es lo que hace una **capa bidireccional**. Proporcionar un contexto futuro puede resultar en un mejor rendimiento del modelo. \n",
    "\n",
    "Esto puede parecer contrario a la forma en que los humanos procesan el lenguaje, ya que solo leemos en una dirección. Sin embargo, los humanos a menudo requieren un contexto futuro para interpretar lo que se dice. En otras palabras, a veces no entendemos una oración hasta que se proporciona una palabra o frase importante al final. Para implementar esto, entrenamos dos capas RNN simultáneamente. La primera capa se alimenta con la secuencia de entrada tal cual y la segunda se alimenta con una copia invertida."
   ]
  },
  {
   "cell_type": "code",
   "execution_count": 25,
   "metadata": {
    "id": "zkvlBl6Z32Fo"
   },
   "outputs": [],
   "source": [
    "# Modelo LSTM\n",
    "def build_model(in_vocab, out_vocab, in_timesteps, out_timesteps, units):\n",
    "    model = Sequential()\n",
    "    model.add(Embedding(in_vocab, units, input_length=in_timesteps, mask_zero=True))\n",
    "    model.add(LSTM(units))\n",
    "    model.add(RepeatVector(out_timesteps))    \n",
    "    model.add(LSTM(units, return_sequences=True))\n",
    "    model.add(Dense(out_vocab, activation='softmax'))\n",
    "\n",
    "    return model"
   ]
  },
  {
   "cell_type": "code",
   "execution_count": 26,
   "metadata": {},
   "outputs": [],
   "source": [
    "# Modelo RNN\n",
    "def build_model_rnn(in_vocab, out_vocab, in_timesteps, out_timesteps, units):\n",
    "    model = Sequential()\n",
    "    model.add(Embedding(in_vocab, units, input_length=in_timesteps, mask_zero=True))\n",
    "    model.add(SimpleRNN(units))\n",
    "    model.add(RepeatVector(out_timesteps))    \n",
    "    model.add(SimpleRNN(units, return_sequences=True))\n",
    "    model.add(Dense(out_vocab, activation='softmax'))       \n",
    "      \n",
    "    return model"
   ]
  },
  {
   "cell_type": "code",
   "execution_count": 27,
   "metadata": {},
   "outputs": [],
   "source": [
    "# Modelo GRU\n",
    "def build_model_gru(in_vocab, out_vocab, in_timesteps, out_timesteps, units):\n",
    "    model = Sequential()\n",
    "    model.add(Embedding(in_vocab, units, input_length=in_timesteps, mask_zero=True))\n",
    "    model.add(GRU(units, return_sequences=True))\n",
    "    model.add(SimpleRNN(units))\n",
    "    model.add(RepeatVector(out_timesteps))    \n",
    "    model.add(Dense(out_vocab, activation='softmax'))\n",
    "    \n",
    "    return model"
   ]
  },
  {
   "cell_type": "markdown",
   "metadata": {},
   "source": [
    "Usamos el optimizador __'RMSprop (Root Mean Square Propagation)'__ ya que suele ser una buena opción para redes neuronales recurrentes. Otros tipos de optimizadores de redes neuronales profundas: Stochastic Gradient Descent (SGD), Adaptive Gradient Algorithm (AdaGrad), Adam (Adaptive moment estimation)..."
   ]
  },
  {
   "cell_type": "markdown",
   "metadata": {},
   "source": [
    "Como función de pérdida hemos utilizado __'sparse_categorical_crossentropy'__ porque nos permite usar la secuencia de destino tal y como está, en lugar de un formato codificado en caliente. Una codificación en caliente de las secuencias de destino con un vocabulario tan grande podría consumir toda la memoria de nuestro sistema. Otros tipos de funciones de pérdida: CategoricalCrossentropy, BinaryCrossentropy."
   ]
  },
  {
   "cell_type": "markdown",
   "metadata": {},
   "source": [
    "Podemos comenzar a entrenar nuestro modelo. Lo entrenaremos durante 30 épocas, con un tamaño de lote de 512. También usaremos __ModelCheckpoint ()__ para guardar el mejor modelo con la menor pérdida de test. Este método sirve para evitar la parada anticipada."
   ]
  },
  {
   "cell_type": "code",
   "execution_count": 28,
   "metadata": {},
   "outputs": [],
   "source": [
    "model = build_model(spa_vocab_size, eng_vocab_size, spa_length, eng_length, 512)\n",
    "rms =   optimizers.RMSprop(lr=0.001)\n",
    "model.compile(optimizer=rms, loss='sparse_categorical_crossentropy')"
   ]
  },
  {
   "cell_type": "code",
   "execution_count": 29,
   "metadata": {},
   "outputs": [],
   "source": [
    "model2 = build_model_rnn(spa_vocab_size, eng_vocab_size, spa_length, eng_length, 512)\n",
    "rms =    optimizers.RMSprop(lr=0.001)\n",
    "model2.compile(optimizer=rms, loss='sparse_categorical_crossentropy')"
   ]
  },
  {
   "cell_type": "code",
   "execution_count": 30,
   "metadata": {},
   "outputs": [],
   "source": [
    "model3 = build_model_gru(spa_vocab_size, eng_vocab_size, spa_length, eng_length, 512)\n",
    "rms =    optimizers.RMSprop(lr=0.001)                                       # Defining the optimizing function\n",
    "model3.compile(optimizer=rms, loss='sparse_categorical_crossentropy')       # Configuring the model for training"
   ]
  },
  {
   "cell_type": "markdown",
   "metadata": {},
   "source": [
    "A veces es útil apilar varias capas recurrentes una tras otra para aumentar el poder de representación de una red. Se deben obtener todas las capas intermedias para devolver secuencias completas."
   ]
  },
  {
   "cell_type": "markdown",
   "metadata": {
    "id": "sqJwMleU32Fo"
   },
   "source": [
    "Más detalles sobre RepeatVector: https://machinelearningmastery.com/encoder-decoder-long-short-term-memory-networks/ Si se intenta forzar estas piezas del codificador-decodificador juntas, seobtiene un error que indica que la salida del decodificador es 2D y se requiere entrada 3D para el decodificador.\n",
    "\n",
    "Podemos resolver esto usando una capa *RepeatVector* que simplemente repite la entrada 2D proporcionada varias veces para crear una salida 3D. La capa *RepeatVector* se puede utilizar como un adaptador para ajustar el codificador y el decodificador de la red juntos. Podemos configurarlo para que repita el vector de longitud fija en cada paso de tiempo en la secuencia de salida.\n",
    "\n",
    "En resumen, el *RepeatVector* se utiliza como un **adaptador para ajustar la salida 2D de tamaño fijo del codificador a las diferentes longitudes y entradas 3D esperadas por el decodificador**. El contenedor *TimeDistributed* permite reutilizar la misma capa de salida para cada elemento en la secuencia de salida."
   ]
  },
  {
   "cell_type": "code",
   "execution_count": null,
   "metadata": {
    "id": "-utKh8FG6keX"
   },
   "outputs": [],
   "source": [
    "# DO NOT RUN IT (example of RepeatVector)\n",
    "model = Sequential()\n",
    "model.add(Dense(32, input_dim=32))\n",
    "\n",
    "# now: model.output_shape == (None, 32)\n",
    "# note: `None` is the batch dimension\n",
    "model.add(RepeatVector(3))\n",
    "\n",
    "# now: model.output_shape == (None, 3, 32)"
   ]
  },
  {
   "cell_type": "markdown",
   "metadata": {
    "id": "ZBAxe9P26ysZ"
   },
   "source": [
    "En el ejemplo anterior, la capa *RepeatVector* repite las entradas entrantes un número específico de tiempo. La forma de la entrada anterior era (32,). Pero la forma de salida del *RepeatVector* fue (3, 32), ya que las entradas se repitieron 3 veces."
   ]
  },
  {
   "cell_type": "code",
   "execution_count": 31,
   "metadata": {
    "id": "Mg2qYMQG32Fp",
    "outputId": "45aa607c-7bf1-4959-ab1b-a9c611e15a51"
   },
   "outputs": [
    {
     "name": "stdout",
     "output_type": "stream",
     "text": [
      "14196\n",
      "6942\n",
      "8\n",
      "8\n"
     ]
    }
   ],
   "source": [
    "print(spa_vocab_size)\n",
    "print(eng_vocab_size)\n",
    "print(spa_length)\n",
    "print(eng_length)"
   ]
  },
  {
   "cell_type": "markdown",
   "metadata": {},
   "source": [
    "- **LSTM**"
   ]
  },
  {
   "cell_type": "markdown",
   "metadata": {},
   "source": [
    "La capa SimpleRNN no es bueno al procesar secuencias largas, como texto. Esto se debe al problema del gradiente de desaparición. Otros tipos de capas recurrentes funcionan mucho mejor como LSTM Y GRU.\n",
    "\n",
    "**Long Short Term Memory o memoria a corto plazo (LSTM)** es una variante de la capa SimpleRNN que ya lleva información en muchos pasos de tiempo. Guarda la información para más tarde, evitando así que las señales más antiguas desaparezcan durante el procesamiento. Las unidades de memoria en un LSTM aprenden qué recordar y además pueden memorizar datos anteriores fácilmente."
   ]
  },
  {
   "cell_type": "code",
   "execution_count": 35,
   "metadata": {
    "id": "M8ZHjZKd32Fq",
    "outputId": "faf521a6-51db-42c9-c400-03d52e7ed428",
    "scrolled": true
   },
   "outputs": [
    {
     "name": "stdout",
     "output_type": "stream",
     "text": [
      "Epoch 1/30\n",
      "63/63 [==============================] - 71s 1s/step - loss: 4.9653 - val_loss: 4.0429\n",
      "WARNING:tensorflow:Can save best model only with val_accuracy available, skipping.\n",
      "Epoch 2/30\n",
      "63/63 [==============================] - 78s 1s/step - loss: 3.8995 - val_loss: 3.8727\n",
      "WARNING:tensorflow:Can save best model only with val_accuracy available, skipping.\n",
      "Epoch 3/30\n",
      "63/63 [==============================] - 93s 1s/step - loss: 3.7720 - val_loss: 3.7566\n",
      "WARNING:tensorflow:Can save best model only with val_accuracy available, skipping.\n",
      "Epoch 4/30\n",
      "63/63 [==============================] - 96s 2s/step - loss: 3.6203 - val_loss: 3.6361\n",
      "WARNING:tensorflow:Can save best model only with val_accuracy available, skipping.\n",
      "Epoch 5/30\n",
      "63/63 [==============================] - 90s 1s/step - loss: 3.4642 - val_loss: 3.4968\n",
      "WARNING:tensorflow:Can save best model only with val_accuracy available, skipping.\n",
      "Epoch 6/30\n",
      "63/63 [==============================] - 86s 1s/step - loss: 3.3091 - val_loss: 3.3790\n",
      "WARNING:tensorflow:Can save best model only with val_accuracy available, skipping.\n",
      "Epoch 7/30\n",
      "63/63 [==============================] - 89s 1s/step - loss: 3.1644 - val_loss: 3.2711\n",
      "WARNING:tensorflow:Can save best model only with val_accuracy available, skipping.\n",
      "Epoch 8/30\n",
      "63/63 [==============================] - 94s 1s/step - loss: 3.0185 - val_loss: 3.2071\n",
      "WARNING:tensorflow:Can save best model only with val_accuracy available, skipping.\n",
      "Epoch 9/30\n",
      "63/63 [==============================] - 91s 1s/step - loss: 2.9031 - val_loss: 3.1249\n",
      "WARNING:tensorflow:Can save best model only with val_accuracy available, skipping.\n",
      "Epoch 10/30\n",
      "63/63 [==============================] - 91s 1s/step - loss: 2.7899 - val_loss: 3.0656\n",
      "WARNING:tensorflow:Can save best model only with val_accuracy available, skipping.\n",
      "Epoch 11/30\n",
      "63/63 [==============================] - 88s 1s/step - loss: 2.6875 - val_loss: 3.0137\n",
      "WARNING:tensorflow:Can save best model only with val_accuracy available, skipping.\n",
      "Epoch 12/30\n",
      "63/63 [==============================] - 90s 1s/step - loss: 2.5896 - val_loss: 2.9740\n",
      "WARNING:tensorflow:Can save best model only with val_accuracy available, skipping.\n",
      "Epoch 13/30\n",
      "63/63 [==============================] - 88s 1s/step - loss: 2.5089 - val_loss: 2.9219\n",
      "WARNING:tensorflow:Can save best model only with val_accuracy available, skipping.\n",
      "Epoch 14/30\n",
      "63/63 [==============================] - 90s 1s/step - loss: 2.4217 - val_loss: 2.8961\n",
      "WARNING:tensorflow:Can save best model only with val_accuracy available, skipping.\n",
      "Epoch 15/30\n",
      "63/63 [==============================] - 88s 1s/step - loss: 2.3450 - val_loss: 2.8627\n",
      "WARNING:tensorflow:Can save best model only with val_accuracy available, skipping.\n",
      "Epoch 16/30\n",
      "63/63 [==============================] - 89s 1s/step - loss: 2.2851 - val_loss: 2.8256\n",
      "WARNING:tensorflow:Can save best model only with val_accuracy available, skipping.\n",
      "Epoch 17/30\n",
      "63/63 [==============================] - 92s 1s/step - loss: 2.2095 - val_loss: 2.8112\n",
      "WARNING:tensorflow:Can save best model only with val_accuracy available, skipping.\n",
      "Epoch 18/30\n",
      "63/63 [==============================] - 89s 1s/step - loss: 2.1543 - val_loss: 2.7912\n",
      "WARNING:tensorflow:Can save best model only with val_accuracy available, skipping.\n",
      "Epoch 19/30\n",
      "63/63 [==============================] - 87s 1s/step - loss: 2.0983 - val_loss: 2.7737\n",
      "WARNING:tensorflow:Can save best model only with val_accuracy available, skipping.\n",
      "Epoch 20/30\n",
      "63/63 [==============================] - 88s 1s/step - loss: 2.0474 - val_loss: 2.7612\n",
      "WARNING:tensorflow:Can save best model only with val_accuracy available, skipping.\n",
      "Epoch 21/30\n",
      "63/63 [==============================] - 87s 1s/step - loss: 1.9973 - val_loss: 2.7570\n",
      "WARNING:tensorflow:Can save best model only with val_accuracy available, skipping.\n",
      "Epoch 22/30\n",
      "63/63 [==============================] - 88s 1s/step - loss: 1.9581 - val_loss: 2.7402\n",
      "WARNING:tensorflow:Can save best model only with val_accuracy available, skipping.\n",
      "Epoch 23/30\n",
      "63/63 [==============================] - 87s 1s/step - loss: 1.9102 - val_loss: 2.7441\n",
      "WARNING:tensorflow:Can save best model only with val_accuracy available, skipping.\n",
      "Epoch 24/30\n",
      "63/63 [==============================] - 89s 1s/step - loss: 1.8805 - val_loss: 2.7439\n",
      "WARNING:tensorflow:Can save best model only with val_accuracy available, skipping.\n",
      "Epoch 25/30\n",
      "63/63 [==============================] - 88s 1s/step - loss: 1.8467 - val_loss: 2.7284\n",
      "WARNING:tensorflow:Can save best model only with val_accuracy available, skipping.\n",
      "Epoch 26/30\n",
      "63/63 [==============================] - 88s 1s/step - loss: 1.8163 - val_loss: 2.7393\n",
      "WARNING:tensorflow:Can save best model only with val_accuracy available, skipping.\n",
      "Epoch 27/30\n",
      "63/63 [==============================] - 88s 1s/step - loss: 1.7885 - val_loss: 2.7408\n",
      "WARNING:tensorflow:Can save best model only with val_accuracy available, skipping.\n",
      "Epoch 28/30\n",
      "63/63 [==============================] - 89s 1s/step - loss: 1.7597 - val_loss: 2.7378\n",
      "WARNING:tensorflow:Can save best model only with val_accuracy available, skipping.\n",
      "Epoch 29/30\n",
      "63/63 [==============================] - 88s 1s/step - loss: 1.7389 - val_loss: 2.7551\n",
      "WARNING:tensorflow:Can save best model only with val_accuracy available, skipping.\n",
      "Epoch 30/30\n",
      "63/63 [==============================] - 87s 1s/step - loss: 1.7197 - val_loss: 2.7547\n",
      "WARNING:tensorflow:Can save best model only with val_accuracy available, skipping.\n"
     ]
    }
   ],
   "source": [
    "filename = 'model.h1.LSTM'\n",
    "checkpoint = ModelCheckpoint(filename, monitor='val_loss', verbose=1, save_best_only=True, mode='min')\n",
    "\n",
    "history = model.fit(trainX, trainY.reshape(trainY.shape[0], trainY.shape[1], 1), \n",
    "          epochs=30, \n",
    "          batch_size=512, \n",
    "          validation_split = 0.2,\n",
    "          callbacks=[checkpoint], verbose=1)"
   ]
  },
  {
   "cell_type": "code",
   "execution_count": 29,
   "metadata": {},
   "outputs": [
    {
     "name": "stdout",
     "output_type": "stream",
     "text": [
      "Model: \"sequential\"\n",
      "_________________________________________________________________\n",
      "Layer (type)                 Output Shape              Param #   \n",
      "=================================================================\n",
      "embedding (Embedding)        (None, 8, 512)            7268352   \n",
      "_________________________________________________________________\n",
      "lstm (LSTM)                  (None, 512)               2099200   \n",
      "_________________________________________________________________\n",
      "repeat_vector (RepeatVector) (None, 8, 512)            0         \n",
      "_________________________________________________________________\n",
      "lstm_1 (LSTM)                (None, 8, 512)            2099200   \n",
      "_________________________________________________________________\n",
      "dense (Dense)                (None, 8, 6942)           3561246   \n",
      "=================================================================\n",
      "Total params: 15,027,998\n",
      "Trainable params: 15,027,998\n",
      "Non-trainable params: 0\n",
      "_________________________________________________________________\n"
     ]
    }
   ],
   "source": [
    "model.summary()"
   ]
  },
  {
   "cell_type": "markdown",
   "metadata": {
    "id": "J7UCFH7D32Fq"
   },
   "source": [
    "Comparamos la función de pérdida de train y test."
   ]
  },
  {
   "cell_type": "code",
   "execution_count": 30,
   "metadata": {
    "id": "15D52sKz32Fq",
    "outputId": "340405c2-a4f7-4c6d-b1cc-e5e8385cc53c"
   },
   "outputs": [
    {
     "data": {
      "image/png": "[encoded data removed]",
      "text/plain": [
       "<Figure size 432x288 with 1 Axes>"
      ]
     },
     "metadata": {
      "needs_background": "light"
     },
     "output_type": "display_data"
    }
   ],
   "source": [
    "plt.plot(history.history['loss'])\n",
    "plt.plot(history.history['val_loss'])\n",
    "plt.legend(['train','validation'])\n",
    "plt.show()"
   ]
  },
  {
   "cell_type": "markdown",
   "metadata": {},
   "source": [
    "- **RNN**"
   ]
  },
  {
   "cell_type": "markdown",
   "metadata": {},
   "source": [
    "**Recurrent Neural Networks o redes neuronales recurrentes (RNN)** son un tipo de red neuronal donde la salida del paso anterior se alimenta como entrada al paso actual. El estado oculto  recuerda alguna información sobre una secuencia. Los RNN tienen una “memoria” que recuerda TODA la información sobre lo calculado. Utiliza los mismos parámetros para cada entrada, ya que realiza la misma tarea en todas las entradas para producir la salida. Esto reduce la complejidad de los parámetros."
   ]
  },
  {
   "cell_type": "code",
   "execution_count": 28,
   "metadata": {},
   "outputs": [
    {
     "name": "stdout",
     "output_type": "stream",
     "text": [
      "Epoch 1/20\n",
      "250/250 [==============================] - 67s 265ms/step - loss: 3.7829 - val_loss: 2.9785\n",
      "Epoch 2/20\n",
      "250/250 [==============================] - 81s 325ms/step - loss: 2.8828 - val_loss: 2.6685\n",
      "Epoch 3/20\n",
      "250/250 [==============================] - 85s 340ms/step - loss: 2.5266 - val_loss: 2.4209\n",
      "Epoch 4/20\n",
      "250/250 [==============================] - 87s 347ms/step - loss: 2.1907 - val_loss: 2.2195\n",
      "Epoch 5/20\n",
      "250/250 [==============================] - 83s 332ms/step - loss: 1.9498 - val_loss: 2.0984\n",
      "Epoch 6/20\n",
      "250/250 [==============================] - 81s 325ms/step - loss: 1.7582 - val_loss: 1.9998\n",
      "Epoch 7/20\n",
      "250/250 [==============================] - 82s 330ms/step - loss: 1.5825 - val_loss: 1.9228\n",
      "Epoch 8/20\n",
      "250/250 [==============================] - 83s 333ms/step - loss: 1.4407 - val_loss: 1.8659\n",
      "Epoch 9/20\n",
      "250/250 [==============================] - 81s 326ms/step - loss: 1.3208 - val_loss: 1.8440\n",
      "Epoch 10/20\n",
      "250/250 [==============================] - 81s 325ms/step - loss: 1.2017 - val_loss: 1.7970\n",
      "Epoch 11/20\n",
      "250/250 [==============================] - 82s 327ms/step - loss: 1.0963 - val_loss: 1.7712\n",
      "Epoch 12/20\n",
      "250/250 [==============================] - 84s 334ms/step - loss: 1.0134 - val_loss: 1.7740\n",
      "Epoch 13/20\n",
      "250/250 [==============================] - 83s 332ms/step - loss: 0.9402 - val_loss: 1.7507\n",
      "Epoch 14/20\n",
      "250/250 [==============================] - 83s 333ms/step - loss: 0.8631 - val_loss: 1.7517\n",
      "Epoch 15/20\n",
      "250/250 [==============================] - 84s 338ms/step - loss: 0.8029 - val_loss: 1.7533\n",
      "Epoch 16/20\n",
      "250/250 [==============================] - 83s 334ms/step - loss: 0.7432 - val_loss: 1.7535\n",
      "Epoch 17/20\n",
      "250/250 [==============================] - 83s 332ms/step - loss: 0.6951 - val_loss: 1.7625\n",
      "Epoch 18/20\n",
      "250/250 [==============================] - 83s 333ms/step - loss: 0.6544 - val_loss: 1.7608\n",
      "Epoch 19/20\n",
      "250/250 [==============================] - 82s 328ms/step - loss: 0.6179 - val_loss: 1.7763\n",
      "Epoch 20/20\n",
      "250/250 [==============================] - 83s 333ms/step - loss: 0.5826 - val_loss: 1.7893\n"
     ]
    }
   ],
   "source": [
    "filename = 'model.h1.RNN'\n",
    "checkpoint = ModelCheckpoint(filename, monitor='val_loss', verbose=1, save_best_only=True, mode='min')\n",
    "\n",
    "# model2.compile(optimizer='rmsprop', loss='binary_crossentropy', metrics=['acc'])\n",
    "history2 = model2.fit(trainX, trainY.reshape(trainY.shape[0], trainY.shape[1], 1),\n",
    "                     epochs=20,\n",
    "                     batch_size=128,\n",
    "                     validation_split=0.2)"
   ]
  },
  {
   "cell_type": "code",
   "execution_count": 29,
   "metadata": {},
   "outputs": [
    {
     "name": "stdout",
     "output_type": "stream",
     "text": [
      "Model: \"sequential\"\n",
      "_________________________________________________________________\n",
      "Layer (type)                 Output Shape              Param #   \n",
      "=================================================================\n",
      "embedding (Embedding)        (None, 8, 512)            7268352   \n",
      "_________________________________________________________________\n",
      "simple_rnn (SimpleRNN)       (None, 512)               524800    \n",
      "_________________________________________________________________\n",
      "repeat_vector (RepeatVector) (None, 8, 512)            0         \n",
      "_________________________________________________________________\n",
      "simple_rnn_1 (SimpleRNN)     (None, 8, 512)            524800    \n",
      "_________________________________________________________________\n",
      "dense (Dense)                (None, 8, 6942)           3561246   \n",
      "=================================================================\n",
      "Total params: 11,879,198\n",
      "Trainable params: 11,879,198\n",
      "Non-trainable params: 0\n",
      "_________________________________________________________________\n"
     ]
    }
   ],
   "source": [
    "model2.summary()"
   ]
  },
  {
   "cell_type": "code",
   "execution_count": 30,
   "metadata": {},
   "outputs": [
    {
     "data": {
      "image/png": "[encoded data removed]",
      "text/plain": [
       "<Figure size 432x288 with 1 Axes>"
      ]
     },
     "metadata": {
      "needs_background": "light"
     },
     "output_type": "display_data"
    }
   ],
   "source": [
    "plt.plot(history2.history['loss'])\n",
    "plt.plot(history2.history['val_loss'])\n",
    "plt.legend(['train','validation'])\n",
    "plt.show()"
   ]
  },
  {
   "cell_type": "markdown",
   "metadata": {},
   "source": [
    "- **GRU**"
   ]
  },
  {
   "cell_type": "markdown",
   "metadata": {},
   "source": [
    "**Gated recurrent units o unidades recurrentes cerradas (GRUs)** son un mecanismo de compuerta en las redes neuronales recurrentes. El GRU es como una memoria a corto plazo (LSTM) PERO con  menos parámetros. LSTM tiene tres puertas (entrada, salida y puerta de olvido) y GRU tiene dos puertas (puerta de reinicio y actualización). \n",
    "\n",
    "La puerta de actualización (z) ayuda al modelo a determinar cuánta información de los pasos de tiempo anteriores debe transmitirse al futuro. Mientras tanto, la puerta de reinicio (r) decide cuánta información pasada se debe olvidar. Hace que las RNN sean un poco más inteligentes. En lugar de permitir que toda la información del estado oculto fluya a través de la red, tenemos que ser más selectivos con la información sea más relevante. \n",
    "\n",
    "LSTM es más preciso en los conjuntos de datos que utilizan una secuencia más larga pero GRU usa menos parámetros de entrenamiento y por lo tanto usa menos memoria; se ejecuta más rápido que LSTM. En resumen, si la secuencia es grande o la precisión es muy crítica,es mejor usar LSTM pero si queremos una operación más rápida y que use menos memoria optaremos GRU."
   ]
  },
  {
   "cell_type": "code",
   "execution_count": 28,
   "metadata": {},
   "outputs": [
    {
     "name": "stdout",
     "output_type": "stream",
     "text": [
      "Epoch 1/30\n",
      "63/63 [==============================] - 78s 1s/step - loss: 4.4538 - val_loss: 3.3677\n",
      "\n",
      "Epoch 00001: val_loss improved from inf to 3.36766, saving model to model.h1.GRU\n"
     ]
    },
    {
     "name": "stderr",
     "output_type": "stream",
     "text": [
      "WARNING:absl:Found untraced functions such as gru_cell_layer_call_fn, gru_cell_layer_call_and_return_conditional_losses, gru_cell_1_layer_call_fn, gru_cell_1_layer_call_and_return_conditional_losses, gru_cell_layer_call_fn while saving (showing 5 of 10). These functions will not be directly callable after loading.\n",
      "WARNING:absl:Found untraced functions such as gru_cell_layer_call_fn, gru_cell_layer_call_and_return_conditional_losses, gru_cell_1_layer_call_fn, gru_cell_1_layer_call_and_return_conditional_losses, gru_cell_layer_call_fn while saving (showing 5 of 10). These functions will not be directly callable after loading.\n"
     ]
    },
    {
     "name": "stdout",
     "output_type": "stream",
     "text": [
      "INFO:tensorflow:Assets written to: model.h1.GRU\\assets\n"
     ]
    },
    {
     "name": "stderr",
     "output_type": "stream",
     "text": [
      "INFO:tensorflow:Assets written to: model.h1.GRU\\assets\n"
     ]
    },
    {
     "name": "stdout",
     "output_type": "stream",
     "text": [
      "Epoch 2/30\n",
      "63/63 [==============================] - 91s 1s/step - loss: 3.2988 - val_loss: 3.2014\n",
      "\n",
      "Epoch 00002: val_loss improved from 3.36766 to 3.20140, saving model to model.h1.GRU\n"
     ]
    },
    {
     "name": "stderr",
     "output_type": "stream",
     "text": [
      "WARNING:absl:Found untraced functions such as gru_cell_layer_call_fn, gru_cell_layer_call_and_return_conditional_losses, gru_cell_1_layer_call_fn, gru_cell_1_layer_call_and_return_conditional_losses, gru_cell_layer_call_fn while saving (showing 5 of 10). These functions will not be directly callable after loading.\n",
      "WARNING:absl:Found untraced functions such as gru_cell_layer_call_fn, gru_cell_layer_call_and_return_conditional_losses, gru_cell_1_layer_call_fn, gru_cell_1_layer_call_and_return_conditional_losses, gru_cell_layer_call_fn while saving (showing 5 of 10). These functions will not be directly callable after loading.\n"
     ]
    },
    {
     "name": "stdout",
     "output_type": "stream",
     "text": [
      "INFO:tensorflow:Assets written to: model.h1.GRU\\assets\n"
     ]
    },
    {
     "name": "stderr",
     "output_type": "stream",
     "text": [
      "INFO:tensorflow:Assets written to: model.h1.GRU\\assets\n"
     ]
    },
    {
     "name": "stdout",
     "output_type": "stream",
     "text": [
      "Epoch 3/30\n",
      "63/63 [==============================] - 95s 2s/step - loss: 3.1050 - val_loss: 3.0889\n",
      "\n",
      "Epoch 00003: val_loss improved from 3.20140 to 3.08895, saving model to model.h1.GRU\n"
     ]
    },
    {
     "name": "stderr",
     "output_type": "stream",
     "text": [
      "WARNING:absl:Found untraced functions such as gru_cell_layer_call_fn, gru_cell_layer_call_and_return_conditional_losses, gru_cell_1_layer_call_fn, gru_cell_1_layer_call_and_return_conditional_losses, gru_cell_layer_call_fn while saving (showing 5 of 10). These functions will not be directly callable after loading.\n",
      "WARNING:absl:Found untraced functions such as gru_cell_layer_call_fn, gru_cell_layer_call_and_return_conditional_losses, gru_cell_1_layer_call_fn, gru_cell_1_layer_call_and_return_conditional_losses, gru_cell_layer_call_fn while saving (showing 5 of 10). These functions will not be directly callable after loading.\n"
     ]
    },
    {
     "name": "stdout",
     "output_type": "stream",
     "text": [
      "INFO:tensorflow:Assets written to: model.h1.GRU\\assets\n"
     ]
    },
    {
     "name": "stderr",
     "output_type": "stream",
     "text": [
      "INFO:tensorflow:Assets written to: model.h1.GRU\\assets\n"
     ]
    },
    {
     "name": "stdout",
     "output_type": "stream",
     "text": [
      "Epoch 4/30\n",
      "63/63 [==============================] - 96s 2s/step - loss: 2.9494 - val_loss: 3.0073\n",
      "\n",
      "Epoch 00004: val_loss improved from 3.08895 to 3.00729, saving model to model.h1.GRU\n"
     ]
    },
    {
     "name": "stderr",
     "output_type": "stream",
     "text": [
      "WARNING:absl:Found untraced functions such as gru_cell_layer_call_fn, gru_cell_layer_call_and_return_conditional_losses, gru_cell_1_layer_call_fn, gru_cell_1_layer_call_and_return_conditional_losses, gru_cell_layer_call_fn while saving (showing 5 of 10). These functions will not be directly callable after loading.\n",
      "WARNING:absl:Found untraced functions such as gru_cell_layer_call_fn, gru_cell_layer_call_and_return_conditional_losses, gru_cell_1_layer_call_fn, gru_cell_1_layer_call_and_return_conditional_losses, gru_cell_layer_call_fn while saving (showing 5 of 10). These functions will not be directly callable after loading.\n"
     ]
    },
    {
     "name": "stdout",
     "output_type": "stream",
     "text": [
      "INFO:tensorflow:Assets written to: model.h1.GRU\\assets\n"
     ]
    },
    {
     "name": "stderr",
     "output_type": "stream",
     "text": [
      "INFO:tensorflow:Assets written to: model.h1.GRU\\assets\n"
     ]
    },
    {
     "name": "stdout",
     "output_type": "stream",
     "text": [
      "Epoch 5/30\n",
      "63/63 [==============================] - 97s 2s/step - loss: 2.8579 - val_loss: 2.9073\n",
      "\n",
      "Epoch 00005: val_loss improved from 3.00729 to 2.90729, saving model to model.h1.GRU\n"
     ]
    },
    {
     "name": "stderr",
     "output_type": "stream",
     "text": [
      "WARNING:absl:Found untraced functions such as gru_cell_layer_call_fn, gru_cell_layer_call_and_return_conditional_losses, gru_cell_1_layer_call_fn, gru_cell_1_layer_call_and_return_conditional_losses, gru_cell_layer_call_fn while saving (showing 5 of 10). These functions will not be directly callable after loading.\n",
      "WARNING:absl:Found untraced functions such as gru_cell_layer_call_fn, gru_cell_layer_call_and_return_conditional_losses, gru_cell_1_layer_call_fn, gru_cell_1_layer_call_and_return_conditional_losses, gru_cell_layer_call_fn while saving (showing 5 of 10). These functions will not be directly callable after loading.\n"
     ]
    },
    {
     "name": "stdout",
     "output_type": "stream",
     "text": [
      "INFO:tensorflow:Assets written to: model.h1.GRU\\assets\n"
     ]
    },
    {
     "name": "stderr",
     "output_type": "stream",
     "text": [
      "INFO:tensorflow:Assets written to: model.h1.GRU\\assets\n"
     ]
    },
    {
     "name": "stdout",
     "output_type": "stream",
     "text": [
      "Epoch 6/30\n",
      "63/63 [==============================] - 94s 2s/step - loss: 2.7268 - val_loss: 2.7973\n",
      "\n",
      "Epoch 00006: val_loss improved from 2.90729 to 2.79726, saving model to model.h1.GRU\n"
     ]
    },
    {
     "name": "stderr",
     "output_type": "stream",
     "text": [
      "WARNING:absl:Found untraced functions such as gru_cell_layer_call_fn, gru_cell_layer_call_and_return_conditional_losses, gru_cell_1_layer_call_fn, gru_cell_1_layer_call_and_return_conditional_losses, gru_cell_layer_call_fn while saving (showing 5 of 10). These functions will not be directly callable after loading.\n",
      "WARNING:absl:Found untraced functions such as gru_cell_layer_call_fn, gru_cell_layer_call_and_return_conditional_losses, gru_cell_1_layer_call_fn, gru_cell_1_layer_call_and_return_conditional_losses, gru_cell_layer_call_fn while saving (showing 5 of 10). These functions will not be directly callable after loading.\n"
     ]
    },
    {
     "name": "stdout",
     "output_type": "stream",
     "text": [
      "INFO:tensorflow:Assets written to: model.h1.GRU\\assets\n"
     ]
    },
    {
     "name": "stderr",
     "output_type": "stream",
     "text": [
      "INFO:tensorflow:Assets written to: model.h1.GRU\\assets\n"
     ]
    },
    {
     "name": "stdout",
     "output_type": "stream",
     "text": [
      "Epoch 7/30\n",
      "63/63 [==============================] - 98s 2s/step - loss: 2.5891 - val_loss: 2.6646\n",
      "\n",
      "Epoch 00007: val_loss improved from 2.79726 to 2.66457, saving model to model.h1.GRU\n"
     ]
    },
    {
     "name": "stderr",
     "output_type": "stream",
     "text": [
      "WARNING:absl:Found untraced functions such as gru_cell_layer_call_fn, gru_cell_layer_call_and_return_conditional_losses, gru_cell_1_layer_call_fn, gru_cell_1_layer_call_and_return_conditional_losses, gru_cell_layer_call_fn while saving (showing 5 of 10). These functions will not be directly callable after loading.\n",
      "WARNING:absl:Found untraced functions such as gru_cell_layer_call_fn, gru_cell_layer_call_and_return_conditional_losses, gru_cell_1_layer_call_fn, gru_cell_1_layer_call_and_return_conditional_losses, gru_cell_layer_call_fn while saving (showing 5 of 10). These functions will not be directly callable after loading.\n"
     ]
    },
    {
     "name": "stdout",
     "output_type": "stream",
     "text": [
      "INFO:tensorflow:Assets written to: model.h1.GRU\\assets\n"
     ]
    },
    {
     "name": "stderr",
     "output_type": "stream",
     "text": [
      "INFO:tensorflow:Assets written to: model.h1.GRU\\assets\n"
     ]
    },
    {
     "name": "stdout",
     "output_type": "stream",
     "text": [
      "Epoch 8/30\n",
      "63/63 [==============================] - 96s 2s/step - loss: 2.4337 - val_loss: 2.5831\n",
      "\n",
      "Epoch 00008: val_loss improved from 2.66457 to 2.58310, saving model to model.h1.GRU\n"
     ]
    },
    {
     "name": "stderr",
     "output_type": "stream",
     "text": [
      "WARNING:absl:Found untraced functions such as gru_cell_layer_call_fn, gru_cell_layer_call_and_return_conditional_losses, gru_cell_1_layer_call_fn, gru_cell_1_layer_call_and_return_conditional_losses, gru_cell_layer_call_fn while saving (showing 5 of 10). These functions will not be directly callable after loading.\n",
      "WARNING:absl:Found untraced functions such as gru_cell_layer_call_fn, gru_cell_layer_call_and_return_conditional_losses, gru_cell_1_layer_call_fn, gru_cell_1_layer_call_and_return_conditional_losses, gru_cell_layer_call_fn while saving (showing 5 of 10). These functions will not be directly callable after loading.\n"
     ]
    },
    {
     "name": "stdout",
     "output_type": "stream",
     "text": [
      "INFO:tensorflow:Assets written to: model.h1.GRU\\assets\n"
     ]
    },
    {
     "name": "stderr",
     "output_type": "stream",
     "text": [
      "INFO:tensorflow:Assets written to: model.h1.GRU\\assets\n"
     ]
    },
    {
     "name": "stdout",
     "output_type": "stream",
     "text": [
      "Epoch 9/30\n",
      "63/63 [==============================] - 96s 2s/step - loss: 2.2901 - val_loss: 2.4588\n",
      "\n",
      "Epoch 00009: val_loss improved from 2.58310 to 2.45883, saving model to model.h1.GRU\n"
     ]
    },
    {
     "name": "stderr",
     "output_type": "stream",
     "text": [
      "WARNING:absl:Found untraced functions such as gru_cell_layer_call_fn, gru_cell_layer_call_and_return_conditional_losses, gru_cell_1_layer_call_fn, gru_cell_1_layer_call_and_return_conditional_losses, gru_cell_layer_call_fn while saving (showing 5 of 10). These functions will not be directly callable after loading.\n",
      "WARNING:absl:Found untraced functions such as gru_cell_layer_call_fn, gru_cell_layer_call_and_return_conditional_losses, gru_cell_1_layer_call_fn, gru_cell_1_layer_call_and_return_conditional_losses, gru_cell_layer_call_fn while saving (showing 5 of 10). These functions will not be directly callable after loading.\n"
     ]
    },
    {
     "name": "stdout",
     "output_type": "stream",
     "text": [
      "INFO:tensorflow:Assets written to: model.h1.GRU\\assets\n"
     ]
    },
    {
     "name": "stderr",
     "output_type": "stream",
     "text": [
      "INFO:tensorflow:Assets written to: model.h1.GRU\\assets\n"
     ]
    },
    {
     "name": "stdout",
     "output_type": "stream",
     "text": [
      "Epoch 10/30\n",
      "63/63 [==============================] - 96s 2s/step - loss: 2.1563 - val_loss: 2.4047\n",
      "\n",
      "Epoch 00010: val_loss improved from 2.45883 to 2.40469, saving model to model.h1.GRU\n"
     ]
    },
    {
     "name": "stderr",
     "output_type": "stream",
     "text": [
      "WARNING:absl:Found untraced functions such as gru_cell_layer_call_fn, gru_cell_layer_call_and_return_conditional_losses, gru_cell_1_layer_call_fn, gru_cell_1_layer_call_and_return_conditional_losses, gru_cell_layer_call_fn while saving (showing 5 of 10). These functions will not be directly callable after loading.\n",
      "WARNING:absl:Found untraced functions such as gru_cell_layer_call_fn, gru_cell_layer_call_and_return_conditional_losses, gru_cell_1_layer_call_fn, gru_cell_1_layer_call_and_return_conditional_losses, gru_cell_layer_call_fn while saving (showing 5 of 10). These functions will not be directly callable after loading.\n"
     ]
    },
    {
     "name": "stdout",
     "output_type": "stream",
     "text": [
      "INFO:tensorflow:Assets written to: model.h1.GRU\\assets\n"
     ]
    },
    {
     "name": "stderr",
     "output_type": "stream",
     "text": [
      "INFO:tensorflow:Assets written to: model.h1.GRU\\assets\n"
     ]
    },
    {
     "name": "stdout",
     "output_type": "stream",
     "text": [
      "Epoch 11/30\n",
      "63/63 [==============================] - 97s 2s/step - loss: 2.0361 - val_loss: 2.3318\n",
      "\n",
      "Epoch 00011: val_loss improved from 2.40469 to 2.33180, saving model to model.h1.GRU\n"
     ]
    },
    {
     "name": "stderr",
     "output_type": "stream",
     "text": [
      "WARNING:absl:Found untraced functions such as gru_cell_layer_call_fn, gru_cell_layer_call_and_return_conditional_losses, gru_cell_1_layer_call_fn, gru_cell_1_layer_call_and_return_conditional_losses, gru_cell_layer_call_fn while saving (showing 5 of 10). These functions will not be directly callable after loading.\n",
      "WARNING:absl:Found untraced functions such as gru_cell_layer_call_fn, gru_cell_layer_call_and_return_conditional_losses, gru_cell_1_layer_call_fn, gru_cell_1_layer_call_and_return_conditional_losses, gru_cell_layer_call_fn while saving (showing 5 of 10). These functions will not be directly callable after loading.\n"
     ]
    },
    {
     "name": "stdout",
     "output_type": "stream",
     "text": [
      "INFO:tensorflow:Assets written to: model.h1.GRU\\assets\n"
     ]
    },
    {
     "name": "stderr",
     "output_type": "stream",
     "text": [
      "INFO:tensorflow:Assets written to: model.h1.GRU\\assets\n"
     ]
    },
    {
     "name": "stdout",
     "output_type": "stream",
     "text": [
      "Epoch 12/30\n",
      "63/63 [==============================] - 96s 2s/step - loss: 1.9328 - val_loss: 2.2647\n",
      "\n",
      "Epoch 00012: val_loss improved from 2.33180 to 2.26472, saving model to model.h1.GRU\n"
     ]
    },
    {
     "name": "stderr",
     "output_type": "stream",
     "text": [
      "WARNING:absl:Found untraced functions such as gru_cell_layer_call_fn, gru_cell_layer_call_and_return_conditional_losses, gru_cell_1_layer_call_fn, gru_cell_1_layer_call_and_return_conditional_losses, gru_cell_layer_call_fn while saving (showing 5 of 10). These functions will not be directly callable after loading.\n",
      "WARNING:absl:Found untraced functions such as gru_cell_layer_call_fn, gru_cell_layer_call_and_return_conditional_losses, gru_cell_1_layer_call_fn, gru_cell_1_layer_call_and_return_conditional_losses, gru_cell_layer_call_fn while saving (showing 5 of 10). These functions will not be directly callable after loading.\n"
     ]
    },
    {
     "name": "stdout",
     "output_type": "stream",
     "text": [
      "INFO:tensorflow:Assets written to: model.h1.GRU\\assets\n"
     ]
    },
    {
     "name": "stderr",
     "output_type": "stream",
     "text": [
      "INFO:tensorflow:Assets written to: model.h1.GRU\\assets\n"
     ]
    },
    {
     "name": "stdout",
     "output_type": "stream",
     "text": [
      "Epoch 13/30\n",
      "63/63 [==============================] - 99s 2s/step - loss: 1.8213 - val_loss: 2.2307\n",
      "\n",
      "Epoch 00013: val_loss improved from 2.26472 to 2.23070, saving model to model.h1.GRU\n"
     ]
    },
    {
     "name": "stderr",
     "output_type": "stream",
     "text": [
      "WARNING:absl:Found untraced functions such as gru_cell_layer_call_fn, gru_cell_layer_call_and_return_conditional_losses, gru_cell_1_layer_call_fn, gru_cell_1_layer_call_and_return_conditional_losses, gru_cell_layer_call_fn while saving (showing 5 of 10). These functions will not be directly callable after loading.\n",
      "WARNING:absl:Found untraced functions such as gru_cell_layer_call_fn, gru_cell_layer_call_and_return_conditional_losses, gru_cell_1_layer_call_fn, gru_cell_1_layer_call_and_return_conditional_losses, gru_cell_layer_call_fn while saving (showing 5 of 10). These functions will not be directly callable after loading.\n"
     ]
    },
    {
     "name": "stdout",
     "output_type": "stream",
     "text": [
      "INFO:tensorflow:Assets written to: model.h1.GRU\\assets\n"
     ]
    },
    {
     "name": "stderr",
     "output_type": "stream",
     "text": [
      "INFO:tensorflow:Assets written to: model.h1.GRU\\assets\n"
     ]
    },
    {
     "name": "stdout",
     "output_type": "stream",
     "text": [
      "Epoch 14/30\n",
      "63/63 [==============================] - 99s 2s/step - loss: 1.7187 - val_loss: 2.1533\n",
      "\n",
      "Epoch 00014: val_loss improved from 2.23070 to 2.15333, saving model to model.h1.GRU\n"
     ]
    },
    {
     "name": "stderr",
     "output_type": "stream",
     "text": [
      "WARNING:absl:Found untraced functions such as gru_cell_layer_call_fn, gru_cell_layer_call_and_return_conditional_losses, gru_cell_1_layer_call_fn, gru_cell_1_layer_call_and_return_conditional_losses, gru_cell_layer_call_fn while saving (showing 5 of 10). These functions will not be directly callable after loading.\n",
      "WARNING:absl:Found untraced functions such as gru_cell_layer_call_fn, gru_cell_layer_call_and_return_conditional_losses, gru_cell_1_layer_call_fn, gru_cell_1_layer_call_and_return_conditional_losses, gru_cell_layer_call_fn while saving (showing 5 of 10). These functions will not be directly callable after loading.\n"
     ]
    },
    {
     "name": "stdout",
     "output_type": "stream",
     "text": [
      "INFO:tensorflow:Assets written to: model.h1.GRU\\assets\n"
     ]
    },
    {
     "name": "stderr",
     "output_type": "stream",
     "text": [
      "INFO:tensorflow:Assets written to: model.h1.GRU\\assets\n"
     ]
    },
    {
     "name": "stdout",
     "output_type": "stream",
     "text": [
      "Epoch 15/30\n",
      "63/63 [==============================] - 102s 2s/step - loss: 1.6272 - val_loss: 2.1256\n",
      "\n",
      "Epoch 00015: val_loss improved from 2.15333 to 2.12559, saving model to model.h1.GRU\n"
     ]
    },
    {
     "name": "stderr",
     "output_type": "stream",
     "text": [
      "WARNING:absl:Found untraced functions such as gru_cell_layer_call_fn, gru_cell_layer_call_and_return_conditional_losses, gru_cell_1_layer_call_fn, gru_cell_1_layer_call_and_return_conditional_losses, gru_cell_layer_call_fn while saving (showing 5 of 10). These functions will not be directly callable after loading.\n",
      "WARNING:absl:Found untraced functions such as gru_cell_layer_call_fn, gru_cell_layer_call_and_return_conditional_losses, gru_cell_1_layer_call_fn, gru_cell_1_layer_call_and_return_conditional_losses, gru_cell_layer_call_fn while saving (showing 5 of 10). These functions will not be directly callable after loading.\n"
     ]
    },
    {
     "name": "stdout",
     "output_type": "stream",
     "text": [
      "INFO:tensorflow:Assets written to: model.h1.GRU\\assets\n"
     ]
    },
    {
     "name": "stderr",
     "output_type": "stream",
     "text": [
      "INFO:tensorflow:Assets written to: model.h1.GRU\\assets\n"
     ]
    },
    {
     "name": "stdout",
     "output_type": "stream",
     "text": [
      "Epoch 16/30\n",
      "63/63 [==============================] - 98s 2s/step - loss: 1.5239 - val_loss: 2.0797\n",
      "\n",
      "Epoch 00016: val_loss improved from 2.12559 to 2.07971, saving model to model.h1.GRU\n"
     ]
    },
    {
     "name": "stderr",
     "output_type": "stream",
     "text": [
      "WARNING:absl:Found untraced functions such as gru_cell_layer_call_fn, gru_cell_layer_call_and_return_conditional_losses, gru_cell_1_layer_call_fn, gru_cell_1_layer_call_and_return_conditional_losses, gru_cell_layer_call_fn while saving (showing 5 of 10). These functions will not be directly callable after loading.\n",
      "WARNING:absl:Found untraced functions such as gru_cell_layer_call_fn, gru_cell_layer_call_and_return_conditional_losses, gru_cell_1_layer_call_fn, gru_cell_1_layer_call_and_return_conditional_losses, gru_cell_layer_call_fn while saving (showing 5 of 10). These functions will not be directly callable after loading.\n"
     ]
    },
    {
     "name": "stdout",
     "output_type": "stream",
     "text": [
      "INFO:tensorflow:Assets written to: model.h1.GRU\\assets\n"
     ]
    },
    {
     "name": "stderr",
     "output_type": "stream",
     "text": [
      "INFO:tensorflow:Assets written to: model.h1.GRU\\assets\n"
     ]
    },
    {
     "name": "stdout",
     "output_type": "stream",
     "text": [
      "Epoch 17/30\n",
      "63/63 [==============================] - 101s 2s/step - loss: 1.4344 - val_loss: 2.0602\n",
      "\n",
      "Epoch 00017: val_loss improved from 2.07971 to 2.06018, saving model to model.h1.GRU\n"
     ]
    },
    {
     "name": "stderr",
     "output_type": "stream",
     "text": [
      "WARNING:absl:Found untraced functions such as gru_cell_layer_call_fn, gru_cell_layer_call_and_return_conditional_losses, gru_cell_1_layer_call_fn, gru_cell_1_layer_call_and_return_conditional_losses, gru_cell_layer_call_fn while saving (showing 5 of 10). These functions will not be directly callable after loading.\n",
      "WARNING:absl:Found untraced functions such as gru_cell_layer_call_fn, gru_cell_layer_call_and_return_conditional_losses, gru_cell_1_layer_call_fn, gru_cell_1_layer_call_and_return_conditional_losses, gru_cell_layer_call_fn while saving (showing 5 of 10). These functions will not be directly callable after loading.\n"
     ]
    },
    {
     "name": "stdout",
     "output_type": "stream",
     "text": [
      "INFO:tensorflow:Assets written to: model.h1.GRU\\assets\n"
     ]
    },
    {
     "name": "stderr",
     "output_type": "stream",
     "text": [
      "INFO:tensorflow:Assets written to: model.h1.GRU\\assets\n"
     ]
    },
    {
     "name": "stdout",
     "output_type": "stream",
     "text": [
      "Epoch 18/30\n",
      "63/63 [==============================] - 98s 2s/step - loss: 1.3545 - val_loss: 2.0000\n",
      "\n",
      "Epoch 00018: val_loss improved from 2.06018 to 2.00002, saving model to model.h1.GRU\n"
     ]
    },
    {
     "name": "stderr",
     "output_type": "stream",
     "text": [
      "WARNING:absl:Found untraced functions such as gru_cell_layer_call_fn, gru_cell_layer_call_and_return_conditional_losses, gru_cell_1_layer_call_fn, gru_cell_1_layer_call_and_return_conditional_losses, gru_cell_layer_call_fn while saving (showing 5 of 10). These functions will not be directly callable after loading.\n",
      "WARNING:absl:Found untraced functions such as gru_cell_layer_call_fn, gru_cell_layer_call_and_return_conditional_losses, gru_cell_1_layer_call_fn, gru_cell_1_layer_call_and_return_conditional_losses, gru_cell_layer_call_fn while saving (showing 5 of 10). These functions will not be directly callable after loading.\n"
     ]
    },
    {
     "name": "stdout",
     "output_type": "stream",
     "text": [
      "INFO:tensorflow:Assets written to: model.h1.GRU\\assets\n"
     ]
    },
    {
     "name": "stderr",
     "output_type": "stream",
     "text": [
      "INFO:tensorflow:Assets written to: model.h1.GRU\\assets\n"
     ]
    },
    {
     "name": "stdout",
     "output_type": "stream",
     "text": [
      "Epoch 19/30\n",
      "63/63 [==============================] - 99s 2s/step - loss: 1.2789 - val_loss: 2.0025\n",
      "\n",
      "Epoch 00019: val_loss did not improve from 2.00002\n",
      "Epoch 20/30\n",
      "63/63 [==============================] - 99s 2s/step - loss: 1.1980 - val_loss: 1.9618\n",
      "\n",
      "Epoch 00020: val_loss improved from 2.00002 to 1.96177, saving model to model.h1.GRU\n"
     ]
    },
    {
     "name": "stderr",
     "output_type": "stream",
     "text": [
      "WARNING:absl:Found untraced functions such as gru_cell_layer_call_fn, gru_cell_layer_call_and_return_conditional_losses, gru_cell_1_layer_call_fn, gru_cell_1_layer_call_and_return_conditional_losses, gru_cell_layer_call_fn while saving (showing 5 of 10). These functions will not be directly callable after loading.\n",
      "WARNING:absl:Found untraced functions such as gru_cell_layer_call_fn, gru_cell_layer_call_and_return_conditional_losses, gru_cell_1_layer_call_fn, gru_cell_1_layer_call_and_return_conditional_losses, gru_cell_layer_call_fn while saving (showing 5 of 10). These functions will not be directly callable after loading.\n"
     ]
    },
    {
     "name": "stdout",
     "output_type": "stream",
     "text": [
      "INFO:tensorflow:Assets written to: model.h1.GRU\\assets\n"
     ]
    },
    {
     "name": "stderr",
     "output_type": "stream",
     "text": [
      "INFO:tensorflow:Assets written to: model.h1.GRU\\assets\n"
     ]
    },
    {
     "name": "stdout",
     "output_type": "stream",
     "text": [
      "Epoch 21/30\n",
      "63/63 [==============================] - 101s 2s/step - loss: 1.1218 - val_loss: 1.9281\n",
      "\n",
      "Epoch 00021: val_loss improved from 1.96177 to 1.92810, saving model to model.h1.GRU\n"
     ]
    },
    {
     "name": "stderr",
     "output_type": "stream",
     "text": [
      "WARNING:absl:Found untraced functions such as gru_cell_layer_call_fn, gru_cell_layer_call_and_return_conditional_losses, gru_cell_1_layer_call_fn, gru_cell_1_layer_call_and_return_conditional_losses, gru_cell_layer_call_fn while saving (showing 5 of 10). These functions will not be directly callable after loading.\n",
      "WARNING:absl:Found untraced functions such as gru_cell_layer_call_fn, gru_cell_layer_call_and_return_conditional_losses, gru_cell_1_layer_call_fn, gru_cell_1_layer_call_and_return_conditional_losses, gru_cell_layer_call_fn while saving (showing 5 of 10). These functions will not be directly callable after loading.\n"
     ]
    },
    {
     "name": "stdout",
     "output_type": "stream",
     "text": [
      "INFO:tensorflow:Assets written to: model.h1.GRU\\assets\n"
     ]
    },
    {
     "name": "stderr",
     "output_type": "stream",
     "text": [
      "INFO:tensorflow:Assets written to: model.h1.GRU\\assets\n"
     ]
    },
    {
     "name": "stdout",
     "output_type": "stream",
     "text": [
      "Epoch 22/30\n",
      "63/63 [==============================] - 98s 2s/step - loss: 1.0453 - val_loss: 1.9101\n",
      "\n",
      "Epoch 00022: val_loss improved from 1.92810 to 1.91006, saving model to model.h1.GRU\n"
     ]
    },
    {
     "name": "stderr",
     "output_type": "stream",
     "text": [
      "WARNING:absl:Found untraced functions such as gru_cell_layer_call_fn, gru_cell_layer_call_and_return_conditional_losses, gru_cell_1_layer_call_fn, gru_cell_1_layer_call_and_return_conditional_losses, gru_cell_layer_call_fn while saving (showing 5 of 10). These functions will not be directly callable after loading.\n",
      "WARNING:absl:Found untraced functions such as gru_cell_layer_call_fn, gru_cell_layer_call_and_return_conditional_losses, gru_cell_1_layer_call_fn, gru_cell_1_layer_call_and_return_conditional_losses, gru_cell_layer_call_fn while saving (showing 5 of 10). These functions will not be directly callable after loading.\n"
     ]
    },
    {
     "name": "stdout",
     "output_type": "stream",
     "text": [
      "INFO:tensorflow:Assets written to: model.h1.GRU\\assets\n"
     ]
    },
    {
     "name": "stderr",
     "output_type": "stream",
     "text": [
      "INFO:tensorflow:Assets written to: model.h1.GRU\\assets\n"
     ]
    },
    {
     "name": "stdout",
     "output_type": "stream",
     "text": [
      "Epoch 23/30\n",
      "63/63 [==============================] - 96s 2s/step - loss: 0.9822 - val_loss: 1.9015\n",
      "\n",
      "Epoch 00023: val_loss improved from 1.91006 to 1.90149, saving model to model.h1.GRU\n"
     ]
    },
    {
     "name": "stderr",
     "output_type": "stream",
     "text": [
      "WARNING:absl:Found untraced functions such as gru_cell_layer_call_fn, gru_cell_layer_call_and_return_conditional_losses, gru_cell_1_layer_call_fn, gru_cell_1_layer_call_and_return_conditional_losses, gru_cell_layer_call_fn while saving (showing 5 of 10). These functions will not be directly callable after loading.\n",
      "WARNING:absl:Found untraced functions such as gru_cell_layer_call_fn, gru_cell_layer_call_and_return_conditional_losses, gru_cell_1_layer_call_fn, gru_cell_1_layer_call_and_return_conditional_losses, gru_cell_layer_call_fn while saving (showing 5 of 10). These functions will not be directly callable after loading.\n"
     ]
    },
    {
     "name": "stdout",
     "output_type": "stream",
     "text": [
      "INFO:tensorflow:Assets written to: model.h1.GRU\\assets\n"
     ]
    },
    {
     "name": "stderr",
     "output_type": "stream",
     "text": [
      "INFO:tensorflow:Assets written to: model.h1.GRU\\assets\n"
     ]
    },
    {
     "name": "stdout",
     "output_type": "stream",
     "text": [
      "Epoch 24/30\n",
      "63/63 [==============================] - 99s 2s/step - loss: 0.9059 - val_loss: 1.8803\n",
      "\n",
      "Epoch 00024: val_loss improved from 1.90149 to 1.88033, saving model to model.h1.GRU\n"
     ]
    },
    {
     "name": "stderr",
     "output_type": "stream",
     "text": [
      "WARNING:absl:Found untraced functions such as gru_cell_layer_call_fn, gru_cell_layer_call_and_return_conditional_losses, gru_cell_1_layer_call_fn, gru_cell_1_layer_call_and_return_conditional_losses, gru_cell_layer_call_fn while saving (showing 5 of 10). These functions will not be directly callable after loading.\n",
      "WARNING:absl:Found untraced functions such as gru_cell_layer_call_fn, gru_cell_layer_call_and_return_conditional_losses, gru_cell_1_layer_call_fn, gru_cell_1_layer_call_and_return_conditional_losses, gru_cell_layer_call_fn while saving (showing 5 of 10). These functions will not be directly callable after loading.\n"
     ]
    },
    {
     "name": "stdout",
     "output_type": "stream",
     "text": [
      "INFO:tensorflow:Assets written to: model.h1.GRU\\assets\n"
     ]
    },
    {
     "name": "stderr",
     "output_type": "stream",
     "text": [
      "INFO:tensorflow:Assets written to: model.h1.GRU\\assets\n"
     ]
    },
    {
     "name": "stdout",
     "output_type": "stream",
     "text": [
      "Epoch 25/30\n",
      "63/63 [==============================] - 97s 2s/step - loss: 0.8464 - val_loss: 1.8679\n",
      "\n",
      "Epoch 00025: val_loss improved from 1.88033 to 1.86786, saving model to model.h1.GRU\n"
     ]
    },
    {
     "name": "stderr",
     "output_type": "stream",
     "text": [
      "WARNING:absl:Found untraced functions such as gru_cell_layer_call_fn, gru_cell_layer_call_and_return_conditional_losses, gru_cell_1_layer_call_fn, gru_cell_1_layer_call_and_return_conditional_losses, gru_cell_layer_call_fn while saving (showing 5 of 10). These functions will not be directly callable after loading.\n",
      "WARNING:absl:Found untraced functions such as gru_cell_layer_call_fn, gru_cell_layer_call_and_return_conditional_losses, gru_cell_1_layer_call_fn, gru_cell_1_layer_call_and_return_conditional_losses, gru_cell_layer_call_fn while saving (showing 5 of 10). These functions will not be directly callable after loading.\n"
     ]
    },
    {
     "name": "stdout",
     "output_type": "stream",
     "text": [
      "INFO:tensorflow:Assets written to: model.h1.GRU\\assets\n"
     ]
    },
    {
     "name": "stderr",
     "output_type": "stream",
     "text": [
      "INFO:tensorflow:Assets written to: model.h1.GRU\\assets\n"
     ]
    },
    {
     "name": "stdout",
     "output_type": "stream",
     "text": [
      "Epoch 26/30\n",
      "63/63 [==============================] - 97s 2s/step - loss: 0.7835 - val_loss: 1.8630\n",
      "\n",
      "Epoch 00026: val_loss improved from 1.86786 to 1.86301, saving model to model.h1.GRU\n"
     ]
    },
    {
     "name": "stderr",
     "output_type": "stream",
     "text": [
      "WARNING:absl:Found untraced functions such as gru_cell_layer_call_fn, gru_cell_layer_call_and_return_conditional_losses, gru_cell_1_layer_call_fn, gru_cell_1_layer_call_and_return_conditional_losses, gru_cell_layer_call_fn while saving (showing 5 of 10). These functions will not be directly callable after loading.\n",
      "WARNING:absl:Found untraced functions such as gru_cell_layer_call_fn, gru_cell_layer_call_and_return_conditional_losses, gru_cell_1_layer_call_fn, gru_cell_1_layer_call_and_return_conditional_losses, gru_cell_layer_call_fn while saving (showing 5 of 10). These functions will not be directly callable after loading.\n"
     ]
    },
    {
     "name": "stdout",
     "output_type": "stream",
     "text": [
      "INFO:tensorflow:Assets written to: model.h1.GRU\\assets\n"
     ]
    },
    {
     "name": "stderr",
     "output_type": "stream",
     "text": [
      "INFO:tensorflow:Assets written to: model.h1.GRU\\assets\n"
     ]
    },
    {
     "name": "stdout",
     "output_type": "stream",
     "text": [
      "Epoch 27/30\n",
      "63/63 [==============================] - 99s 2s/step - loss: 0.7312 - val_loss: 1.8617\n",
      "\n",
      "Epoch 00027: val_loss improved from 1.86301 to 1.86170, saving model to model.h1.GRU\n"
     ]
    },
    {
     "name": "stderr",
     "output_type": "stream",
     "text": [
      "WARNING:absl:Found untraced functions such as gru_cell_layer_call_fn, gru_cell_layer_call_and_return_conditional_losses, gru_cell_1_layer_call_fn, gru_cell_1_layer_call_and_return_conditional_losses, gru_cell_layer_call_fn while saving (showing 5 of 10). These functions will not be directly callable after loading.\n",
      "WARNING:absl:Found untraced functions such as gru_cell_layer_call_fn, gru_cell_layer_call_and_return_conditional_losses, gru_cell_1_layer_call_fn, gru_cell_1_layer_call_and_return_conditional_losses, gru_cell_layer_call_fn while saving (showing 5 of 10). These functions will not be directly callable after loading.\n"
     ]
    },
    {
     "name": "stdout",
     "output_type": "stream",
     "text": [
      "INFO:tensorflow:Assets written to: model.h1.GRU\\assets\n"
     ]
    },
    {
     "name": "stderr",
     "output_type": "stream",
     "text": [
      "INFO:tensorflow:Assets written to: model.h1.GRU\\assets\n"
     ]
    },
    {
     "name": "stdout",
     "output_type": "stream",
     "text": [
      "Epoch 28/30\n",
      "63/63 [==============================] - 97s 2s/step - loss: 0.6795 - val_loss: 1.8397\n",
      "\n",
      "Epoch 00028: val_loss improved from 1.86170 to 1.83972, saving model to model.h1.GRU\n"
     ]
    },
    {
     "name": "stderr",
     "output_type": "stream",
     "text": [
      "WARNING:absl:Found untraced functions such as gru_cell_layer_call_fn, gru_cell_layer_call_and_return_conditional_losses, gru_cell_1_layer_call_fn, gru_cell_1_layer_call_and_return_conditional_losses, gru_cell_layer_call_fn while saving (showing 5 of 10). These functions will not be directly callable after loading.\n",
      "WARNING:absl:Found untraced functions such as gru_cell_layer_call_fn, gru_cell_layer_call_and_return_conditional_losses, gru_cell_1_layer_call_fn, gru_cell_1_layer_call_and_return_conditional_losses, gru_cell_layer_call_fn while saving (showing 5 of 10). These functions will not be directly callable after loading.\n"
     ]
    },
    {
     "name": "stdout",
     "output_type": "stream",
     "text": [
      "INFO:tensorflow:Assets written to: model.h1.GRU\\assets\n"
     ]
    },
    {
     "name": "stderr",
     "output_type": "stream",
     "text": [
      "INFO:tensorflow:Assets written to: model.h1.GRU\\assets\n"
     ]
    },
    {
     "name": "stdout",
     "output_type": "stream",
     "text": [
      "Epoch 29/30\n",
      "63/63 [==============================] - 102s 2s/step - loss: 0.6210 - val_loss: 1.8467\n",
      "\n",
      "Epoch 00029: val_loss did not improve from 1.83972\n",
      "Epoch 30/30\n",
      "63/63 [==============================] - 99s 2s/step - loss: 0.5748 - val_loss: 1.8513\n",
      "\n",
      "Epoch 00030: val_loss did not improve from 1.83972\n"
     ]
    }
   ],
   "source": [
    "filename = 'model.h1.GRU'\n",
    "checkpoint = ModelCheckpoint(filename, monitor='val_loss', verbose=1, save_best_only=True, mode='min')\n",
    "\n",
    "history3 = model3.fit(trainX, trainY.reshape(trainY.shape[0], trainY.shape[1], 1), \n",
    "          epochs=30, \n",
    "          batch_size=512, \n",
    "          validation_split = 0.2,\n",
    "          callbacks=[checkpoint], verbose=1)"
   ]
  },
  {
   "cell_type": "code",
   "execution_count": 29,
   "metadata": {},
   "outputs": [
    {
     "name": "stdout",
     "output_type": "stream",
     "text": [
      "Model: \"sequential\"\n",
      "_________________________________________________________________\n",
      "Layer (type)                 Output Shape              Param #   \n",
      "=================================================================\n",
      "embedding (Embedding)        (None, 8, 512)            7268352   \n",
      "_________________________________________________________________\n",
      "gru (GRU)                    (None, 512)               1575936   \n",
      "_________________________________________________________________\n",
      "repeat_vector (RepeatVector) (None, 8, 512)            0         \n",
      "_________________________________________________________________\n",
      "gru_1 (GRU)                  (None, 8, 512)            1575936   \n",
      "_________________________________________________________________\n",
      "dense (Dense)                (None, 8, 6942)           3561246   \n",
      "=================================================================\n",
      "Total params: 13,981,470\n",
      "Trainable params: 13,981,470\n",
      "Non-trainable params: 0\n",
      "_________________________________________________________________\n"
     ]
    }
   ],
   "source": [
    "model3.summary()"
   ]
  },
  {
   "cell_type": "code",
   "execution_count": 32,
   "metadata": {},
   "outputs": [
    {
     "data": {
      "image/png": "[encoded data removed]",
      "text/plain": [
       "<Figure size 432x288 with 1 Axes>"
      ]
     },
     "metadata": {
      "needs_background": "light"
     },
     "output_type": "display_data"
    }
   ],
   "source": [
    "plt.plot(history3.history['loss'])\n",
    "plt.plot(history3.history['val_loss'])\n",
    "plt.legend(['train','validation'])\n",
    "plt.show()"
   ]
  },
  {
   "cell_type": "markdown",
   "metadata": {},
   "source": [
    "Observando las funciones de pérdida de los tres modelos vemos que LSTM y GRU se sobre ajustan. Esto es algo normal ya que la traducción al final es muy dependiente del texto en el que está. Se comportan de forma muy parecida. \n",
    "\n",
    "LSTM (memoria a largo plazo) tiene tres puertas (entrada, salida y puerta de olvido), mientras que la GRU tiene dos puertas (puerta de reinicio y puerta de actualización). Las GRU asocian puertas de olvido y de entrada. Las GRU utilizan menos parámetros de entrenamiento y, por lo tanto, utilizan menos memoria, se ejecutan más rápidamente y se entrenan más rápido que las LSTM, mientras que éstas son más precisas en conjuntosde datos que utilizan una secuencia más larga (LSTM 80 min Y GRU 60 min).\n",
    "\n",
    "En resumen, si la secuencia es grande o la precisión es muy importante, se empleanLSTMs, mientras que para un menor consumo de memoria y un funcionamiento más rápido se escogen GRUs. Cuanto menor sea la función de pérdida; mejor será el modelo. Por lo que el mejor modelo es LSTM ya se empieza a estabilizar antes. "
   ]
  },
  {
   "cell_type": "markdown",
   "metadata": {
    "id": "OU3JrKkq32Fr"
   },
   "source": [
    "### Predicciones LSTM"
   ]
  },
  {
   "cell_type": "markdown",
   "metadata": {
    "id": "TVAr-Eg432Fs"
   },
   "source": [
    "Cargamos el modelo guardado para hacer las predicciones."
   ]
  },
  {
   "cell_type": "code",
   "execution_count": 31,
   "metadata": {
    "id": "Wje53Qe132Fs",
    "outputId": "0d81b470-0b87-4064-b259-93a86f3adab8"
   },
   "outputs": [
    {
     "name": "stderr",
     "output_type": "stream",
     "text": [
      "C:\\Users\\María\\AppData\\Roaming\\Python\\Python38\\site-packages\\tensorflow\\python\\keras\\engine\\sequential.py:450: UserWarning: `model.predict_classes()` is deprecated and will be removed after 2021-01-01. Please use instead:* `np.argmax(model.predict(x), axis=-1)`,   if your model does multi-class classification   (e.g. if it uses a `softmax` last-layer activation).* `(model.predict(x) > 0.5).astype(\"int32\")`,   if your model does binary classification   (e.g. if it uses a `sigmoid` last-layer activation).\n",
      "  warnings.warn('`model.predict_classes()` is deprecated and '\n"
     ]
    }
   ],
   "source": [
    "model = load_model('C:/Users/María/MASTER/Datos No Estruct/Texto/Practica/model.h1.LSTM')\n",
    "preds = model.predict_classes(testX.reshape((testX.shape[0],testX.shape[1])))"
   ]
  },
  {
   "cell_type": "code",
   "execution_count": 32,
   "metadata": {
    "id": "7GpSY6Um32Fs"
   },
   "outputs": [],
   "source": [
    "def get_word(n, tokenizer):\n",
    "    for word, index in tokenizer.word_index.items():\n",
    "        if index == n:\n",
    "            return word\n",
    "    return None"
   ]
  },
  {
   "cell_type": "code",
   "execution_count": 33,
   "metadata": {
    "id": "uVOFky7032Ft"
   },
   "outputs": [],
   "source": [
    "# Convertir las predicciones en texto (inglés)\n",
    "preds_text = []\n",
    "for i in preds:\n",
    "    temp = []\n",
    "    for j in range(len(i)):\n",
    "        t = get_word(i[j], eng_tokenizer)\n",
    "        if j > 0:\n",
    "            if (t == get_word(i[j-1], eng_tokenizer)) or (t == None):\n",
    "                temp.append('')\n",
    "            else:\n",
    "                temp.append(t)\n",
    "             \n",
    "        else:\n",
    "            if(t == None):\n",
    "                temp.append('')\n",
    "            else:\n",
    "                temp.append(t)            \n",
    "        \n",
    "    preds_text.append(' '.join(temp))"
   ]
  },
  {
   "cell_type": "code",
   "execution_count": 34,
   "metadata": {},
   "outputs": [],
   "source": [
    "pred_df = pd.DataFrame({'actual' : test[:,0], 'predicted' : preds_text})\n",
    "pd.set_option('display.max_colwidth', 200)"
   ]
  },
  {
   "cell_type": "code",
   "execution_count": 35,
   "metadata": {
    "id": "kPIiuKs732Fu",
    "outputId": "d65305ef-5e10-48e9-db71-d7e4e48fe70e"
   },
   "outputs": [
    {
     "data": {
      "text/html": [
       "<div>\n",
       "<style scoped>\n",
       "    .dataframe tbody tr th:only-of-type {\n",
       "        vertical-align: middle;\n",
       "    }\n",
       "\n",
       "    .dataframe tbody tr th {\n",
       "        vertical-align: top;\n",
       "    }\n",
       "\n",
       "    .dataframe thead th {\n",
       "        text-align: right;\n",
       "    }\n",
       "</style>\n",
       "<table border=\"1\" class=\"dataframe\">\n",
       "  <thead>\n",
       "    <tr style=\"text-align: right;\">\n",
       "      <th></th>\n",
       "      <th>actual</th>\n",
       "      <th>predicted</th>\n",
       "    </tr>\n",
       "  </thead>\n",
       "  <tbody>\n",
       "    <tr>\n",
       "      <th>0</th>\n",
       "      <td>they are very cheerful</td>\n",
       "      <td>theyre very</td>\n",
       "    </tr>\n",
       "    <tr>\n",
       "      <th>1</th>\n",
       "      <td>i know tom</td>\n",
       "      <td>i know tom</td>\n",
       "    </tr>\n",
       "    <tr>\n",
       "      <th>2</th>\n",
       "      <td>you may refuse</td>\n",
       "      <td>you may move</td>\n",
       "    </tr>\n",
       "    <tr>\n",
       "      <th>3</th>\n",
       "      <td>thats private</td>\n",
       "      <td>thats is gimmick</td>\n",
       "    </tr>\n",
       "    <tr>\n",
       "      <th>4</th>\n",
       "      <td>tom leaped from his seat</td>\n",
       "      <td>tom is on his</td>\n",
       "    </tr>\n",
       "    <tr>\n",
       "      <th>5</th>\n",
       "      <td>have you ever sold a car</td>\n",
       "      <td>where did you have my car</td>\n",
       "    </tr>\n",
       "    <tr>\n",
       "      <th>6</th>\n",
       "      <td>how many kids do you have</td>\n",
       "      <td>how much books do you have</td>\n",
       "    </tr>\n",
       "    <tr>\n",
       "      <th>7</th>\n",
       "      <td>i will not let you do it</td>\n",
       "      <td>i wont not to do you</td>\n",
       "    </tr>\n",
       "    <tr>\n",
       "      <th>8</th>\n",
       "      <td>isnt it beautiful</td>\n",
       "      <td>is it beautiful</td>\n",
       "    </tr>\n",
       "    <tr>\n",
       "      <th>9</th>\n",
       "      <td>my parrot died yesterday</td>\n",
       "      <td>my mother died</td>\n",
       "    </tr>\n",
       "    <tr>\n",
       "      <th>10</th>\n",
       "      <td>i ate an apple</td>\n",
       "      <td>i made an apple</td>\n",
       "    </tr>\n",
       "    <tr>\n",
       "      <th>11</th>\n",
       "      <td>toms glad</td>\n",
       "      <td>tom is happy</td>\n",
       "    </tr>\n",
       "    <tr>\n",
       "      <th>12</th>\n",
       "      <td>watch my back</td>\n",
       "      <td>my  back</td>\n",
       "    </tr>\n",
       "    <tr>\n",
       "      <th>13</th>\n",
       "      <td>tom is hiding</td>\n",
       "      <td>tom is hiding</td>\n",
       "    </tr>\n",
       "    <tr>\n",
       "      <th>14</th>\n",
       "      <td>put it over there</td>\n",
       "      <td>put it there</td>\n",
       "    </tr>\n",
       "  </tbody>\n",
       "</table>\n",
       "</div>"
      ],
      "text/plain": [
       "                       actual                     predicted\n",
       "0      they are very cheerful             theyre very      \n",
       "1                  i know tom               i know tom     \n",
       "2              you may refuse             you may move     \n",
       "3               thats private         thats is gimmick     \n",
       "4    tom leaped from his seat             tom is on his    \n",
       "5    have you ever sold a car   where did you have my car  \n",
       "6   how many kids do you have  how much books do you have  \n",
       "7    i will not let you do it        i wont not to do you  \n",
       "8           isnt it beautiful          is it beautiful     \n",
       "9    my parrot died yesterday           my mother died     \n",
       "10             i ate an apple           i made an apple    \n",
       "11                  toms glad             tom is happy     \n",
       "12              watch my back                 my  back     \n",
       "13              tom is hiding            tom is hiding     \n",
       "14          put it over there             put it there     "
      ]
     },
     "execution_count": 35,
     "metadata": {},
     "output_type": "execute_result"
    }
   ],
   "source": [
    "pred_df.head(15)"
   ]
  },
  {
   "cell_type": "code",
   "execution_count": 36,
   "metadata": {
    "id": "GOXkSAQh32Fu",
    "outputId": "5813656d-9e1c-4f7d-d8fd-8a0d53eb9b8d"
   },
   "outputs": [
    {
     "data": {
      "text/html": [
       "<div>\n",
       "<style scoped>\n",
       "    .dataframe tbody tr th:only-of-type {\n",
       "        vertical-align: middle;\n",
       "    }\n",
       "\n",
       "    .dataframe tbody tr th {\n",
       "        vertical-align: top;\n",
       "    }\n",
       "\n",
       "    .dataframe thead th {\n",
       "        text-align: right;\n",
       "    }\n",
       "</style>\n",
       "<table border=\"1\" class=\"dataframe\">\n",
       "  <thead>\n",
       "    <tr style=\"text-align: right;\">\n",
       "      <th></th>\n",
       "      <th>actual</th>\n",
       "      <th>predicted</th>\n",
       "    </tr>\n",
       "  </thead>\n",
       "  <tbody>\n",
       "    <tr>\n",
       "      <th>9985</th>\n",
       "      <td>do tom and mary know</td>\n",
       "      <td>did tom know to</td>\n",
       "    </tr>\n",
       "    <tr>\n",
       "      <th>9986</th>\n",
       "      <td>tom can be clumsy</td>\n",
       "      <td>tom can be</td>\n",
       "    </tr>\n",
       "    <tr>\n",
       "      <th>9987</th>\n",
       "      <td>do you want to try it</td>\n",
       "      <td>do you want to try it</td>\n",
       "    </tr>\n",
       "    <tr>\n",
       "      <th>9988</th>\n",
       "      <td>do you know who he was</td>\n",
       "      <td>do you know who it is</td>\n",
       "    </tr>\n",
       "    <tr>\n",
       "      <th>9989</th>\n",
       "      <td>shes also a beauty</td>\n",
       "      <td>its a  trap</td>\n",
       "    </tr>\n",
       "    <tr>\n",
       "      <th>9990</th>\n",
       "      <td>i love your daughter</td>\n",
       "      <td>i want my name</td>\n",
       "    </tr>\n",
       "    <tr>\n",
       "      <th>9991</th>\n",
       "      <td>he teaches english</td>\n",
       "      <td>he teaches english</td>\n",
       "    </tr>\n",
       "    <tr>\n",
       "      <th>9992</th>\n",
       "      <td>i overslept</td>\n",
       "      <td>i was asleep</td>\n",
       "    </tr>\n",
       "    <tr>\n",
       "      <th>9993</th>\n",
       "      <td>he is as poor as can be</td>\n",
       "      <td>he is as</td>\n",
       "    </tr>\n",
       "    <tr>\n",
       "      <th>9994</th>\n",
       "      <td>wheres my shirt</td>\n",
       "      <td>wheres my husband</td>\n",
       "    </tr>\n",
       "    <tr>\n",
       "      <th>9995</th>\n",
       "      <td>is everything ok here</td>\n",
       "      <td>is everything right</td>\n",
       "    </tr>\n",
       "    <tr>\n",
       "      <th>9996</th>\n",
       "      <td>im sick of this game</td>\n",
       "      <td>im going to  this</td>\n",
       "    </tr>\n",
       "    <tr>\n",
       "      <th>9997</th>\n",
       "      <td>get rid of the gun</td>\n",
       "      <td>get out of the gun</td>\n",
       "    </tr>\n",
       "    <tr>\n",
       "      <th>9998</th>\n",
       "      <td>did you watch this movie</td>\n",
       "      <td>did you see this movie</td>\n",
       "    </tr>\n",
       "    <tr>\n",
       "      <th>9999</th>\n",
       "      <td>i bear him no malice</td>\n",
       "      <td>i have no to  him</td>\n",
       "    </tr>\n",
       "  </tbody>\n",
       "</table>\n",
       "</div>"
      ],
      "text/plain": [
       "                        actual                  predicted\n",
       "9985      do tom and mary know        did tom know to    \n",
       "9986         tom can be clumsy            tom can be     \n",
       "9987     do you want to try it    do you want to try it  \n",
       "9988    do you know who he was    do you know who it is  \n",
       "9989        shes also a beauty            its a  trap    \n",
       "9990      i love your daughter         i want my name    \n",
       "9991        he teaches english    he teaches english     \n",
       "9992               i overslept          i was asleep     \n",
       "9993   he is as poor as can be              he is as     \n",
       "9994           wheres my shirt     wheres my husband     \n",
       "9995     is everything ok here   is everything right     \n",
       "9996      im sick of this game       im going to  this   \n",
       "9997        get rid of the gun      get out of the gun   \n",
       "9998  did you watch this movie  did you see this movie   \n",
       "9999      i bear him no malice        i have no to  him  "
      ]
     },
     "execution_count": 36,
     "metadata": {},
     "output_type": "execute_result"
    }
   ],
   "source": [
    "pred_df.tail(15)"
   ]
  },
  {
   "cell_type": "code",
   "execution_count": 37,
   "metadata": {
    "id": "zQry42Xh32Fv",
    "outputId": "201a05fd-e95e-4ae9-ab5e-7495acd10a8d"
   },
   "outputs": [
    {
     "data": {
      "text/html": [
       "<div>\n",
       "<style scoped>\n",
       "    .dataframe tbody tr th:only-of-type {\n",
       "        vertical-align: middle;\n",
       "    }\n",
       "\n",
       "    .dataframe tbody tr th {\n",
       "        vertical-align: top;\n",
       "    }\n",
       "\n",
       "    .dataframe thead th {\n",
       "        text-align: right;\n",
       "    }\n",
       "</style>\n",
       "<table border=\"1\" class=\"dataframe\">\n",
       "  <thead>\n",
       "    <tr style=\"text-align: right;\">\n",
       "      <th></th>\n",
       "      <th>actual</th>\n",
       "      <th>predicted</th>\n",
       "    </tr>\n",
       "  </thead>\n",
       "  <tbody>\n",
       "    <tr>\n",
       "      <th>7461</th>\n",
       "      <td>she listens to him</td>\n",
       "      <td>she shouted to</td>\n",
       "    </tr>\n",
       "    <tr>\n",
       "      <th>5547</th>\n",
       "      <td>look here</td>\n",
       "      <td>look here</td>\n",
       "    </tr>\n",
       "    <tr>\n",
       "      <th>803</th>\n",
       "      <td>get some sleep</td>\n",
       "      <td>get a rest</td>\n",
       "    </tr>\n",
       "    <tr>\n",
       "      <th>7601</th>\n",
       "      <td>i feel cold this morning</td>\n",
       "      <td>my answer is cold</td>\n",
       "    </tr>\n",
       "    <tr>\n",
       "      <th>7855</th>\n",
       "      <td>tom used to be demanding</td>\n",
       "      <td>tom was very lucky</td>\n",
       "    </tr>\n",
       "    <tr>\n",
       "      <th>5200</th>\n",
       "      <td>i have a big black dog</td>\n",
       "      <td>i have a dog</td>\n",
       "    </tr>\n",
       "    <tr>\n",
       "      <th>4353</th>\n",
       "      <td>we have to surrender</td>\n",
       "      <td>we must to evacuate</td>\n",
       "    </tr>\n",
       "    <tr>\n",
       "      <th>5432</th>\n",
       "      <td>i know how you feel</td>\n",
       "      <td>i know how you are</td>\n",
       "    </tr>\n",
       "    <tr>\n",
       "      <th>6504</th>\n",
       "      <td>what was the result</td>\n",
       "      <td>what was the boy</td>\n",
       "    </tr>\n",
       "    <tr>\n",
       "      <th>3027</th>\n",
       "      <td>i always keep my word</td>\n",
       "      <td>i never have my word</td>\n",
       "    </tr>\n",
       "    <tr>\n",
       "      <th>7931</th>\n",
       "      <td>thats my boy</td>\n",
       "      <td>thats my type</td>\n",
       "    </tr>\n",
       "    <tr>\n",
       "      <th>5238</th>\n",
       "      <td>she looks very sick</td>\n",
       "      <td>she looks very</td>\n",
       "    </tr>\n",
       "    <tr>\n",
       "      <th>6560</th>\n",
       "      <td>the market is big</td>\n",
       "      <td>the baby is not</td>\n",
       "    </tr>\n",
       "    <tr>\n",
       "      <th>1161</th>\n",
       "      <td>why is tom hiding</td>\n",
       "      <td>why is tom hiding</td>\n",
       "    </tr>\n",
       "    <tr>\n",
       "      <th>5619</th>\n",
       "      <td>i couldnt help but laugh</td>\n",
       "      <td>i couldnt not to</td>\n",
       "    </tr>\n",
       "  </tbody>\n",
       "</table>\n",
       "</div>"
      ],
      "text/plain": [
       "                        actual                predicted\n",
       "7461        she listens to him      she shouted to     \n",
       "5547                 look here          look here      \n",
       "803             get some sleep          get a rest     \n",
       "7601  i feel cold this morning    my answer is cold    \n",
       "7855  tom used to be demanding   tom was very lucky    \n",
       "5200    i have a big black dog         i have a dog    \n",
       "4353      we have to surrender  we must to evacuate    \n",
       "5432       i know how you feel    i know how you are   \n",
       "6504       what was the result     what was the boy    \n",
       "3027     i always keep my word  i never have my word   \n",
       "7931              thats my boy       thats my type     \n",
       "5238       she looks very sick      she looks very     \n",
       "6560         the market is big      the baby is not    \n",
       "1161         why is tom hiding    why is tom hiding    \n",
       "5619  i couldnt help but laugh     i couldnt not to    "
      ]
     },
     "execution_count": 37,
     "metadata": {},
     "output_type": "execute_result"
    }
   ],
   "source": [
    "pred_df.sample(15)"
   ]
  },
  {
   "cell_type": "markdown",
   "metadata": {
    "id": "JpDV94Gw32Fv"
   },
   "source": [
    "### Predicciones RNN"
   ]
  },
  {
   "cell_type": "code",
   "execution_count": 31,
   "metadata": {},
   "outputs": [
    {
     "name": "stderr",
     "output_type": "stream",
     "text": [
      "C:\\Users\\María\\AppData\\Roaming\\Python\\Python38\\site-packages\\tensorflow\\python\\keras\\engine\\sequential.py:450: UserWarning: `model.predict_classes()` is deprecated and will be removed after 2021-01-01. Please use instead:* `np.argmax(model.predict(x), axis=-1)`,   if your model does multi-class classification   (e.g. if it uses a `softmax` last-layer activation).* `(model.predict(x) > 0.5).astype(\"int32\")`,   if your model does binary classification   (e.g. if it uses a `sigmoid` last-layer activation).\n",
      "  warnings.warn('`model.predict_classes()` is deprecated and '\n"
     ]
    }
   ],
   "source": [
    "model2 = load_model('C:/Users/María/MASTER/Datos No Estruct/Texto/Practica/model.h1.RNN')\n",
    "preds = model2.predict_classes(testX.reshape((testX.shape[0],testX.shape[1])))"
   ]
  },
  {
   "cell_type": "code",
   "execution_count": 32,
   "metadata": {
    "id": "7GpSY6Um32Fs"
   },
   "outputs": [],
   "source": [
    "def get_word(n, tokenizer):\n",
    "    for word, index in tokenizer.word_index.items():\n",
    "        if index == n:\n",
    "            return word\n",
    "    return None"
   ]
  },
  {
   "cell_type": "code",
   "execution_count": 33,
   "metadata": {
    "id": "uVOFky7032Ft"
   },
   "outputs": [],
   "source": [
    "# Convertir las predicciones en texto (inglés)\n",
    "preds_text = []\n",
    "for i in preds:\n",
    "    temp = []\n",
    "    for j in range(len(i)):\n",
    "        t = get_word(i[j], eng_tokenizer)\n",
    "        if j > 0:\n",
    "            if (t == get_word(i[j-1], eng_tokenizer)) or (t == None):\n",
    "                temp.append('')\n",
    "            else:\n",
    "                temp.append(t)\n",
    "             \n",
    "        else:\n",
    "            if(t == None):\n",
    "                temp.append('')\n",
    "            else:\n",
    "                temp.append(t)            \n",
    "        \n",
    "    preds_text.append(' '.join(temp))"
   ]
  },
  {
   "cell_type": "code",
   "execution_count": 34,
   "metadata": {},
   "outputs": [],
   "source": [
    "pred_df = pd.DataFrame({'actual' : test[:,0], 'predicted' : preds_text})\n",
    "pd.set_option('display.max_colwidth', 200)"
   ]
  },
  {
   "cell_type": "code",
   "execution_count": 35,
   "metadata": {
    "id": "kPIiuKs732Fu",
    "outputId": "d65305ef-5e10-48e9-db71-d7e4e48fe70e"
   },
   "outputs": [
    {
     "data": {
      "text/html": [
       "<div>\n",
       "<style scoped>\n",
       "    .dataframe tbody tr th:only-of-type {\n",
       "        vertical-align: middle;\n",
       "    }\n",
       "\n",
       "    .dataframe tbody tr th {\n",
       "        vertical-align: top;\n",
       "    }\n",
       "\n",
       "    .dataframe thead th {\n",
       "        text-align: right;\n",
       "    }\n",
       "</style>\n",
       "<table border=\"1\" class=\"dataframe\">\n",
       "  <thead>\n",
       "    <tr style=\"text-align: right;\">\n",
       "      <th></th>\n",
       "      <th>actual</th>\n",
       "      <th>predicted</th>\n",
       "    </tr>\n",
       "  </thead>\n",
       "  <tbody>\n",
       "    <tr>\n",
       "      <th>0</th>\n",
       "      <td>they are very cheerful</td>\n",
       "      <td>they very</td>\n",
       "    </tr>\n",
       "    <tr>\n",
       "      <th>1</th>\n",
       "      <td>i know tom</td>\n",
       "      <td>i know tom</td>\n",
       "    </tr>\n",
       "    <tr>\n",
       "      <th>2</th>\n",
       "      <td>you may refuse</td>\n",
       "      <td>you can return</td>\n",
       "    </tr>\n",
       "    <tr>\n",
       "      <th>3</th>\n",
       "      <td>thats private</td>\n",
       "      <td>thats is</td>\n",
       "    </tr>\n",
       "    <tr>\n",
       "      <th>4</th>\n",
       "      <td>tom leaped from his seat</td>\n",
       "      <td>tom held his  seat</td>\n",
       "    </tr>\n",
       "    <tr>\n",
       "      <th>5</th>\n",
       "      <td>have you ever sold a car</td>\n",
       "      <td>have you ever a</td>\n",
       "    </tr>\n",
       "    <tr>\n",
       "      <th>6</th>\n",
       "      <td>how many kids do you have</td>\n",
       "      <td>how many kids do you</td>\n",
       "    </tr>\n",
       "    <tr>\n",
       "      <th>7</th>\n",
       "      <td>i will not let you do it</td>\n",
       "      <td>i didnt do to  do</td>\n",
       "    </tr>\n",
       "    <tr>\n",
       "      <th>8</th>\n",
       "      <td>isnt it beautiful</td>\n",
       "      <td>isnt it beautiful</td>\n",
       "    </tr>\n",
       "    <tr>\n",
       "      <th>9</th>\n",
       "      <td>my parrot died yesterday</td>\n",
       "      <td>my father died fun</td>\n",
       "    </tr>\n",
       "    <tr>\n",
       "      <th>10</th>\n",
       "      <td>i ate an apple</td>\n",
       "      <td>i ate an</td>\n",
       "    </tr>\n",
       "    <tr>\n",
       "      <th>11</th>\n",
       "      <td>toms glad</td>\n",
       "      <td>tom is happy</td>\n",
       "    </tr>\n",
       "    <tr>\n",
       "      <th>12</th>\n",
       "      <td>watch my back</td>\n",
       "      <td>get my</td>\n",
       "    </tr>\n",
       "    <tr>\n",
       "      <th>13</th>\n",
       "      <td>tom is hiding</td>\n",
       "      <td>tom is ok</td>\n",
       "    </tr>\n",
       "    <tr>\n",
       "      <th>14</th>\n",
       "      <td>put it over there</td>\n",
       "      <td>take it there</td>\n",
       "    </tr>\n",
       "  </tbody>\n",
       "</table>\n",
       "</div>"
      ],
      "text/plain": [
       "                       actual                predicted\n",
       "0      they are very cheerful          they very      \n",
       "1                  i know tom          i know tom     \n",
       "2              you may refuse      you can return     \n",
       "3               thats private           thats is      \n",
       "4    tom leaped from his seat    tom held his  seat   \n",
       "5    have you ever sold a car      have you ever a    \n",
       "6   how many kids do you have  how many kids do you   \n",
       "7    i will not let you do it      i didnt do to  do  \n",
       "8           isnt it beautiful   isnt it beautiful     \n",
       "9    my parrot died yesterday   my father died fun    \n",
       "10             i ate an apple            i ate an     \n",
       "11                  toms glad        tom is happy     \n",
       "12              watch my back             get my      \n",
       "13              tom is hiding           tom is ok     \n",
       "14          put it over there       take it there     "
      ]
     },
     "execution_count": 35,
     "metadata": {},
     "output_type": "execute_result"
    }
   ],
   "source": [
    "pred_df.head(15)"
   ]
  },
  {
   "cell_type": "code",
   "execution_count": 36,
   "metadata": {
    "id": "GOXkSAQh32Fu",
    "outputId": "5813656d-9e1c-4f7d-d8fd-8a0d53eb9b8d"
   },
   "outputs": [
    {
     "data": {
      "text/html": [
       "<div>\n",
       "<style scoped>\n",
       "    .dataframe tbody tr th:only-of-type {\n",
       "        vertical-align: middle;\n",
       "    }\n",
       "\n",
       "    .dataframe tbody tr th {\n",
       "        vertical-align: top;\n",
       "    }\n",
       "\n",
       "    .dataframe thead th {\n",
       "        text-align: right;\n",
       "    }\n",
       "</style>\n",
       "<table border=\"1\" class=\"dataframe\">\n",
       "  <thead>\n",
       "    <tr style=\"text-align: right;\">\n",
       "      <th></th>\n",
       "      <th>actual</th>\n",
       "      <th>predicted</th>\n",
       "    </tr>\n",
       "  </thead>\n",
       "  <tbody>\n",
       "    <tr>\n",
       "      <th>9985</th>\n",
       "      <td>do tom and mary know</td>\n",
       "      <td>does tom im mary</td>\n",
       "    </tr>\n",
       "    <tr>\n",
       "      <th>9986</th>\n",
       "      <td>tom can be clumsy</td>\n",
       "      <td>tom can be true</td>\n",
       "    </tr>\n",
       "    <tr>\n",
       "      <th>9987</th>\n",
       "      <td>do you want to try it</td>\n",
       "      <td>do you want to try it</td>\n",
       "    </tr>\n",
       "    <tr>\n",
       "      <th>9988</th>\n",
       "      <td>do you know who he was</td>\n",
       "      <td>do you know who he was</td>\n",
       "    </tr>\n",
       "    <tr>\n",
       "      <th>9989</th>\n",
       "      <td>shes also a beauty</td>\n",
       "      <td>shes a  too</td>\n",
       "    </tr>\n",
       "    <tr>\n",
       "      <th>9990</th>\n",
       "      <td>i love your daughter</td>\n",
       "      <td>i want your daughter</td>\n",
       "    </tr>\n",
       "    <tr>\n",
       "      <th>9991</th>\n",
       "      <td>he teaches english</td>\n",
       "      <td>he is english</td>\n",
       "    </tr>\n",
       "    <tr>\n",
       "      <th>9992</th>\n",
       "      <td>i overslept</td>\n",
       "      <td>i fell asleep</td>\n",
       "    </tr>\n",
       "    <tr>\n",
       "      <th>9993</th>\n",
       "      <td>he is as poor as can be</td>\n",
       "      <td>he is as</td>\n",
       "    </tr>\n",
       "    <tr>\n",
       "      <th>9994</th>\n",
       "      <td>wheres my shirt</td>\n",
       "      <td>wheres my shirt</td>\n",
       "    </tr>\n",
       "    <tr>\n",
       "      <th>9995</th>\n",
       "      <td>is everything ok here</td>\n",
       "      <td>is it all here</td>\n",
       "    </tr>\n",
       "    <tr>\n",
       "      <th>9996</th>\n",
       "      <td>im sick of this game</td>\n",
       "      <td>i got of this</td>\n",
       "    </tr>\n",
       "    <tr>\n",
       "      <th>9997</th>\n",
       "      <td>get rid of the gun</td>\n",
       "      <td>get me the gun</td>\n",
       "    </tr>\n",
       "    <tr>\n",
       "      <th>9998</th>\n",
       "      <td>did you watch this movie</td>\n",
       "      <td>did you watch this movie</td>\n",
       "    </tr>\n",
       "    <tr>\n",
       "      <th>9999</th>\n",
       "      <td>i bear him no malice</td>\n",
       "      <td>i dont no to  tom</td>\n",
       "    </tr>\n",
       "  </tbody>\n",
       "</table>\n",
       "</div>"
      ],
      "text/plain": [
       "                        actual                    predicted\n",
       "9985      do tom and mary know         does tom im mary    \n",
       "9986         tom can be clumsy          tom can be true    \n",
       "9987     do you want to try it      do you want to try it  \n",
       "9988    do you know who he was     do you know who he was  \n",
       "9989        shes also a beauty              shes a  too    \n",
       "9990      i love your daughter     i want your daughter    \n",
       "9991        he teaches english           he is english     \n",
       "9992               i overslept           i fell asleep     \n",
       "9993   he is as poor as can be                he is as     \n",
       "9994           wheres my shirt         wheres my shirt     \n",
       "9995     is everything ok here           is it all here    \n",
       "9996      im sick of this game            i got of this    \n",
       "9997        get rid of the gun           get me the gun    \n",
       "9998  did you watch this movie  did you watch this movie   \n",
       "9999      i bear him no malice          i dont no to  tom  "
      ]
     },
     "execution_count": 36,
     "metadata": {},
     "output_type": "execute_result"
    }
   ],
   "source": [
    "pred_df.tail(15)"
   ]
  },
  {
   "cell_type": "code",
   "execution_count": 37,
   "metadata": {
    "id": "zQry42Xh32Fv",
    "outputId": "201a05fd-e95e-4ae9-ab5e-7495acd10a8d"
   },
   "outputs": [
    {
     "data": {
      "text/html": [
       "<div>\n",
       "<style scoped>\n",
       "    .dataframe tbody tr th:only-of-type {\n",
       "        vertical-align: middle;\n",
       "    }\n",
       "\n",
       "    .dataframe tbody tr th {\n",
       "        vertical-align: top;\n",
       "    }\n",
       "\n",
       "    .dataframe thead th {\n",
       "        text-align: right;\n",
       "    }\n",
       "</style>\n",
       "<table border=\"1\" class=\"dataframe\">\n",
       "  <thead>\n",
       "    <tr style=\"text-align: right;\">\n",
       "      <th></th>\n",
       "      <th>actual</th>\n",
       "      <th>predicted</th>\n",
       "    </tr>\n",
       "  </thead>\n",
       "  <tbody>\n",
       "    <tr>\n",
       "      <th>8375</th>\n",
       "      <td>i accept your apologies</td>\n",
       "      <td>i accept your</td>\n",
       "    </tr>\n",
       "    <tr>\n",
       "      <th>9128</th>\n",
       "      <td>my dog doesnt bite</td>\n",
       "      <td>my dog is this</td>\n",
       "    </tr>\n",
       "    <tr>\n",
       "      <th>3510</th>\n",
       "      <td>you should be a teacher</td>\n",
       "      <td>you should be a fun</td>\n",
       "    </tr>\n",
       "    <tr>\n",
       "      <th>8971</th>\n",
       "      <td>hows work</td>\n",
       "      <td>how was the</td>\n",
       "    </tr>\n",
       "    <tr>\n",
       "      <th>3013</th>\n",
       "      <td>would you agree with that</td>\n",
       "      <td>i agree with</td>\n",
       "    </tr>\n",
       "    <tr>\n",
       "      <th>1650</th>\n",
       "      <td>you know the law</td>\n",
       "      <td>you know the</td>\n",
       "    </tr>\n",
       "    <tr>\n",
       "      <th>2978</th>\n",
       "      <td>it looks like an apple</td>\n",
       "      <td>he seems like an apple</td>\n",
       "    </tr>\n",
       "    <tr>\n",
       "      <th>2856</th>\n",
       "      <td>i need to go on a diet</td>\n",
       "      <td>i need to get a room</td>\n",
       "    </tr>\n",
       "    <tr>\n",
       "      <th>6703</th>\n",
       "      <td>you can smoke here</td>\n",
       "      <td>you can smoke</td>\n",
       "    </tr>\n",
       "    <tr>\n",
       "      <th>8815</th>\n",
       "      <td>dont hang up yet please</td>\n",
       "      <td>dont cant not yet</td>\n",
       "    </tr>\n",
       "    <tr>\n",
       "      <th>5455</th>\n",
       "      <td>she had twins</td>\n",
       "      <td>she was him</td>\n",
       "    </tr>\n",
       "    <tr>\n",
       "      <th>6236</th>\n",
       "      <td>take care</td>\n",
       "      <td>take care of yourself</td>\n",
       "    </tr>\n",
       "    <tr>\n",
       "      <th>5743</th>\n",
       "      <td>green suits you</td>\n",
       "      <td>worse you are</td>\n",
       "    </tr>\n",
       "    <tr>\n",
       "      <th>3130</th>\n",
       "      <td>its not what we want</td>\n",
       "      <td>thats is what i want</td>\n",
       "    </tr>\n",
       "    <tr>\n",
       "      <th>340</th>\n",
       "      <td>tom made one last attempt</td>\n",
       "      <td>tom did a last</td>\n",
       "    </tr>\n",
       "  </tbody>\n",
       "</table>\n",
       "</div>"
      ],
      "text/plain": [
       "                         actual                  predicted\n",
       "8375    i accept your apologies         i accept your     \n",
       "9128         my dog doesnt bite         my dog is this    \n",
       "3510    you should be a teacher     you should be a fun   \n",
       "8971                  hows work           how was the     \n",
       "3013  would you agree with that          i agree with     \n",
       "1650           you know the law          you know the     \n",
       "2978     it looks like an apple  he seems like an apple   \n",
       "2856     i need to go on a diet     i need to get a room  \n",
       "6703         you can smoke here         you can smoke     \n",
       "8815    dont hang up yet please      dont cant not yet    \n",
       "5455              she had twins           she was him     \n",
       "6236                  take care  take care of yourself    \n",
       "5743            green suits you         worse you are     \n",
       "3130       its not what we want    thats is what i want   \n",
       "340   tom made one last attempt         tom did a last    "
      ]
     },
     "execution_count": 37,
     "metadata": {},
     "output_type": "execute_result"
    }
   ],
   "source": [
    "pred_df.sample(15)"
   ]
  },
  {
   "cell_type": "markdown",
   "metadata": {},
   "source": [
    "### Predicciones GRU"
   ]
  },
  {
   "cell_type": "code",
   "execution_count": 33,
   "metadata": {},
   "outputs": [
    {
     "name": "stderr",
     "output_type": "stream",
     "text": [
      "C:\\Users\\María\\AppData\\Roaming\\Python\\Python38\\site-packages\\tensorflow\\python\\keras\\engine\\sequential.py:450: UserWarning: `model.predict_classes()` is deprecated and will be removed after 2021-01-01. Please use instead:* `np.argmax(model.predict(x), axis=-1)`,   if your model does multi-class classification   (e.g. if it uses a `softmax` last-layer activation).* `(model.predict(x) > 0.5).astype(\"int32\")`,   if your model does binary classification   (e.g. if it uses a `sigmoid` last-layer activation).\n",
      "  warnings.warn('`model.predict_classes()` is deprecated and '\n"
     ]
    }
   ],
   "source": [
    "model3 = load_model('C:/Users/María/MASTER/Datos No Estruct/Texto/Practica/model.h1.GRU')\n",
    "preds = model3.predict_classes(testX.reshape((testX.shape[0],testX.shape[1])))"
   ]
  },
  {
   "cell_type": "code",
   "execution_count": 34,
   "metadata": {},
   "outputs": [],
   "source": [
    "def get_word(n, tokenizer):\n",
    "    for word, index in tokenizer.word_index.items():\n",
    "        if index == n:\n",
    "            return word\n",
    "    return None"
   ]
  },
  {
   "cell_type": "code",
   "execution_count": 35,
   "metadata": {},
   "outputs": [],
   "source": [
    "# Convertir las predicciones en texto (inglés)\n",
    "preds_text = []\n",
    "for i in preds:\n",
    "    temp = []\n",
    "    for j in range(len(i)):\n",
    "        t = get_word(i[j], eng_tokenizer)\n",
    "        if j > 0:\n",
    "            if (t == get_word(i[j-1], eng_tokenizer)) or (t == None):\n",
    "                temp.append('')\n",
    "            else:\n",
    "                temp.append(t)\n",
    "             \n",
    "        else:\n",
    "            if(t == None):\n",
    "                temp.append('')\n",
    "            else:\n",
    "                temp.append(t)            \n",
    "        \n",
    "    preds_text.append(' '.join(temp))"
   ]
  },
  {
   "cell_type": "code",
   "execution_count": 36,
   "metadata": {},
   "outputs": [],
   "source": [
    "pred_df = pd.DataFrame({'actual' : test[:,0], 'predicted' : preds_text})\n",
    "pd.set_option('display.max_colwidth', 200)"
   ]
  },
  {
   "cell_type": "code",
   "execution_count": 37,
   "metadata": {},
   "outputs": [
    {
     "data": {
      "text/html": [
       "<div>\n",
       "<style scoped>\n",
       "    .dataframe tbody tr th:only-of-type {\n",
       "        vertical-align: middle;\n",
       "    }\n",
       "\n",
       "    .dataframe tbody tr th {\n",
       "        vertical-align: top;\n",
       "    }\n",
       "\n",
       "    .dataframe thead th {\n",
       "        text-align: right;\n",
       "    }\n",
       "</style>\n",
       "<table border=\"1\" class=\"dataframe\">\n",
       "  <thead>\n",
       "    <tr style=\"text-align: right;\">\n",
       "      <th></th>\n",
       "      <th>actual</th>\n",
       "      <th>predicted</th>\n",
       "    </tr>\n",
       "  </thead>\n",
       "  <tbody>\n",
       "    <tr>\n",
       "      <th>0</th>\n",
       "      <td>they are very cheerful</td>\n",
       "      <td>they very dangerous</td>\n",
       "    </tr>\n",
       "    <tr>\n",
       "      <th>1</th>\n",
       "      <td>i know tom</td>\n",
       "      <td>i know tom</td>\n",
       "    </tr>\n",
       "    <tr>\n",
       "      <th>2</th>\n",
       "      <td>you may refuse</td>\n",
       "      <td>you may be</td>\n",
       "    </tr>\n",
       "    <tr>\n",
       "      <th>3</th>\n",
       "      <td>thats private</td>\n",
       "      <td>thats terrible</td>\n",
       "    </tr>\n",
       "    <tr>\n",
       "      <th>4</th>\n",
       "      <td>tom leaped from his seat</td>\n",
       "      <td>tom works in his room</td>\n",
       "    </tr>\n",
       "    <tr>\n",
       "      <th>5</th>\n",
       "      <td>have you ever sold a car</td>\n",
       "      <td>did you have a</td>\n",
       "    </tr>\n",
       "    <tr>\n",
       "      <th>6</th>\n",
       "      <td>how many kids do you have</td>\n",
       "      <td>how many books do you have</td>\n",
       "    </tr>\n",
       "    <tr>\n",
       "      <th>7</th>\n",
       "      <td>i will not let you do it</td>\n",
       "      <td>i wont do it either</td>\n",
       "    </tr>\n",
       "    <tr>\n",
       "      <th>8</th>\n",
       "      <td>isnt it beautiful</td>\n",
       "      <td>isnt is beautiful</td>\n",
       "    </tr>\n",
       "    <tr>\n",
       "      <th>9</th>\n",
       "      <td>my parrot died yesterday</td>\n",
       "      <td>my pain was dying</td>\n",
       "    </tr>\n",
       "    <tr>\n",
       "      <th>10</th>\n",
       "      <td>i ate an apple</td>\n",
       "      <td>i just an</td>\n",
       "    </tr>\n",
       "    <tr>\n",
       "      <th>11</th>\n",
       "      <td>toms glad</td>\n",
       "      <td>tom is</td>\n",
       "    </tr>\n",
       "    <tr>\n",
       "      <th>12</th>\n",
       "      <td>watch my back</td>\n",
       "      <td>get my</td>\n",
       "    </tr>\n",
       "    <tr>\n",
       "      <th>13</th>\n",
       "      <td>tom is hiding</td>\n",
       "      <td>tom is upset</td>\n",
       "    </tr>\n",
       "    <tr>\n",
       "      <th>14</th>\n",
       "      <td>put it over there</td>\n",
       "      <td>get it in</td>\n",
       "    </tr>\n",
       "  </tbody>\n",
       "</table>\n",
       "</div>"
      ],
      "text/plain": [
       "                       actual                     predicted\n",
       "0      they are very cheerful      they very dangerous     \n",
       "1                  i know tom               i know tom     \n",
       "2              you may refuse               you may be     \n",
       "3               thats private          thats terrible      \n",
       "4    tom leaped from his seat      tom works in his room   \n",
       "5    have you ever sold a car            did you have a    \n",
       "6   how many kids do you have  how many books do you have  \n",
       "7    i will not let you do it        i wont do it either   \n",
       "8           isnt it beautiful        isnt is beautiful     \n",
       "9    my parrot died yesterday         my pain was dying    \n",
       "10             i ate an apple                i just an     \n",
       "11                  toms glad                  tom is      \n",
       "12              watch my back                  get my      \n",
       "13              tom is hiding             tom is upset     \n",
       "14          put it over there                get it in     "
      ]
     },
     "execution_count": 37,
     "metadata": {},
     "output_type": "execute_result"
    }
   ],
   "source": [
    "pred_df.head(15)"
   ]
  },
  {
   "cell_type": "code",
   "execution_count": 38,
   "metadata": {},
   "outputs": [
    {
     "data": {
      "text/html": [
       "<div>\n",
       "<style scoped>\n",
       "    .dataframe tbody tr th:only-of-type {\n",
       "        vertical-align: middle;\n",
       "    }\n",
       "\n",
       "    .dataframe tbody tr th {\n",
       "        vertical-align: top;\n",
       "    }\n",
       "\n",
       "    .dataframe thead th {\n",
       "        text-align: right;\n",
       "    }\n",
       "</style>\n",
       "<table border=\"1\" class=\"dataframe\">\n",
       "  <thead>\n",
       "    <tr style=\"text-align: right;\">\n",
       "      <th></th>\n",
       "      <th>actual</th>\n",
       "      <th>predicted</th>\n",
       "    </tr>\n",
       "  </thead>\n",
       "  <tbody>\n",
       "    <tr>\n",
       "      <th>9985</th>\n",
       "      <td>do tom and mary know</td>\n",
       "      <td>does tom ask to</td>\n",
       "    </tr>\n",
       "    <tr>\n",
       "      <th>9986</th>\n",
       "      <td>tom can be clumsy</td>\n",
       "      <td>tom might be well</td>\n",
       "    </tr>\n",
       "    <tr>\n",
       "      <th>9987</th>\n",
       "      <td>do you want to try it</td>\n",
       "      <td>do you want to try it</td>\n",
       "    </tr>\n",
       "    <tr>\n",
       "      <th>9988</th>\n",
       "      <td>do you know who he was</td>\n",
       "      <td>do you know who i was</td>\n",
       "    </tr>\n",
       "    <tr>\n",
       "      <th>9989</th>\n",
       "      <td>shes also a beauty</td>\n",
       "      <td>its a good</td>\n",
       "    </tr>\n",
       "    <tr>\n",
       "      <th>9990</th>\n",
       "      <td>i love your daughter</td>\n",
       "      <td>i want your opinion</td>\n",
       "    </tr>\n",
       "    <tr>\n",
       "      <th>9991</th>\n",
       "      <td>he teaches english</td>\n",
       "      <td>he also like rain</td>\n",
       "    </tr>\n",
       "    <tr>\n",
       "      <th>9992</th>\n",
       "      <td>i overslept</td>\n",
       "      <td>i went asleep</td>\n",
       "    </tr>\n",
       "    <tr>\n",
       "      <th>9993</th>\n",
       "      <td>he is as poor as can be</td>\n",
       "      <td>he is as and rich</td>\n",
       "    </tr>\n",
       "    <tr>\n",
       "      <th>9994</th>\n",
       "      <td>wheres my shirt</td>\n",
       "      <td>wheres your</td>\n",
       "    </tr>\n",
       "    <tr>\n",
       "      <th>9995</th>\n",
       "      <td>is everything ok here</td>\n",
       "      <td>is it right here</td>\n",
       "    </tr>\n",
       "    <tr>\n",
       "      <th>9996</th>\n",
       "      <td>im sick of this game</td>\n",
       "      <td>i am out to school</td>\n",
       "    </tr>\n",
       "    <tr>\n",
       "      <th>9997</th>\n",
       "      <td>get rid of the gun</td>\n",
       "      <td>get out of gun</td>\n",
       "    </tr>\n",
       "    <tr>\n",
       "      <th>9998</th>\n",
       "      <td>did you watch this movie</td>\n",
       "      <td>did you find this movie</td>\n",
       "    </tr>\n",
       "    <tr>\n",
       "      <th>9999</th>\n",
       "      <td>i bear him no malice</td>\n",
       "      <td>i have no to hide</td>\n",
       "    </tr>\n",
       "  </tbody>\n",
       "</table>\n",
       "</div>"
      ],
      "text/plain": [
       "                        actual                   predicted\n",
       "9985      do tom and mary know         does tom ask to    \n",
       "9986         tom can be clumsy       tom might be well    \n",
       "9987     do you want to try it     do you want to try it  \n",
       "9988    do you know who he was     do you know who i was  \n",
       "9989        shes also a beauty             its a good     \n",
       "9990      i love your daughter     i want your opinion    \n",
       "9991        he teaches english       he also like rain    \n",
       "9992               i overslept          i went asleep     \n",
       "9993   he is as poor as can be        he is as and rich   \n",
       "9994           wheres my shirt           wheres your      \n",
       "9995     is everything ok here        is it right here    \n",
       "9996      im sick of this game       i am out to school   \n",
       "9997        get rid of the gun          get out of gun    \n",
       "9998  did you watch this movie  did you find this movie   \n",
       "9999      i bear him no malice        i have no to hide   "
      ]
     },
     "execution_count": 38,
     "metadata": {},
     "output_type": "execute_result"
    }
   ],
   "source": [
    "pred_df.tail(15)"
   ]
  },
  {
   "cell_type": "code",
   "execution_count": 39,
   "metadata": {},
   "outputs": [
    {
     "data": {
      "text/html": [
       "<div>\n",
       "<style scoped>\n",
       "    .dataframe tbody tr th:only-of-type {\n",
       "        vertical-align: middle;\n",
       "    }\n",
       "\n",
       "    .dataframe tbody tr th {\n",
       "        vertical-align: top;\n",
       "    }\n",
       "\n",
       "    .dataframe thead th {\n",
       "        text-align: right;\n",
       "    }\n",
       "</style>\n",
       "<table border=\"1\" class=\"dataframe\">\n",
       "  <thead>\n",
       "    <tr style=\"text-align: right;\">\n",
       "      <th></th>\n",
       "      <th>actual</th>\n",
       "      <th>predicted</th>\n",
       "    </tr>\n",
       "  </thead>\n",
       "  <tbody>\n",
       "    <tr>\n",
       "      <th>9667</th>\n",
       "      <td>is tom conscious</td>\n",
       "      <td>is tom free</td>\n",
       "    </tr>\n",
       "    <tr>\n",
       "      <th>2811</th>\n",
       "      <td>you were right tom</td>\n",
       "      <td>you tom right</td>\n",
       "    </tr>\n",
       "    <tr>\n",
       "      <th>6739</th>\n",
       "      <td>i still dont believe it</td>\n",
       "      <td>i still know believe it</td>\n",
       "    </tr>\n",
       "    <tr>\n",
       "      <th>8594</th>\n",
       "      <td>there has to be a way</td>\n",
       "      <td>it must be a</td>\n",
       "    </tr>\n",
       "    <tr>\n",
       "      <th>9356</th>\n",
       "      <td>i didnt do my homework</td>\n",
       "      <td>i didnt do my homework</td>\n",
       "    </tr>\n",
       "    <tr>\n",
       "      <th>4266</th>\n",
       "      <td>i know a few things</td>\n",
       "      <td>i know a  of</td>\n",
       "    </tr>\n",
       "    <tr>\n",
       "      <th>9344</th>\n",
       "      <td>she sang happily</td>\n",
       "      <td>she smiled deeply</td>\n",
       "    </tr>\n",
       "    <tr>\n",
       "      <th>8199</th>\n",
       "      <td>does that window open</td>\n",
       "      <td>can i open your window</td>\n",
       "    </tr>\n",
       "    <tr>\n",
       "      <th>5206</th>\n",
       "      <td>tom isnt a crook</td>\n",
       "      <td>tom isnt a stranger</td>\n",
       "    </tr>\n",
       "    <tr>\n",
       "      <th>4319</th>\n",
       "      <td>i said you could go</td>\n",
       "      <td>i said i could go</td>\n",
       "    </tr>\n",
       "    <tr>\n",
       "      <th>2609</th>\n",
       "      <td>i like tom</td>\n",
       "      <td>i like this</td>\n",
       "    </tr>\n",
       "    <tr>\n",
       "      <th>6064</th>\n",
       "      <td>we dont drink milk</td>\n",
       "      <td>we dont drink milk</td>\n",
       "    </tr>\n",
       "    <tr>\n",
       "      <th>8218</th>\n",
       "      <td>those are my books</td>\n",
       "      <td>those are my books</td>\n",
       "    </tr>\n",
       "    <tr>\n",
       "      <th>8547</th>\n",
       "      <td>he has a camera</td>\n",
       "      <td>he has a</td>\n",
       "    </tr>\n",
       "    <tr>\n",
       "      <th>3933</th>\n",
       "      <td>he died yesterday</td>\n",
       "      <td>he died yesterday</td>\n",
       "    </tr>\n",
       "  </tbody>\n",
       "</table>\n",
       "</div>"
      ],
      "text/plain": [
       "                       actual                   predicted\n",
       "9667         is tom conscious            is tom free     \n",
       "2811       you were right tom          you tom right     \n",
       "6739  i still dont believe it  i still know believe it   \n",
       "8594    there has to be a way            it must be a    \n",
       "9356   i didnt do my homework   i didnt do my homework   \n",
       "4266      i know a few things             i know a  of   \n",
       "9344         she sang happily      she smiled deeply     \n",
       "8199    does that window open   can i open your window   \n",
       "5206         tom isnt a crook     tom isnt a stranger    \n",
       "4319      i said you could go        i said i could go   \n",
       "2609               i like tom            i like this     \n",
       "6064       we dont drink milk      we dont drink milk    \n",
       "8218       those are my books      those are my books    \n",
       "8547          he has a camera               he has a     \n",
       "3933        he died yesterday      he died yesterday     "
      ]
     },
     "execution_count": 39,
     "metadata": {},
     "output_type": "execute_result"
    }
   ],
   "source": [
    "pred_df.sample(15)"
   ]
  },
  {
   "cell_type": "markdown",
   "metadata": {},
   "source": [
    "Si comparamos a fondo las traducciones de los modelos; las traducciones de LSTM y GRU ya no se parecen tanto. "
   ]
  }
 ],
 "metadata": {
  "colab": {
   "name": "LAB_TEXT_MachineTranslation_DE_EN.ipynb",
   "provenance": []
  },
  "kernelspec": {
   "display_name": "Python 3",
   "language": "python",
   "name": "python3"
  },
  "language_info": {
   "codemirror_mode": {
    "name": "ipython",
    "version": 3
   },
   "file_extension": ".py",
   "mimetype": "text/x-python",
   "name": "python",
   "nbconvert_exporter": "python",
   "pygments_lexer": "ipython3",
   "version": "3.8.3"
  }
 },
 "nbformat": 4,
 "nbformat_minor": 1
}
